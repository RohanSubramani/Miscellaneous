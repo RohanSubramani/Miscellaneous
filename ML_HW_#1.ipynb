{
 "cells": [
  {
   "cell_type": "code",
   "execution_count": 339,
   "metadata": {},
   "outputs": [],
   "source": [
    "# Rohan Subramani, rs4126"
   ]
  },
  {
   "cell_type": "code",
   "execution_count": 365,
   "metadata": {},
   "outputs": [],
   "source": [
    "# Import packages\n",
    "import scipy\n",
    "from scipy.io import loadmat\n",
    "import numpy as np\n",
    "import matplotlib.pyplot as plt\n",
    "from scipy.stats import multivariate_normal\n",
    "from scipy import stats as s"
   ]
  },
  {
   "cell_type": "code",
   "execution_count": 381,
   "metadata": {},
   "outputs": [],
   "source": [
    "def fxn1(x):\n",
    "    y = (x-4)**2+2*np.exp(x)\n",
    "    return y"
   ]
  },
  {
   "cell_type": "code",
   "execution_count": 382,
   "metadata": {},
   "outputs": [],
   "source": [
    "def findMin(x0,fxn,eta):\n",
    "    old = x0\n",
    "    deriv = 2*old - 8 +2 *np.exp(old)\n",
    "    while abs(deriv) > 0.00001:\n",
    "        new = old - eta * deriv\n",
    "        old = new\n",
    "        deriv = 2*new - 8 +2 *np.exp(new)\n",
    "    xmin = new\n",
    "    ymin = fxn(xmin)\n",
    "    print(\"xmin,ymin=\",xmin,ymin)"
   ]
  },
  {
   "cell_type": "code",
   "execution_count": 383,
   "metadata": {},
   "outputs": [
    {
     "name": "stdout",
     "output_type": "stream",
     "text": [
      "xmin,ymin= 1.0737277262140508 14.41560445578698\n"
     ]
    }
   ],
   "source": [
    "findMin(1,fxn1,1/90)"
   ]
  },
  {
   "cell_type": "code",
   "execution_count": 341,
   "metadata": {},
   "outputs": [],
   "source": [
    "# Load file\n",
    "digits = loadmat(\"Downloads\\digits.mat\")"
   ]
  },
  {
   "cell_type": "code",
   "execution_count": 342,
   "metadata": {},
   "outputs": [
    {
     "data": {
      "image/png": "[encoded data removed]",
      "text/plain": [
       "<Figure size 432x288 with 1 Axes>"
      ]
     },
     "metadata": {
      "needs_background": "light"
     },
     "output_type": "display_data"
    },
    {
     "name": "stdout",
     "output_type": "stream",
     "text": [
      "[9]\n"
     ]
    }
   ],
   "source": [
    "# See example image and corresponding classification\n",
    "img = digits['X'][0].reshape(28,28)\n",
    "plt.imshow(img)\n",
    "plt.show()\n",
    "print(digits['Y'][0])"
   ]
  },
  {
   "cell_type": "code",
   "execution_count": null,
   "metadata": {},
   "outputs": [],
   "source": [
    "# (i) Probabilistic MLE classifier"
   ]
  },
  {
   "cell_type": "code",
   "execution_count": 358,
   "metadata": {},
   "outputs": [],
   "source": [
    "def trainMLEClassifier(trainSize):\n",
    "    means = []\n",
    "    covs = []\n",
    "    for y in range(10):  # for each possible classification y:\n",
    "        data = getData(digits,trainSize,y) # Subset of images which have the given classification\n",
    "        mean = getMean(data) # Mean vector\n",
    "        cov = getCov(data) # Covariance matrix\n",
    "        means.append(mean)\n",
    "        covs.append(cov)\n",
    "\n",
    "    mvGaussians = []    \n",
    "    for i in range(len(means)):\n",
    "        mvGaussian = multivariate_normal(means[i],covs[i])\n",
    "        mvGaussians.append(mvGaussian)\n",
    "#     print(\"Training complete.\")\n",
    "    return mvGaussians"
   ]
  },
  {
   "cell_type": "code",
   "execution_count": 344,
   "metadata": {},
   "outputs": [],
   "source": [
    "def getData(digits,trainSize,y):\n",
    "    data = []\n",
    "    for i in range(trainSize): # Look only at training data\n",
    "        if digits['Y'][i] == [y]:\n",
    "            data.append(digits['X'][i]) # Save images with the current focus classification\n",
    "    return data"
   ]
  },
  {
   "cell_type": "code",
   "execution_count": 345,
   "metadata": {},
   "outputs": [],
   "source": [
    "def getMean(data):\n",
    "    mean = []\n",
    "    for pixelNumber in range(784):\n",
    "        pixelSum = 0\n",
    "        for image in data:\n",
    "            pixelSum += image[pixelNumber]\n",
    "        pixelAvg = pixelSum/len(data)\n",
    "        mean.append(pixelAvg)\n",
    "    return mean"
   ]
  },
  {
   "cell_type": "code",
   "execution_count": 346,
   "metadata": {},
   "outputs": [],
   "source": [
    "def getCov(data):\n",
    "    \n",
    "    pixelLists = []\n",
    "    for i in range(784):\n",
    "        pixelLists.append([])\n",
    "    for i in range(784):\n",
    "        for image in data:\n",
    "            pixelLists[i].append(image[i]) \n",
    "            # For each pixel, make a list of pixel values for all training images with this classification\n",
    "    pixelLists = np.array(pixelLists)\n",
    "    cov = np.cov(pixelLists) # How do pixel values covary across images with the same classification?\n",
    "    \n",
    "    smallDiag = np.diag([0.001]*784) # Avoid singular cov matrix\n",
    "    \n",
    "    cov += smallDiag\n",
    "    \n",
    "    return cov"
   ]
  },
  {
   "cell_type": "code",
   "execution_count": 347,
   "metadata": {},
   "outputs": [],
   "source": [
    "def testMLEClassifier(x): # x in R^784\n",
    "    highestProb = -5*10**50\n",
    "    classification = -1\n",
    "    for i in range(10):\n",
    "        prob = mvGaussians[i].logpdf(x) # regular pdf is too close to 0 to work\n",
    "        if prob > highestProb:\n",
    "            highestProb = prob\n",
    "            classification = i\n",
    "    return classification"
   ]
  },
  {
   "cell_type": "code",
   "execution_count": 348,
   "metadata": {},
   "outputs": [],
   "source": [
    "def trainTestEvalMLE(trainSize):\n",
    "    mvGaussians = trainMLEClassifier(trainSize) # Get a pdf for each classification\n",
    "    testSize = 10000 - trainSize  # Test on all data that wasn't in training data\n",
    "    correct = 0\n",
    "    for i in range(trainSize+1,trainSize+testSize):\n",
    "        x = digits['X'][i]\n",
    "        if digits['Y'][i][0] == testMLEClassifier(x): # If correct classification:\n",
    "            correct += 1   # Keep track of how many correct\n",
    "    accuracy = correct/testSize\n",
    "    return accuracy"
   ]
  },
  {
   "cell_type": "code",
   "execution_count": 350,
   "metadata": {},
   "outputs": [],
   "source": [
    "# (ii) k-NN"
   ]
  },
  {
   "cell_type": "code",
   "execution_count": 389,
   "metadata": {},
   "outputs": [],
   "source": [
    "def kNN(x,k,trainSize,getDist):\n",
    "    kNearest = []\n",
    "    for i in range(k):\n",
    "        kNearest.append([10**30,10])\n",
    "    \n",
    "    for i in range(trainSize):\n",
    "        dist = getDist(x,digits['X'][i])\n",
    "        if dist < kNearest[-1][0]:\n",
    "            kNearest[-1] = [dist,digits['Y'][i]]\n",
    "            kNearest.sort() # Places largest distance at the end\n",
    "    \n",
    "    nearClasses = [] # Classifications of nearest neighbors\n",
    "    for neighbor in kNearest:\n",
    "        nearClasses.append(neighbor[1])\n",
    "#     print(nearClasses)\n",
    "    classification = s.mode(nearClasses)[0] # Most common nearby classification, first one if multiple\n",
    "    return classification[0]"
   ]
  },
  {
   "cell_type": "code",
   "execution_count": 390,
   "metadata": {},
   "outputs": [],
   "source": [
    "def getL2Dist(x1,x2):\n",
    "    x1 = np.array(x1)\n",
    "    x2 = np.array(x2)\n",
    "    dist = np.linalg.norm(x1-x2)\n",
    "    return dist"
   ]
  },
  {
   "cell_type": "code",
   "execution_count": 392,
   "metadata": {},
   "outputs": [],
   "source": [
    "def getL1Dist(x1,x2):\n",
    "    dist = 0\n",
    "    for i in range(len(x1)):\n",
    "        diff = abs(x1[i]-x2[i])\n",
    "        dist += diff\n",
    "    return dist"
   ]
  },
  {
   "cell_type": "code",
   "execution_count": 393,
   "metadata": {},
   "outputs": [],
   "source": [
    "def getLInfDist(x1,x2):\n",
    "    dist = 0\n",
    "    for i in range(len(x1)):\n",
    "        diff = abs(x1[i]-x2[i])\n",
    "        if diff > dist:\n",
    "            dist = diff\n",
    "    return dist"
   ]
  },
  {
   "cell_type": "code",
   "execution_count": 394,
   "metadata": {},
   "outputs": [],
   "source": [
    "def kNNTest(trainSize,testSize,k,getDist):\n",
    "    \n",
    "    correct = 0\n",
    "    for i in range(trainSize+1,trainSize+testSize):\n",
    "        x = digits['X'][i]\n",
    "        if (digits['Y'][i] == kNN(x,k,trainSize,getDist)):\n",
    "            correct += 1\n",
    "\n",
    "    accuracy = correct/testSize\n",
    "#     print(\"Accuracy = \", accuracy)\n",
    "    return accuracy"
   ]
  },
  {
   "cell_type": "code",
   "execution_count": 387,
   "metadata": {},
   "outputs": [
    {
     "name": "stdout",
     "output_type": "stream",
     "text": [
      "trainSize = 40 complete.\n",
      "trainSize = 100 complete.\n",
      "trainSize = 200 complete.\n",
      "trainSize = 400 complete.\n",
      "trainSize = 600 complete.\n",
      "trainSize = 800 complete.\n",
      "trainSize = 1000 complete.\n",
      "trainSize = 2000 complete.\n",
      "trainSize = 3000 complete.\n",
      "trainSize = 4000 complete.\n",
      "trainSize = 5000 complete.\n",
      "trainSize = 6000 complete.\n",
      "trainSize = 7000 complete.\n",
      "trainSize = 8000 complete.\n",
      "trainSize = 9000 complete.\n"
     ]
    },
    {
     "data": {
      "image/png": "[encoded data removed]",
      "text/plain": [
       "<Figure size 432x288 with 1 Axes>"
      ]
     },
     "metadata": {
      "needs_background": "light"
     },
     "output_type": "display_data"
    }
   ],
   "source": [
    "trainSizes = []\n",
    "MLEaccuracies = []\n",
    "kNNaccuracies = []\n",
    "for trainSize in [40,100,200,400,600,800,1000,2000,3000,4000,5000,6000,7000,8000,9000]:\n",
    "    trainSizes.append(trainSize)\n",
    "    MLEaccuracy = trainTestEvalMLE(trainSize)\n",
    "    MLEaccuracies.append(MLEaccuracy)\n",
    "    kNNaccuracy = kNNTest(trainSize,500,10,getL2Dist) # Only test on 500 because it is pretty slow. Using k = 10.\n",
    "    kNNaccuracies.append(kNNaccuracy)\n",
    "    print(\"trainSize =\",trainSize,\"complete.\")\n",
    "plt.plot(trainSizes,MLEaccuracies,'ro',label='MLE')\n",
    "plt.plot(trainSizes,kNNaccuracies,'bo',label='kNN')\n",
    "plt.legend()\n",
    "plt.show()"
   ]
  },
  {
   "cell_type": "code",
   "execution_count": 399,
   "metadata": {},
   "outputs": [
    {
     "name": "stderr",
     "output_type": "stream",
     "text": [
      "C:\\Users\\rohns\\Anaconda3\\lib\\site-packages\\ipykernel_launcher.py:4: RuntimeWarning: overflow encountered in ubyte_scalars\n",
      "  after removing the cwd from sys.path.\n"
     ]
    },
    {
     "name": "stdout",
     "output_type": "stream",
     "text": [
      "trainSize = 40 complete.\n",
      "trainSize = 400 complete.\n"
     ]
    },
    {
     "ename": "KeyboardInterrupt",
     "evalue": "",
     "output_type": "error",
     "traceback": [
      "\u001b[1;31m---------------------------------------------------------------------------\u001b[0m",
      "\u001b[1;31mKeyboardInterrupt\u001b[0m                         Traceback (most recent call last)",
      "\u001b[1;32m<ipython-input-399-ec6200404242>\u001b[0m in \u001b[0;36m<module>\u001b[1;34m\u001b[0m\n\u001b[0;32m      5\u001b[0m \u001b[1;32mfor\u001b[0m \u001b[0mtrainSize\u001b[0m \u001b[1;32min\u001b[0m \u001b[1;33m[\u001b[0m\u001b[1;36m40\u001b[0m\u001b[1;33m,\u001b[0m\u001b[1;36m400\u001b[0m\u001b[1;33m,\u001b[0m\u001b[1;36m800\u001b[0m\u001b[1;33m,\u001b[0m\u001b[1;36m1000\u001b[0m\u001b[1;33m,\u001b[0m\u001b[1;36m5000\u001b[0m\u001b[1;33m,\u001b[0m\u001b[1;36m8000\u001b[0m\u001b[1;33m]\u001b[0m\u001b[1;33m:\u001b[0m\u001b[1;33m\u001b[0m\u001b[1;33m\u001b[0m\u001b[0m\n\u001b[0;32m      6\u001b[0m     \u001b[0mtrainSizes\u001b[0m\u001b[1;33m.\u001b[0m\u001b[0mappend\u001b[0m\u001b[1;33m(\u001b[0m\u001b[0mtrainSize\u001b[0m\u001b[1;33m)\u001b[0m\u001b[1;33m\u001b[0m\u001b[1;33m\u001b[0m\u001b[0m\n\u001b[1;32m----> 7\u001b[1;33m     \u001b[0mL1accuracy\u001b[0m \u001b[1;33m=\u001b[0m \u001b[0mkNNTest\u001b[0m\u001b[1;33m(\u001b[0m\u001b[0mtrainSize\u001b[0m\u001b[1;33m,\u001b[0m\u001b[1;36m500\u001b[0m\u001b[1;33m,\u001b[0m\u001b[1;36m10\u001b[0m\u001b[1;33m,\u001b[0m\u001b[0mgetL1Dist\u001b[0m\u001b[1;33m)\u001b[0m \u001b[1;31m# Only test on 500 because it is pretty slow. Using k = 10.\u001b[0m\u001b[1;33m\u001b[0m\u001b[1;33m\u001b[0m\u001b[0m\n\u001b[0m\u001b[0;32m      8\u001b[0m     \u001b[0mL1accuracies\u001b[0m\u001b[1;33m.\u001b[0m\u001b[0mappend\u001b[0m\u001b[1;33m(\u001b[0m\u001b[0mL1accuracy\u001b[0m\u001b[1;33m)\u001b[0m\u001b[1;33m\u001b[0m\u001b[1;33m\u001b[0m\u001b[0m\n\u001b[0;32m      9\u001b[0m     \u001b[0mL2accuracy\u001b[0m \u001b[1;33m=\u001b[0m \u001b[0mkNNTest\u001b[0m\u001b[1;33m(\u001b[0m\u001b[0mtrainSize\u001b[0m\u001b[1;33m,\u001b[0m\u001b[1;36m500\u001b[0m\u001b[1;33m,\u001b[0m\u001b[1;36m10\u001b[0m\u001b[1;33m,\u001b[0m\u001b[0mgetL2Dist\u001b[0m\u001b[1;33m)\u001b[0m \u001b[1;31m# Only test on 500 because it is pretty slow. Using k = 10.\u001b[0m\u001b[1;33m\u001b[0m\u001b[1;33m\u001b[0m\u001b[0m\n",
      "\u001b[1;32m<ipython-input-394-8c77b83dafeb>\u001b[0m in \u001b[0;36mkNNTest\u001b[1;34m(trainSize, testSize, k, getDist)\u001b[0m\n\u001b[0;32m      4\u001b[0m     \u001b[1;32mfor\u001b[0m \u001b[0mi\u001b[0m \u001b[1;32min\u001b[0m \u001b[0mrange\u001b[0m\u001b[1;33m(\u001b[0m\u001b[0mtrainSize\u001b[0m\u001b[1;33m+\u001b[0m\u001b[1;36m1\u001b[0m\u001b[1;33m,\u001b[0m\u001b[0mtrainSize\u001b[0m\u001b[1;33m+\u001b[0m\u001b[0mtestSize\u001b[0m\u001b[1;33m)\u001b[0m\u001b[1;33m:\u001b[0m\u001b[1;33m\u001b[0m\u001b[1;33m\u001b[0m\u001b[0m\n\u001b[0;32m      5\u001b[0m         \u001b[0mx\u001b[0m \u001b[1;33m=\u001b[0m \u001b[0mdigits\u001b[0m\u001b[1;33m[\u001b[0m\u001b[1;34m'X'\u001b[0m\u001b[1;33m]\u001b[0m\u001b[1;33m[\u001b[0m\u001b[0mi\u001b[0m\u001b[1;33m]\u001b[0m\u001b[1;33m\u001b[0m\u001b[1;33m\u001b[0m\u001b[0m\n\u001b[1;32m----> 6\u001b[1;33m         \u001b[1;32mif\u001b[0m \u001b[1;33m(\u001b[0m\u001b[0mdigits\u001b[0m\u001b[1;33m[\u001b[0m\u001b[1;34m'Y'\u001b[0m\u001b[1;33m]\u001b[0m\u001b[1;33m[\u001b[0m\u001b[0mi\u001b[0m\u001b[1;33m]\u001b[0m \u001b[1;33m==\u001b[0m \u001b[0mkNN\u001b[0m\u001b[1;33m(\u001b[0m\u001b[0mx\u001b[0m\u001b[1;33m,\u001b[0m\u001b[0mk\u001b[0m\u001b[1;33m,\u001b[0m\u001b[0mtrainSize\u001b[0m\u001b[1;33m,\u001b[0m\u001b[0mgetDist\u001b[0m\u001b[1;33m)\u001b[0m\u001b[1;33m)\u001b[0m\u001b[1;33m:\u001b[0m\u001b[1;33m\u001b[0m\u001b[1;33m\u001b[0m\u001b[0m\n\u001b[0m\u001b[0;32m      7\u001b[0m             \u001b[0mcorrect\u001b[0m \u001b[1;33m+=\u001b[0m \u001b[1;36m1\u001b[0m\u001b[1;33m\u001b[0m\u001b[1;33m\u001b[0m\u001b[0m\n\u001b[0;32m      8\u001b[0m \u001b[1;33m\u001b[0m\u001b[0m\n",
      "\u001b[1;32m<ipython-input-389-8f5874ee476e>\u001b[0m in \u001b[0;36mkNN\u001b[1;34m(x, k, trainSize, getDist)\u001b[0m\n\u001b[0;32m      5\u001b[0m \u001b[1;33m\u001b[0m\u001b[0m\n\u001b[0;32m      6\u001b[0m     \u001b[1;32mfor\u001b[0m \u001b[0mi\u001b[0m \u001b[1;32min\u001b[0m \u001b[0mrange\u001b[0m\u001b[1;33m(\u001b[0m\u001b[0mtrainSize\u001b[0m\u001b[1;33m)\u001b[0m\u001b[1;33m:\u001b[0m\u001b[1;33m\u001b[0m\u001b[1;33m\u001b[0m\u001b[0m\n\u001b[1;32m----> 7\u001b[1;33m         \u001b[0mdist\u001b[0m \u001b[1;33m=\u001b[0m \u001b[0mgetDist\u001b[0m\u001b[1;33m(\u001b[0m\u001b[0mx\u001b[0m\u001b[1;33m,\u001b[0m\u001b[0mdigits\u001b[0m\u001b[1;33m[\u001b[0m\u001b[1;34m'X'\u001b[0m\u001b[1;33m]\u001b[0m\u001b[1;33m[\u001b[0m\u001b[0mi\u001b[0m\u001b[1;33m]\u001b[0m\u001b[1;33m)\u001b[0m\u001b[1;33m\u001b[0m\u001b[1;33m\u001b[0m\u001b[0m\n\u001b[0m\u001b[0;32m      8\u001b[0m         \u001b[1;32mif\u001b[0m \u001b[0mdist\u001b[0m \u001b[1;33m<\u001b[0m \u001b[0mkNearest\u001b[0m\u001b[1;33m[\u001b[0m\u001b[1;33m-\u001b[0m\u001b[1;36m1\u001b[0m\u001b[1;33m]\u001b[0m\u001b[1;33m[\u001b[0m\u001b[1;36m0\u001b[0m\u001b[1;33m]\u001b[0m\u001b[1;33m:\u001b[0m\u001b[1;33m\u001b[0m\u001b[1;33m\u001b[0m\u001b[0m\n\u001b[0;32m      9\u001b[0m             \u001b[0mkNearest\u001b[0m\u001b[1;33m[\u001b[0m\u001b[1;33m-\u001b[0m\u001b[1;36m1\u001b[0m\u001b[1;33m]\u001b[0m \u001b[1;33m=\u001b[0m \u001b[1;33m[\u001b[0m\u001b[0mdist\u001b[0m\u001b[1;33m,\u001b[0m\u001b[0mdigits\u001b[0m\u001b[1;33m[\u001b[0m\u001b[1;34m'Y'\u001b[0m\u001b[1;33m]\u001b[0m\u001b[1;33m[\u001b[0m\u001b[0mi\u001b[0m\u001b[1;33m]\u001b[0m\u001b[1;33m]\u001b[0m\u001b[1;33m\u001b[0m\u001b[1;33m\u001b[0m\u001b[0m\n",
      "\u001b[1;32m<ipython-input-392-7581c79bb61a>\u001b[0m in \u001b[0;36mgetL1Dist\u001b[1;34m(x1, x2)\u001b[0m\n\u001b[0;32m      3\u001b[0m     \u001b[1;32mfor\u001b[0m \u001b[0mi\u001b[0m \u001b[1;32min\u001b[0m \u001b[0mrange\u001b[0m\u001b[1;33m(\u001b[0m\u001b[0mlen\u001b[0m\u001b[1;33m(\u001b[0m\u001b[0mx1\u001b[0m\u001b[1;33m)\u001b[0m\u001b[1;33m)\u001b[0m\u001b[1;33m:\u001b[0m\u001b[1;33m\u001b[0m\u001b[1;33m\u001b[0m\u001b[0m\n\u001b[0;32m      4\u001b[0m         \u001b[0mdiff\u001b[0m \u001b[1;33m=\u001b[0m \u001b[0mabs\u001b[0m\u001b[1;33m(\u001b[0m\u001b[0mx1\u001b[0m\u001b[1;33m[\u001b[0m\u001b[0mi\u001b[0m\u001b[1;33m]\u001b[0m\u001b[1;33m-\u001b[0m\u001b[0mx2\u001b[0m\u001b[1;33m[\u001b[0m\u001b[0mi\u001b[0m\u001b[1;33m]\u001b[0m\u001b[1;33m)\u001b[0m\u001b[1;33m\u001b[0m\u001b[1;33m\u001b[0m\u001b[0m\n\u001b[1;32m----> 5\u001b[1;33m         \u001b[0mdist\u001b[0m \u001b[1;33m+=\u001b[0m \u001b[0mdiff\u001b[0m\u001b[1;33m\u001b[0m\u001b[1;33m\u001b[0m\u001b[0m\n\u001b[0m\u001b[0;32m      6\u001b[0m     \u001b[1;32mreturn\u001b[0m \u001b[0mdist\u001b[0m\u001b[1;33m\u001b[0m\u001b[1;33m\u001b[0m\u001b[0m\n",
      "\u001b[1;31mKeyboardInterrupt\u001b[0m: "
     ]
    }
   ],
   "source": [
    "trainSizes = []\n",
    "L1accuracies = []\n",
    "L2accuracies = []\n",
    "LInfaccuracies = []\n",
    "for trainSize in [40,400,800,1000,5000,8000]:\n",
    "    trainSizes.append(trainSize)\n",
    "    L1accuracy = kNNTest(trainSize,500,10,getL1Dist) # Only test on 500 because it is pretty slow. Using k = 10.\n",
    "    L1accuracies.append(L1accuracy)\n",
    "    L2accuracy = kNNTest(trainSize,500,10,getL2Dist) # Only test on 500 because it is pretty slow. Using k = 10.\n",
    "    L2accuracies.append(L2accuracy)\n",
    "    LInfaccuracy = kNNTest(trainSize,500,10,getLInfDist)\n",
    "    LInfaccuracies.append(LInfaccuracy)\n",
    "    print(\"trainSize =\",trainSize,\"complete.\")\n",
    "plt.plot(trainSizes,L1accuracies,'ro',label='L1')\n",
    "plt.plot(trainSizes,L2accuracies,'bo',label='L2')\n",
    "plt.plot(trainSizes,LInfaccuracies,'go',label='LInf')\n",
    "plt.legend()\n",
    "plt.show()"
   ]
  }
 ],
 "metadata": {
  "kernelspec": {
   "display_name": "Python 3",
   "language": "python",
   "name": "python3"
  },
  "language_info": {
   "codemirror_mode": {
    "name": "ipython",
    "version": 3
   },
   "file_extension": ".py",
   "mimetype": "text/x-python",
   "name": "python",
   "nbconvert_exporter": "python",
   "pygments_lexer": "ipython3",
   "version": "3.7.3"
  }
 },
 "nbformat": 4,
 "nbformat_minor": 2
}
