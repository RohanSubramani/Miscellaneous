{
 "cells": [
  {
   "cell_type": "code",
   "execution_count": 1,
   "metadata": {},
   "outputs": [
    {
     "name": "stdout",
     "output_type": "stream",
     "text": [
      "\n",
      "Enter a positive integer: 73\n",
      "The binary representation of your number is 1001001.\n",
      "\n",
      "Do you want to convert another number to binary? (1 = yes, 2 = no) \n",
      "1\n",
      "\n",
      "Enter a positive integer: 1023\n",
      "The binary representation of your number is 1111111111.\n",
      "\n",
      "Do you want to convert another number to binary? (1 = yes, 2 = no) \n",
      "1\n",
      "\n",
      "Enter a positive integer: 1024\n",
      "The binary representation of your number is 10000000000.\n",
      "\n",
      "Do you want to convert another number to binary? (1 = yes, 2 = no) \n",
      "2\n"
     ]
    }
   ],
   "source": [
    "from math import *\n",
    "repeat = True\n",
    "while repeat:\n",
    "    decimal = int(input(\"\\nEnter a positive integer: \"))\n",
    "    current = decimal\n",
    "    binary = \"\"\n",
    "    while current > 0:\n",
    "        remainder = current%2\n",
    "        digit = str(remainder)\n",
    "        binary = digit + binary\n",
    "        current = floor(current/2)\n",
    "    print(\"The binary representation of your \"\n",
    "          + \"number is \" + binary + \".\")\n",
    "    ask = int(input(\"\\nDo you want to convert another number \" \n",
    "                    + \"to binary? (1 = yes, 2 = no) \\n\"))\n",
    "    if ask == 2:\n",
    "        repeat = False"
   ]
  }
 ],
 "metadata": {
  "kernelspec": {
   "display_name": "Python 3",
   "language": "python",
   "name": "python3"
  },
  "language_info": {
   "codemirror_mode": {
    "name": "ipython",
    "version": 3
   },
   "file_extension": ".py",
   "mimetype": "text/x-python",
   "name": "python",
   "nbconvert_exporter": "python",
   "pygments_lexer": "ipython3",
   "version": "3.7.3"
  }
 },
 "nbformat": 4,
 "nbformat_minor": 2
}
