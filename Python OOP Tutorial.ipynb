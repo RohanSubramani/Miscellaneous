{
 "cells": [
  {
   "cell_type": "code",
   "execution_count": 5,
   "metadata": {},
   "outputs": [
    {
     "name": "stdout",
     "output_type": "stream",
     "text": [
      "<class '__main__.Item'>\n",
      "<class 'str'>\n",
      "<class 'int'>\n",
      "<class 'int'>\n"
     ]
    }
   ],
   "source": [
    "# class Item:\n",
    "#     pass\n",
    "\n",
    "# item1 = Item()\n",
    "# item1.name = \"Phone\"\n",
    "# item1.price = 100\n",
    "# item1.quantity = 5\n",
    "# print(type(item1))\n",
    "# print(type(item1.name))\n",
    "# print(type(item1.price))\n",
    "# print(type(item1.quantity))"
   ]
  },
  {
   "cell_type": "code",
   "execution_count": 8,
   "metadata": {},
   "outputs": [
    {
     "name": "stdout",
     "output_type": "stream",
     "text": [
      "500\n",
      "3000\n"
     ]
    }
   ],
   "source": [
    "# class Item:\n",
    "#     def calc_tot_price(self):\n",
    "#         return self.price * self.quantity  # \"self\" is like \"this\" in Java: formal implicit parameter \n",
    "\n",
    "# item1 = Item()\n",
    "# item1.name = \"Phone\"\n",
    "# item1.price = 100\n",
    "# item1.quantity = 5\n",
    "\n",
    "# print(item1.calc_tot_price()) # Python automatically passes instance as first parameter (implicit parameter)\n",
    "\n",
    "# item2 = Item()\n",
    "# item2.name = \"Laptop\"\n",
    "# item2.price = 1000\n",
    "# item2.quantity = 3\n",
    "\n",
    "# print(item2.calc_tot_price())"
   ]
  },
  {
   "cell_type": "code",
   "execution_count": 32,
   "metadata": {},
   "outputs": [
    {
     "name": "stdout",
     "output_type": "stream",
     "text": [
      "Created the following item: Phone.\n",
      "Phone 100 5\n",
      "Created the following item: Laptop.\n",
      "Laptop 1000 0\n",
      "{'name': 'Laptop', 'price': 1000, 'quantity': 0, 'has_numpad': False}\n",
      "0.8\n",
      "0.8\n",
      "0.8\n"
     ]
    }
   ],
   "source": [
    "# class Item:\n",
    "#     pay_rate = 0.8  # 20% discount. This is a class attribute (i.e. static variable, accessible from class or objects)\n",
    "#     def __init__(self,name:str,price:float,quantity=0):\n",
    "#         # Validate inputs (throw an error if these conditions are not met, create error message)\n",
    "#         assert price >= 0, f\"Price {price} not geq 0!\"\n",
    "#         assert quantity >= 0, f\"Quantity {quantity} not geq 0!\"\n",
    "        \n",
    "#         # Construct object\n",
    "#         print(f\"Created the following item: {name}.\")\n",
    "#         self.name = name\n",
    "#         self.price = price\n",
    "#         self.quantity = quantity\n",
    "#         print(self.name,self.price,self.quantity)\n",
    "#     def calc_tot_price(self):\n",
    "#         return self.price * self.quantity  # self is like \"this\" in Java: formal implicit parameter \n",
    "\n",
    "# item1 = Item(\"Phone\", 100, 5) # Overrides automatic quantity = 0\n",
    "\n",
    "# item2 = Item(\"Laptop\",1000)\n",
    "\n",
    "# item2.has_numpad = False # Can add more instance variables for some objects, can exceed those listed in the constructor\n",
    "# print(item2.__dict__)\n",
    "\n",
    "# print(Item.pay_rate)\n",
    "# print(item1.pay_rate)\n",
    "# print(item2.pay_rate) # All 3 work"
   ]
  },
  {
   "cell_type": "code",
   "execution_count": 34,
   "metadata": {},
   "outputs": [
    {
     "name": "stdout",
     "output_type": "stream",
     "text": [
      "Created the following item: Phone.\n",
      "Phone 100 5\n",
      "Created the following item: Laptop.\n",
      "Laptop 1000 3\n",
      "80.0\n",
      "700.0\n"
     ]
    }
   ],
   "source": [
    "# class Item:\n",
    "#     pay_rate = 0.8  # 20% discount. This is a class attribute (i.e. static variable, accessible from class or objects)\n",
    "#     def __init__(self,name:str,price:float,quantity=0):\n",
    "#         # Validate inputs (throw an error if these conditions are not met, create error message)\n",
    "#         assert price >= 0, f\"Price {price} not geq 0!\"\n",
    "#         assert quantity >= 0, f\"Quantity {quantity} not geq 0!\"\n",
    "        \n",
    "#         # Construct object\n",
    "#         print(f\"Created the following item: {name}.\")\n",
    "#         self.name = name\n",
    "#         self.price = price\n",
    "#         self.quantity = quantity\n",
    "#         print(self.name,self.price,self.quantity)\n",
    "#     def calc_tot_price(self):\n",
    "#         return self.price * self.quantity  # self is like \"this\" in Java: formal implicit parameter \n",
    "#     def apply_discount(self):\n",
    "#         self.price *= self.pay_rate # Allows you to adjust the version called by an object, unlike Item.pay_rate\n",
    "\n",
    "# item1 = Item(\"Phone\", 100, 5) # Overrides automatic quantity = 0\n",
    "\n",
    "# item2 = Item(\"Laptop\",1000,3)\n",
    "\n",
    "# item1.apply_discount()\n",
    "# item2.pay_rate = 0.7 # Doesn't change on class level\n",
    "# item2.apply_discount()\n",
    "# print(item1.price)\n",
    "# print(item2.price)"
   ]
  },
  {
   "cell_type": "code",
   "execution_count": 61,
   "metadata": {},
   "outputs": [
    {
     "name": "stdout",
     "output_type": "stream",
     "text": [
      "[Item('Phone',100,1), Item('Laptop',1000,3), Item('Cable',10,5), Item('Mouse',50,5), Item('Keyboard',75,5)]\n"
     ]
    }
   ],
   "source": [
    "# class Item:\n",
    "#     pay_rate = 0.8  # 20% discount. This is a class attribute (i.e. static variable, accessible from class or objects)\n",
    "#     items = []\n",
    "#     def __init__(self,name:str,price:float,quantity=0):\n",
    "#         # Validate inputs (throw an error if these conditions are not met, create error message)\n",
    "#         assert price >= 0, f\"Price {price} not geq 0!\"\n",
    "#         assert quantity >= 0, f\"Quantity {quantity} not geq 0!\"\n",
    "        \n",
    "#         # Construct object\n",
    "#         self.name = name\n",
    "#         self.price = price\n",
    "#         self.quantity = quantity\n",
    "        \n",
    "#         # Actions to execute\n",
    "#         Item.items.append(self)\n",
    "# #         print(Item.items)\n",
    "#     def calc_tot_price(self):\n",
    "#         return self.price * self.quantity  # self is like \"this\" in Java: formal implicit parameter \n",
    "#     def apply_discount(self):\n",
    "#         self.price *= self.pay_rate # Allows you to adjust the version called by an object, unlike Item.pay_rate\n",
    "#     def __repr__(self): # Kind of like toString in Java\n",
    "#         return f\"Item('{self.name}',{self.price},{self.quantity})\"\n",
    "# #         return f\"Item({self.__dict__})\"\n",
    "\n",
    "# item1 = Item(\"Phone\", 100, 1)\n",
    "# item2 = Item(\"Laptop\", 1000, 3)\n",
    "# item3 = Item(\"Cable\", 10, 5)\n",
    "# item4 = Item(\"Mouse\", 50, 5)\n",
    "# item5 = Item(\"Keyboard\", 75, 5)\n",
    "\n",
    "# print(Item.items)"
   ]
  },
  {
   "cell_type": "code",
   "execution_count": 84,
   "metadata": {},
   "outputs": [
    {
     "name": "stdout",
     "output_type": "stream",
     "text": [
      "True\n",
      "False\n"
     ]
    }
   ],
   "source": [
    "import csv\n",
    "\n",
    "class Item:\n",
    "    pay_rate = 0.8  # 20% discount. This is a class attribute (i.e. static variable, accessible from class or objects)\n",
    "    items = []\n",
    "    def __init__(self,name:str,price:float,quantity=0):\n",
    "        # Validate inputs (throw an error if these conditions are not met, create error message)\n",
    "        assert price >= 0, f\"Price {price} not geq 0!\"\n",
    "        assert quantity >= 0, f\"Quantity {quantity} not geq 0!\"\n",
    "        \n",
    "        # Construct object\n",
    "        self.name = name\n",
    "        self.price = price\n",
    "        self.quantity = quantity\n",
    "        \n",
    "        # Actions to execute\n",
    "        Item.items.append(self)\n",
    "#         print(Item.items)\n",
    "    def calc_tot_price(self):\n",
    "        return self.price * self.quantity  # self is like \"this\" in Java: formal implicit parameter \n",
    "    def apply_discount(self):\n",
    "        self.price *= self.pay_rate # Allows you to adjust the version called by an object, unlike Item.pay_rate\n",
    "        \n",
    "    @classmethod  # Makes next method a class method: implicit param should be the class name.\n",
    "    def instantiate_from_csv(cls):\n",
    "        with open(\"Downloads\\items.csv\",\"r\") as file:\n",
    "            reader = csv.DictReader(file)\n",
    "            items = list(reader)\n",
    "         \n",
    "        for item in items:\n",
    "            Item(item[\"ï»¿name\"],float(item[\"price\"]),int(item[\"quantity\"])) # Idk why name gets read as ï»¿name, weird.\n",
    "    \n",
    "    @staticmethod # Makes next method a static method: no automatically passed params.\n",
    "    def is_integer(num):\n",
    "        if isinstance(num,float):  # If num is of type float:\n",
    "            return num.is_integer()  # True iff num is a float with .0. is_integer is a built in fxn for floats as well.\n",
    "        elif isinstance(num,int):\n",
    "            return True\n",
    "        else:\n",
    "            return False\n",
    "    \n",
    "    def __repr__(self): # Kind of like toString in Java\n",
    "        return f\"Item('{self.name}',{self.price},{self.quantity})\"\n",
    "#         return f\"Item({self.__dict__})\"\n",
    "\n",
    "print(Item.is_integer(7.000000))\n",
    "print(Item.is_integer(7.0001000))"
   ]
  },
  {
   "cell_type": "markdown",
   "metadata": {},
   "source": [
    "Difference between class and static methods: both are used for a purpose related to the class and not specific to a single instance, but class methods are more related to instances? In the example above, the class method is used to instantiate individual instances of the class from a place where data was stored. This is a common use?\n",
    "Also, simply, class methods pass in an implicit parameter while static methods do not."
   ]
  },
  {
   "cell_type": "code",
   "execution_count": 101,
   "metadata": {},
   "outputs": [
    {
     "name": "stdout",
     "output_type": "stream",
     "text": [
      "Phone('PhoneV1',100,10)\n",
      "1000\n",
      "Phone('PhoneV2',200,9)\n",
      "1800\n",
      "[Phone('PhoneV1',100,10), Phone('PhoneV2',200,9), Item('Laptop',1000,4)]\n"
     ]
    }
   ],
   "source": [
    "# import csv\n",
    "\n",
    "# class Item:\n",
    "#     pay_rate = 0.8  # 20% discount. This is a class attribute (i.e. static variable, accessible from class or objects)\n",
    "#     items = []\n",
    "#     def __init__(self,name:str,price:float,quantity=0):\n",
    "#         # Validate inputs (throw an error if these conditions are not met, create error message)\n",
    "#         assert price >= 0, f\"Price {price} not geq 0!\"\n",
    "#         assert quantity >= 0, f\"Quantity {quantity} not geq 0!\"\n",
    "        \n",
    "#         # Construct object\n",
    "#         self.name = name\n",
    "#         self.price = price\n",
    "#         self.quantity = quantity\n",
    "        \n",
    "#         # Actions to execute\n",
    "#         Item.items.append(self)\n",
    "# #         print(Item.items)\n",
    "#     def calc_tot_price(self):\n",
    "#         return self.price * self.quantity  # self is like \"this\" in Java: formal implicit parameter \n",
    "#     def apply_discount(self):\n",
    "#         self.price *= self.pay_rate # Allows you to adjust the version called by an object, unlike Item.pay_rate\n",
    "        \n",
    "#     @classmethod  # Makes next method a class method: implicit param should be the class name.\n",
    "#     def instantiate_from_csv(cls):\n",
    "#         with open(\"Downloads\\items.csv\",\"r\") as file:\n",
    "#             reader = csv.DictReader(file)\n",
    "#             items = list(reader)\n",
    "         \n",
    "#         for item in items:\n",
    "#             Item(item[\"ï»¿name\"],float(item[\"price\"]),int(item[\"quantity\"])) # Idk why name gets read as ï»¿name, weird.\n",
    "    \n",
    "#     @staticmethod # Makes next method a static method: no automatically passed params.\n",
    "#     def is_integer(num):\n",
    "#         if isinstance(num,float):  # If num is of type float:\n",
    "#             return num.is_integer()  # True iff num is a float with .0. is_integer is a built in fxn for floats as well.\n",
    "#         elif isinstance(num,int):\n",
    "#             return True\n",
    "#         else:\n",
    "#             return False\n",
    "    \n",
    "#     def __repr__(self): # Kind of like toString in Java\n",
    "#         return f\"{self.__class__.__name__}('{self.name}',{self.price},{self.quantity})\" # NOTE CHANGE HERE!\n",
    "#         # self.__class__.__name__ refers to the name of this object's class, using this instead of \"Item\"\n",
    "#         # makes it more specific for subclasses (AKA child classes)\n",
    "    \n",
    "# class Phone(Item):\n",
    "#     phones = []\n",
    "#     def __init__(self,name:str,price:float,quantity:int,broken:int):\n",
    "#         super().__init__(name,price,quantity)\n",
    "#         assert broken >= 0, f\"Broken {broken} not geq 0!\"\n",
    "#         self.broken = broken\n",
    "#         Phone.phones.append(self)\n",
    "\n",
    "# item1 = Phone(\"PhoneV1\",100,10,4)\n",
    "# item2 = Phone(\"PhoneV2\",200,9,3)\n",
    "# item3 = Item(\"Laptop\",1000,4)\n",
    "# for phone in Phone.phones:\n",
    "#     print(phone)\n",
    "#     print(phone.calc_tot_price())  # Can use methods from Item class for Phone objects because of inheritance\n",
    "# print(Phone.items) # Can access the list of all items, a static variable from the Item class, via the Phone subclass"
   ]
  },
  {
   "cell_type": "code",
   "execution_count": 114,
   "metadata": {},
   "outputs": [
    {
     "name": "stdout",
     "output_type": "stream",
     "text": [
      "MyItem\n"
     ]
    },
    {
     "ename": "ValueError",
     "evalue": "The value you attempted to enter, 7, is not a string. Names should be strings.",
     "output_type": "error",
     "traceback": [
      "\u001b[1;31m---------------------------------------------------------------------------\u001b[0m",
      "\u001b[1;31mValueError\u001b[0m                                Traceback (most recent call last)",
      "\u001b[1;32m<ipython-input-114-0af598da9db3>\u001b[0m in \u001b[0;36m<module>\u001b[1;34m\u001b[0m\n\u001b[0;32m     45\u001b[0m \u001b[0mitem1\u001b[0m \u001b[1;33m=\u001b[0m \u001b[0mItem\u001b[0m\u001b[1;33m(\u001b[0m\u001b[1;34m\"MyItem\"\u001b[0m\u001b[1;33m,\u001b[0m\u001b[1;36m3\u001b[0m\u001b[1;33m,\u001b[0m\u001b[1;36m2\u001b[0m\u001b[1;33m)\u001b[0m\u001b[1;33m\u001b[0m\u001b[1;33m\u001b[0m\u001b[0m\n\u001b[0;32m     46\u001b[0m \u001b[0mprint\u001b[0m\u001b[1;33m(\u001b[0m\u001b[0mitem1\u001b[0m\u001b[1;33m.\u001b[0m\u001b[0mname\u001b[0m\u001b[1;33m)\u001b[0m \u001b[1;31m# item1.name refers to the property\u001b[0m\u001b[1;33m\u001b[0m\u001b[1;33m\u001b[0m\u001b[0m\n\u001b[1;32m---> 47\u001b[1;33m \u001b[0mitem1\u001b[0m\u001b[1;33m.\u001b[0m\u001b[0mname\u001b[0m \u001b[1;33m=\u001b[0m \u001b[1;36m7\u001b[0m  \u001b[1;31m# This calls name setter\u001b[0m\u001b[1;33m\u001b[0m\u001b[1;33m\u001b[0m\u001b[0m\n\u001b[0m\u001b[0;32m     48\u001b[0m \u001b[1;31m# item1.name = \"OtherItem\"\u001b[0m\u001b[1;33m\u001b[0m\u001b[1;33m\u001b[0m\u001b[1;33m\u001b[0m\u001b[0m\n\u001b[0;32m     49\u001b[0m \u001b[0mprint\u001b[0m\u001b[1;33m(\u001b[0m\u001b[0mitem1\u001b[0m\u001b[1;33m.\u001b[0m\u001b[0mname\u001b[0m\u001b[1;33m)\u001b[0m\u001b[1;33m\u001b[0m\u001b[1;33m\u001b[0m\u001b[0m\n",
      "\u001b[1;32m<ipython-input-114-0af598da9db3>\u001b[0m in \u001b[0;36mname\u001b[1;34m(self, value)\u001b[0m\n\u001b[0;32m     24\u001b[0m     \u001b[1;32mdef\u001b[0m \u001b[0mname\u001b[0m\u001b[1;33m(\u001b[0m\u001b[0mself\u001b[0m\u001b[1;33m,\u001b[0m\u001b[0mvalue\u001b[0m\u001b[1;33m)\u001b[0m\u001b[1;33m:\u001b[0m\u001b[1;33m\u001b[0m\u001b[1;33m\u001b[0m\u001b[0m\n\u001b[0;32m     25\u001b[0m         \u001b[1;32mif\u001b[0m \u001b[1;32mnot\u001b[0m \u001b[0misinstance\u001b[0m\u001b[1;33m(\u001b[0m\u001b[0mvalue\u001b[0m\u001b[1;33m,\u001b[0m\u001b[0mstr\u001b[0m\u001b[1;33m)\u001b[0m\u001b[1;33m:\u001b[0m\u001b[1;33m\u001b[0m\u001b[1;33m\u001b[0m\u001b[0m\n\u001b[1;32m---> 26\u001b[1;33m             \u001b[1;32mraise\u001b[0m \u001b[0mValueError\u001b[0m\u001b[1;33m(\u001b[0m\u001b[1;34mf\"The value you attempted to enter, {value}, is not a string. Names should be strings.\"\u001b[0m\u001b[1;33m)\u001b[0m\u001b[1;33m\u001b[0m\u001b[1;33m\u001b[0m\u001b[0m\n\u001b[0m\u001b[0;32m     27\u001b[0m             \u001b[1;31m# This is the point of making variables private and having mutator methods! You can set restrictions\u001b[0m\u001b[1;33m\u001b[0m\u001b[1;33m\u001b[0m\u001b[1;33m\u001b[0m\u001b[0m\n\u001b[0;32m     28\u001b[0m             \u001b[1;31m# on how the variable can be mutated.\u001b[0m\u001b[1;33m\u001b[0m\u001b[1;33m\u001b[0m\u001b[1;33m\u001b[0m\u001b[0m\n",
      "\u001b[1;31mValueError\u001b[0m: The value you attempted to enter, 7, is not a string. Names should be strings."
     ]
    }
   ],
   "source": [
    "import csv\n",
    "\n",
    "class Item:\n",
    "    pay_rate = 0.8  # 20% discount. This is a class attribute (i.e. static variable, accessible from class or objects)\n",
    "    items = []\n",
    "    def __init__(self,name:str,price:float,quantity=0):\n",
    "        # Validate inputs (throw an error if these conditions are not met, create error message)\n",
    "        assert price >= 0, f\"Price {price} not geq 0!\"\n",
    "        assert quantity >= 0, f\"Quantity {quantity} not geq 0!\"\n",
    "        \n",
    "        # Construct object\n",
    "        self.__name = name\n",
    "        self.price = price\n",
    "        self.quantity = quantity\n",
    "        \n",
    "        # Actions to execute\n",
    "        Item.items.append(self)\n",
    "#         print(Item.items)\n",
    "    @property # Makes the next variable read-only?\n",
    "    def name(self):\n",
    "        return self.__name\n",
    "    \n",
    "    @name.setter\n",
    "    def name(self,value):\n",
    "        if not isinstance(value,str):\n",
    "            raise ValueError(f\"The value you attempted to enter, {value}, is not a string. Names should be strings.\")\n",
    "            # This is the point of making variables private and having mutator methods! You can set restrictions \n",
    "            # on how the variable can be mutated.\n",
    "        else:\n",
    "            self.__name = value\n",
    "    \n",
    "    def calc_tot_price(self):\n",
    "        return self.price * self.quantity  # self is like \"this\" in Java: formal implicit parameter \n",
    "    def apply_discount(self):\n",
    "        self.price *= self.pay_rate # Allows you to adjust the version called by an object, unlike Item.pay_rate\n",
    "    \n",
    "    def __repr__(self): # Kind of like toString in Java\n",
    "        return f\"{self.__class__.__name__}('{self.name}',{self.price},{self.quantity})\" # NOTE CHANGE HERE!\n",
    "        # self.__class__.__name__ refers to the name of this object's class, using this instead of \"Item\"\n",
    "        # makes it more specific for subclasses (AKA child classes)\n",
    "    \n",
    "# Removed some stuff from above because it is not needed for getters and setters stuff\n",
    "# Getters and setters <==> accessor and mutator methods. Required when using private instance variables.\n",
    "\n",
    "item1 = Item(\"MyItem\",3,2)\n",
    "print(item1.name) # item1.name refers to the property\n",
    "item1.name = 7  # This calls name setter\n",
    "# item1.name = \"OtherItem\"\n",
    "print(item1.name)"
   ]
  }
 ],
 "metadata": {
  "kernelspec": {
   "display_name": "Python 3",
   "language": "python",
   "name": "python3"
  },
  "language_info": {
   "codemirror_mode": {
    "name": "ipython",
    "version": 3
   },
   "file_extension": ".py",
   "mimetype": "text/x-python",
   "name": "python",
   "nbconvert_exporter": "python",
   "pygments_lexer": "ipython3",
   "version": "3.7.3"
  }
 },
 "nbformat": 4,
 "nbformat_minor": 2
}
