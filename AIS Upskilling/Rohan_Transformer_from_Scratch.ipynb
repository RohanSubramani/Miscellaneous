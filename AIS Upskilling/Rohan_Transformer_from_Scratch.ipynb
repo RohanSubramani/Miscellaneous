{
  "cells": [
    {
      "cell_type": "markdown",
      "metadata": {
        "id": "view-in-github",
        "colab_type": "text"
      },
      "source": [
        "<a href=\"https://colab.research.google.com/github/RohanSubramani/Miscellaneous/blob/main/Rohan_Transformer_from_Scratch.ipynb\" target=\"_parent\"><img src=\"https://colab.research.google.com/assets/colab-badge.svg\" alt=\"Open In Colab\"/></a>"
      ]
    },
    {
      "cell_type": "markdown",
      "source": [
        "This is the notebook I (Rohan Subramani) used to follow along with Neel Nanda's [video tutorial on implementing GPT-2](https://neelnanda.io/transformer-tutorial-2). I wrote ~all of the code that comes after the \"Actual Code!\" heading, albeit while regularly referencing the video and the [solution notebook](https:https://www.neelnanda.io/transformer-solution//). I made sure to understand what each line was doing before writing it in cases where I wasn't able to come up with it myself. I may try repeating this exercise with many fewer peeks at the solution soon."
      ],
      "metadata": {
        "id": "QeAylvbDlkMp"
      }
    },
    {
      "cell_type": "code",
      "source": [
        "!nvidia-smi"
      ],
      "metadata": {
        "colab": {
          "base_uri": "https://localhost:8080/"
        },
        "id": "qLwuhVkpQjYO",
        "outputId": "7e66cc16-0801-46ca-992c-ef95aca69bd5"
      },
      "execution_count": null,
      "outputs": [
        {
          "output_type": "stream",
          "name": "stdout",
          "text": [
            "Wed Feb 22 03:54:41 2023       \n",
            "+-----------------------------------------------------------------------------+\n",
            "| NVIDIA-SMI 510.47.03    Driver Version: 510.47.03    CUDA Version: 11.6     |\n",
            "|-------------------------------+----------------------+----------------------+\n",
            "| GPU  Name        Persistence-M| Bus-Id        Disp.A | Volatile Uncorr. ECC |\n",
            "| Fan  Temp  Perf  Pwr:Usage/Cap|         Memory-Usage | GPU-Util  Compute M. |\n",
            "|                               |                      |               MIG M. |\n",
            "|===============================+======================+======================|\n",
            "|   0  Tesla T4            Off  | 00000000:00:04.0 Off |                    0 |\n",
            "| N/A   73C    P0    32W /  70W |   3982MiB / 15360MiB |      0%      Default |\n",
            "|                               |                      |                  N/A |\n",
            "+-------------------------------+----------------------+----------------------+\n",
            "                                                                               \n",
            "+-----------------------------------------------------------------------------+\n",
            "| Processes:                                                                  |\n",
            "|  GPU   GI   CI        PID   Type   Process name                  GPU Memory |\n",
            "|        ID   ID                                                   Usage      |\n",
            "|=============================================================================|\n",
            "|    0   N/A  N/A      2493      C                                    3979MiB |\n",
            "+-----------------------------------------------------------------------------+\n"
          ]
        }
      ]
    },
    {
      "cell_type": "markdown",
      "metadata": {
        "id": "r3xR1c0O5p_O"
      },
      "source": [
        "# Introduction\n",
        "\n",
        "(Most of the text here is from Neel Nanda.) This is a template for a clean, first principles implementation of GPT-2 in PyTorch. This is an accompaniment to [my video tutorial on implementing GPT-2](https://neelnanda.io/transformer-tutorial-2). If you want to properly understand how to implement GPT-2, you'll need to do it yourself! **I recommend filling out this template *as* you watch the video, and seeing how far you can get with each section before watching me do it**. Each section comes with tests, so you can check that you got it right. You can see [a solution notebook here](https://www.neelnanda.io/transformer-solution) - use it if you get stuck, but make an attempt first, and no copying and pasting!\n",
        "\n",
        "There's a [template version of this notebook here](https://neelnanda.io/transformer-template), go and fill in the blanks (no copying and pasting!) and see if you can pass the tests. \n",
        "\n",
        "If you enjoyed this, I expect you'd enjoy learning more about what's actually going on inside these models and how to reverse engineer them! This is a fascinating young research field, with a lot of low-hanging fruit and open problems! **I recommend starting with my post [Concrete Steps for Getting Started in Mechanistic Interpretability](https://www.neelnanda.io/mechanistic-interpretability/getting-started).**\n",
        "\n",
        "This notebook was written to accompany my [TransformerLens library](https://github.com/neelnanda-io/TransformerLens) for doing mechanistic interpretability research on GPT-2 style language models, and is a clean implementation of the underlying transformer architecture in the library. (This notebook is based off of an earlier version called EasyTransformer)\n",
        "\n",
        "Further Resources:\n",
        "* [A Comprehensive Mechanistic Interpretability Explainer & Glossary](https://www.neelnanda.io/glossary) \n",
        "    * Expecially [the transformers section](https://dynalist.io/d/n2ZWtnoYHrU1s4vnFSAQ519J#z=pndoEIqJ6GPvC1yENQkEfZYR)\n",
        "* [200 Concrete Open Problems in Mechanistic Interpretability](https://www.neelnanda.io/concrete-open-problems)\n",
        "* My [TransformerLens library](https://github.com/neelnanda-io/TransformerLens) for doing mechanistic interpretability research on GPT-2 style language models.\n",
        "* My walkthrough of [A Mathematical Framework for Transformer Circuits](https://transformer-circuits.pub/2021/framework/index.html), for a deeper dive into how to think about transformers:.\n",
        "\n",
        "Check out these other intros to transformers for another perspective:\n",
        "* Jay Alammar's [illustrated transformer](https://jalammar.github.io/illustrated-transformer/)\n",
        "* [Andrej Karpathy's MinGPT](https://github.com/karpathy/minGPT)\n",
        "\n",
        "**Sharing Guidelines:** This tutorial is still a bit of a work in progress! I think it's usable, but please don't post it anywhere publicly without checking with me first! Sharing with friends is fine. \n",
        "\n",
        "If you've found this useful, I'd love to hear about it! Positive and negative feedback also very welcome. You can reach me via [email](mailto:neelnanda27@gmail.com)"
      ]
    },
    {
      "cell_type": "markdown",
      "metadata": {
        "id": "VUJyUZ0t5p_W"
      },
      "source": [
        "## Instructions\n",
        "* No need to read the Setup Section\n",
        "* Go to runtime > Change Runtime Type and set it to use a GPU\n",
        "* Read and run notebook up until the start of the section \"Actual Code!\". Then go to the template notebook and try coding up the model yourself!\n",
        "    * Bonus points for doing that without reading the solutions, and before I do it in the video!"
      ]
    },
    {
      "cell_type": "markdown",
      "metadata": {
        "id": "JdZwxyYa5p_Y"
      },
      "source": [
        "# Setup"
      ]
    },
    {
      "cell_type": "code",
      "execution_count": null,
      "metadata": {
        "id": "ahNtDsIV5p_Y"
      },
      "outputs": [],
      "source": [
        "try:\n",
        "  import google.colab\n",
        "  IN_COLAB = True\n",
        "  print(\"Running as a Colab notebook\")\n",
        "  %pip install git+https://github.com/neelnanda-io/Easy-Transformer.git@clean-transformer-demo\n",
        "  # Install another version of node that makes PySvelte work way faster\n",
        "  !curl -fsSL https://deb.nodesource.com/setup_16.x | sudo -E bash -; sudo apt-get install -y nodejs\n",
        "  %pip install git+https://github.com/neelnanda-io/PySvelte.git\n",
        "  %pip install fancy_einsum\n",
        "  %pip install einops\n",
        "except:\n",
        "  IN_COLAB = False\n",
        "  print(\"Running as a Jupyter notebook - intended for development only!\")"
      ]
    },
    {
      "cell_type": "code",
      "execution_count": null,
      "metadata": {
        "id": "76IXjGBo5p_b"
      },
      "outputs": [],
      "source": [
        "import einops\n",
        "from fancy_einsum import einsum\n",
        "from dataclasses import dataclass\n",
        "from easy_transformer import EasyTransformer\n",
        "import torch\n",
        "import torch.nn as nn\n",
        "import numpy as np\n",
        "import math\n",
        "from easy_transformer.utils import get_corner, gelu_new, tokenize_and_concatenate\n",
        "import tqdm.auto as tqdm"
      ]
    },
    {
      "cell_type": "code",
      "execution_count": null,
      "metadata": {
        "id": "GnXuWPyM5p_c"
      },
      "outputs": [],
      "source": [
        "reference_gpt2 = EasyTransformer.from_pretrained(\"gpt2-small\", fold_ln=False, center_unembed=False, center_writing_weights=False)"
      ]
    },
    {
      "cell_type": "markdown",
      "metadata": {
        "id": "Dxu5ZVv95p_d"
      },
      "source": [
        "# Understanding Inputs & Outputs of a Transformer"
      ]
    },
    {
      "cell_type": "markdown",
      "metadata": {
        "id": "lGOll1FU5p_d"
      },
      "source": [
        "## What is the point of a transformer?"
      ]
    },
    {
      "cell_type": "markdown",
      "metadata": {
        "id": "A5p3JR2W5p_e"
      },
      "source": [
        "**Transformers exist to model text!**\n",
        "\n",
        "We're going to focus GPT-2 style transformers. Key feature: They generate text! You feed in language, and the model generates a probability distn over tokens. And you can repeatedly sample from this to generate text!\n",
        "\n",
        "### How is the model trained?\n",
        "\n",
        "You give it a bunch of text, and train it to predict the next token.\n",
        "\n",
        "Importantly, if you give a model 100 tokens in a sequence, it predicts the next token for *each* prefix, ie it produces 100 predictions. This is kinda weird but it's much easier to make one that does this. And it also makes training more efficient, because you can 100 bits of feedback rather than just one.\n",
        "\n",
        "#### Objection: Isn't this trivial for the first 99?\n",
        "\n",
        "No! We make the transformer have *causal attention*. The core thing is that it can only move information forwards in the sequence. The prediction of what comes after token 50 is only a function of the first 50 tokens, *not* of token 51. (Jargon: *autoregressive*)\n",
        "\n",
        "### Key takeaway:\n",
        "\n",
        "Transformers are *sequence modelling engines*. It does the same processing in parallel at each sequence position, can move information between positions with attention, and conceptually can take a sequence of arbitrary length (not actually true, see later)"
      ]
    },
    {
      "cell_type": "markdown",
      "metadata": {
        "id": "L9IDPAsV5p_e"
      },
      "source": [
        "## Tokens - Transformer Inputs"
      ]
    },
    {
      "cell_type": "markdown",
      "metadata": {
        "id": "FaISps865p_f"
      },
      "source": [
        "Core point: Input is language (ie a sequence of characters, strings, etc)\n",
        "\n",
        "### How do we convert language to vectors?\n",
        "\n",
        "ML models take in vectors, not weird shit like language - how do we convert?\n",
        "\n",
        "#### Idea: integers to vectors\n",
        "\n",
        "We basically make a lookup table. Called an embedding. \n",
        "\n",
        "Jargon: **One-hot encoding** We map eg numbers from 1 to 100, to a 100-dim vector, with a 1 in the kth position, 0 everywhere else. Key intuition is that one-hot encodings let you think about each integer independently - useful when integers = labels. \n",
        "\n",
        "Dimensions = things that vary independently. Each input has its own dimension, so each input can be thought of independently, we don't bake in any relation.\n",
        "\n",
        "Lookup tables <=> Multiply a fixed matrix by the one-hot encoded vector. \n"
      ]
    },
    {
      "cell_type": "markdown",
      "metadata": {
        "id": "QVJrq0tV5p_f"
      },
      "source": [
        "### Tokens: Language to sequence of integers\n",
        "\n",
        "Core idea: We need a model that can deal with arbitrary text. We want to convert this into integers, *and* we want these integers to be in a bounded range. \n",
        "\n",
        "**Idea:** Form a vocabulary!\n",
        "\n",
        "**Idea 1:** Get a dictionary! \n",
        "\n",
        "**Problem:** It can't cope with arbitrary text (eg URLs, punctuation, etc) Can't cope with mispellings.\n",
        "\n",
        "**Idea 2:** Vocab = 256 ASCII characters. Fixed vocab size, can do arbitrary text, etc.\n",
        "\n",
        "**Problem:** Loses structure of language - some sequences of characters are more meaningful than others.\n",
        "\n",
        "Eg \"language\" is a lot more meaningful than \"hjksdfiu\" - we want the first to be a single token, second to not be. It's a more efficient use of our vocab.\n",
        "\n",
        "#### What Actually Happens?\n",
        "\n",
        "This super cursed thing called Byte-Pair Encodings\n",
        "\n",
        "Ġ ~ means begins with a space, tokens with a leading space vs not are different.\n",
        "\n",
        "We begin with the 256 ASCII characters as our tokens, and then find the most common pair of tokens, and merge that into a new token. Eg \" t\" is the most common pair, so it's our next token! Repeat 50000 times..."
      ]
    },
    {
      "cell_type": "code",
      "execution_count": null,
      "metadata": {
        "id": "mYc206225p_g",
        "outputId": "6c601bf5-8f8e-44ba-c4b0-4189440ba654",
        "colab": {
          "base_uri": "https://localhost:8080/"
        }
      },
      "outputs": [
        {
          "output_type": "stream",
          "name": "stdout",
          "text": [
            "[('!', 0), ('\"', 1), ('#', 2), ('$', 3), ('%', 4), ('&', 5), (\"'\", 6), ('(', 7), (')', 8), ('*', 9), ('+', 10), (',', 11), ('-', 12), ('.', 13), ('/', 14), ('0', 15), ('1', 16), ('2', 17), ('3', 18), ('4', 19)]\n",
            "\n",
            "[('ľ', 250), ('Ŀ', 251), ('ŀ', 252), ('Ł', 253), ('ł', 254), ('Ń', 255), ('Ġt', 256), ('Ġa', 257), ('he', 258), ('in', 259), ('re', 260), ('on', 261), ('Ġthe', 262), ('er', 263), ('Ġs', 264), ('at', 265), ('Ġw', 266), ('Ġo', 267), ('en', 268), ('Ġc', 269)]\n",
            "\n",
            "[('Ġprodu', 990), ('Ġstill', 991), ('led', 992), ('ah', 993), ('Ġhere', 994), ('Ġworld', 995), ('Ġthough', 996), ('Ġnum', 997), ('arch', 998), ('imes', 999), ('ale', 1000), ('ĠSe', 1001), ('ĠIf', 1002), ('//', 1003), ('ĠLe', 1004), ('Ġret', 1005), ('Ġref', 1006), ('Ġtrans', 1007), ('ner', 1008), ('ution', 1009)]\n",
            "\n"
          ]
        }
      ],
      "source": [
        "sorted_vocab = sorted(list(reference_gpt2.tokenizer.vocab.items()), key=lambda n:n[1])\n",
        "print(sorted_vocab[:20])\n",
        "print()\n",
        "print(sorted_vocab[250:270])\n",
        "print()\n",
        "print(sorted_vocab[990:1010])\n",
        "print()"
      ]
    },
    {
      "cell_type": "markdown",
      "metadata": {
        "id": "owBTY54B5p_h"
      },
      "source": [
        "Gets to weird esoteric shit."
      ]
    },
    {
      "cell_type": "code",
      "execution_count": null,
      "metadata": {
        "id": "RxJwOLx85p_i",
        "outputId": "d74675be-2eb1-488b-8880-2b2953fc36f3",
        "colab": {
          "base_uri": "https://localhost:8080/"
        }
      },
      "outputs": [
        {
          "output_type": "execute_result",
          "data": {
            "text/plain": [
              "[('Revolution', 50237),\n",
              " ('Ġsnipers', 50238),\n",
              " ('Ġreverted', 50239),\n",
              " ('Ġconglomerate', 50240),\n",
              " ('Terry', 50241),\n",
              " ('794', 50242),\n",
              " ('Ġharsher', 50243),\n",
              " ('Ġdesolate', 50244),\n",
              " ('ĠHitman', 50245),\n",
              " ('Commission', 50246),\n",
              " ('Ġ(/', 50247),\n",
              " ('âĢ¦.\"', 50248),\n",
              " ('Compar', 50249),\n",
              " ('Ġamplification', 50250),\n",
              " ('ominated', 50251),\n",
              " ('Ġregress', 50252),\n",
              " ('ĠCollider', 50253),\n",
              " ('Ġinformants', 50254),\n",
              " ('Ġgazed', 50255),\n",
              " ('<|endoftext|>', 50256)]"
            ]
          },
          "metadata": {},
          "execution_count": 5
        }
      ],
      "source": [
        "sorted_vocab[-20:]"
      ]
    },
    {
      "cell_type": "markdown",
      "metadata": {
        "id": "Yc9ViHRj5p_j"
      },
      "source": [
        "Use the `to_tokens` method to convert text to numbers\n",
        "\n",
        "Prepends with a special token to give attention a resting position, disable with `prepend_bos=False`"
      ]
    },
    {
      "cell_type": "code",
      "execution_count": null,
      "metadata": {
        "id": "ORgiMrWz5p_k",
        "outputId": "db86ae79-38a9-46d9-b387-ebf2b0ce7282",
        "colab": {
          "base_uri": "https://localhost:8080/"
        }
      },
      "outputs": [
        {
          "output_type": "stream",
          "name": "stdout",
          "text": [
            "tensor([[50256, 15354,   257,  1573,  6140,   351,   257,  3139,   393,  2272,\n",
            "          6067,     0]])\n",
            "tensor([[15354,   257,  1573,  6140,   351,   257,  3139,   393,  2272,  6067,\n",
            "             0]])\n"
          ]
        }
      ],
      "source": [
        "print(reference_gpt2.to_tokens(\"Whether a word begins with a capital or space matters!\"))\n",
        "print(reference_gpt2.to_tokens(\"Whether a word begins with a capital or space matters!\", prepend_bos=False))"
      ]
    },
    {
      "cell_type": "markdown",
      "metadata": {
        "id": "DbCinxuf5p_k"
      },
      "source": [
        "### Rant: Tokenization is a Headache\n",
        "\n",
        "Whether a word begins with a capital or space matters!"
      ]
    },
    {
      "cell_type": "code",
      "execution_count": null,
      "metadata": {
        "id": "1Cl7i5tu5p_k",
        "outputId": "0683b60e-46a8-4e56-9ee1-ed5dbd0bb1f0",
        "colab": {
          "base_uri": "https://localhost:8080/"
        }
      },
      "outputs": [
        {
          "output_type": "stream",
          "name": "stdout",
          "text": [
            "['<|endoftext|>', 'R', 'alph']\n",
            "['<|endoftext|>', ' Ralph']\n",
            "['<|endoftext|>', ' r', 'alph']\n",
            "['<|endoftext|>', 'ral', 'ph']\n"
          ]
        }
      ],
      "source": [
        "print(reference_gpt2.to_str_tokens(\"Ralph\"))\n",
        "print(reference_gpt2.to_str_tokens(\" Ralph\"))\n",
        "print(reference_gpt2.to_str_tokens(\" ralph\"))\n",
        "print(reference_gpt2.to_str_tokens(\"ralph\"))"
      ]
    },
    {
      "cell_type": "markdown",
      "metadata": {
        "id": "LCck1OWx5p_l"
      },
      "source": [
        "Arithmetic is a total mess: Length is inconsistent, common numbers bundle together"
      ]
    },
    {
      "cell_type": "code",
      "execution_count": null,
      "metadata": {
        "id": "yBBaKABX5p_l",
        "outputId": "329d9339-ff2b-47e7-8d1b-ce486fd9aa65",
        "colab": {
          "base_uri": "https://localhost:8080/"
        }
      },
      "outputs": [
        {
          "output_type": "execute_result",
          "data": {
            "text/plain": [
              "['<|endoftext|>',\n",
              " '568',\n",
              " '73',\n",
              " '+',\n",
              " '318',\n",
              " '46',\n",
              " '23',\n",
              " '=',\n",
              " '123',\n",
              " '45',\n",
              " '67',\n",
              " '89',\n",
              " '-',\n",
              " '1',\n",
              " '000000',\n",
              " '000']"
            ]
          },
          "metadata": {},
          "execution_count": 8
        }
      ],
      "source": [
        "reference_gpt2.to_str_tokens(\"56873+3184623=123456789-1000000000\")"
      ]
    },
    {
      "cell_type": "markdown",
      "metadata": {
        "id": "P-ygKRMK5p_l"
      },
      "source": [
        "### Key Takeaway:\n",
        "\n",
        "* We learn a dictionary of vocab of tokens (sub-words).\n",
        "\n",
        "* We (approx) losslessly convert language to integers via tokenizing it.\n",
        "\n",
        "* We convert integers to vectors via a lookup table.\n",
        "\n",
        "* Note: input to the transformer is a sequence of *tokens* (ie integers), not vectors"
      ]
    },
    {
      "cell_type": "markdown",
      "metadata": {
        "id": "rH5QS8pZ5p_l"
      },
      "source": [
        "## Logits - Transformer Outputs"
      ]
    },
    {
      "cell_type": "markdown",
      "metadata": {
        "id": "G7jfYvI85p_m"
      },
      "source": [
        "**Goal:** Probability distribution over next tokens. (for every *prefix* of the sequence - given n tokens, we make n next token predictions)\n",
        "\n",
        "**Problem:** How to convert a vector to a probability distribution? \n",
        "\n",
        "**Answer:** Use a softmax ($x_i \\to \\frac{e^{x_i}}{\\sum e^{x_j}}$), exponential makes everything positive, normalization makes it add to one.\n",
        "\n",
        "So the model outputs a tensor of logits, one vector of size $d_{vocab}$ for each input token.\n",
        "\n",
        "We can use this to generate things!"
      ]
    },
    {
      "cell_type": "markdown",
      "metadata": {
        "id": "WY2cyHZV5p_m"
      },
      "source": [
        "## Generation!"
      ]
    },
    {
      "cell_type": "markdown",
      "metadata": {
        "id": "7-_vTfC45p_m"
      },
      "source": [
        "**Step 1:** Convert text to tokens\n",
        "\n",
        "Shape = batch x position"
      ]
    },
    {
      "cell_type": "code",
      "execution_count": null,
      "metadata": {
        "id": "2Y4uBbr25p_m",
        "outputId": "420bae4f-7c38-4c14-a473-9c2fa6ca0a38",
        "colab": {
          "base_uri": "https://localhost:8080/"
        }
      },
      "outputs": [
        {
          "output_type": "stream",
          "name": "stdout",
          "text": [
            "tensor([[50256,    40,   716,   281,  4998,  1960,   382, 19741,    11,   875,\n",
            "         12342,    12,  8807,    11,   402, 11571,    12,    17,  3918, 47385,\n",
            "            13,  1881,  1110,   314,   481,  7074,  1692,  1241,  4430,   290,\n",
            "          1011,   625,   262,   995,     0]])\n",
            "torch.Size([1, 35])\n",
            "['<|endoftext|>', 'I', ' am', ' an', ' amazing', ' aut', 'ore', 'gressive', ',', ' dec', 'oder', '-', 'only', ',', ' G', 'PT', '-', '2', ' style', ' transformer', '.', ' One', ' day', ' I', ' will', ' exceed', ' human', ' level', ' intelligence', ' and', ' take', ' over', ' the', ' world', '!']\n"
          ]
        }
      ],
      "source": [
        "reference_text = \"I am an amazing autoregressive, decoder-only, GPT-2 style transformer. One day I will exceed human level intelligence and take over the world!\"\n",
        "tokens = reference_gpt2.to_tokens(reference_text)\n",
        "print(tokens)\n",
        "print(tokens.shape)\n",
        "print(reference_gpt2.to_str_tokens(tokens))"
      ]
    },
    {
      "cell_type": "markdown",
      "metadata": {
        "id": "KrCgTimt5p_n"
      },
      "source": [
        "**Step 2:** Map tokens to logits\n",
        "\n",
        "(run_with_cache means cache all intermediate activations, not important right now)\n",
        "\n",
        "shape = batch x position x d_vocab"
      ]
    },
    {
      "cell_type": "code",
      "execution_count": null,
      "metadata": {
        "id": "NP5b3Op65p_n",
        "outputId": "1f81ed91-56f4-4be9-c90a-be9bd40b00d2",
        "colab": {
          "base_uri": "https://localhost:8080/"
        }
      },
      "outputs": [
        {
          "output_type": "stream",
          "name": "stdout",
          "text": [
            "torch.Size([1, 35, 50257])\n"
          ]
        }
      ],
      "source": [
        "tokens = tokens.cuda()\n",
        "logits, cache = reference_gpt2.run_with_cache(tokens)\n",
        "print(logits.shape)"
      ]
    },
    {
      "cell_type": "markdown",
      "metadata": {
        "id": "bSFKDEMp5p_n"
      },
      "source": [
        "**Step 3:** Convert the logits to a distribution with a softmax"
      ]
    },
    {
      "cell_type": "code",
      "execution_count": null,
      "metadata": {
        "id": "CdbgIQhB5p_o",
        "outputId": "f1a55247-3747-4e62-895b-92a6cd32e368",
        "colab": {
          "base_uri": "https://localhost:8080/"
        }
      },
      "outputs": [
        {
          "output_type": "stream",
          "name": "stdout",
          "text": [
            "torch.Size([1, 35, 50257])\n",
            "torch.Size([1, 35, 50257])\n"
          ]
        }
      ],
      "source": [
        "log_probs = logits.log_softmax(dim=-1)\n",
        "probs = logits.log_softmax(dim=-1)\n",
        "print(log_probs.shape)\n",
        "print(probs.shape)"
      ]
    },
    {
      "cell_type": "markdown",
      "metadata": {
        "id": "3CUwkTtI5p_o"
      },
      "source": [
        "**Bonus step:** What is the most likely next token at each position?"
      ]
    },
    {
      "cell_type": "code",
      "execution_count": null,
      "metadata": {
        "id": "RkPWxrSy5p_o",
        "outputId": "7e997cd0-c955-4953-fee2-2f95df600bd4",
        "colab": {
          "base_uri": "https://localhost:8080/"
        }
      },
      "outputs": [
        {
          "output_type": "execute_result",
          "data": {
            "text/plain": [
              "[('<|endoftext|>', '\\n'),\n",
              " ('I', \"'m\"),\n",
              " (' am', ' a'),\n",
              " (' an', ' avid'),\n",
              " (' amazing', ' person'),\n",
              " (' aut', 'od'),\n",
              " ('ore', 'sp'),\n",
              " ('gressive', '.'),\n",
              " (',', ' and'),\n",
              " (' dec', 'ently'),\n",
              " ('oder', ','),\n",
              " ('-', 'driven'),\n",
              " ('only', ' programmer'),\n",
              " (',', ' and'),\n",
              " (' G', 'IM'),\n",
              " ('PT', '-'),\n",
              " ('-', 'only'),\n",
              " ('2', '.'),\n",
              " (' style', ','),\n",
              " (' transformer', '.'),\n",
              " ('.', ' I'),\n",
              " (' One', ' of'),\n",
              " (' day', ' I'),\n",
              " (' I', ' will'),\n",
              " (' will', ' be'),\n",
              " (' exceed', ' my'),\n",
              " (' human', 'ly'),\n",
              " (' level', ' of'),\n",
              " (' intelligence', ' and'),\n",
              " (' and', ' I'),\n",
              " (' take', ' over'),\n",
              " (' over', ' the'),\n",
              " (' the', ' world'),\n",
              " (' world', '.'),\n",
              " ('!', ' I')]"
            ]
          },
          "metadata": {},
          "execution_count": 12
        }
      ],
      "source": [
        "list(zip(reference_gpt2.to_str_tokens(reference_text), reference_gpt2.tokenizer.batch_decode(logits.argmax(dim=-1)[0])))"
      ]
    },
    {
      "cell_type": "markdown",
      "metadata": {
        "id": "4p8BBCLr5p_o"
      },
      "source": [
        "**Step 4:** Map distribution to a token"
      ]
    },
    {
      "cell_type": "code",
      "execution_count": null,
      "metadata": {
        "id": "oL1onTUM5p_p",
        "outputId": "4050995b-0981-4fd0-b030-951a389e172f",
        "colab": {
          "base_uri": "https://localhost:8080/"
        }
      },
      "outputs": [
        {
          "output_type": "stream",
          "name": "stdout",
          "text": [
            "tensor(314, device='cuda:0')\n"
          ]
        }
      ],
      "source": [
        "next_token = logits[0, -1].argmax(dim=-1)\n",
        "print(next_token)"
      ]
    },
    {
      "cell_type": "markdown",
      "metadata": {
        "id": "F6BtdSZc5p_p"
      },
      "source": [
        "**Step 5:** Add this to the end of the input, re-run\n",
        "\n",
        "(More efficient ways to do this, but whatever, doesn't matter conceptually)"
      ]
    },
    {
      "cell_type": "code",
      "execution_count": null,
      "metadata": {
        "id": "W7u5qONl5p_p",
        "outputId": "c1da16f7-84ed-4c5f-8763-7204c8a28549",
        "colab": {
          "base_uri": "https://localhost:8080/"
        }
      },
      "outputs": [
        {
          "output_type": "stream",
          "name": "stdout",
          "text": [
            "New Input: tensor([[50256,    40,   716,   281,  4998,  1960,   382, 19741,    11,   875,\n",
            "         12342,    12,  8807,    11,   402, 11571,    12,    17,  3918, 47385,\n",
            "            13,  1881,  1110,   314,   481,  7074,  1692,  1241,  4430,   290,\n",
            "          1011,   625,   262,   995,     0,   314]], device='cuda:0')\n",
            "torch.Size([1, 36])\n",
            "New Input: <|endoftext|>I am an amazing autoregressive, decoder-only, GPT-2 style transformer. One day I will exceed human level intelligence and take over the world! I\n",
            "torch.Size([1, 36, 50257])\n",
            "tensor(716, device='cuda:0')\n",
            " am\n"
          ]
        },
        {
          "output_type": "stream",
          "name": "stderr",
          "text": [
            "<ipython-input-14-d982d3e85e6a>:1: UserWarning: To copy construct from a tensor, it is recommended to use sourceTensor.clone().detach() or sourceTensor.clone().detach().requires_grad_(True), rather than torch.tensor(sourceTensor).\n",
            "  next_tokens = torch.cat([tokens, torch.tensor(next_token, device='cuda', dtype=torch.int64)[None, None]], dim=-1)\n"
          ]
        }
      ],
      "source": [
        "next_tokens = torch.cat([tokens, torch.tensor(next_token, device='cuda', dtype=torch.int64)[None, None]], dim=-1)\n",
        "new_logits = reference_gpt2(next_tokens)\n",
        "print(\"New Input:\", next_tokens)\n",
        "print(next_tokens.shape)\n",
        "print(\"New Input:\", reference_gpt2.tokenizer.decode(next_tokens[0]))\n",
        "\n",
        "print(new_logits.shape)\n",
        "print(new_logits[-1, -1].argmax(-1))\n",
        "\n",
        "print(reference_gpt2.tokenizer.decode(new_logits[-1, -1].argmax(-1)))\n"
      ]
    },
    {
      "cell_type": "markdown",
      "metadata": {
        "id": "OI94qYpi5p_q"
      },
      "source": [
        "## Key takeaways:\n",
        "\n",
        "* Takes in language, predicts next token (for *each* token in a causal way)\n",
        "* We convert language to a sequence of integers with a tokenizer.\n",
        "* We convert integers to vectors with a lookup table.\n",
        "\n",
        "* Output is a vector of logits (one for each input token), we convert to a probability distn with a softmax, and can then convert this to a token (eg taking the largest logit, or sampling).\n",
        "\n",
        "* We append this to the input + run again to generate more text (Jargon: *autoregressive*)\n",
        "\n",
        "* Meta level point: Transformers are sequence operation models, they take in a sequence, do processing in parallel at each position, and use attention to move information between positions!"
      ]
    },
    {
      "cell_type": "markdown",
      "metadata": {
        "id": "DBNspRxo5p_q"
      },
      "source": [
        "# Clean Transformer Implementation"
      ]
    },
    {
      "cell_type": "markdown",
      "metadata": {
        "id": "Ite4XeEE5p_r"
      },
      "source": [
        "![](https://github.com/neelnanda-io/Easy-Transformer/blob/clean-transformer-demo/transformer_overview.png?raw=1)"
      ]
    },
    {
      "cell_type": "markdown",
      "metadata": {
        "id": "xGClsxNc5p_r"
      },
      "source": [
        "High-Level architecture:\n",
        "\n",
        "Go watch my [Transformer Circuits walkthrough](https://www.youtube.com/watch?v=KV5gbOmHbjU) if you want more intuitions!\n",
        "\n",
        "(Diagram is bottom to top)\n",
        "\n",
        "* Input tokens, integers\n",
        "* Embedding is a lookup table mapping tokens to vectors\n",
        "    * Lives in the *residual stream*\n",
        "* Residual stream - the sum of all previous outputs of layers of the model, is the input to each new layer.\n",
        "    * *Really* fundamental. It's the central object of the transformer.\n",
        "        * It's how model remembers things, moves information between layers for composition, and it's the medium used to store the information that attention moves between positions.\n",
        "* Then we have a series of $n_{layers}$ transformer blocks\n",
        "    * Confusing jargon - a block contains an attention layer *and* an MLP layer, but we say a transformer has k layers if it has k blocks (ie 2k total layers).\n",
        "* First we have attention. This moves information from prior positions in the sequence to the current token. \n",
        "    * We do this for *every* token in parallel using the same parameters. The only difference is that we look backwards only, so later tokens get more room to look back.\n",
        "        * We look backwards so we can predict the next token without cheating.\n",
        "    * Only bit of a transformer that moves information between positions.\n",
        "    * Made up of $n_heads$ heads - each with their own parameters, own attention pattern, and own information how to copy things from source to destination.\n",
        "        * The heads act independently and additively, we just add their outputs together, and back to the stream\n",
        "    * Each head:\n",
        "        * Produces an attention pattern for each destination token, a probability distribution of prior source tokens (including the current one) weighting how much information to copy.\n",
        "            * Do this for each pair of tokens\n",
        "            * Copy information in the same way from each source token.\n",
        "                * What information we copy *does* depend on the source token's *residual stream*. This does not necessarily mean the info of what text token is at the source token's position\n",
        "                * Copy = apply a linear map.\n",
        "        * Fundamental point: Figuring out *which* source tokens to copy info from is a separate circuit from figuring out *how* to copy that information.\n",
        "        * Internal head dimension of $d_{head} = \\frac{d_{model}}{n_{heads}}\n",
        "* MLP Layers - standard neural network. Single hidden layer, linear map -> GELU activation -> linear map\n",
        "    * Exact activation not conceptually important.\n",
        "    * Middle dimension normally $d_{mlp} = 4 \\times d_{model}$\n",
        "        * Exactly why the ratios are what they are isn't super important - doesn't matter that much, people basically cargo-cult GPT did.\n",
        "    * Intuition - once attention has moved relevant information to a single position in the residual stream, MLPs can actually do computation, reasoning, lookup information, etc.\n",
        "        * Big open problem in transformer mechanistic interpretability is what is going on inside MLPs?! See [Toy Model of Superposition Paper](https://transformer-circuits.pub/2022/toy_model/index.html) for more on why this is hard.\n",
        "        * Underlying intuition - linear map -> non-linearity -> linear map is the most powerful force in the universe and can approximate arbitrary functions. Idk man it just works\n",
        "* Finally, we unembed!\n",
        "    * Apply a linear map, going from final residual stream to a vector of logits - this is the output.\n"
      ]
    },
    {
      "cell_type": "markdown",
      "metadata": {
        "id": "lV5jdBPI5p_s"
      },
      "source": [
        "### Bonus things - less conceptually important but key technical details\n",
        "* LayerNorm\n",
        "    * Simple normalization function applied at the start of each layer - MLP, Attn and Unembed\n",
        "    * Converts each input vector (independently in parallel for each batch x position residual stream vector) to have mean zero and variance 1.\n",
        "    * Then applies an elementwise scaling and translation\n",
        "    * Cool maths tangent: The scale & translate is just a linear map. LayerNorm is only applied immediately before another linear map. Linear compose linear = linear, so we can just fold this into a single effective linear layer and ignore it.\n",
        "        * `fold_ln=True` flag in `from_pretrained` does this for you.\n",
        "    * LayerNorm is super fucking annoying, because the scale part is not linear, so you can't think about different bits of the input independently. But it's *almost* linear - if you're changing a small part of the input it's linear, but if you're changing enough to alter the norm substantially it's not linear :(\n",
        "* Positional Information\n",
        "    * This is totally fucked and messy, sorry!\n",
        "    * **Problem:** Attention operates over all pairs of positions. This means it's symmetric with regards to position - the attention calculation from token 5 to token 1 and token 5 to token 2 are the same by default\n",
        "        * This is dumb because nearby tokens are more relevant.\n",
        "    * There's a lot of dumb hacks for this.\n",
        "    * We'll focus on **learned, absolute positional embeddings**. This means we learn a lookup table mapping the index of the position of each token to a residual stream vector, and add this to the embed.\n",
        "        * Note that we *add* rather than concatenate. This is because the residual stream is shared memory, and likely under significant superposition (the model compresses more features in there than the model has dimensions)\n",
        "        * We basically never concatenate inside a transformer, unless doing weird shit like generating text efficiently."
      ]
    },
    {
      "cell_type": "markdown",
      "metadata": {
        "id": "Mia0NHuo5p_s"
      },
      "source": [
        "# Actual Code!"
      ]
    },
    {
      "cell_type": "markdown",
      "metadata": {
        "id": "0JYc7jrp5p_s"
      },
      "source": [
        "## Print All Activation Shapes of Reference Model"
      ]
    },
    {
      "cell_type": "markdown",
      "source": [
        "Key:\n",
        "\n",
        "batch = 1 # batch size (number of sentences?)\n",
        "\n",
        "position = 35 # Number of tokens in input / n_ctx?\n",
        "\n",
        "d_model = 768\n",
        "\n",
        "n_heads = 12\n",
        "\n",
        "n_layers = 12\n",
        "\n",
        "d_mlp = 3072 (4 * d_model)\n",
        "\n",
        "d_head = 64 (d_model / n_heads)"
      ],
      "metadata": {
        "id": "hcHkCEcHLsLf"
      }
    },
    {
      "cell_type": "code",
      "source": [
        "for activation_name, activation in cache.cache_dict.items():\n",
        "  if \".0.\" in activation_name or \"blocks\" not in activation_name:\n",
        "    print(f\"{activation_name}: {activation.shape}\")"
      ],
      "metadata": {
        "colab": {
          "base_uri": "https://localhost:8080/"
        },
        "id": "LNuopdoTHmX-",
        "outputId": "afcd6f7e-f66c-4ca1-ed1b-2c9a52fdf790"
      },
      "execution_count": null,
      "outputs": [
        {
          "output_type": "stream",
          "name": "stdout",
          "text": [
            "hook_embed: torch.Size([1, 35, 768])\n",
            "hook_pos_embed: torch.Size([1, 35, 768])\n",
            "blocks.0.hook_resid_pre: torch.Size([1, 35, 768])\n",
            "blocks.0.ln1.hook_scale: torch.Size([1, 35, 1])\n",
            "blocks.0.ln1.hook_normalized: torch.Size([1, 35, 768])\n",
            "blocks.0.attn.hook_q: torch.Size([1, 35, 12, 64])\n",
            "blocks.0.attn.hook_k: torch.Size([1, 35, 12, 64])\n",
            "blocks.0.attn.hook_v: torch.Size([1, 35, 12, 64])\n",
            "blocks.0.attn.hook_attn_scores: torch.Size([1, 12, 35, 35])\n",
            "blocks.0.attn.hook_attn: torch.Size([1, 12, 35, 35])\n",
            "blocks.0.attn.hook_z: torch.Size([1, 35, 12, 64])\n",
            "blocks.0.hook_attn_out: torch.Size([1, 35, 768])\n",
            "blocks.0.hook_resid_mid: torch.Size([1, 35, 768])\n",
            "blocks.0.ln2.hook_scale: torch.Size([1, 35, 1])\n",
            "blocks.0.ln2.hook_normalized: torch.Size([1, 35, 768])\n",
            "blocks.0.mlp.hook_pre: torch.Size([1, 35, 3072])\n",
            "blocks.0.mlp.hook_post: torch.Size([1, 35, 3072])\n",
            "blocks.0.hook_mlp_out: torch.Size([1, 35, 768])\n",
            "blocks.0.hook_resid_post: torch.Size([1, 35, 768])\n",
            "ln_final.hook_scale: torch.Size([1, 35, 1])\n",
            "ln_final.hook_normalized: torch.Size([1, 35, 768])\n"
          ]
        }
      ]
    },
    {
      "cell_type": "markdown",
      "metadata": {
        "id": "ivW9hzyG5p_t"
      },
      "source": [
        "## Print All Parameters Shapes of Reference Model"
      ]
    },
    {
      "cell_type": "code",
      "source": [
        "for name, param in reference_gpt2.named_parameters():\n",
        "  if \".0.\" in name or \"blocks\" not in name:\n",
        "    print(f\"{name}: {param.shape}\")"
      ],
      "metadata": {
        "colab": {
          "base_uri": "https://localhost:8080/"
        },
        "id": "io7oYg7EdyKP",
        "outputId": "28e91f19-2185-4039-9aba-06b32415c974"
      },
      "execution_count": null,
      "outputs": [
        {
          "output_type": "stream",
          "name": "stdout",
          "text": [
            "embed.W_E: torch.Size([50257, 768])\n",
            "pos_embed.W_pos: torch.Size([1024, 768])\n",
            "blocks.0.ln1.w: torch.Size([768])\n",
            "blocks.0.ln1.b: torch.Size([768])\n",
            "blocks.0.ln2.w: torch.Size([768])\n",
            "blocks.0.ln2.b: torch.Size([768])\n",
            "blocks.0.attn.W_Q: torch.Size([12, 768, 64])\n",
            "blocks.0.attn.W_K: torch.Size([12, 768, 64])\n",
            "blocks.0.attn.W_V: torch.Size([12, 768, 64])\n",
            "blocks.0.attn.W_O: torch.Size([12, 64, 768])\n",
            "blocks.0.attn.b_Q: torch.Size([12, 64])\n",
            "blocks.0.attn.b_K: torch.Size([12, 64])\n",
            "blocks.0.attn.b_V: torch.Size([12, 64])\n",
            "blocks.0.attn.b_O: torch.Size([768])\n",
            "blocks.0.mlp.W_in: torch.Size([768, 3072])\n",
            "blocks.0.mlp.b_in: torch.Size([3072])\n",
            "blocks.0.mlp.W_out: torch.Size([3072, 768])\n",
            "blocks.0.mlp.b_out: torch.Size([768])\n",
            "ln_final.w: torch.Size([768])\n",
            "ln_final.b: torch.Size([768])\n",
            "unembed.W_U: torch.Size([768, 50257])\n",
            "unembed.b_U: torch.Size([50257])\n"
          ]
        }
      ]
    },
    {
      "cell_type": "markdown",
      "metadata": {
        "id": "mWH_kach5p_u"
      },
      "source": [
        "## Config"
      ]
    },
    {
      "cell_type": "code",
      "source": [
        "print(reference_gpt2.cfg)"
      ],
      "metadata": {
        "colab": {
          "base_uri": "https://localhost:8080/"
        },
        "id": "Wz85QMIke3lH",
        "outputId": "69ac47bc-ac93-4b7d-92f3-8db049280370"
      },
      "execution_count": null,
      "outputs": [
        {
          "output_type": "stream",
          "name": "stdout",
          "text": [
            "EasyTransformerConfig(n_layers=12, d_model=768, n_ctx=1024, d_head=64, model_name='gpt2-small', n_heads=12, d_mlp=3072, act_fn='gelu_new', d_vocab=50257, eps=1e-05, use_attn_result=False, use_attn_scale=True, use_local_attn=False, model_family='gpt2', checkpoint=None, tokenizer_name='gpt2', window_size=None, attn_types=None, init_mode='gpt2', normalization_type='LN', device='cuda', attention_dir='causal', attn_only=False, seed=42, initializer_range=0.02886751345948129, init_weights=False, scale_attn_by_inverse_layer_idx=False, positional_embedding_type='standard', final_rms=False, d_vocab_out=50257, parallel_attn_mlp=False, rotary_dim=64, dtype=torch.float32)\n"
          ]
        }
      ]
    },
    {
      "cell_type": "markdown",
      "metadata": {
        "id": "SKVDE8R35p_u"
      },
      "source": [
        "We define a stripped down config for our model"
      ]
    },
    {
      "cell_type": "code",
      "source": [
        "@dataclass\n",
        "class Config:\n",
        "  d_model: int = 768\n",
        "  debug: bool = True\n",
        "  layer_norm_eps: float = 1e-5\n",
        "  d_vocab: int = 50257\n",
        "  init_range: float = 0.02\n",
        "  n_ctx: int = 1024\n",
        "  d_head: int = 64\n",
        "  d_mlp: int = 3072\n",
        "  n_heads: int = 12\n",
        "  n_layers: int = 12\n",
        "  \n",
        "cfg = Config()\n",
        "print(cfg)"
      ],
      "metadata": {
        "id": "9TpapHu8Rhpw",
        "colab": {
          "base_uri": "https://localhost:8080/"
        },
        "outputId": "aefe2ddb-89bc-46cb-a20b-93082a5c3425"
      },
      "execution_count": null,
      "outputs": [
        {
          "output_type": "stream",
          "name": "stdout",
          "text": [
            "Config(d_model=768, debug=True, layer_norm_eps=1e-05, d_vocab=50257, init_range=0.02, n_ctx=1024, d_head=64, d_mlp=3072, n_heads=12, n_layers=12)\n"
          ]
        }
      ]
    },
    {
      "cell_type": "markdown",
      "metadata": {
        "id": "bRXsHngH5p_v"
      },
      "source": [
        "## Tests"
      ]
    },
    {
      "cell_type": "markdown",
      "metadata": {
        "id": "sVm1Wi0d5p_v"
      },
      "source": [
        "Tests are great, write lightweight ones to use as you go!\n",
        "\n",
        "**Naive test:** Generate random inputs of the right shape, input to your model, check whether there's an error and print the correct output."
      ]
    },
    {
      "cell_type": "code",
      "source": [
        "def rand_float_test(cls,shape):\n",
        "  cfg = Config(debug=True)\n",
        "  layer = cls(cfg).cuda()\n",
        "  random_input = torch.randn(shape).cuda()\n",
        "  print(f\"Input shape: {random_input.shape}\")\n",
        "  output = layer(random_input)\n",
        "  print(f\"Output shape: {output.shape}\")\n",
        "  return output\n",
        "\n",
        "def rand_int_test(cls,shape):\n",
        "  cfg = Config(debug=True)\n",
        "  layer = cls(cfg).cuda()\n",
        "  random_input = torch.randint(100,1000,shape).cuda()\n",
        "  print(f\"Input shape: {random_input.shape}\")\n",
        "  output = layer(random_input)\n",
        "  print(f\"Output shape: {output.shape}\")\n",
        "  return output\n",
        "\n",
        "def load_gpt2_test(cls,gpt2_layer,input_name,cache=cache):\n",
        "  cfg = Config(debug=True)\n",
        "  layer = cls(cfg).cuda()\n",
        "  layer.load_state_dict(gpt2_layer.state_dict(), strict=False)\n",
        "  \n",
        "  if isinstance(input_name,str):\n",
        "    reference_input = cache[input_name] # On cuda by default, since reference_gpt2 is moved there when loaded by EasyTransformer?\n",
        "  else:\n",
        "    reference_input = input_name\n",
        "\n",
        "  print(f\"Input shape: {reference_input.shape}\")\n",
        "  output = layer(reference_input)\n",
        "  print(f\"Output shape: {output.shape}\")\n",
        "  \n",
        "  reference_output = gpt2_layer(reference_input)\n",
        "  print(f\"Reference output shape: {reference_output.shape}\")\n",
        "\n",
        "  comparison = torch.isclose(output,reference_output,atol=1e-4,rtol=1e-3)\n",
        "  print(f\"{comparison.sum()/comparison.numel():.2%} of the values are correct.\")\n",
        "\n",
        "  print(get_corner(output))\n",
        "  \n",
        "  return output"
      ],
      "metadata": {
        "id": "nqe1i2uxTkXl"
      },
      "execution_count": null,
      "outputs": []
    },
    {
      "cell_type": "code",
      "source": [
        "# See the options for gpt2_layer and input_name that can be passed into load_gpt2_test\n",
        "print(\"cache keys:\")\n",
        "for key in cache.keys(): \n",
        "  if \".0.\" in key or not \"blocks\" in key:\n",
        "    print(key)\n",
        "\n",
        "print(\"\\nGPT2 state_dict keys:\")\n",
        "for key in reference_gpt2.state_dict().keys(): \n",
        "  if \".0.\" in key or not \"blocks\" in key:\n",
        "    print(key)"
      ],
      "metadata": {
        "colab": {
          "base_uri": "https://localhost:8080/"
        },
        "id": "n82GdSv4Q0PU",
        "outputId": "ef290613-3998-4461-8197-d76a05cc2cb9"
      },
      "execution_count": null,
      "outputs": [
        {
          "output_type": "stream",
          "name": "stdout",
          "text": [
            "cache keys:\n",
            "hook_embed\n",
            "hook_pos_embed\n",
            "blocks.0.hook_resid_pre\n",
            "blocks.0.ln1.hook_scale\n",
            "blocks.0.ln1.hook_normalized\n",
            "blocks.0.attn.hook_q\n",
            "blocks.0.attn.hook_k\n",
            "blocks.0.attn.hook_v\n",
            "blocks.0.attn.hook_attn_scores\n",
            "blocks.0.attn.hook_attn\n",
            "blocks.0.attn.hook_z\n",
            "blocks.0.hook_attn_out\n",
            "blocks.0.hook_resid_mid\n",
            "blocks.0.ln2.hook_scale\n",
            "blocks.0.ln2.hook_normalized\n",
            "blocks.0.mlp.hook_pre\n",
            "blocks.0.mlp.hook_post\n",
            "blocks.0.hook_mlp_out\n",
            "blocks.0.hook_resid_post\n",
            "ln_final.hook_scale\n",
            "ln_final.hook_normalized\n",
            "\n",
            "GPT2 state_dict keys:\n",
            "embed.W_E\n",
            "pos_embed.W_pos\n",
            "blocks.0.ln1.w\n",
            "blocks.0.ln1.b\n",
            "blocks.0.ln2.w\n",
            "blocks.0.ln2.b\n",
            "blocks.0.attn.W_Q\n",
            "blocks.0.attn.W_K\n",
            "blocks.0.attn.W_V\n",
            "blocks.0.attn.W_O\n",
            "blocks.0.attn.b_Q\n",
            "blocks.0.attn.b_K\n",
            "blocks.0.attn.b_V\n",
            "blocks.0.attn.b_O\n",
            "blocks.0.attn.mask\n",
            "blocks.0.attn.IGNORE\n",
            "blocks.0.mlp.W_in\n",
            "blocks.0.mlp.b_in\n",
            "blocks.0.mlp.W_out\n",
            "blocks.0.mlp.b_out\n",
            "ln_final.w\n",
            "ln_final.b\n",
            "unembed.W_U\n",
            "unembed.b_U\n"
          ]
        }
      ]
    },
    {
      "cell_type": "markdown",
      "metadata": {
        "id": "F7c6TcRJ5p_v"
      },
      "source": [
        "## LayerNorm"
      ]
    },
    {
      "cell_type": "markdown",
      "metadata": {
        "id": "ZZufWJ3n5p_v"
      },
      "source": [
        "Make mean 0\n",
        "\n",
        "Normalize to have variance 1\n",
        "\n",
        "Scale with learned weights\n",
        "\n",
        "Translate with learned bias"
      ]
    },
    {
      "cell_type": "code",
      "source": [
        "class LayerNorm(nn.Module):\n",
        "  def __init__(self,cfg):\n",
        "    super().__init__()\n",
        "    self.cfg=cfg\n",
        "    self.w = nn.Parameter(torch.ones(cfg.d_model))\n",
        "    self.b = nn.Parameter(torch.zeros(cfg.d_model))\n",
        "\n",
        "  def forward(self, residual):\n",
        "    # residual: [batch, position, d_model]\n",
        "    if self.cfg.debug: print(f\"Residual shape = {residual.shape}\")\n",
        "    \n",
        "    residual = residual - einops.reduce(residual, \"batch position d_model -> batch position 1\", \"mean\") \n",
        "    # For each element of a batch and each position, find the mean value of the residual across all (768) dimensions. \n",
        "    # Substract this mean from each of the 768 values in the original residual.\n",
        "\n",
        "    scale = (einops.reduce(residual.pow(2), \"batch position d_model -> batch position 1\", \"mean\")+cfg.layer_norm_eps).sqrt()\n",
        "    # I think \"var\" is wrong and \"mean\" is right?\n",
        "\n",
        "    normalized = residual/scale\n",
        "    normalized = normalized * self.w + self.b\n",
        "    if self.cfg.debug: print(f\"Normalized residual shape: {normalized.shape}\")\n",
        "    return normalized"
      ],
      "metadata": {
        "id": "vysNF-0sRYB8"
      },
      "execution_count": null,
      "outputs": []
    },
    {
      "cell_type": "code",
      "source": [
        "_ = rand_float_test(LayerNorm,[2,4,768])"
      ],
      "metadata": {
        "colab": {
          "base_uri": "https://localhost:8080/"
        },
        "id": "FMRdK02YVV9u",
        "outputId": "a82553dc-7f42-4c76-bdb8-fc87138b5233"
      },
      "execution_count": null,
      "outputs": [
        {
          "output_type": "stream",
          "name": "stdout",
          "text": [
            "Input shape: torch.Size([2, 4, 768])\n",
            "Residual shape = torch.Size([2, 4, 768])\n",
            "Normalized residual shape: torch.Size([2, 4, 768])\n",
            "Output shape: torch.Size([2, 4, 768])\n"
          ]
        }
      ]
    },
    {
      "cell_type": "code",
      "source": [
        "_ = load_gpt2_test(LayerNorm,reference_gpt2.ln_final,\"blocks.0.hook_resid_post\")"
      ],
      "metadata": {
        "colab": {
          "base_uri": "https://localhost:8080/"
        },
        "id": "CnizuGx5V1uH",
        "outputId": "9cbb7cd9-dbc9-4b32-dda0-136664bd4e36"
      },
      "execution_count": null,
      "outputs": [
        {
          "output_type": "stream",
          "name": "stdout",
          "text": [
            "Input shape: torch.Size([1, 35, 768])\n",
            "Residual shape = torch.Size([1, 35, 768])\n",
            "Normalized residual shape: torch.Size([1, 35, 768])\n",
            "Output shape: torch.Size([1, 35, 768])\n",
            "Reference output shape: torch.Size([1, 35, 768])\n",
            "100.00% of the values are correct.\n",
            "tensor([[[ 0.0735,  0.0532,  0.0968],\n",
            "         [-0.6666, -0.0152,  0.1211],\n",
            "         [-0.6582, -1.6010, -1.4360]]], device='cuda:0',\n",
            "       grad_fn=<SliceBackward0>)\n"
          ]
        }
      ]
    },
    {
      "cell_type": "code",
      "source": [
        "x = np.random.randn(3, 2)\n",
        "\n",
        "y = einops.reduce(x, 'b c -> c', 'max')\n",
        "z = einops.reduce(x, 'b c -> c', 'mean')\n",
        "y2 = einops.reduce(x, 'b c -> b', 'max')\n",
        "z2 = einops.reduce(x, 'b c -> b', 'mean')\n",
        "print(x)\n",
        "print(y)\n",
        "print(z)\n",
        "print(y2)\n",
        "print(z2)"
      ],
      "metadata": {
        "colab": {
          "base_uri": "https://localhost:8080/"
        },
        "id": "5Tj2Sq0WTJmA",
        "outputId": "eb5bba78-10eb-42c0-99c3-fcab389f50e8"
      },
      "execution_count": null,
      "outputs": [
        {
          "output_type": "stream",
          "name": "stdout",
          "text": [
            "[[ 0.49671415 -0.1382643 ]\n",
            " [ 0.64768854  1.52302986]\n",
            " [-0.23415337 -0.23413696]]\n",
            "[0.64768854 1.52302986]\n",
            "[0.30341644 0.38354287]\n",
            "[ 0.49671415  1.52302986 -0.23413696]\n",
            "[ 0.17922493  1.0853592  -0.23414517]\n"
          ]
        }
      ]
    },
    {
      "cell_type": "markdown",
      "metadata": {
        "id": "aVTuTase5p_w"
      },
      "source": [
        "## Embedding"
      ]
    },
    {
      "cell_type": "markdown",
      "metadata": {
        "id": "FhQAsYfZ5p_w"
      },
      "source": [
        "Basically a lookup table from tokens to residual stream vectors."
      ]
    },
    {
      "cell_type": "code",
      "source": [
        "class Embed(nn.Module):\n",
        "  def __init__(self,cfg):\n",
        "    super().__init__()\n",
        "    self.cfg = cfg\n",
        "    self.W_E = nn.Parameter(torch.empty(cfg.d_vocab,cfg.d_model)) # d_vocab: tokens to look up. d_model: looked up vector.\n",
        "    nn.init.normal_(self.W_E,std=self.cfg.init_range)\n",
        "\n",
        "  def forward(self,tokens):\n",
        "    # tokens: [batch,position]\n",
        "    if self.cfg.debug: print(f\"Tokens: {tokens.shape}\")\n",
        "    embed = self.W_E[tokens, :] # [batch, position, d_model]\n",
        "    if self.cfg.debug: print(f\"Embedding: {embed.shape}\")\n",
        "    return embed"
      ],
      "metadata": {
        "id": "WNTCTlYlc-Bl"
      },
      "execution_count": null,
      "outputs": []
    },
    {
      "cell_type": "code",
      "source": [
        "_ = rand_int_test(Embed,[2,4])"
      ],
      "metadata": {
        "colab": {
          "base_uri": "https://localhost:8080/"
        },
        "id": "hEhFO9kTjO8r",
        "outputId": "01b4509c-645f-496d-f4d5-7f7f900687a7"
      },
      "execution_count": null,
      "outputs": [
        {
          "output_type": "stream",
          "name": "stdout",
          "text": [
            "Input shape: torch.Size([2, 4])\n",
            "Tokens: torch.Size([2, 4])\n",
            "Embedding: torch.Size([2, 4, 768])\n",
            "Output shape: torch.Size([2, 4, 768])\n"
          ]
        }
      ]
    },
    {
      "cell_type": "code",
      "source": [
        "_ = load_gpt2_test(Embed,reference_gpt2.embed,tokens)"
      ],
      "metadata": {
        "colab": {
          "base_uri": "https://localhost:8080/"
        },
        "id": "-EgghHd8qSTB",
        "outputId": "691050e8-ba53-4cfb-ca06-b906a998f323"
      },
      "execution_count": null,
      "outputs": [
        {
          "output_type": "stream",
          "name": "stdout",
          "text": [
            "Input shape: torch.Size([1, 35])\n",
            "Tokens: torch.Size([1, 35])\n",
            "Embedding: torch.Size([1, 35, 768])\n",
            "Output shape: torch.Size([1, 35, 768])\n",
            "Reference output shape: torch.Size([1, 35, 768])\n",
            "100.00% of the values are correct.\n",
            "tensor([[[ 0.0514, -0.0277,  0.0499],\n",
            "         [ 0.1474, -0.0959,  0.1430],\n",
            "         [ 0.1596, -0.1249,  0.1148]]], device='cuda:0',\n",
            "       grad_fn=<SliceBackward0>)\n"
          ]
        }
      ]
    },
    {
      "cell_type": "markdown",
      "metadata": {
        "id": "fBaty2nW5p_x"
      },
      "source": [
        "## Positional Embedding"
      ]
    },
    {
      "cell_type": "code",
      "source": [
        "class PosEmbed(nn.Module):\n",
        "  def __init__(self,cfg):\n",
        "    super().__init__()\n",
        "    self.cfg = cfg\n",
        "    self.W_pos = nn.Parameter(torch.empty(cfg.n_ctx,cfg.d_model))\n",
        "    nn.init.normal_(self.W_pos,std=self.cfg.init_range)\n",
        "\n",
        "  def forward(self,tokens):\n",
        "    if self.cfg.debug: print(f\"Tokens: {tokens.shape}\")\n",
        "    pos_embed = self.W_pos[:tokens.size(1),:] # TODO understand this\n",
        "    if self.cfg.debug: print(f\"Pre-repeat pos_embed: {pos_embed.shape}\")\n",
        "    pos_embed = einops.repeat(pos_embed,\"position d_model -> batch position d_model\", batch=tokens.size(0)) # TODO understand this\n",
        "    if self.cfg.debug: print(f\"Post-repeat pos_embed: {pos_embed.shape}\")\n",
        "    return pos_embed"
      ],
      "metadata": {
        "id": "EYhsTGe7Ana4"
      },
      "execution_count": null,
      "outputs": []
    },
    {
      "cell_type": "code",
      "source": [
        "rand_int_test(PosEmbed,[2,4])\n",
        "print()\n",
        "load_gpt2_test(PosEmbed,reference_gpt2.pos_embed,tokens)"
      ],
      "metadata": {
        "colab": {
          "base_uri": "https://localhost:8080/"
        },
        "id": "vFmADXiOG8P0",
        "outputId": "f07ff376-029a-473a-ad73-0c06f7d2093c"
      },
      "execution_count": null,
      "outputs": [
        {
          "output_type": "stream",
          "name": "stdout",
          "text": [
            "Input shape: torch.Size([2, 4])\n",
            "Tokens: torch.Size([2, 4])\n",
            "Pre-repeat pos_embed: torch.Size([4, 768])\n",
            "Post-repeat pos_embed: torch.Size([2, 4, 768])\n",
            "Output shape: torch.Size([2, 4, 768])\n",
            "\n",
            "Input shape: torch.Size([1, 35])\n",
            "Tokens: torch.Size([1, 35])\n",
            "Pre-repeat pos_embed: torch.Size([35, 768])\n",
            "Post-repeat pos_embed: torch.Size([1, 35, 768])\n",
            "Output shape: torch.Size([1, 35, 768])\n",
            "Reference output shape: torch.Size([1, 35, 768])\n",
            "100.00% of the values are correct.\n",
            "tensor([[[-0.0188, -0.1974,  0.0040],\n",
            "         [ 0.0240, -0.0538, -0.0949],\n",
            "         [ 0.0042, -0.0848,  0.0545]]], device='cuda:0',\n",
            "       grad_fn=<SliceBackward0>)\n"
          ]
        },
        {
          "output_type": "execute_result",
          "data": {
            "text/plain": [
              "tensor([[[-1.8821e-02, -1.9742e-01,  4.0267e-03,  ..., -4.3044e-02,\n",
              "           2.8267e-02,  5.4490e-02],\n",
              "         [ 2.3959e-02, -5.3792e-02, -9.4879e-02,  ...,  3.4170e-02,\n",
              "           1.0172e-02, -1.5573e-04],\n",
              "         [ 4.2161e-03, -8.4764e-02,  5.4515e-02,  ...,  1.9745e-02,\n",
              "           1.9325e-02, -2.1424e-02],\n",
              "         ...,\n",
              "         [ 4.6277e-04,  2.3037e-02,  4.1227e-02,  ..., -1.9287e-03,\n",
              "          -2.3037e-03, -4.3189e-03],\n",
              "         [-2.7136e-03,  2.1724e-02,  3.9675e-02,  ...,  4.2048e-04,\n",
              "          -4.8160e-03, -9.2252e-04],\n",
              "         [ 6.6815e-03,  2.0595e-02,  3.6596e-02,  ..., -9.5090e-04,\n",
              "          -3.2512e-03, -9.6509e-04]]], device='cuda:0',\n",
              "       grad_fn=<ReshapeAliasBackward0>)"
            ]
          },
          "metadata": {},
          "execution_count": 29
        }
      ]
    },
    {
      "cell_type": "markdown",
      "metadata": {
        "id": "vLhTE-QX5p_1"
      },
      "source": [
        "## Attention"
      ]
    },
    {
      "cell_type": "markdown",
      "metadata": {
        "id": "869sEJKH5p_1"
      },
      "source": [
        "* **Step 1:** Produce an attention pattern - for each destination token, probability distribution over previous tokens (incl current token)\n",
        "    * Linear map from input -> query, key shape [batch, position, head_index, d_head]\n",
        "    * Dot product every *pair* of queries and keys to get attn_scores [batch, head_index, query_pos, key_pos] (query = dest, key = source)\n",
        "    * Scale and mask attn_scores to make it lower triangular, ie causal\n",
        "    * softmax row-wise, to get a probability distribution along each the key_pos dimension - this is our attention pattern!\n",
        "* **Step 2:** Move information from source tokens to destination token using attention pattern (move = apply linear map)\n",
        "    * Linear map from input -> value [batch, key_pos, head_index, d_head]\n",
        "    * Mix along the key_pos with attn pattern to get z, a mixed value [batch, query_pos, head_index, d_head]\n",
        "    * Map to output, [batch, position, d_model] (position = query_pos, we've summed over all heads)"
      ]
    },
    {
      "cell_type": "markdown",
      "metadata": {
        "id": "-Bu12-i25p_2"
      },
      "source": [
        "First, it's useful to visualize and play around with attention patterns - what exactly are we looking at here? (Click on a head to lock onto just showing that head's pattern, it'll make it easier to interpret)"
      ]
    },
    {
      "cell_type": "code",
      "source": [
        "import pysvelte\n",
        "pysvelte.AttentionMulti(tokens=reference_gpt2.to_str_tokens(reference_text), attention=cache['blocks.11.attn.hook_attn'][0].permute(1, 2, 0)).show()"
      ],
      "metadata": {
        "colab": {
          "base_uri": "https://localhost:8080/",
          "height": 388
        },
        "id": "rWK1-hTwJ-KR",
        "outputId": "df6b7e16-2a9d-4411-a343-f1adf2e239e7"
      },
      "execution_count": null,
      "outputs": [
        {
          "output_type": "stream",
          "name": "stdout",
          "text": [
            "pysvelte components appear to be unbuilt or stale\n",
            "Running npm install...\n",
            "Building pysvelte components with webpack...\n"
          ]
        },
        {
          "output_type": "display_data",
          "data": {
            "text/plain": [
              "<pysvelte.html.Html at 0x7f0b9850adc0>"
            ],
            "text/html": [
              "\n",
              "        <script>var loader;loader=(()=>{var Ze={907:k=>{\"use strict\";function I(E){for(var T=new Array(E),n=0;n<E;++n)T[n]=n;return T}k.exports=I},738:k=>{/*!\n",
              " * Determine if an object is a Buffer\n",
              " *\n",
              " * @author   Feross Aboukhadijeh <https://feross.org>\n",
              " * @license  MIT\n",
              " */k.exports=function(T){return T!=null&&(I(T)||E(T)||!!T._isBuffer)};function I(T){return!!T.constructor&&typeof T.constructor.isBuffer==\"function\"&&T.constructor.isBuffer(T)}function E(T){return typeof T.readFloatLE==\"function\"&&typeof T.slice==\"function\"&&I(T.slice(0,0))}},861:(k,I,E)=>{var T=E(907),n=E(738),g=typeof Float64Array!=\"undefined\";function s(l,h){return l[0]-h[0]}function m(){var l=this.stride,h=new Array(l.length),c;for(c=0;c<h.length;++c)h[c]=[Math.abs(l[c]),c];h.sort(s);var N=new Array(h.length);for(c=0;c<N.length;++c)N[c]=h[c][1];return N}function _(l,h){var c=[\"View\",h,\"d\",l].join(\"\");h<0&&(c=\"View_Nil\"+l);var N=l===\"generic\";if(h===-1){var f=\"function \"+c+\"(a){this.data=a;};var proto=\"+c+\".prototype;proto.dtype='\"+l+\"';proto.index=function(){return -1};proto.size=0;proto.dimension=-1;proto.shape=proto.stride=proto.order=[];proto.lo=proto.hi=proto.transpose=proto.step=function(){return new \"+c+\"(this.data);};proto.get=proto.set=function(){};proto.pick=function(){return null};return function construct_\"+c+\"(a){return new \"+c+\"(a);}\",O=new Function(f);return O()}else if(h===0){var f=\"function \"+c+\"(a,d) {this.data = a;this.offset = d};var proto=\"+c+\".prototype;proto.dtype='\"+l+\"';proto.index=function(){return this.offset};proto.dimension=0;proto.size=1;proto.shape=proto.stride=proto.order=[];proto.lo=proto.hi=proto.transpose=proto.step=function \"+c+\"_copy() {return new \"+c+\"(this.data,this.offset)};proto.pick=function \"+c+\"_pick(){return TrivialArray(this.data);};proto.valueOf=proto.get=function \"+c+\"_get(){return \"+(N?\"this.data.get(this.offset)\":\"this.data[this.offset]\")+\"};proto.set=function \"+c+\"_set(v){return \"+(N?\"this.data.set(this.offset,v)\":\"this.data[this.offset]=v\")+\"};return function construct_\"+c+\"(a,b,c,d){return new \"+c+\"(a,d)}\",O=new Function(\"TrivialArray\",f);return O(u[l][0])}var f=[\"'use strict'\"],d=T(h),M=d.map(function(p){return\"i\"+p}),L=\"this.offset+\"+d.map(function(p){return\"this.stride[\"+p+\"]*i\"+p}).join(\"+\"),j=d.map(function(p){return\"b\"+p}).join(\",\"),D=d.map(function(p){return\"c\"+p}).join(\",\");f.push(\"function \"+c+\"(a,\"+j+\",\"+D+\",d){this.data=a\",\"this.shape=[\"+j+\"]\",\"this.stride=[\"+D+\"]\",\"this.offset=d|0}\",\"var proto=\"+c+\".prototype\",\"proto.dtype='\"+l+\"'\",\"proto.dimension=\"+h),f.push(\"Object.defineProperty(proto,'size',{get:function \"+c+\"_size(){return \"+d.map(function(p){return\"this.shape[\"+p+\"]\"}).join(\"*\"),\"}})\"),h===1?f.push(\"proto.order=[0]\"):(f.push(\"Object.defineProperty(proto,'order',{get:\"),h<4?(f.push(\"function \"+c+\"_order(){\"),h===2?f.push(\"return (Math.abs(this.stride[0])>Math.abs(this.stride[1]))?[1,0]:[0,1]}})\"):h===3&&f.push(\"var s0=Math.abs(this.stride[0]),s1=Math.abs(this.stride[1]),s2=Math.abs(this.stride[2]);if(s0>s1){if(s1>s2){return [2,1,0];}else if(s0>s2){return [1,2,0];}else{return [1,0,2];}}else if(s0>s2){return [2,0,1];}else if(s2>s1){return [0,1,2];}else{return [0,2,1];}}})\")):f.push(\"ORDER})\")),f.push(\"proto.set=function \"+c+\"_set(\"+M.join(\",\")+\",v){\"),N?f.push(\"return this.data.set(\"+L+\",v)}\"):f.push(\"return this.data[\"+L+\"]=v}\"),f.push(\"proto.get=function \"+c+\"_get(\"+M.join(\",\")+\"){\"),N?f.push(\"return this.data.get(\"+L+\")}\"):f.push(\"return this.data[\"+L+\"]}\"),f.push(\"proto.index=function \"+c+\"_index(\",M.join(),\"){return \"+L+\"}\"),f.push(\"proto.hi=function \"+c+\"_hi(\"+M.join(\",\")+\"){return new \"+c+\"(this.data,\"+d.map(function(p){return[\"(typeof i\",p,\"!=='number'||i\",p,\"<0)?this.shape[\",p,\"]:i\",p,\"|0\"].join(\"\")}).join(\",\")+\",\"+d.map(function(p){return\"this.stride[\"+p+\"]\"}).join(\",\")+\",this.offset)}\");var A=d.map(function(p){return\"a\"+p+\"=this.shape[\"+p+\"]\"}),o=d.map(function(p){return\"c\"+p+\"=this.stride[\"+p+\"]\"});f.push(\"proto.lo=function \"+c+\"_lo(\"+M.join(\",\")+\"){var b=this.offset,d=0,\"+A.join(\",\")+\",\"+o.join(\",\"));for(var i=0;i<h;++i)f.push(\"if(typeof i\"+i+\"==='number'&&i\"+i+\">=0){d=i\"+i+\"|0;b+=c\"+i+\"*d;a\"+i+\"-=d}\");f.push(\"return new \"+c+\"(this.data,\"+d.map(function(p){return\"a\"+p}).join(\",\")+\",\"+d.map(function(p){return\"c\"+p}).join(\",\")+\",b)}\"),f.push(\"proto.step=function \"+c+\"_step(\"+M.join(\",\")+\"){var \"+d.map(function(p){return\"a\"+p+\"=this.shape[\"+p+\"]\"}).join(\",\")+\",\"+d.map(function(p){return\"b\"+p+\"=this.stride[\"+p+\"]\"}).join(\",\")+\",c=this.offset,d=0,ceil=Math.ceil\");for(var i=0;i<h;++i)f.push(\"if(typeof i\"+i+\"==='number'){d=i\"+i+\"|0;if(d<0){c+=b\"+i+\"*(a\"+i+\"-1);a\"+i+\"=ceil(-a\"+i+\"/d)}else{a\"+i+\"=ceil(a\"+i+\"/d)}b\"+i+\"*=d}\");f.push(\"return new \"+c+\"(this.data,\"+d.map(function(p){return\"a\"+p}).join(\",\")+\",\"+d.map(function(p){return\"b\"+p}).join(\",\")+\",c)}\");for(var Z=new Array(h),R=new Array(h),i=0;i<h;++i)Z[i]=\"a[i\"+i+\"]\",R[i]=\"b[i\"+i+\"]\";f.push(\"proto.transpose=function \"+c+\"_transpose(\"+M+\"){\"+M.map(function(p,U){return p+\"=(\"+p+\"===undefined?\"+U+\":\"+p+\"|0)\"}).join(\";\"),\"var a=this.shape,b=this.stride;return new \"+c+\"(this.data,\"+Z.join(\",\")+\",\"+R.join(\",\")+\",this.offset)}\"),f.push(\"proto.pick=function \"+c+\"_pick(\"+M+\"){var a=[],b=[],c=this.offset\");for(var i=0;i<h;++i)f.push(\"if(typeof i\"+i+\"==='number'&&i\"+i+\">=0){c=(c+this.stride[\"+i+\"]*i\"+i+\")|0}else{a.push(this.shape[\"+i+\"]);b.push(this.stride[\"+i+\"])}\");f.push(\"var ctor=CTOR_LIST[a.length+1];return ctor(this.data,a,b,c)}\"),f.push(\"return function construct_\"+c+\"(data,shape,stride,offset){return new \"+c+\"(data,\"+d.map(function(p){return\"shape[\"+p+\"]\"}).join(\",\")+\",\"+d.map(function(p){return\"stride[\"+p+\"]\"}).join(\",\")+\",offset)}\");var O=new Function(\"CTOR_LIST\",\"ORDER\",f.join(`\n",
              "`));return O(u[l],m)}function C(l){if(n(l))return\"buffer\";if(g)switch(Object.prototype.toString.call(l)){case\"[object Float64Array]\":return\"float64\";case\"[object Float32Array]\":return\"float32\";case\"[object Int8Array]\":return\"int8\";case\"[object Int16Array]\":return\"int16\";case\"[object Int32Array]\":return\"int32\";case\"[object Uint8Array]\":return\"uint8\";case\"[object Uint16Array]\":return\"uint16\";case\"[object Uint32Array]\":return\"uint32\";case\"[object Uint8ClampedArray]\":return\"uint8_clamped\";case\"[object BigInt64Array]\":return\"bigint64\";case\"[object BigUint64Array]\":return\"biguint64\"}return Array.isArray(l)?\"array\":\"generic\"}var u={float32:[],float64:[],int8:[],int16:[],int32:[],uint8:[],uint16:[],uint32:[],array:[],uint8_clamped:[],bigint64:[],biguint64:[],buffer:[],generic:[]};function v(l,h,c,N){if(l===void 0){var D=u.array[0];return D([])}else typeof l==\"number\"&&(l=[l]);h===void 0&&(h=[l.length]);var f=h.length;if(c===void 0){c=new Array(f);for(var d=f-1,M=1;d>=0;--d)c[d]=M,M*=h[d]}if(N===void 0){N=0;for(var d=0;d<f;++d)c[d]<0&&(N-=(h[d]-1)*c[d])}for(var L=C(l),j=u[L];j.length<=f+1;)j.push(_(L,j.length-1));var D=j[f+1];return D(l,h,c,N)}k.exports=v},829:(k,I)=>{\"use strict\";var E;E={value:!0},I.g=m;function T(u,v){if(!(u instanceof v))throw new TypeError(\"Cannot call a class as a function\")}function n(u,v){for(var l,h=0;h<v.length;h++)l=v[h],l.enumerable=l.enumerable||!1,l.configurable=!0,\"value\"in l&&(l.writable=!0),Object.defineProperty(u,l.key,l)}function g(u,v,l){return v&&n(u.prototype,v),l&&n(u,l),u}var s=function(){function u(v){T(this,u),v instanceof DataView?this.dataView=v:v instanceof ArrayBuffer&&(this.dataView=new DataView(v)),this.offset=0}return g(u,[{key:\"readBytes\",value:function(l){var h=new DataView(this.dataView.buffer,this.offset,l);return this.offset+=l,h}},{key:\"readAndASCIIDecodeBytes\",value:function(l){var h=new Uint8Array(this.dataView.buffer,this.offset,l);return this.offset+=l,this._decodeASCIIByteArray(h)}},{key:\"readUint8\",value:function(){var l=0<arguments.length&&arguments[0]!==void 0&&arguments[0],h=this.dataView.getUint8(this.offset,l);return this.offset+=Uint8Array.BYTES_PER_ELEMENT,h}},{key:\"readUint16\",value:function(){var l=0<arguments.length&&arguments[0]!==void 0&&arguments[0],h=this.dataView.getUint16(this.offset,l);return this.offset+=Uint16Array.BYTES_PER_ELEMENT,h}},{key:\"readUint32\",value:function(){var l=0<arguments.length&&arguments[0]!==void 0&&arguments[0],h=this.dataView.getUint32(this.offset,l);return this.offset+=Uint32Array.BYTES_PER_ELEMENT,h}},{key:\"_decodeASCIIByteArray\",value:function(l){var h=String.fromCharCode,c=[],N=!0,f=!1,d=void 0;try{for(var M,L=l[Symbol.iterator]();!(N=(M=L.next()).done);N=!0){var j=M.value,D=h(j);c.push(D)}}catch(A){f=!0,d=A}finally{try{N||L.return==null||L.return()}finally{if(f)throw d}}return c.join(\"\")}}]),u}();function m(u){if(!u instanceof ArrayBuffer)throw new Error(\"Argument must be an ArrayBuffer.\");var v=new s(u),l=v.readUint8(),h=v.readAndASCIIDecodeBytes(5);if(l!=147||h!=\"NUMPY\")throw new Error('unknown file type: \"'.concat(l).concat(h,'\"'));var c,N=v.readUint8(),f=v.readUint8();c=1>=N?v.readUint16(!0):v.readUint32(!0);var d=10+c;d%16!=0&&console.warn(\"NPY file header is incorrectly padded. (\".concat(d,\" is not evenly divisible by 16.)\"));var M=v.readAndASCIIDecodeBytes(c),L=_(M);if(L.fortran_order)throw new Error(\"NPY file is written in Fortran byte order, support for this byte order is not yet implemented.\");var j=C(L.descr),D=new j(u,v.offset);return{data:D,shape:L.shape}}function _(u){var v=u.toLowerCase().replace(\"(\",\"[\").replace(\"),\",\"]\").replace(\"[,\",\"[1,]\").replace(\",]\",\",1]\").replace(/'/g,'\"');return JSON.parse(v)}function C(u){switch(u){case\"|u1\":return Uint8Array;case\"<u2\":return Uint16Array;case\"<u4\":return Uint32Array;case\"<u8\":throw new Error(\"Because JavaScript doesn't currently include standard support for 64-bit unsigned integer values, support for this dtype is not yet implemented.\");case\"|i1\":return Int8Array;case\"<i2\":return Int16Array;case\"<i4\":return Int32Array;case\"<i8\":throw new Error(\"Because JavaScript doesn't currently include standard support for 64-bit integer values, support for this dtype is not yet implemented.\");case\"<f2\":throw new Error(\"Because JavaScript doesn't currently include standard support for 16-bit floating point values, support for this dtype is not yet implemented.\");case\"<f4\":return Float32Array;case\"<f8\":return Float64Array;default:throw new Error(\"Unknown or not yet implemented numpy dtype description: \"+dtype)}}},843:(k,I,E)=>{\"use strict\";var T;const n=E(948),g=E(236),s=E(373),m=E(898),_=E(292),C=E(401),u=Object.prototype.toString,{Z_NO_FLUSH:v,Z_FINISH:l,Z_OK:h,Z_STREAM_END:c,Z_NEED_DICT:N,Z_STREAM_ERROR:f,Z_DATA_ERROR:d,Z_MEM_ERROR:M}=E(619);function L(A){this.options=g.assign({chunkSize:65536,windowBits:15,to:\"\"},A||{});const o=this.options;o.raw&&o.windowBits>=0&&o.windowBits<16&&(o.windowBits=-o.windowBits,o.windowBits===0&&(o.windowBits=-15)),o.windowBits>=0&&o.windowBits<16&&!(A&&A.windowBits)&&(o.windowBits+=32),o.windowBits>15&&o.windowBits<48&&(o.windowBits&15)===0&&(o.windowBits|=15),this.err=0,this.msg=\"\",this.ended=!1,this.chunks=[],this.strm=new _,this.strm.avail_out=0;let i=n.inflateInit2(this.strm,o.windowBits);if(i!==h)throw new Error(m[i]);if(this.header=new C,n.inflateGetHeader(this.strm,this.header),o.dictionary&&(typeof o.dictionary==\"string\"?o.dictionary=s.string2buf(o.dictionary):u.call(o.dictionary)===\"[object ArrayBuffer]\"&&(o.dictionary=new Uint8Array(o.dictionary)),o.raw&&(i=n.inflateSetDictionary(this.strm,o.dictionary),i!==h)))throw new Error(m[i])}L.prototype.push=function(A,o){const i=this.strm,Z=this.options.chunkSize,R=this.options.dictionary;let O,p,U;if(this.ended)return!1;for(o===~~o?p=o:p=o===!0?l:v,u.call(A)===\"[object ArrayBuffer]\"?i.input=new Uint8Array(A):i.input=A,i.next_in=0,i.avail_in=i.input.length;;){for(i.avail_out===0&&(i.output=new Uint8Array(Z),i.next_out=0,i.avail_out=Z),O=n.inflate(i,p),O===N&&R&&(O=n.inflateSetDictionary(i,R),O===h?O=n.inflate(i,p):O===d&&(O=N));i.avail_in>0&&O===c&&i.state.wrap>0&&A[i.next_in]!==0;)n.inflateReset(i),O=n.inflate(i,p);switch(O){case f:case d:case N:case M:return this.onEnd(O),this.ended=!0,!1}if(U=i.avail_out,i.next_out&&(i.avail_out===0||O===c))if(this.options.to===\"string\"){let B=s.utf8border(i.output,i.next_out),K=i.next_out-B,V=s.buf2string(i.output,B);i.next_out=K,i.avail_out=Z-K,K&&i.output.set(i.output.subarray(B,B+K),0),this.onData(V)}else this.onData(i.output.length===i.next_out?i.output:i.output.subarray(0,i.next_out));if(!(O===h&&U===0)){if(O===c)return O=n.inflateEnd(this.strm),this.onEnd(O),this.ended=!0,!0;if(i.avail_in===0)break}}return!0},L.prototype.onData=function(A){this.chunks.push(A)},L.prototype.onEnd=function(A){A===h&&(this.options.to===\"string\"?this.result=this.chunks.join(\"\"):this.result=g.flattenChunks(this.chunks)),this.chunks=[],this.err=A,this.msg=this.strm.msg};function j(A,o){const i=new L(o);if(i.push(A),i.err)throw i.msg||m[i.err];return i.result}function D(A,o){return o=o||{},o.raw=!0,j(A,o)}T=L,k.exports.rr=j,T=D,T=j,E(619)},236:k=>{\"use strict\";const I=(E,T)=>Object.prototype.hasOwnProperty.call(E,T);k.exports.assign=function(E){const T=Array.prototype.slice.call(arguments,1);for(;T.length;){const n=T.shift();if(!!n){if(typeof n!=\"object\")throw new TypeError(n+\"must be non-object\");for(const g in n)I(n,g)&&(E[g]=n[g])}}return E},k.exports.flattenChunks=E=>{let T=0;for(let g=0,s=E.length;g<s;g++)T+=E[g].length;const n=new Uint8Array(T);for(let g=0,s=0,m=E.length;g<m;g++){let _=E[g];n.set(_,s),s+=_.length}return n}},373:k=>{\"use strict\";let I=!0;try{String.fromCharCode.apply(null,new Uint8Array(1))}catch(n){I=!1}const E=new Uint8Array(256);for(let n=0;n<256;n++)E[n]=n>=252?6:n>=248?5:n>=240?4:n>=224?3:n>=192?2:1;E[254]=E[254]=1,k.exports.string2buf=n=>{let g,s,m,_,C,u=n.length,v=0;for(_=0;_<u;_++)s=n.charCodeAt(_),(s&64512)===55296&&_+1<u&&(m=n.charCodeAt(_+1),(m&64512)===56320&&(s=65536+(s-55296<<10)+(m-56320),_++)),v+=s<128?1:s<2048?2:s<65536?3:4;for(g=new Uint8Array(v),C=0,_=0;C<v;_++)s=n.charCodeAt(_),(s&64512)===55296&&_+1<u&&(m=n.charCodeAt(_+1),(m&64512)===56320&&(s=65536+(s-55296<<10)+(m-56320),_++)),s<128?g[C++]=s:s<2048?(g[C++]=192|s>>>6,g[C++]=128|s&63):s<65536?(g[C++]=224|s>>>12,g[C++]=128|s>>>6&63,g[C++]=128|s&63):(g[C++]=240|s>>>18,g[C++]=128|s>>>12&63,g[C++]=128|s>>>6&63,g[C++]=128|s&63);return g};const T=(n,g)=>{if(g<65534&&n.subarray&&I)return String.fromCharCode.apply(null,n.length===g?n:n.subarray(0,g));let s=\"\";for(let m=0;m<g;m++)s+=String.fromCharCode(n[m]);return s};k.exports.buf2string=(n,g)=>{let s,m;const _=g||n.length,C=new Array(_*2);for(m=0,s=0;s<_;){let u=n[s++];if(u<128){C[m++]=u;continue}let v=E[u];if(v>4){C[m++]=65533,s+=v-1;continue}for(u&=v===2?31:v===3?15:7;v>1&&s<_;)u=u<<6|n[s++]&63,v--;if(v>1){C[m++]=65533;continue}u<65536?C[m++]=u:(u-=65536,C[m++]=55296|u>>10&1023,C[m++]=56320|u&1023)}return T(C,m)},k.exports.utf8border=(n,g)=>{g=g||n.length,g>n.length&&(g=n.length);let s=g-1;for(;s>=0&&(n[s]&192)===128;)s--;return s<0||s===0?g:s+E[n[s]]>g?s:g}},69:k=>{\"use strict\";const I=(E,T,n,g)=>{let s=E&65535|0,m=E>>>16&65535|0,_=0;for(;n!==0;){_=n>2e3?2e3:n,n-=_;do s=s+T[g++]|0,m=m+s|0;while(--_);s%=65521,m%=65521}return s|m<<16|0};k.exports=I},619:k=>{\"use strict\";k.exports={Z_NO_FLUSH:0,Z_PARTIAL_FLUSH:1,Z_SYNC_FLUSH:2,Z_FULL_FLUSH:3,Z_FINISH:4,Z_BLOCK:5,Z_TREES:6,Z_OK:0,Z_STREAM_END:1,Z_NEED_DICT:2,Z_ERRNO:-1,Z_STREAM_ERROR:-2,Z_DATA_ERROR:-3,Z_MEM_ERROR:-4,Z_BUF_ERROR:-5,Z_NO_COMPRESSION:0,Z_BEST_SPEED:1,Z_BEST_COMPRESSION:9,Z_DEFAULT_COMPRESSION:-1,Z_FILTERED:1,Z_HUFFMAN_ONLY:2,Z_RLE:3,Z_FIXED:4,Z_DEFAULT_STRATEGY:0,Z_BINARY:0,Z_TEXT:1,Z_UNKNOWN:2,Z_DEFLATED:8}},869:k=>{\"use strict\";const I=()=>{let n,g=[];for(var s=0;s<256;s++){n=s;for(var m=0;m<8;m++)n=n&1?3988292384^n>>>1:n>>>1;g[s]=n}return g},E=new Uint32Array(I()),T=(n,g,s,m)=>{const _=E,C=m+s;n^=-1;for(let u=m;u<C;u++)n=n>>>8^_[(n^g[u])&255];return n^-1};k.exports=T},401:k=>{\"use strict\";function I(){this.text=0,this.time=0,this.xflags=0,this.os=0,this.extra=null,this.extra_len=0,this.name=\"\",this.comment=\"\",this.hcrc=0,this.done=!1}k.exports=I},264:k=>{\"use strict\";k.exports=function(n,g){let s,m,_,C,u,v,l,h,c,N,f,d,M,L,j,D,A,o,i,Z,R,O,p,U;const B=n.state;s=n.next_in,p=n.input,m=s+(n.avail_in-5),_=n.next_out,U=n.output,C=_-(g-n.avail_out),u=_+(n.avail_out-257),v=B.dmax,l=B.wsize,h=B.whave,c=B.wnext,N=B.window,f=B.hold,d=B.bits,M=B.lencode,L=B.distcode,j=(1<<B.lenbits)-1,D=(1<<B.distbits)-1;e:do{d<15&&(f+=p[s++]<<d,d+=8,f+=p[s++]<<d,d+=8),A=M[f&j];t:for(;;){if(o=A>>>24,f>>>=o,d-=o,o=A>>>16&255,o===0)U[_++]=A&65535;else if(o&16){i=A&65535,o&=15,o&&(d<o&&(f+=p[s++]<<d,d+=8),i+=f&(1<<o)-1,f>>>=o,d-=o),d<15&&(f+=p[s++]<<d,d+=8,f+=p[s++]<<d,d+=8),A=L[f&D];i:for(;;){if(o=A>>>24,f>>>=o,d-=o,o=A>>>16&255,o&16){if(Z=A&65535,o&=15,d<o&&(f+=p[s++]<<d,d+=8,d<o&&(f+=p[s++]<<d,d+=8)),Z+=f&(1<<o)-1,Z>v){n.msg=\"invalid distance too far back\",B.mode=30;break e}if(f>>>=o,d-=o,o=_-C,Z>o){if(o=Z-o,o>h&&B.sane){n.msg=\"invalid distance too far back\",B.mode=30;break e}if(R=0,O=N,c===0){if(R+=l-o,o<i){i-=o;do U[_++]=N[R++];while(--o);R=_-Z,O=U}}else if(c<o){if(R+=l+c-o,o-=c,o<i){i-=o;do U[_++]=N[R++];while(--o);if(R=0,c<i){o=c,i-=o;do U[_++]=N[R++];while(--o);R=_-Z,O=U}}}else if(R+=c-o,o<i){i-=o;do U[_++]=N[R++];while(--o);R=_-Z,O=U}for(;i>2;)U[_++]=O[R++],U[_++]=O[R++],U[_++]=O[R++],i-=3;i&&(U[_++]=O[R++],i>1&&(U[_++]=O[R++]))}else{R=_-Z;do U[_++]=U[R++],U[_++]=U[R++],U[_++]=U[R++],i-=3;while(i>2);i&&(U[_++]=U[R++],i>1&&(U[_++]=U[R++]))}}else if((o&64)===0){A=L[(A&65535)+(f&(1<<o)-1)];continue i}else{n.msg=\"invalid distance code\",B.mode=30;break e}break}}else if((o&64)===0){A=M[(A&65535)+(f&(1<<o)-1)];continue t}else if(o&32){B.mode=12;break e}else{n.msg=\"invalid literal/length code\",B.mode=30;break e}break}}while(s<m&&_<u);i=d>>3,s-=i,d-=i<<3,f&=(1<<d)-1,n.next_in=s,n.next_out=_,n.avail_in=s<m?5+(m-s):5-(s-m),n.avail_out=_<u?257+(u-_):257-(_-u),B.hold=f,B.bits=d}},948:(k,I,E)=>{\"use strict\";const T=E(69),n=E(869),g=E(264),s=E(241),m=0,_=1,C=2,{Z_FINISH:u,Z_BLOCK:v,Z_TREES:l,Z_OK:h,Z_STREAM_END:c,Z_NEED_DICT:N,Z_STREAM_ERROR:f,Z_DATA_ERROR:d,Z_MEM_ERROR:M,Z_BUF_ERROR:L,Z_DEFLATED:j}=E(619),D=1,A=2,o=3,i=4,Z=5,R=6,O=7,p=8,U=9,B=10,K=11,V=12,fe=13,de=14,ne=15,ce=16,pe=17,le=18,te=19,re=20,ae=21,we=22,_e=23,ue=24,he=25,Te=26,ke=27,Oe=28,De=29,F=30,Ee=31,Pe=32,Fe=852,je=592,He=15,Re=t=>(t>>>24&255)+(t>>>8&65280)+((t&65280)<<8)+((t&255)<<24);function ze(){this.mode=0,this.last=!1,this.wrap=0,this.havedict=!1,this.flags=0,this.dmax=0,this.check=0,this.total=0,this.head=null,this.wbits=0,this.wsize=0,this.whave=0,this.wnext=0,this.window=null,this.hold=0,this.bits=0,this.length=0,this.offset=0,this.extra=0,this.lencode=null,this.distcode=null,this.lenbits=0,this.distbits=0,this.ncode=0,this.nlen=0,this.ndist=0,this.have=0,this.next=null,this.lens=new Uint16Array(320),this.work=new Uint16Array(288),this.lendyn=null,this.distdyn=null,this.sane=0,this.back=0,this.was=0}const Ie=t=>{if(!t||!t.state)return f;const x=t.state;return t.total_in=t.total_out=x.total=0,t.msg=\"\",x.wrap&&(t.adler=x.wrap&1),x.mode=D,x.last=0,x.havedict=0,x.dmax=32768,x.head=null,x.hold=0,x.bits=0,x.lencode=x.lendyn=new Int32Array(Fe),x.distcode=x.distdyn=new Int32Array(je),x.sane=1,x.back=-1,h},Ue=t=>{if(!t||!t.state)return f;const x=t.state;return x.wsize=0,x.whave=0,x.wnext=0,Ie(t)},Ce=(t,x)=>{let e;if(!t||!t.state)return f;const y=t.state;return x<0?(e=0,x=-x):(e=(x>>4)+1,x<48&&(x&=15)),x&&(x<8||x>15)?f:(y.window!==null&&y.wbits!==x&&(y.window=null),y.wrap=e,y.wbits=x,Ue(t))},Ne=(t,x)=>{if(!t)return f;const e=new ze;t.state=e,e.window=null;const y=Ce(t,x);return y!==h&&(t.state=null),y},Ye=t=>Ne(t,He);let Be=!0,Ae,Se;const Ge=t=>{if(Be){Ae=new Int32Array(512),Se=new Int32Array(32);let x=0;for(;x<144;)t.lens[x++]=8;for(;x<256;)t.lens[x++]=9;for(;x<280;)t.lens[x++]=7;for(;x<288;)t.lens[x++]=8;for(s(_,t.lens,0,288,Ae,0,t.work,{bits:9}),x=0;x<32;)t.lens[x++]=5;s(C,t.lens,0,32,Se,0,t.work,{bits:5}),Be=!1}t.lencode=Ae,t.lenbits=9,t.distcode=Se,t.distbits=5},Me=(t,x,e,y)=>{let H;const w=t.state;return w.window===null&&(w.wsize=1<<w.wbits,w.wnext=0,w.whave=0,w.window=new Uint8Array(w.wsize)),y>=w.wsize?(w.window.set(x.subarray(e-w.wsize,e),0),w.wnext=0,w.whave=w.wsize):(H=w.wsize-w.wnext,H>y&&(H=y),w.window.set(x.subarray(e-y,e-y+H),w.wnext),y-=H,y?(w.window.set(x.subarray(e-y,e),0),w.wnext=y,w.whave=w.wsize):(w.wnext+=H,w.wnext===w.wsize&&(w.wnext=0),w.whave<w.wsize&&(w.whave+=H))),0},Xe=(t,x)=>{let e,y,H,w,q,b,G,a,r,xe,z,S,be,me,Y=0,P,J,$,Q,ve,ge,X,ee;const W=new Uint8Array(4);let oe,ie;const Le=new Uint8Array([16,17,18,0,8,7,9,6,10,5,11,4,12,3,13,2,14,1,15]);if(!t||!t.state||!t.output||!t.input&&t.avail_in!==0)return f;e=t.state,e.mode===V&&(e.mode=fe),q=t.next_out,H=t.output,G=t.avail_out,w=t.next_in,y=t.input,b=t.avail_in,a=e.hold,r=e.bits,xe=b,z=G,ee=h;e:for(;;)switch(e.mode){case D:if(e.wrap===0){e.mode=fe;break}for(;r<16;){if(b===0)break e;b--,a+=y[w++]<<r,r+=8}if(e.wrap&2&&a===35615){e.check=0,W[0]=a&255,W[1]=a>>>8&255,e.check=n(e.check,W,2,0),a=0,r=0,e.mode=A;break}if(e.flags=0,e.head&&(e.head.done=!1),!(e.wrap&1)||(((a&255)<<8)+(a>>8))%31){t.msg=\"incorrect header check\",e.mode=F;break}if((a&15)!==j){t.msg=\"unknown compression method\",e.mode=F;break}if(a>>>=4,r-=4,X=(a&15)+8,e.wbits===0)e.wbits=X;else if(X>e.wbits){t.msg=\"invalid window size\",e.mode=F;break}e.dmax=1<<e.wbits,t.adler=e.check=1,e.mode=a&512?B:V,a=0,r=0;break;case A:for(;r<16;){if(b===0)break e;b--,a+=y[w++]<<r,r+=8}if(e.flags=a,(e.flags&255)!==j){t.msg=\"unknown compression method\",e.mode=F;break}if(e.flags&57344){t.msg=\"unknown header flags set\",e.mode=F;break}e.head&&(e.head.text=a>>8&1),e.flags&512&&(W[0]=a&255,W[1]=a>>>8&255,e.check=n(e.check,W,2,0)),a=0,r=0,e.mode=o;case o:for(;r<32;){if(b===0)break e;b--,a+=y[w++]<<r,r+=8}e.head&&(e.head.time=a),e.flags&512&&(W[0]=a&255,W[1]=a>>>8&255,W[2]=a>>>16&255,W[3]=a>>>24&255,e.check=n(e.check,W,4,0)),a=0,r=0,e.mode=i;case i:for(;r<16;){if(b===0)break e;b--,a+=y[w++]<<r,r+=8}e.head&&(e.head.xflags=a&255,e.head.os=a>>8),e.flags&512&&(W[0]=a&255,W[1]=a>>>8&255,e.check=n(e.check,W,2,0)),a=0,r=0,e.mode=Z;case Z:if(e.flags&1024){for(;r<16;){if(b===0)break e;b--,a+=y[w++]<<r,r+=8}e.length=a,e.head&&(e.head.extra_len=a),e.flags&512&&(W[0]=a&255,W[1]=a>>>8&255,e.check=n(e.check,W,2,0)),a=0,r=0}else e.head&&(e.head.extra=null);e.mode=R;case R:if(e.flags&1024&&(S=e.length,S>b&&(S=b),S&&(e.head&&(X=e.head.extra_len-e.length,e.head.extra||(e.head.extra=new Uint8Array(e.head.extra_len)),e.head.extra.set(y.subarray(w,w+S),X)),e.flags&512&&(e.check=n(e.check,y,S,w)),b-=S,w+=S,e.length-=S),e.length))break e;e.length=0,e.mode=O;case O:if(e.flags&2048){if(b===0)break e;S=0;do X=y[w+S++],e.head&&X&&e.length<65536&&(e.head.name+=String.fromCharCode(X));while(X&&S<b);if(e.flags&512&&(e.check=n(e.check,y,S,w)),b-=S,w+=S,X)break e}else e.head&&(e.head.name=null);e.length=0,e.mode=p;case p:if(e.flags&4096){if(b===0)break e;S=0;do X=y[w+S++],e.head&&X&&e.length<65536&&(e.head.comment+=String.fromCharCode(X));while(X&&S<b);if(e.flags&512&&(e.check=n(e.check,y,S,w)),b-=S,w+=S,X)break e}else e.head&&(e.head.comment=null);e.mode=U;case U:if(e.flags&512){for(;r<16;){if(b===0)break e;b--,a+=y[w++]<<r,r+=8}if(a!==(e.check&65535)){t.msg=\"header crc mismatch\",e.mode=F;break}a=0,r=0}e.head&&(e.head.hcrc=e.flags>>9&1,e.head.done=!0),t.adler=e.check=0,e.mode=V;break;case B:for(;r<32;){if(b===0)break e;b--,a+=y[w++]<<r,r+=8}t.adler=e.check=Re(a),a=0,r=0,e.mode=K;case K:if(e.havedict===0)return t.next_out=q,t.avail_out=G,t.next_in=w,t.avail_in=b,e.hold=a,e.bits=r,N;t.adler=e.check=1,e.mode=V;case V:if(x===v||x===l)break e;case fe:if(e.last){a>>>=r&7,r-=r&7,e.mode=ke;break}for(;r<3;){if(b===0)break e;b--,a+=y[w++]<<r,r+=8}switch(e.last=a&1,a>>>=1,r-=1,a&3){case 0:e.mode=de;break;case 1:if(Ge(e),e.mode=re,x===l){a>>>=2,r-=2;break e}break;case 2:e.mode=pe;break;case 3:t.msg=\"invalid block type\",e.mode=F}a>>>=2,r-=2;break;case de:for(a>>>=r&7,r-=r&7;r<32;){if(b===0)break e;b--,a+=y[w++]<<r,r+=8}if((a&65535)!==(a>>>16^65535)){t.msg=\"invalid stored block lengths\",e.mode=F;break}if(e.length=a&65535,a=0,r=0,e.mode=ne,x===l)break e;case ne:e.mode=ce;case ce:if(S=e.length,S){if(S>b&&(S=b),S>G&&(S=G),S===0)break e;H.set(y.subarray(w,w+S),q),b-=S,w+=S,G-=S,q+=S,e.length-=S;break}e.mode=V;break;case pe:for(;r<14;){if(b===0)break e;b--,a+=y[w++]<<r,r+=8}if(e.nlen=(a&31)+257,a>>>=5,r-=5,e.ndist=(a&31)+1,a>>>=5,r-=5,e.ncode=(a&15)+4,a>>>=4,r-=4,e.nlen>286||e.ndist>30){t.msg=\"too many length or distance symbols\",e.mode=F;break}e.have=0,e.mode=le;case le:for(;e.have<e.ncode;){for(;r<3;){if(b===0)break e;b--,a+=y[w++]<<r,r+=8}e.lens[Le[e.have++]]=a&7,a>>>=3,r-=3}for(;e.have<19;)e.lens[Le[e.have++]]=0;if(e.lencode=e.lendyn,e.lenbits=7,oe={bits:e.lenbits},ee=s(m,e.lens,0,19,e.lencode,0,e.work,oe),e.lenbits=oe.bits,ee){t.msg=\"invalid code lengths set\",e.mode=F;break}e.have=0,e.mode=te;case te:for(;e.have<e.nlen+e.ndist;){for(;Y=e.lencode[a&(1<<e.lenbits)-1],P=Y>>>24,J=Y>>>16&255,$=Y&65535,!(P<=r);){if(b===0)break e;b--,a+=y[w++]<<r,r+=8}if($<16)a>>>=P,r-=P,e.lens[e.have++]=$;else{if($===16){for(ie=P+2;r<ie;){if(b===0)break e;b--,a+=y[w++]<<r,r+=8}if(a>>>=P,r-=P,e.have===0){t.msg=\"invalid bit length repeat\",e.mode=F;break}X=e.lens[e.have-1],S=3+(a&3),a>>>=2,r-=2}else if($===17){for(ie=P+3;r<ie;){if(b===0)break e;b--,a+=y[w++]<<r,r+=8}a>>>=P,r-=P,X=0,S=3+(a&7),a>>>=3,r-=3}else{for(ie=P+7;r<ie;){if(b===0)break e;b--,a+=y[w++]<<r,r+=8}a>>>=P,r-=P,X=0,S=11+(a&127),a>>>=7,r-=7}if(e.have+S>e.nlen+e.ndist){t.msg=\"invalid bit length repeat\",e.mode=F;break}for(;S--;)e.lens[e.have++]=X}}if(e.mode===F)break;if(e.lens[256]===0){t.msg=\"invalid code -- missing end-of-block\",e.mode=F;break}if(e.lenbits=9,oe={bits:e.lenbits},ee=s(_,e.lens,0,e.nlen,e.lencode,0,e.work,oe),e.lenbits=oe.bits,ee){t.msg=\"invalid literal/lengths set\",e.mode=F;break}if(e.distbits=6,e.distcode=e.distdyn,oe={bits:e.distbits},ee=s(C,e.lens,e.nlen,e.ndist,e.distcode,0,e.work,oe),e.distbits=oe.bits,ee){t.msg=\"invalid distances set\",e.mode=F;break}if(e.mode=re,x===l)break e;case re:e.mode=ae;case ae:if(b>=6&&G>=258){t.next_out=q,t.avail_out=G,t.next_in=w,t.avail_in=b,e.hold=a,e.bits=r,g(t,z),q=t.next_out,H=t.output,G=t.avail_out,w=t.next_in,y=t.input,b=t.avail_in,a=e.hold,r=e.bits,e.mode===V&&(e.back=-1);break}for(e.back=0;Y=e.lencode[a&(1<<e.lenbits)-1],P=Y>>>24,J=Y>>>16&255,$=Y&65535,!(P<=r);){if(b===0)break e;b--,a+=y[w++]<<r,r+=8}if(J&&(J&240)===0){for(Q=P,ve=J,ge=$;Y=e.lencode[ge+((a&(1<<Q+ve)-1)>>Q)],P=Y>>>24,J=Y>>>16&255,$=Y&65535,!(Q+P<=r);){if(b===0)break e;b--,a+=y[w++]<<r,r+=8}a>>>=Q,r-=Q,e.back+=Q}if(a>>>=P,r-=P,e.back+=P,e.length=$,J===0){e.mode=Te;break}if(J&32){e.back=-1,e.mode=V;break}if(J&64){t.msg=\"invalid literal/length code\",e.mode=F;break}e.extra=J&15,e.mode=we;case we:if(e.extra){for(ie=e.extra;r<ie;){if(b===0)break e;b--,a+=y[w++]<<r,r+=8}e.length+=a&(1<<e.extra)-1,a>>>=e.extra,r-=e.extra,e.back+=e.extra}e.was=e.length,e.mode=_e;case _e:for(;Y=e.distcode[a&(1<<e.distbits)-1],P=Y>>>24,J=Y>>>16&255,$=Y&65535,!(P<=r);){if(b===0)break e;b--,a+=y[w++]<<r,r+=8}if((J&240)===0){for(Q=P,ve=J,ge=$;Y=e.distcode[ge+((a&(1<<Q+ve)-1)>>Q)],P=Y>>>24,J=Y>>>16&255,$=Y&65535,!(Q+P<=r);){if(b===0)break e;b--,a+=y[w++]<<r,r+=8}a>>>=Q,r-=Q,e.back+=Q}if(a>>>=P,r-=P,e.back+=P,J&64){t.msg=\"invalid distance code\",e.mode=F;break}e.offset=$,e.extra=J&15,e.mode=ue;case ue:if(e.extra){for(ie=e.extra;r<ie;){if(b===0)break e;b--,a+=y[w++]<<r,r+=8}e.offset+=a&(1<<e.extra)-1,a>>>=e.extra,r-=e.extra,e.back+=e.extra}if(e.offset>e.dmax){t.msg=\"invalid distance too far back\",e.mode=F;break}e.mode=he;case he:if(G===0)break e;if(S=z-G,e.offset>S){if(S=e.offset-S,S>e.whave&&e.sane){t.msg=\"invalid distance too far back\",e.mode=F;break}S>e.wnext?(S-=e.wnext,be=e.wsize-S):be=e.wnext-S,S>e.length&&(S=e.length),me=e.window}else me=H,be=q-e.offset,S=e.length;S>G&&(S=G),G-=S,e.length-=S;do H[q++]=me[be++];while(--S);e.length===0&&(e.mode=ae);break;case Te:if(G===0)break e;H[q++]=e.length,G--,e.mode=ae;break;case ke:if(e.wrap){for(;r<32;){if(b===0)break e;b--,a|=y[w++]<<r,r+=8}if(z-=G,t.total_out+=z,e.total+=z,z&&(t.adler=e.check=e.flags?n(e.check,H,z,q-z):T(e.check,H,z,q-z)),z=G,(e.flags?a:Re(a))!==e.check){t.msg=\"incorrect data check\",e.mode=F;break}a=0,r=0}e.mode=Oe;case Oe:if(e.wrap&&e.flags){for(;r<32;){if(b===0)break e;b--,a+=y[w++]<<r,r+=8}if(a!==(e.total&4294967295)){t.msg=\"incorrect length check\",e.mode=F;break}a=0,r=0}e.mode=De;case De:ee=c;break e;case F:ee=d;break e;case Ee:return M;case Pe:default:return f}return t.next_out=q,t.avail_out=G,t.next_in=w,t.avail_in=b,e.hold=a,e.bits=r,(e.wsize||z!==t.avail_out&&e.mode<F&&(e.mode<ke||x!==u))&&Me(t,t.output,t.next_out,z-t.avail_out)?(e.mode=Ee,M):(xe-=t.avail_in,z-=t.avail_out,t.total_in+=xe,t.total_out+=z,e.total+=z,e.wrap&&z&&(t.adler=e.check=e.flags?n(e.check,H,z,t.next_out-z):T(e.check,H,z,t.next_out-z)),t.data_type=e.bits+(e.last?64:0)+(e.mode===V?128:0)+(e.mode===re||e.mode===ne?256:0),(xe===0&&z===0||x===u)&&ee===h&&(ee=L),ee)},Ke=t=>{if(!t||!t.state)return f;let x=t.state;return x.window&&(x.window=null),t.state=null,h},Ve=(t,x)=>{if(!t||!t.state)return f;const e=t.state;return(e.wrap&2)===0?f:(e.head=x,x.done=!1,h)},We=(t,x)=>{const e=x.length;let y,H,w;return!t||!t.state||(y=t.state,y.wrap!==0&&y.mode!==K)?f:y.mode===K&&(H=1,H=T(H,x,e,0),H!==y.check)?d:(w=Me(t,x,e,e),w?(y.mode=Ee,M):(y.havedict=1,h))};k.exports.inflateReset=Ue,k.exports.inflateReset2=Ce,k.exports.inflateResetKeep=Ie,k.exports.inflateInit=Ye,k.exports.inflateInit2=Ne,k.exports.inflate=Xe,k.exports.inflateEnd=Ke,k.exports.inflateGetHeader=Ve,k.exports.inflateSetDictionary=We,k.exports.inflateInfo=\"pako inflate (from Nodeca project)\"},241:k=>{\"use strict\";const m=new Uint16Array([3,4,5,6,7,8,9,10,11,13,15,17,19,23,27,31,35,43,51,59,67,83,99,115,131,163,195,227,258,0,0]),_=new Uint8Array([16,16,16,16,16,16,16,16,17,17,17,17,18,18,18,18,19,19,19,19,20,20,20,20,21,21,21,21,16,72,78]),C=new Uint16Array([1,2,3,4,5,7,9,13,17,25,33,49,65,97,129,193,257,385,513,769,1025,1537,2049,3073,4097,6145,8193,12289,16385,24577,0,0]),u=new Uint8Array([16,16,16,16,17,17,18,18,19,19,20,20,21,21,22,22,23,23,24,24,25,25,26,26,27,27,28,28,29,29,64,64]),v=(l,h,c,N,f,d,M,L)=>{const j=L.bits;let D=0,A=0,o=0,i=0,Z=0,R=0,O=0,p=0,U=0,B=0,K,V,fe,de,ne,ce=null,pe=0,le;const te=new Uint16Array(15+1),re=new Uint16Array(15+1);let ae=null,we=0,_e,ue,he;for(D=0;D<=15;D++)te[D]=0;for(A=0;A<N;A++)te[h[c+A]]++;for(Z=j,i=15;i>=1&&te[i]===0;i--);if(Z>i&&(Z=i),i===0)return f[d++]=1<<24|64<<16|0,f[d++]=1<<24|64<<16|0,L.bits=1,0;for(o=1;o<i&&te[o]===0;o++);for(Z<o&&(Z=o),p=1,D=1;D<=15;D++)if(p<<=1,p-=te[D],p<0)return-1;if(p>0&&(l===0||i!==1))return-1;for(re[1]=0,D=1;D<15;D++)re[D+1]=re[D]+te[D];for(A=0;A<N;A++)h[c+A]!==0&&(M[re[h[c+A]]++]=A);if(l===0?(ce=ae=M,le=19):l===1?(ce=m,pe-=257,ae=_,we-=257,le=256):(ce=C,ae=u,le=-1),B=0,A=0,D=o,ne=d,R=Z,O=0,fe=-1,U=1<<Z,de=U-1,l===1&&U>852||l===2&&U>592)return 1;for(;;){_e=D-O,M[A]<le?(ue=0,he=M[A]):M[A]>le?(ue=ae[we+M[A]],he=ce[pe+M[A]]):(ue=32+64,he=0),K=1<<D-O,V=1<<R,o=V;do V-=K,f[ne+(B>>O)+V]=_e<<24|ue<<16|he|0;while(V!==0);for(K=1<<D-1;B&K;)K>>=1;if(K!==0?(B&=K-1,B+=K):B=0,A++,--te[D]===0){if(D===i)break;D=h[c+M[A]]}if(D>Z&&(B&de)!==fe){for(O===0&&(O=Z),ne+=o,R=D-O,p=1<<R;R+O<i&&(p-=te[R+O],!(p<=0));)R++,p<<=1;if(U+=1<<R,l===1&&U>852||l===2&&U>592)return 1;fe=B&de,f[fe]=Z<<24|R<<16|ne-d|0}}return B!==0&&(f[ne+B]=D-O<<24|64<<16|0),L.bits=Z,0};k.exports=v},898:k=>{\"use strict\";k.exports={2:\"need dictionary\",1:\"stream end\",0:\"\",\"-1\":\"file error\",\"-2\":\"stream error\",\"-3\":\"data error\",\"-4\":\"insufficient memory\",\"-5\":\"buffer error\",\"-6\":\"incompatible version\"}},292:k=>{\"use strict\";function I(){this.input=null,this.next_in=0,this.avail_in=0,this.total_in=0,this.output=null,this.next_out=0,this.avail_out=0,this.total_out=0,this.msg=\"\",this.state=null,this.data_type=2,this.adler=0}k.exports=I},330:(k,I,E)=>{\"use strict\";E.d(I,{default:()=>C});var T=E(829),n=E(861),g=E.n(n),s=E(843);function m(u){if(u.__type__==\"npy\"){var v;if(window.obj=u,u.hasOwnProperty(\"zdata\")){const f=Uint8Array.from(window.atob(u.zdata),d=>d.charCodeAt(0));v=(0,s.rr)(f)}else v=Uint8Array.from(window.atob(u.data),f=>f.charCodeAt(0));var l=(0,T.g)(v.buffer);if(l=n(l.data,l.shape),u.hasOwnProperty(\"min\")){let f=l.dtype===\"uint8\"?255:65535;for(var h=1,c=0;c<l.shape.length;c++)h=h*l.shape[c];for(var N=n(new Float32Array(h),l.shape),c=0;c<l.data.length;c++)N.data[c]=u.min+(u.max-u.min)*l.data[c]/f;return N}else return l}else return{}}function _(u){if(Array.isArray(u)){var v=[];for(var l of u)v.push(_(l));return v}else if(u instanceof Object){if(u.hasOwnProperty(\"__type__\"))return m(u);var v={};for(var h of Object.keys(u))v[h]=_(u[h]);return v}else return u}const C=loader={unpack_obj:_}}},ye={};function se(k){if(ye[k])return ye[k].exports;var I=ye[k]={exports:{}};return Ze[k](I,I.exports,se),I.exports}return se.n=k=>{var I=k&&k.__esModule?()=>k.default:()=>k;return se.d(I,{a:I}),I},se.d=(k,I)=>{for(var E in I)se.o(I,E)&&!se.o(k,E)&&Object.defineProperty(k,E,{enumerable:!0,get:I[E]})},se.o=(k,I)=>Object.prototype.hasOwnProperty.call(k,I),se(330)})().default;\n",
              "</script>\n",
              "<script>var AttentionMulti;AttentionMulti=(()=>{\"use strict\";var St={143:(x,B,te)=>{te.d(B,{default:()=>mn});function P(){}const me=e=>e;function jt(e,t){for(const n in t)e[n]=t[n];return e}function Mt(e){return e&&typeof e==\"object\"&&typeof e.then==\"function\"}function En(e,t,n,i,o){e.__svelte_meta={loc:{file:t,line:n,column:i,char:o}}}function Ge(e){return e()}function Se(){return Object.create(null)}function H(e){e.forEach(Ge)}function fe(e){return typeof e==\"function\"}function je(e,t){return e!=e?t==t:e!==t||e&&typeof e==\"object\"||typeof e==\"function\"}function Sn(e,t){return e!=e?t==t:e!==t}function Ke(e){return Object.keys(e).length===0}function jn(e,t){if(e!=null&&typeof e.subscribe!=\"function\")throw new Error(`'${t}' is not a store with a 'subscribe' method`)}function Qe(e,...t){if(e==null)return P;const n=e.subscribe(...t);return n.unsubscribe?()=>n.unsubscribe():n}function Mn(e){let t;return Qe(e,n=>t=n)(),t}function An(e,t,n){e.$$.on_destroy.push(Qe(t,n))}function At(e,t,n,i){if(e){const o=Me(e,t,n,i);return e[0](o)}}function Me(e,t,n,i){return e[1]&&i?jt(n.ctx.slice(),e[1](i(t))):n.ctx}function Ze(e,t,n,i){if(e[2]&&i){const o=e[2](i(n));if(t.dirty===void 0)return o;if(typeof o==\"object\"){const l=[],s=Math.max(t.dirty.length,o.length);for(let r=0;r<s;r+=1)l[r]=t.dirty[r]|o[r];return l}return t.dirty|o}return t.dirty}function Ct(e,t,n,i,o,l,s){const r=Ze(t,i,o,l);if(r){const f=Me(t,n,i,s);e.p(f,r)}}function Cn(e,t,n,i,o,l,s,r){const f=s(o)|Ze(t,i,o,l);if(f){const a=Me(t,n,i,r);e.p(a,f)}}function Dn(e){const t={};for(const n in e)n[0]!==\"$\"&&(t[n]=e[n]);return t}function On(e,t){const n={};t=new Set(t);for(const i in e)!t.has(i)&&i[0]!==\"$\"&&(n[i]=e[i]);return n}function Tn(e){const t={};for(const n in e)t[n]=!0;return t}function Ln(e){let t=!1;return function(...n){t||(t=!0,e.call(this,...n))}}function Nn(e){return e==null?\"\":e}function Pn(e,t,n=t){return e.set(n),t}const Dt=(e,t)=>Object.prototype.hasOwnProperty.call(e,t);function Rn(e){return e&&fe(e.destroy)?e.destroy:P}const Bn=typeof window!=\"undefined\";let ae=null,ge=null;function Hn(e){ae=e}function xn(e){ge=e}const K=new Set;function $e(e){K.forEach(t=>{t.c(e)||(K.delete(t),t.f())}),K.size!==0&&ge($e)}function zn(){K.clear()}function ve(e){let t;return K.size===0&&ge($e),{promise:new Promise(n=>{K.add(t={c:e,f:n})}),abort(){K.delete(t)}}}function E(e,t){e.appendChild(t)}function C(e,t,n){e.insertBefore(t,n||null)}function j(e){e.parentNode.removeChild(e)}function et(e,t){for(let n=0;n<e.length;n+=1)e[n]&&e[n].d(t)}function F(e){return document.createElement(e)}function In(e,t){return document.createElement(e,{is:t})}function Vn(e,t){const n={};for(const i in e)Dt(e,i)&&t.indexOf(i)===-1&&(n[i]=e[i]);return n}function Ot(e){return document.createElementNS(\"http://www.w3.org/2000/svg\",e)}function R(e){return document.createTextNode(e)}function T(){return R(\" \")}function tt(){return R(\"\")}function z(e,t,n,i){return e.addEventListener(t,n,i),()=>e.removeEventListener(t,n,i)}function Wn(e){return function(t){return t.preventDefault(),e.call(this,t)}}function Yn(e){return function(t){return t.stopPropagation(),e.call(this,t)}}function Un(e){return function(t){t.target===this&&e.call(this,t)}}function y(e,t,n){n==null?e.removeAttribute(t):e.getAttribute(t)!==n&&e.setAttribute(t,n)}function Jn(e,t){const n=Object.getOwnPropertyDescriptors(e.__proto__);for(const i in t)t[i]==null?e.removeAttribute(i):i===\"style\"?e.style.cssText=t[i]:i===\"__value\"?e.value=e[i]=t[i]:n[i]&&n[i].set?e[i]=t[i]:y(e,i,t[i])}function Xn(e,t){for(const n in t)y(e,n,t[n])}function Gn(e,t,n){t in e?e[t]=n:y(e,t,n)}function Kn(e,t,n){e.setAttributeNS(\"http://www.w3.org/1999/xlink\",t,n)}function Qn(e,t,n){const i=new Set;for(let o=0;o<e.length;o+=1)e[o].checked&&i.add(e[o].__value);return n||i.delete(t),Array.from(i)}function Zn(e){return e===\"\"?null:+e}function $n(e){const t=[];for(let n=0;n<e.length;n+=1)t.push({start:e.start(n),end:e.end(n)});return t}function Tt(e){return Array.from(e.childNodes)}function ei(e,t,n,i){for(let o=0;o<e.length;o+=1){const l=e[o];if(l.nodeName===t){let s=0;const r=[];for(;s<l.attributes.length;){const f=l.attributes[s++];n[f.name]||r.push(f.name)}for(let f=0;f<r.length;f++)l.removeAttribute(r[f]);return e.splice(o,1)[0]}}return i?Ot(t):F(t)}function Lt(e,t){for(let n=0;n<e.length;n+=1){const i=e[n];if(i.nodeType===3)return i.data=\"\"+t,e.splice(n,1)[0]}return R(t)}function ti(e){return Lt(e,\" \")}function ke(e,t){t=\"\"+t,e.wholeText!==t&&(e.data=t)}function ni(e,t){e.value=t==null?\"\":t}function ii(e,t){try{e.type=t}catch(n){}}function S(e,t,n,i){e.style.setProperty(t,n,i?\"important\":\"\")}function oi(e,t){for(let n=0;n<e.options.length;n+=1){const i=e.options[n];if(i.__value===t){i.selected=!0;return}}}function li(e,t){for(let n=0;n<e.options.length;n+=1){const i=e.options[n];i.selected=~t.indexOf(i.__value)}}function si(e){const t=e.querySelector(\":checked\")||e.options[0];return t&&t.__value}function ri(e){return[].map.call(e.querySelectorAll(\":checked\"),t=>t.__value)}let be;function Nt(){if(be===void 0){be=!1;try{typeof window!=\"undefined\"&&window.parent&&window.parent.document}catch(e){be=!0}}return be}function ui(e,t){getComputedStyle(e).position===\"static\"&&(e.style.position=\"relative\");const i=F(\"iframe\");i.setAttribute(\"style\",\"display: block; position: absolute; top: 0; left: 0; width: 100%; height: 100%; overflow: hidden; border: 0; opacity: 0; pointer-events: none; z-index: -1;\"),i.setAttribute(\"aria-hidden\",\"true\"),i.tabIndex=-1;const o=Nt();let l;return o?(i.src=\"data:text/html,<script>onresize=function(){parent.postMessage(0,'*')}<\\/script>\",l=z(window,\"message\",s=>{s.source===i.contentWindow&&t()})):(i.src=\"about:blank\",i.onload=()=>{l=z(i.contentWindow,\"resize\",t)}),E(e,i),()=>{(o||l&&i.contentWindow)&&l(),j(i)}}function fi(e,t,n){e.classList[n?\"add\":\"remove\"](t)}function Ae(e,t){const n=document.createEvent(\"CustomEvent\");return n.initCustomEvent(e,!1,!1,t),n}function ai(e,t=document.body){return Array.from(t.querySelectorAll(e))}class ci{constructor(t=null){this.a=t,this.e=this.n=null}m(t,n,i=null){this.e||(this.e=F(n.nodeName),this.t=n,this.h(t)),this.i(i)}h(t){this.e.innerHTML=t,this.n=Array.from(this.e.childNodes)}i(t){for(let n=0;n<this.n.length;n+=1)C(this.t,this.n[n],t)}p(t){this.d(),this.h(t),this.i(this.a)}d(){this.n.forEach(j)}}function di(e){const t={};for(const n of e)t[n.name]=n.value;return t}function _i(e){const t={};return e.childNodes.forEach(n=>{t[n.slot||\"default\"]=!0}),t}const Ce=new Set;let ye=0;function Pt(e){let t=5381,n=e.length;for(;n--;)t=(t<<5)-t^e.charCodeAt(n);return t>>>0}function ce(e,t,n,i,o,l,s,r=0){const f=16.666/i;let a=`{\n",
              "`;for(let u=0;u<=1;u+=f){const _=t+(n-t)*l(u);a+=u*100+`%{${s(_,1-_)}}\n",
              "`}const c=a+`100% {${s(n,1-n)}}\n",
              "}`,d=`__svelte_${Pt(c)}_${r}`,h=e.ownerDocument;Ce.add(h);const p=h.__svelte_stylesheet||(h.__svelte_stylesheet=h.head.appendChild(F(\"style\")).sheet),m=h.__svelte_rules||(h.__svelte_rules={});m[d]||(m[d]=!0,p.insertRule(`@keyframes ${d} ${c}`,p.cssRules.length));const g=e.style.animation||\"\";return e.style.animation=`${g?`${g}, `:\"\"}${d} ${i}ms linear ${o}ms 1 both`,ye+=1,d}function de(e,t){const n=(e.style.animation||\"\").split(\", \"),i=n.filter(t?l=>l.indexOf(t)<0:l=>l.indexOf(\"__svelte\")===-1),o=n.length-i.length;o&&(e.style.animation=i.join(\", \"),ye-=o,ye||Rt())}function Rt(){ge(()=>{ye||(Ce.forEach(e=>{const t=e.__svelte_stylesheet;let n=t.cssRules.length;for(;n--;)t.deleteRule(n);e.__svelte_rules={}}),Ce.clear())})}function hi(e,t,n,i){if(!t)return P;const o=e.getBoundingClientRect();if(t.left===o.left&&t.right===o.right&&t.top===o.top&&t.bottom===o.bottom)return P;const{delay:l=0,duration:s=300,easing:r=me,start:f=ae()+l,end:a=f+s,tick:c=P,css:d}=n(e,{from:t,to:o},i);let h=!0,p=!1,m;function g(){d&&(m=ce(e,0,1,s,l,r,d)),l||(p=!0)}function u(){d&&de(e,m),h=!1}return ve(_=>{if(!p&&_>=f&&(p=!0),p&&_>=a&&(c(1,0),u()),!h)return!1;if(p){const k=_-f,w=0+1*r(k/s);c(w,1-w)}return!0}),g(),c(0,1),u}function pi(e){const t=getComputedStyle(e);if(t.position!==\"absolute\"&&t.position!==\"fixed\"){const{width:n,height:i}=t,o=e.getBoundingClientRect();e.style.position=\"absolute\",e.style.width=n,e.style.height=i,Bt(e,o)}}function Bt(e,t){const n=e.getBoundingClientRect();if(t.left!==n.left||t.top!==n.top){const i=getComputedStyle(e),o=i.transform===\"none\"?\"\":i.transform;e.style.transform=`${o} translate(${t.left-n.left}px, ${t.top-n.top}px)`}}let _e;function I(e){_e=e}function U(){if(!_e)throw new Error(\"Function called outside component initialization\");return _e}function mi(e){U().$$.before_update.push(e)}function Ht(e){U().$$.on_mount.push(e)}function gi(e){U().$$.after_update.push(e)}function vi(e){U().$$.on_destroy.push(e)}function ki(){const e=U();return(t,n)=>{const i=e.$$.callbacks[t];if(i){const o=Ae(t,n);i.slice().forEach(l=>{l.call(e,o)})}}}function bi(e,t){U().$$.context.set(e,t)}function yi(e){return U().$$.context.get(e)}function wi(e){return U().$$.context.has(e)}function Fi(e,t){const n=e.$$.callbacks[t.type];n&&n.slice().forEach(i=>i(t))}const he=[],qi={enabled:!1},ne=[],we=[],De=[],nt=Promise.resolve();let Oe=!1;function it(){Oe||(Oe=!0,nt.then(Ne))}function Ei(){return it(),nt}function ie(e){we.push(e)}function ot(e){De.push(e)}let Te=!1;const Le=new Set;function Ne(){if(!Te){Te=!0;do{for(let e=0;e<he.length;e+=1){const t=he[e];I(t),xt(t.$$)}for(I(null),he.length=0;ne.length;)ne.pop()();for(let e=0;e<we.length;e+=1){const t=we[e];Le.has(t)||(Le.add(t),t())}we.length=0}while(he.length);for(;De.length;)De.pop()();Oe=!1,Te=!1,Le.clear()}}function xt(e){if(e.fragment!==null){e.update(),H(e.before_update);const t=e.dirty;e.dirty=[-1],e.fragment&&e.fragment.p(e.ctx,t),e.after_update.forEach(ie)}}let pe;function Pe(){return pe||(pe=Promise.resolve(),pe.then(()=>{pe=null})),pe}function Q(e,t,n){e.dispatchEvent(Ae(`${t?\"intro\":\"outro\"}${n}`))}const Fe=new Set;let V;function oe(){V={r:0,c:[],p:V}}function le(){V.r||H(V.c),V=V.p}function O(e,t){e&&e.i&&(Fe.delete(e),e.i(t))}function L(e,t,n,i){if(e&&e.o){if(Fe.has(e))return;Fe.add(e),V.c.push(()=>{Fe.delete(e),i&&(n&&e.d(1),i())}),e.o(t)}}const Re={duration:0};function Si(e,t,n){let i=t(e,n),o=!1,l,s,r=0;function f(){l&&de(e,l)}function a(){const{delay:d=0,duration:h=300,easing:p=me,tick:m=P,css:g}=i||Re;g&&(l=ce(e,0,1,h,d,p,g,r++)),m(0,1);const u=ae()+d,_=u+h;s&&s.abort(),o=!0,ie(()=>Q(e,!0,\"start\")),s=ve(k=>{if(o){if(k>=_)return m(1,0),Q(e,!0,\"end\"),f(),o=!1;if(k>=u){const w=p((k-u)/h);m(w,1-w)}}return o})}let c=!1;return{start(){c||(de(e),fe(i)?(i=i(),Pe().then(a)):a())},invalidate(){c=!1},end(){o&&(f(),o=!1)}}}function ji(e,t,n){let i=t(e,n),o=!0,l;const s=V;s.r+=1;function r(){const{delay:f=0,duration:a=300,easing:c=me,tick:d=P,css:h}=i||Re;h&&(l=ce(e,1,0,a,f,c,h));const p=ae()+f,m=p+a;ie(()=>Q(e,!1,\"start\")),ve(g=>{if(o){if(g>=m)return d(0,1),Q(e,!1,\"end\"),--s.r||H(s.c),!1;if(g>=p){const u=c((g-p)/a);d(1-u,u)}}return o})}return fe(i)?Pe().then(()=>{i=i(),r()}):r(),{end(f){f&&i.tick&&i.tick(1,0),o&&(l&&de(e,l),o=!1)}}}function Mi(e,t,n,i){let o=t(e,n),l=i?0:1,s=null,r=null,f=null;function a(){f&&de(e,f)}function c(h,p){const m=h.b-l;return p*=Math.abs(m),{a:l,b:h.b,d:m,duration:p,start:h.start,end:h.start+p,group:h.group}}function d(h){const{delay:p=0,duration:m=300,easing:g=me,tick:u=P,css:_}=o||Re,k={start:ae()+p,b:h};h||(k.group=V,V.r+=1),s||r?r=k:(_&&(a(),f=ce(e,l,h,m,p,g,_)),h&&u(0,1),s=c(k,m),ie(()=>Q(e,h,\"start\")),ve(w=>{if(r&&w>r.start&&(s=c(r,m),r=null,Q(e,s.b,\"start\"),_&&(a(),f=ce(e,l,s.b,s.duration,0,g,o.css))),s){if(w>=s.end)u(l=s.b,1-l),Q(e,s.b,\"end\"),r||(s.b?a():--s.group.r||H(s.group.c)),s=null;else if(w>=s.start){const M=w-s.start;l=s.a+s.d*g(M/s.duration),u(l,1-l)}}return!!(s||r)}))}return{run(h){fe(o)?Pe().then(()=>{o=o(),d(h)}):d(h)},end(){a(),s=r=null}}}function Ai(e,t){const n=t.token={};function i(o,l,s,r){if(t.token!==n)return;t.resolved=r;let f=t.ctx;s!==void 0&&(f=f.slice(),f[s]=r);const a=o&&(t.current=o)(f);let c=!1;t.block&&(t.blocks?t.blocks.forEach((d,h)=>{h!==l&&d&&(oe(),L(d,1,1,()=>{t.blocks[h]===d&&(t.blocks[h]=null)}),le())}):t.block.d(1),a.c(),O(a,1),a.m(t.mount(),t.anchor),c=!0),t.block=a,t.blocks&&(t.blocks[l]=a),c&&Ne()}if(Mt(e)){const o=U();if(e.then(l=>{I(o),i(t.then,1,t.value,l),I(null)},l=>{if(I(o),i(t.catch,2,t.error,l),I(null),!t.hasCatch)throw l}),t.current!==t.pending)return i(t.pending,0),!0}else{if(t.current!==t.then)return i(t.then,1,t.value,e),!0;t.resolved=e}}const Ci=typeof window!=\"undefined\"?window:typeof globalThis!=\"undefined\"?globalThis:global;function zt(e,t){e.d(1),t.delete(e.key)}function It(e,t){L(e,1,1,()=>{t.delete(e.key)})}function Di(e,t){e.f(),zt(e,t)}function Oi(e,t){e.f(),It(e,t)}function Ti(e,t,n,i,o,l,s,r,f,a,c,d){let h=e.length,p=l.length,m=h;const g={};for(;m--;)g[e[m].key]=m;const u=[],_=new Map,k=new Map;for(m=p;m--;){const b=d(o,l,m),v=n(b);let q=s.get(v);q?i&&q.p(b,t):(q=a(v,b),q.c()),_.set(v,u[m]=q),v in g&&k.set(v,Math.abs(m-g[v]))}const w=new Set,M=new Set;function N(b){O(b,1),b.m(r,c),s.set(b.key,b),c=b.first,p--}for(;h&&p;){const b=u[p-1],v=e[h-1],q=b.key,D=v.key;b===v?(c=b.first,h--,p--):_.has(D)?!s.has(q)||w.has(q)?N(b):M.has(D)?h--:k.get(q)>k.get(D)?(M.add(q),N(b)):(w.add(D),h--):(f(v,s),h--)}for(;h--;){const b=e[h];_.has(b.key)||f(b,s)}for(;p;)N(u[p-1]);return u}function Li(e,t,n,i){const o=new Set;for(let l=0;l<t.length;l++){const s=i(n(e,t,l));if(o.has(s))throw new Error(\"Cannot have duplicate keys in a keyed each\");o.add(s)}}function Ni(e,t){const n={},i={},o={$$scope:1};let l=e.length;for(;l--;){const s=e[l],r=t[l];if(r){for(const f in s)f in r||(i[f]=1);for(const f in r)o[f]||(n[f]=r[f],o[f]=1);e[l]=r}else for(const f in s)o[f]=1}for(const s in i)s in n||(n[s]=void 0);return n}function Pi(e){return typeof e==\"object\"&&e!==null?e:{}}const Vt=new Set([\"allowfullscreen\",\"allowpaymentrequest\",\"async\",\"autofocus\",\"autoplay\",\"checked\",\"controls\",\"default\",\"defer\",\"disabled\",\"formnovalidate\",\"hidden\",\"ismap\",\"loop\",\"multiple\",\"muted\",\"nomodule\",\"novalidate\",\"open\",\"playsinline\",\"readonly\",\"required\",\"reversed\",\"selected\"]),Wt=/[\\s'\">/=\\u{FDD0}-\\u{FDEF}\\u{FFFE}\\u{FFFF}\\u{1FFFE}\\u{1FFFF}\\u{2FFFE}\\u{2FFFF}\\u{3FFFE}\\u{3FFFF}\\u{4FFFE}\\u{4FFFF}\\u{5FFFE}\\u{5FFFF}\\u{6FFFE}\\u{6FFFF}\\u{7FFFE}\\u{7FFFF}\\u{8FFFE}\\u{8FFFF}\\u{9FFFE}\\u{9FFFF}\\u{AFFFE}\\u{AFFFF}\\u{BFFFE}\\u{BFFFF}\\u{CFFFE}\\u{CFFFF}\\u{DFFFE}\\u{DFFFF}\\u{EFFFE}\\u{EFFFF}\\u{FFFFE}\\u{FFFFF}\\u{10FFFE}\\u{10FFFF}]/u;function Ri(e,t){const n=Object.assign({},...e);t&&(n.class==null?n.class=t:n.class+=\" \"+t);let i=\"\";return Object.keys(n).forEach(o=>{if(Wt.test(o))return;const l=n[o];l===!0?i+=\" \"+o:Vt.has(o.toLowerCase())?l&&(i+=\" \"+o):l!=null&&(i+=` ${o}=\"${String(l).replace(/\"/g,\"&#34;\").replace(/'/g,\"&#39;\")}\"`)}),i}const Yt={'\"':\"&quot;\",\"'\":\"&#39;\",\"&\":\"&amp;\",\"<\":\"&lt;\",\">\":\"&gt;\"};function Ut(e){return String(e).replace(/[\"'&<>]/g,t=>Yt[t])}function Bi(e,t){let n=\"\";for(let i=0;i<e.length;i+=1)n+=t(e[i],i);return n}const Hi={$$render:()=>\"\"};function xi(e,t){if(!e||!e.$$render)throw t===\"svelte:component\"&&(t+=\" this={...}\"),new Error(`<${t}> is not a valid SSR component. You may need to review your build config to ensure that dependencies are compiled, rather than imported as pre-compiled modules`);return e}function zi(e,t,n,i){return console.log(`{@debug} ${e?e+\" \":\"\"}(${t}:${n})`),console.log(i),\"\"}let Be;function Ii(e){function t(n,i,o,l){const s=_e,r={on_destroy:Be,context:new Map(s?s.$$.context:[]),on_mount:[],before_update:[],after_update:[],callbacks:Se()};I({$$:r});const f=e(n,i,o,l);return I(s),f}return{render:(n={},i={})=>{Be=[];const o={title:\"\",head:\"\",css:new Set},l=t(o,n,{},i);return H(Be),{html:l,css:{code:Array.from(o.css).map(s=>s.code).join(`\n",
              "`),map:null},head:o.title+o.head}},$$render:t}}function Vi(e,t,n){return t==null||n&&!t?\"\":` ${e}${t===!0?\"\":`=${typeof t==\"string\"?JSON.stringify(Ut(t)):`\"${t}\"`}`}`}function Wi(e){return e?` class=\"${e}\"`:\"\"}function lt(e,t,n){const i=e.$$.props[t];i!==void 0&&(e.$$.bound[i]=n,n(e.$$.ctx[i]))}function se(e){e&&e.c()}function Yi(e,t){e&&e.l(t)}function Z(e,t,n){const{fragment:i,on_mount:o,on_destroy:l,after_update:s}=e.$$;i&&i.m(t,n),ie(()=>{const r=o.map(Ge).filter(fe);l?l.push(...r):H(r),e.$$.on_mount=[]}),s.forEach(ie)}function X(e,t){const n=e.$$;n.fragment!==null&&(H(n.on_destroy),n.fragment&&n.fragment.d(t),n.on_destroy=n.fragment=null,n.ctx=[])}function Jt(e,t){e.$$.dirty[0]===-1&&(he.push(e),it(),e.$$.dirty.fill(0)),e.$$.dirty[t/31|0]|=1<<t%31}function He(e,t,n,i,o,l,s=[-1]){const r=_e;I(e);const f=t.props||{},a=e.$$={fragment:null,ctx:null,props:l,update:P,not_equal:o,bound:Se(),on_mount:[],on_destroy:[],before_update:[],after_update:[],context:new Map(r?r.$$.context:[]),callbacks:Se(),dirty:s,skip_bound:!1};let c=!1;if(a.ctx=n?n(e,f,(d,h,...p)=>{const m=p.length?p[0]:h;return a.ctx&&o(a.ctx[d],a.ctx[d]=m)&&(!a.skip_bound&&a.bound[d]&&a.bound[d](m),c&&Jt(e,d)),h}):[],a.update(),c=!0,H(a.before_update),a.fragment=i?i(a.ctx):!1,t.target){if(t.hydrate){const d=Tt(t.target);a.fragment&&a.fragment.l(d),d.forEach(j)}else a.fragment&&a.fragment.c();t.intro&&O(e.$$.fragment),Z(e,t.target,t.anchor),Ne()}I(r)}let Xt;typeof HTMLElement==\"function\"&&(Xt=class extends HTMLElement{constructor(){super(),this.attachShadow({mode:\"open\"})}connectedCallback(){for(const e in this.$$.slotted)this.appendChild(this.$$.slotted[e])}attributeChangedCallback(e,t,n){this[e]=n}$destroy(){X(this,1),this.$destroy=P}$on(e,t){const n=this.$$.callbacks[e]||(this.$$.callbacks[e]=[]);return n.push(t),()=>{const i=n.indexOf(t);i!==-1&&n.splice(i,1)}}$set(e){this.$$set&&!Ke(e)&&(this.$$.skip_bound=!0,this.$$set(e),this.$$.skip_bound=!1)}});class xe{$destroy(){X(this,1),this.$destroy=P}$on(t,n){const i=this.$$.callbacks[t]||(this.$$.callbacks[t]=[]);return i.push(n),()=>{const o=i.indexOf(n);o!==-1&&i.splice(o,1)}}$set(t){this.$$set&&!Ke(t)&&(this.$$.skip_bound=!0,this.$$set(t),this.$$.skip_bound=!1)}}function W(e,t){document.dispatchEvent(Ae(e,Object.assign({version:\"3.31.2\"},t)))}function Ui(e,t){W(\"SvelteDOMInsert\",{target:e,node:t}),E(e,t)}function Ji(e,t,n){W(\"SvelteDOMInsert\",{target:e,node:t,anchor:n}),C(e,t,n)}function ze(e){W(\"SvelteDOMRemove\",{node:e}),j(e)}function Xi(e,t){for(;e.nextSibling&&e.nextSibling!==t;)ze(e.nextSibling)}function Gi(e){for(;e.previousSibling;)ze(e.previousSibling)}function Ki(e){for(;e.nextSibling;)ze(e.nextSibling)}function Qi(e,t,n,i,o,l){const s=i===!0?[\"capture\"]:i?Array.from(Object.keys(i)):[];o&&s.push(\"preventDefault\"),l&&s.push(\"stopPropagation\"),W(\"SvelteDOMAddEventListener\",{node:e,event:t,handler:n,modifiers:s});const r=z(e,t,n,i);return()=>{W(\"SvelteDOMRemoveEventListener\",{node:e,event:t,handler:n,modifiers:s}),r()}}function Zi(e,t,n){y(e,t,n),n==null?W(\"SvelteDOMRemoveAttribute\",{node:e,attribute:t}):W(\"SvelteDOMSetAttribute\",{node:e,attribute:t,value:n})}function $i(e,t,n){e[t]=n,W(\"SvelteDOMSetProperty\",{node:e,property:t,value:n})}function eo(e,t,n){e.dataset[t]=n,W(\"SvelteDOMSetDataset\",{node:e,property:t,value:n})}function to(e,t){t=\"\"+t,e.wholeText!==t&&(W(\"SvelteDOMSetData\",{node:e,data:t}),e.data=t)}function no(e){if(typeof e!=\"string\"&&!(e&&typeof e==\"object\"&&\"length\"in e)){let t=\"{#each} only iterates over array-like objects.\";throw typeof Symbol==\"function\"&&e&&Symbol.iterator in e&&(t+=\" You can use a spread to convert this iterable into an array.\"),new Error(t)}}function io(e,t,n){for(const i of Object.keys(t))~n.indexOf(i)||console.warn(`<${e}> received an unexpected slot \"${i}\".`)}class oo extends null{constructor(t){if(!t||!t.target&&!t.$$inline)throw new Error(\"'target' is a required option\");super()}$destroy(){super.$destroy(),this.$destroy=()=>{console.warn(\"Component was already destroyed\")}}$capture_state(){}$inject_state(){}}class lo extends null{constructor(t){super(t)}}function so(e){const t=Date.now();return()=>{if(Date.now()-t>e)throw new Error(\"Infinite loop detected\")}}function ro(e,t){return e.map((n,i)=>n+t[i])}function uo(e,t){return t.map(n=>e*n)}function Gt(e,t,n){return e.map((i,o)=>(1-n)*i+n*t[o])}function st(e,t=2){if(!(\"length\"in e))return Kt(e,t);for(var n=0,i=0;i<e.length;i++)n+=Math.pow(Math.abs(e[i]),t);return Math.pow(n,1/t)}function Kt(e,t=2){for(var n=0,i=0;i<e.shape[0];i++)n+=Math.pow(Math.abs(e.get(i)),t);return Math.pow(n,1/t)}function Ie(e,t=2){var n=st(e,t);return e.map(i=>i/(1e-4+n))}function Qt(e){for(var t=[[1,0,0],[1,1,0],[0,1,0],[0,1,1],[0,0,1],[1,0,1]].map(s=>Ie(s,1));e<0;)e+=360;e=e%360;var n=360/t.length,i=Math.floor(e/n),o=(e-i*n)/n,l=Gt(t[i],t[(i+1)%t.length],o);return l=Ie(l,1),l}const Ve=[];function Zt(e){if(e in Ve)return Ve[e];let t=[];for(let n=0;n<e;n++){const i=360*n/e;t.push(Qt(i))}return Ve[e]=t,t}function rt(e){return`rgb(${255*e[0]}, ${255*e[1]}, ${255*e[2]})`}function ut(e,t=[.98,.98,.98],n=void 0,i=void 0){const o=\"length\"in e?e.length:e.shape[0],l=\"length\"in e?h=>e[h]:h=>e.get(h);if(i==null&&(i=Zt(o)),console.log(\"Hues\",i),n==null){for(var s=[0,0,0],r=0;r<o;r++){const h=l(r);if(h!=0)for(var f=i[r],a=0;a<3;a++)s[a]+=h*f[a]}s=Ie(s,1);for(var c=st(e,2),c=Math.max(0,Math.min(1,c)),a=0;a<3;a++)s[a]=c*s[a]+(1-c)*t[a];return s}else{for(var r=n,d=i[r],s=[0,0,0],a=0;a<3;a++)s[a]=l(r)*d[a]+(1-l(r))*t[a];return s}}function We(e,t=[.98,.98,.98],n=void 0,i=void 0){var o=ut(e,t,n,i);return rt(o)}function $t(e,t=[.98,.98,.98]){if(e>=0)for(var n=[0,.7,0],i=[0,0,0],o=0;o<3;o++)i[o]=e*n[o]+(1-e)*t[o];else for(var n=[1,0,0],i=[0,0,0],o=0;o<3;o++)i[o]=-e*n[o]+(1+e)*t[o];return console.log(\"Neuron color\",e,i),i}function fo(e,t=[.98,.98,.98]){var n=$t(e,t);return rt(n)}function en(){var e=F(\"style\");e.id=\"svelte-1fjpmsy-style\",e.textContent=\".container.svelte-1fjpmsy.svelte-1fjpmsy{position:relative;border:1px solid #aaa}.container.svelte-1fjpmsy>.svelte-1fjpmsy{position:absolute}.container.svelte-1fjpmsy canvas.svelte-1fjpmsy{left:0px;top:0px;width:100%;height:100%;image-rendering:pixelated}.container.svelte-1fjpmsy .focus-top.svelte-1fjpmsy,.container.svelte-1fjpmsy .focus-bottom.svelte-1fjpmsy{left:0px;width:100%;background:#aaa;opacity:0.3}.container.svelte-1fjpmsy .focus-top.svelte-1fjpmsy{top:0px}.container.svelte-1fjpmsy .focus-bottom.svelte-1fjpmsy{bottom:0px}.container.svelte-1fjpmsy .focus-left.svelte-1fjpmsy,.container.svelte-1fjpmsy .focus-right.svelte-1fjpmsy{top:0px;height:100%;background:#aaa;opacity:0.3}.container.svelte-1fjpmsy .focus-left.svelte-1fjpmsy{left:0px}.container.svelte-1fjpmsy .focus-right.svelte-1fjpmsy{right:0px}\",E(document.head,e)}function ft(e){let t,n,i,o=e[3]!=null&&at(e);return{c(){t=F(\"div\"),n=F(\"canvas\"),i=T(),o&&o.c(),S(n,\"width\",e[1]+\"px\"),S(n,\"height\",e[2]+\"px\"),y(n,\"class\",\"svelte-1fjpmsy\"),y(t,\"class\",\"container svelte-1fjpmsy\"),S(t,\"width\",e[1]+\"px\"),S(t,\"height\",e[2]+\"px\")},m(l,s){C(l,t,s),E(t,n),e[9](n),E(t,i),o&&o.m(t,null)},p(l,s){s&2&&S(n,\"width\",l[1]+\"px\"),s&4&&S(n,\"height\",l[2]+\"px\"),l[3]!=null?o?o.p(l,s):(o=at(l),o.c(),o.m(t,null)):o&&(o.d(1),o=null),s&2&&S(t,\"width\",l[1]+\"px\"),s&4&&S(t,\"height\",l[2]+\"px\")},d(l){l&&j(t),e[9](null),o&&o.d()}}}function at(e){let t,n,i;return{c(){t=F(\"div\"),n=T(),i=F(\"div\"),y(t,\"class\",\"focus-top svelte-1fjpmsy\"),S(t,\"height\",e[2]*e[3]/e[0].shape[0]+\"px\"),y(i,\"class\",\"focus-bottom svelte-1fjpmsy\"),S(i,\"height\",e[2]*(1-(e[3]+1)/e[0].shape[0])+\"px\")},m(o,l){C(o,t,l),C(o,n,l),C(o,i,l)},p(o,l){l&13&&S(t,\"height\",o[2]*o[3]/o[0].shape[0]+\"px\"),l&13&&S(i,\"height\",o[2]*(1-(o[3]+1)/o[0].shape[0])+\"px\")},d(o){o&&j(t),o&&j(n),o&&j(i)}}}function ct(e){let t,n,i,o=e[3]!=null&&dt(e);return{c(){t=F(\"div\"),n=F(\"canvas\"),i=T(),o&&o.c(),S(n,\"width\",e[1]+\"px\"),S(n,\"height\",e[2]+\"px\"),y(n,\"class\",\"svelte-1fjpmsy\"),y(t,\"class\",\"container svelte-1fjpmsy\"),S(t,\"width\",e[1]+\"px\"),S(t,\"height\",e[2]+\"px\")},m(l,s){C(l,t,s),E(t,n),e[10](n),E(t,i),o&&o.m(t,null)},p(l,s){s&2&&S(n,\"width\",l[1]+\"px\"),s&4&&S(n,\"height\",l[2]+\"px\"),l[3]!=null?o?o.p(l,s):(o=dt(l),o.c(),o.m(t,null)):o&&(o.d(1),o=null),s&2&&S(t,\"width\",l[1]+\"px\"),s&4&&S(t,\"height\",l[2]+\"px\")},d(l){l&&j(t),e[10](null),o&&o.d()}}}function dt(e){let t,n,i;return{c(){t=F(\"div\"),n=T(),i=F(\"div\"),y(t,\"class\",\"focus-left svelte-1fjpmsy\"),S(t,\"width\",e[1]*e[3]/e[0].shape[1]+\"px\"),y(i,\"class\",\"focus-right svelte-1fjpmsy\"),S(i,\"width\",e[1]*(1-(e[3]+1)/e[0].shape[1])+\"px\")},m(o,l){C(o,t,l),C(o,n,l),C(o,i,l)},p(o,l){l&11&&S(t,\"width\",o[1]*o[3]/o[0].shape[1]+\"px\"),l&11&&S(i,\"width\",o[1]*(1-(o[3]+1)/o[0].shape[1])+\"px\")},d(o){o&&j(t),o&&j(n),o&&j(i)}}}function tn(e){let t,n,i=!e[4]&&ft(e),o=e[4]&&ct(e);return{c(){i&&i.c(),t=T(),o&&o.c(),n=tt()},m(l,s){i&&i.m(l,s),C(l,t,s),o&&o.m(l,s),C(l,n,s)},p(l,[s]){l[4]?i&&(i.d(1),i=null):i?i.p(l,s):(i=ft(l),i.c(),i.m(t.parentNode,t)),l[4]?o?o.p(l,s):(o=ct(l),o.c(),o.m(n.parentNode,n)):o&&(o.d(1),o=null)},i:P,o:P,d(l){i&&i.d(l),l&&j(t),o&&o.d(l),l&&j(n)}}}function nn(e,t,n){let{array:i}=t,{width:o}=t,{height:l}=t,{hues:s}=t,{focus_token:r}=t,{isolate_channel:f=void 0}=t,{hover_token_is_target:a=!1}=t,{color_map:c=ut}=t,d;function h(u,_,k,w=void 0,M=void 0){if(_<k)return[255,255,255];var N=u.pick(_,k,null),b=c(N,void 0,w,M);return b.map(v=>255*v)}function p(u,_,k=void 0,w=void 0){if(!(u==null||_==null)){u.width=_.shape[0],u.height=_.shape[1];for(var M=u.getContext(\"2d\"),N=M.getImageData(0,0,u.width,u.height),b=0;b<u.width;b++)for(var v=0;v<u.height;v++){for(var q=b*u.width+v,D=h(_,b,v,k,w=w),J=0;J<3;J++)N.data[4*q+J]=D[J];N.data[4*q+3]=255}M.putImageData(N,0,0)}}Ht(()=>p(d,i,f));function m(u){ne[u?\"unshift\":\"push\"](()=>{d=u,n(5,d)})}function g(u){ne[u?\"unshift\":\"push\"](()=>{d=u,n(5,d)})}return e.$$set=u=>{\"array\"in u&&n(0,i=u.array),\"width\"in u&&n(1,o=u.width),\"height\"in u&&n(2,l=u.height),\"hues\"in u&&n(6,s=u.hues),\"focus_token\"in u&&n(3,r=u.focus_token),\"isolate_channel\"in u&&n(7,f=u.isolate_channel),\"hover_token_is_target\"in u&&n(4,a=u.hover_token_is_target),\"color_map\"in u&&n(8,c=u.color_map)},e.$$.update=()=>{if(e.$$.dirty&225){e:p(d,i,f,s)}},[i,o,l,r,a,d,s,f,c,m,g]}class on extends xe{constructor(t){super(),document.getElementById(\"svelte-1fjpmsy-style\")||en(),He(this,t,nn,tn,je,{array:0,width:1,height:2,hues:6,focus_token:3,isolate_channel:7,hover_token_is_target:4,color_map:8})}}const qe=on;function _t(e,t){return e.mode==\"soft\"&&(e.value=t),e}function ln(e,t){if(e.mode==\"soft\")e.value=t,e.mode=\"hard\";else if(e.mode==\"hard\"&&e.value!=t)e.value=t;else return sn(e);return e}function sn(e){return e.value=void 0,e.mode=\"soft\",e}function rn(e){let t,n,i,o;const l=e[4].default,s=At(l,e,e[3],null);return{c(){t=F(\"div\"),s&&s.c(),y(t,\"style\",e[2])},m(r,f){C(r,t,f),s&&s.m(t,null),n=!0,i||(o=[z(t,\"mouseover\",e[5]),z(t,\"click\",e[6]),z(t,\"mouseout\",e[7])],i=!0)},p(r,[f]){s&&s.p&&f&8&&Ct(s,l,r,r[3],f,null,null),(!n||f&4)&&y(t,\"style\",r[2])},i(r){n||(O(s,r),n=!0)},o(r){L(s,r),n=!1},d(r){r&&j(t),s&&s.d(r),i=!1,H(o)}}}function un(e,t,n){let{$$slots:i={},$$scope:o}=t,{lock:l}=t,{set_value:s}=t,{style:r=\"\"}=t;const f=()=>{n(0,l=_t(l,s))},a=()=>{n(0,l=ln(l,s))},c=()=>{n(0,l=_t(l,void 0))};return e.$$set=d=>{\"lock\"in d&&n(0,l=d.lock),\"set_value\"in d&&n(1,s=d.set_value),\"style\"in d&&n(2,r=d.style),\"$$scope\"in d&&n(3,o=d.$$scope)},[l,s,r,o,i,f,a,c]}class fn extends xe{constructor(t){super(),He(this,t,un,rn,je,{lock:0,set_value:1,style:2})}}const ht=fn;function an(){var e=F(\"style\");e.id=\"svelte-xqk9oe-style\",e.textContent=\".attn-container.svelte-xqk9oe.svelte-xqk9oe.svelte-xqk9oe{display:grid;grid-template-rows:[title] min-content [main] min-content;grid-template-columns:[big-attn] min-content [heads] minmax(min-content, 624px);gap:12px}.figcaption.svelte-xqk9oe.svelte-xqk9oe.svelte-xqk9oe{color:#888;grid-row:title;white-space:nowrap}.tokens-container.svelte-xqk9oe.svelte-xqk9oe.svelte-xqk9oe{display:grid;grid-template-rows:[title] min-content [main] min-content;grid-template-columns:[left] min-content [right] minmax(min-content, 800px) [end];gap:12px;margin-top:24px;color:white}.tokens.svelte-xqk9oe.svelte-xqk9oe.svelte-xqk9oe{grid-row:main;grid-column-start:left;grid-column-end:end;cursor:pointer;height:min-content;line-height:110%}.tokens.svelte-xqk9oe .token.svelte-xqk9oe.svelte-xqk9oe{white-space:pre-wrap}.tokens.svelte-xqk9oe .selected.svelte-xqk9oe.svelte-xqk9oe{border:1px solid #999;z-index:10}.tokens.svelte-xqk9oe .token.svelte-xqk9oe.svelte-xqk9oe:not(.selected){z-index:0;padding:1px}.hover-mode.svelte-xqk9oe.svelte-xqk9oe.svelte-xqk9oe,.hover-mode-text.svelte-xqk9oe.svelte-xqk9oe.svelte-xqk9oe,.info-mode.svelte-xqk9oe.svelte-xqk9oe.svelte-xqk9oe,.info-mode-text.svelte-xqk9oe.svelte-xqk9oe.svelte-xqk9oe{color:#888;grid-row:title;grid-column:settings;cursor:pointer}.hover-mode-text.svelte-xqk9oe.svelte-xqk9oe.svelte-xqk9oe,.info-mode-text.svelte-xqk9oe.svelte-xqk9oe.svelte-xqk9oe{margin-right:8px}.heads.svelte-xqk9oe.svelte-xqk9oe.svelte-xqk9oe{grid-column:heads;grid-row:main;display:flex;flex-direction:row;flex-wrap:wrap;gap:6px;height:min-content}.heads.svelte-xqk9oe .head-icon.svelte-xqk9oe.svelte-xqk9oe{position:relative;width:62px;height:62px}.heads.svelte-xqk9oe .head-icon.svelte-xqk9oe>.svelte-xqk9oe{position:absolute;right:0px;top:0px}.heads.svelte-xqk9oe .head-icon .head-label.svelte-xqk9oe.svelte-xqk9oe{background:#333;color:#eee;font-size:65%;padding:1px;border-bottom-left-radius:2px;padding-left:4px;padding-right:2px;min-width:14px;opacity:0.75}\",E(document.head,e)}function pt(e,t,n){const i=e.slice();return i[32]=t[n],i[34]=n,i}function mt(e,t,n){const i=e.slice();return i[35]=t[n],i}function gt(e){let t,n=e[15][e[10]]+\"\",i,o;return{c(){t=R(\"(\"),i=R(n),o=R(\")\")},m(l,s){C(l,t,s),C(l,i,s),C(l,o,s)},p(l,s){s[0]&33792&&n!==(n=l[15][l[10]]+\"\")&&ke(i,n)},d(l){l&&j(t),l&&j(i),l&&j(o)}}}function vt(e){let t,n,i,o;return n=new qe({props:{array:e[7],width:\"200\",height:\"200\",focus_token:e[9],hover_token_is_target:e[2],isolate_channel:e[10]}}),{c(){t=F(\"div\"),se(n.$$.fragment),y(t,\"style\",i=\"grid-column: big-attn; grid-row: main; \"+(e[11]?\"\":\"display:none;\"))},m(l,s){C(l,t,s),Z(n,t,null),o=!0},p(l,s){const r={};s[0]&128&&(r.array=l[7]),s[0]&512&&(r.focus_token=l[9]),s[0]&4&&(r.hover_token_is_target=l[2]),s[0]&1024&&(r.isolate_channel=l[10]),n.$set(r),(!o||s[0]&2048&&i!==(i=\"grid-column: big-attn; grid-row: main; \"+(l[11]?\"\":\"display:none;\")))&&y(t,\"style\",i)},i(l){o||(O(n.$$.fragment,l),o=!0)},o(l){L(n.$$.fragment,l),o=!1},d(l){l&&j(t),X(n)}}}function kt(e){let t,n,i,o,l=re(e[12].shape[2]),s=[];for(let f=0;f<l.length;f+=1)s[f]=bt(mt(e,l,f));const r=f=>L(s[f],1,1,()=>{s[f]=null});return{c(){t=F(\"div\"),t.textContent=\"Attention Heads (hover to focus, click to lock)\",n=T(),i=F(\"div\");for(let f=0;f<s.length;f+=1)s[f].c();y(t,\"class\",\"figcaption svelte-xqk9oe\"),S(t,\"grid-column\",\"heads\"),y(i,\"class\",\"heads svelte-xqk9oe\")},m(f,a){C(f,t,a),C(f,n,a),C(f,i,a);for(let c=0;c<s.length;c+=1)s[c].m(i,null);o=!0},p(f,a){if(a[0]&122566){l=re(f[12].shape[2]);let c;for(c=0;c<l.length;c+=1){const d=mt(f,l,c);s[c]?(s[c].p(d,a),O(s[c],1)):(s[c]=bt(d),s[c].c(),O(s[c],1),s[c].m(i,null))}for(oe(),c=l.length;c<s.length;c+=1)r(c);le()}},i(f){if(!o){for(let a=0;a<l.length;a+=1)O(s[a]);o=!0}},o(f){s=s.filter(Boolean);for(let a=0;a<s.length;a+=1)L(s[a]);o=!1},d(f){f&&j(t),f&&j(n),f&&j(i),et(s,f)}}}function cn(e){let t,n,i,o,l=(e[15][e[35]]!=null?e[15][e[35]]:\"&nbsp\")+\"\",s,r,f,a,c,d,h=(e[15][e[35]]!=null?e[15][e[35]]:\"&nbsp\")+\"\",p,m,g;return n=new qe({props:{array:e[7],width:\"60\",height:\"60\",isolate_channel:e[35]}}),a=new qe({props:{array:e[6],width:\"60\",height:\"60\",isolate_channel:e[35]}}),{c(){t=F(\"div\"),se(n.$$.fragment),i=T(),o=F(\"div\"),r=T(),f=F(\"div\"),se(a.$$.fragment),c=T(),d=F(\"div\"),m=T(),y(o,\"class\",\"head-label svelte-xqk9oe\"),S(o,\"background\",e[14][e[35]]),y(t,\"class\",\"head-icon svelte-xqk9oe\"),y(t,\"style\",s=\"opacity: \"+(e[10]!=null&&e[10]!=e[35]?\"0.2\":e[16](e[35],e[9],e[2]))+`;\n",
              "                        `+(e[11]?\"\":\"display:none;\")),y(d,\"class\",\"head-label svelte-xqk9oe\"),S(d,\"background\",e[14][e[35]]),y(f,\"class\",\"head-icon svelte-xqk9oe\"),y(f,\"style\",p=\"opacity: \"+(e[10]!=null&&e[10]!=e[35]?\"0.2\":e[16](e[35],e[9],e[2]))+`;\n",
              "                        `+(e[11]?\"display:none;\":\"\"))},m(u,_){C(u,t,_),Z(n,t,null),E(t,i),E(t,o),o.innerHTML=l,C(u,r,_),C(u,f,_),Z(a,f,null),E(f,c),E(f,d),d.innerHTML=h,C(u,m,_),g=!0},p(u,_){const k={};_[0]&128&&(k.array=u[7]),_[0]&4096&&(k.isolate_channel=u[35]),n.$set(k),(!g||_[0]&36864)&&l!==(l=(u[15][u[35]]!=null?u[15][u[35]]:\"&nbsp\")+\"\")&&(o.innerHTML=l),(!g||_[0]&20480)&&S(o,\"background\",u[14][u[35]]),(!g||_[0]&7684&&s!==(s=\"opacity: \"+(u[10]!=null&&u[10]!=u[35]?\"0.2\":u[16](u[35],u[9],u[2]))+`;\n",
              "                        `+(u[11]?\"\":\"display:none;\")))&&y(t,\"style\",s);const w={};_[0]&64&&(w.array=u[6]),_[0]&4096&&(w.isolate_channel=u[35]),a.$set(w),(!g||_[0]&36864)&&h!==(h=(u[15][u[35]]!=null?u[15][u[35]]:\"&nbsp\")+\"\")&&(d.innerHTML=h),(!g||_[0]&20480)&&S(d,\"background\",u[14][u[35]]),(!g||_[0]&7684&&p!==(p=\"opacity: \"+(u[10]!=null&&u[10]!=u[35]?\"0.2\":u[16](u[35],u[9],u[2]))+`;\n",
              "                        `+(u[11]?\"display:none;\":\"\")))&&y(f,\"style\",p)},i(u){g||(O(n.$$.fragment,u),O(a.$$.fragment,u),g=!0)},o(u){L(n.$$.fragment,u),L(a.$$.fragment,u),g=!1},d(u){u&&j(t),X(n),u&&j(r),u&&j(f),X(a),u&&j(m)}}}function bt(e){let t,n,i;function o(s){e[22].call(null,s)}let l={set_value:e[35],$$slots:{default:[cn]},$$scope:{ctx:e}};return e[1]!==void 0&&(l.lock=e[1]),t=new ht({props:l}),ne.push(()=>lt(t,\"lock\",o)),{c(){se(t.$$.fragment)},m(s,r){Z(t,s,r),i=!0},p(s,r){const f={};r[0]&4096&&(f.set_value=s[35]),r[0]&57028|r[1]&128&&(f.$$scope={dirty:r,ctx:s}),!n&&r[0]&2&&(n=!0,f.lock=s[1],ot(()=>n=!1)),t.$set(f)},i(s){i||(O(t.$$.fragment,s),i=!0)},o(s){L(t.$$.fragment,s),i=!1},d(s){X(t,s)}}}function yt(e){let t,n,i,o,l,s,r,f,a,c,d,h,p=e[2]?\"target\":\"source\",m,g,u,_,k,w=e[5],M=[];for(let v=0;v<w.length;v+=1)M[v]=wt(pt(e,w,v));const N=v=>L(M[v],1,1,()=>{M[v]=null});let b=e[7]!==void 0&&Ft(e);return{c(){t=F(\"div\"),n=F(\"div\"),n.textContent=\"Tokens (hover to focus, click to lock)\",i=T(),o=F(\"div\");for(let v=0;v<M.length;v+=1)M[v].c();l=T(),s=F(\"div\"),r=F(\"nobr\"),f=F(\"input\"),a=T(),c=F(\"span\"),d=R(`Selected is\n",
              "            `),h=F(\"b\"),m=R(p),g=T(),b&&b.c(),y(n,\"class\",\"figcaption svelte-xqk9oe\"),S(n,\"grid-column\",\"left\"),y(o,\"class\",\"tokens svelte-xqk9oe\"),y(f,\"class\",\"hover-mode svelte-xqk9oe\"),y(f,\"type\",\"checkbox\"),y(c,\"class\",\"hover-mode-text svelte-xqk9oe\"),S(c,\"white-space\",\"nowrap\"),y(s,\"class\",\"toggle\"),y(t,\"class\",\"tokens-container svelte-xqk9oe\")},m(v,q){C(v,t,q),E(t,n),E(t,i),E(t,o);for(let D=0;D<M.length;D+=1)M[D].m(o,null);E(t,l),E(t,s),E(s,r),E(r,f),f.checked=e[2],E(r,a),E(r,c),E(c,d),E(c,h),E(h,m),E(r,g),b&&b.m(r,null),u=!0,_||(k=[z(f,\"change\",e[24]),z(c,\"click\",e[25])],_=!0)},p(v,q){if(q[0]&561){w=v[5];let D;for(D=0;D<w.length;D+=1){const J=pt(v,w,D);M[D]?(M[D].p(J,q),O(M[D],1)):(M[D]=wt(J),M[D].c(),O(M[D],1),M[D].m(o,null))}for(oe(),D=w.length;D<M.length;D+=1)N(D);le()}q[0]&4&&(f.checked=v[2]),(!u||q[0]&4)&&p!==(p=v[2]?\"target\":\"source\")&&ke(m,p),v[7]!==void 0?b?b.p(v,q):(b=Ft(v),b.c(),b.m(r,null)):b&&(b.d(1),b=null)},i(v){if(!u){for(let q=0;q<w.length;q+=1)O(M[q]);u=!0}},o(v){M=M.filter(Boolean);for(let q=0;q<M.length;q+=1)L(M[q]);u=!1},d(v){v&&j(t),et(M,v),b&&b.d(),_=!1,H(k)}}}function dn(e){let t,n=e[32]+\"\",i,o;return{c(){t=F(\"span\"),i=R(n),y(t,\"class\",o=\"token \"+(e[34]==e[9]?\"selected\":\"\")+\" svelte-xqk9oe\"),S(t,\"background\",e[4][e[34]])},m(l,s){C(l,t,s),E(t,i)},p(l,s){s[0]&32&&n!==(n=l[32]+\"\")&&ke(i,n),s[0]&512&&o!==(o=\"token \"+(l[34]==l[9]?\"selected\":\"\")+\" svelte-xqk9oe\")&&y(t,\"class\",o),s[0]&16&&S(t,\"background\",l[4][l[34]])},d(l){l&&j(t)}}}function wt(e){let t,n,i;function o(s){e[23].call(null,s)}let l={set_value:e[34],style:\"display: inline\",$$slots:{default:[dn]},$$scope:{ctx:e}};return e[0]!==void 0&&(l.lock=e[0]),t=new ht({props:l}),ne.push(()=>lt(t,\"lock\",o)),{c(){se(t.$$.fragment)},m(s,r){Z(t,s,r),i=!0},p(s,r){const f={};r[0]&560|r[1]&128&&(f.$$scope={dirty:r,ctx:s}),!n&&r[0]&1&&(n=!0,f.lock=s[0],ot(()=>n=!1)),t.$set(f)},i(s){i||(O(t.$$.fragment,s),i=!0)},o(s){L(t.$$.fragment,s),i=!1},d(s){X(t,s)}}}function Ft(e){let t,n,i,o,l,s=e[3]?\"info-weighted\":\"unmodified\",r,f,a;return{c(){t=F(\"input\"),n=T(),i=F(\"span\"),o=R(`Attention is\n",
              "            `),l=F(\"b\"),r=R(s),y(t,\"class\",\"info-mode svelte-xqk9oe\"),y(t,\"type\",\"checkbox\"),y(i,\"class\",\"info-mode-text svelte-xqk9oe\"),S(i,\"white-space\",\"nowrap\")},m(c,d){C(c,t,d),t.checked=e[3],C(c,n,d),C(c,i,d),E(i,o),E(i,l),E(l,r),f||(a=[z(t,\"change\",e[26]),z(i,\"click\",e[27])],f=!0)},p(c,d){d[0]&8&&(t.checked=c[3]),d[0]&8&&s!==(s=c[3]?\"info-weighted\":\"unmodified\")&&ke(r,s)},d(c){c&&j(t),c&&j(n),c&&j(i),f=!1,H(a)}}}function _n(e){let t,n,i,o,l,s,r,f,a,c,d,h,p=e[10]!=null&&gt(e),m=e[7]!==void 0&&vt(e);r=new qe({props:{array:e[6],width:\"200\",height:\"200\",focus_token:e[9],hover_token_is_target:e[2],isolate_channel:e[10]}});let g=e[13]>1&&kt(e),u=e[8]&&yt(e);return{c(){t=F(\"div\"),n=F(\"div\"),i=R(`Attention Pattern\n",
              "        `),p&&p.c(),o=T(),m&&m.c(),l=T(),s=F(\"div\"),se(r.$$.fragment),a=T(),g&&g.c(),c=T(),u&&u.c(),d=tt(),y(n,\"class\",\"figcaption svelte-xqk9oe\"),S(n,\"grid-column\",\"big-attn\"),y(s,\"style\",f=\"grid-column: big-attn; grid-row: main; \"+(e[11]?\"display:none\":\"\")),y(t,\"class\",\"attn-container svelte-xqk9oe\")},m(_,k){C(_,t,k),E(t,n),E(n,i),p&&p.m(n,null),E(t,o),m&&m.m(t,null),E(t,l),E(t,s),Z(r,s,null),E(t,a),g&&g.m(t,null),C(_,c,k),u&&u.m(_,k),C(_,d,k),h=!0},p(_,k){_[10]!=null?p?p.p(_,k):(p=gt(_),p.c(),p.m(n,null)):p&&(p.d(1),p=null),_[7]!==void 0?m?(m.p(_,k),k[0]&128&&O(m,1)):(m=vt(_),m.c(),O(m,1),m.m(t,l)):m&&(oe(),L(m,1,1,()=>{m=null}),le());const w={};k[0]&64&&(w.array=_[6]),k[0]&512&&(w.focus_token=_[9]),k[0]&4&&(w.hover_token_is_target=_[2]),k[0]&1024&&(w.isolate_channel=_[10]),r.$set(w),(!h||k[0]&2048&&f!==(f=\"grid-column: big-attn; grid-row: main; \"+(_[11]?\"display:none\":\"\")))&&y(s,\"style\",f),_[13]>1?g?(g.p(_,k),k[0]&8192&&O(g,1)):(g=kt(_),g.c(),O(g,1),g.m(t,null)):g&&(oe(),L(g,1,1,()=>{g=null}),le()),_[8]?u?(u.p(_,k),k[0]&256&&O(u,1)):(u=yt(_),u.c(),O(u,1),u.m(d.parentNode,d)):u&&(oe(),L(u,1,1,()=>{u=null}),le())},i(_){h||(O(m),O(r.$$.fragment,_),O(g),O(u),h=!0)},o(_){L(m),L(r.$$.fragment,_),L(g),L(u),h=!1},d(_){_&&j(t),p&&p.d(),m&&m.d(),X(r),g&&g.d(),_&&j(c),u&&u.d(_),_&&j(d)}}}function re(e){return[...Array(e).keys()]}function qt(e){if(e!==void 0){for(var t=[],n=0;n<e.shape[0];n++){t.push([]);for(var i=0;i<e.shape[2];i++){for(var o=0,l=0;l<e.shape[1];l++)o=Math.max(o,e.pick(n,l,i));t[n].push(o)}}return t}}function Et(e){if(e!==void 0){for(var t=[],n=0;n<e.shape[0];n++){t.push([]);for(var i=0;i<e.shape[2];i++){for(var o=0,l=0;l<e.shape[1];l++)o=Math.max(o,e.pick(l,n,i));t[n].push(o)}}return t}}function hn(e,t,n){let i,o,l,s,r,f,a,c,d,h,p,m,g,{tokens:u}=t,{attention:_}=t,{info_weighted:k}=t,{head_labels:w}=t,{show_tokens:M=!0}=t,{focus_token_lock:N={value:void 0,mode:\"soft\"}}=t,{focus_head_lock:b={value:void 0,mode:\"soft\"}}=t,{hover_token_is_target:v=!1}=t,{_show_info_weighted:q=!1}=t;function D(A,Y,G,$=void 0){if(Y<G)return\"#FFF\";var ue=A.pick(Y,G,null);return We(ue,void 0,$)}function J(A,Y,G){if(Y==null)var $=1;else var ue=G?h:d,$=Math.max(0,Math.min(1,ue[Y][A]));return\"\"+$}function gn(A,Y,G,$=void 0,ue){if(Y==null){var qn=ue?h:d;return We(qn[G],void 0,$)}let Ue,Je;ue?(Ue=G,Je=Y):(Ue=Y,Je=G);let Xe=D(A,Ue,Je,$);return Xe===\"#FFF\"&&(Xe=\"#DDD\"),Xe}let{all_token_colors:Ye}=t;function vn(A){b=A,n(1,b)}function kn(A){N=A,n(0,N)}function bn(){v=this.checked,n(2,v)}const yn=()=>n(2,v=v^!0);function wn(){q=this.checked,n(3,q)}const Fn=()=>n(3,q=q^!0);return e.$$set=A=>{\"tokens\"in A&&n(5,u=A.tokens),\"attention\"in A&&n(6,_=A.attention),\"info_weighted\"in A&&n(7,k=A.info_weighted),\"head_labels\"in A&&n(17,w=A.head_labels),\"show_tokens\"in A&&n(8,M=A.show_tokens),\"focus_token_lock\"in A&&n(0,N=A.focus_token_lock),\"focus_head_lock\"in A&&n(1,b=A.focus_head_lock),\"hover_token_is_target\"in A&&n(2,v=A.hover_token_is_target),\"_show_info_weighted\"in A&&n(3,q=A._show_info_weighted),\"all_token_colors\"in A&&n(4,Ye=A.all_token_colors)},e.$$.update=()=>{if(e.$$.dirty[0]&1){e:n(9,i=N.value)}if(e.$$.dirty[0]&2){e:n(10,o=b.value)}if(e.$$.dirty[0]&136){e:n(11,l=q&&k!==void 0)}if(e.$$.dirty[0]&2240){e:n(12,s=l?k:_)}if(e.$$.dirty[0]&4096){e:window.attention_show=s}if(e.$$.dirty[0]&64){e:n(18,r=qt(_))}if(e.$$.dirty[0]&64){e:n(19,f=Et(_))}if(e.$$.dirty[0]&128){e:n(20,a=qt(k))}if(e.$$.dirty[0]&128){e:n(21,c=Et(k))}if(e.$$.dirty[0]&1312768){e:d=l?a:r}if(e.$$.dirty[0]&2623488){e:h=l?c:f}if(e.$$.dirty[0]&64){e:n(13,p=_.shape[2])}if(e.$$.dirty[0]&8192){e:n(14,m=re(p).map(A=>We(re(p).map(Y=>1),void 0,A)))}if(e.$$.dirty[0]&139264){e:n(15,g=w!=null?w:re(p))}if(e.$$.dirty[0]&5668){e:n(4,Ye=re(u.length).map(A=>gn(s,i,A,o,v)))}},[N,b,v,q,Ye,u,_,k,M,i,o,l,s,p,m,g,J,w,r,f,a,c,vn,kn,bn,yn,wn,Fn]}class pn extends xe{constructor(t){super(),document.getElementById(\"svelte-xqk9oe-style\")||an(),He(this,t,hn,_n,je,{tokens:5,attention:6,info_weighted:7,head_labels:17,show_tokens:8,focus_token_lock:0,focus_head_lock:1,hover_token_is_target:2,_show_info_weighted:3,all_token_colors:4},[-1,-1])}}const mn=pn}},Ee={};function ee(x){if(Ee[x])return Ee[x].exports;var B=Ee[x]={exports:{}};return St[x](B,B.exports,ee),B.exports}return ee.d=(x,B)=>{for(var te in B)ee.o(B,te)&&!ee.o(x,te)&&Object.defineProperty(x,te,{enumerable:!0,get:B[te]})},ee.o=(x,B)=>Object.prototype.hasOwnProperty.call(x,B),ee(143)})().default;\n",
              "</script>\n",
              "        \n",
              "        <div id=\"AttentionMulti_59155ca\"></div>\n",
              "        <script>\n",
              "        ( () => {\n",
              "            var data = {\n",
              "\"tokens\": [\n",
              "\"<|endoftext|>\",\n",
              "\"I\",\n",
              "\" am\",\n",
              "\" an\",\n",
              "\" amazing\",\n",
              "\" aut\",\n",
              "\"ore\",\n",
              "\"gressive\",\n",
              "\",\",\n",
              "\" dec\",\n",
              "\"oder\",\n",
              "\"-\",\n",
              "\"only\",\n",
              "\",\",\n",
              "\" G\",\n",
              "\"PT\",\n",
              "\"-\",\n",
              "\"2\",\n",
              "\" style\",\n",
              "\" transformer\",\n",
              "\".\",\n",
              "\" One\",\n",
              "\" day\",\n",
              "\" I\",\n",
              "\" will\",\n",
              "\" exceed\",\n",
              "\" human\",\n",
              "\" level\",\n",
              "\" intelligence\",\n",
              "\" and\",\n",
              "\" take\",\n",
              "\" over\",\n",
              "\" the\",\n",
              "\" world\",\n",
              "\"!\"\n",
              "],\n",
              "\"attention\": {\n",
              "\"__type__\": \"npy\",\n",
              "\"zdata\": \"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\",\n",
              "\"min\": 0.0,\n",
              "\"max\": 1.0\n",
              "}\n",
              "};\n",
              "            data = loader.unpack_obj(data);\n",
              "            window.AttentionMulti_data = data;\n",
              "            var AttentionMulti_inst = new AttentionMulti({\n",
              "                \"target\": document.getElementById(\"AttentionMulti_59155ca\"),\n",
              "                \"props\": data\n",
              "                });\n",
              "        })();\n",
              "        </script>\n",
              "        \n",
              "        "
            ]
          },
          "metadata": {}
        }
      ]
    },
    {
      "cell_type": "code",
      "source": [
        "class Attention(nn.Module):\n",
        "  def __init__(self,cfg):\n",
        "    super().__init__()\n",
        "    self.cfg=cfg\n",
        "    \n",
        "    self.W_Q=nn.Parameter(torch.empty(cfg.n_heads,cfg.d_model,cfg.d_head))\n",
        "    nn.init.normal_(self.W_Q,std=cfg.init_range)\n",
        "    self.b_Q=nn.Parameter(torch.zeros(cfg.n_heads,cfg.d_head))\n",
        "\n",
        "    self.W_K=nn.Parameter(torch.empty(cfg.n_heads,cfg.d_model,cfg.d_head))\n",
        "    nn.init.normal_(self.W_K,std=cfg.init_range)\n",
        "    self.b_K=nn.Parameter(torch.zeros(cfg.n_heads,cfg.d_head))\n",
        "\n",
        "    self.W_V=nn.Parameter(torch.empty(cfg.n_heads,cfg.d_model,cfg.d_head))\n",
        "    nn.init.normal_(self.W_V,std=cfg.init_range)\n",
        "    self.b_V=nn.Parameter(torch.zeros(cfg.n_heads,cfg.d_head))\n",
        "    \n",
        "    self.W_O = nn.Parameter(torch.empty(cfg.n_heads,cfg.d_head,cfg.d_model)) # Different from above\n",
        "    nn.init.normal_(self.W_O)\n",
        "    self.b_O = nn.Parameter(torch.zeros(cfg.d_model)) # Different from above\n",
        "\n",
        "    self.register_buffer(\"IGNORE\", torch.tensor(-1e5,dtype=torch.float32,device=\"cuda\"))\n",
        "\n",
        "  def forward(self, normalized_resid_pre):\n",
        "    # normalized_resid_pre has shape [batch, position, d_model]\n",
        "    if self.cfg.debug: print(f\"normalized_resid_pre.shape: {normalized_resid_pre.shape}\")\n",
        "\n",
        "    q = einsum(\"batch query_pos d_model, n_heads d_model d_head -> batch query_pos n_heads d_head\",normalized_resid_pre,self.W_Q)+self.b_Q\n",
        "    k = einsum(\"batch key_pos d_model, n_heads d_model d_head -> batch key_pos n_heads d_head\",normalized_resid_pre,self.W_K)+self.b_K\n",
        "\n",
        "    attn_scores = einsum(\"batch query_pos n_heads d_head, batch key_pos n_heads d_head -> batch n_heads query_pos key_pos\",q,k)\n",
        "    attn_scores /= math.sqrt(self.cfg.d_head)\n",
        "    attn_scores = self.apply_causal_mask(attn_scores)\n",
        "\n",
        "    pattern = attn_scores.softmax(dim=-1)\n",
        "\n",
        "    v = einsum(\"batch key_pos d_model, n_heads d_model d_head -> batch key_pos n_heads d_head\",normalized_resid_pre,self.W_V)+self.b_V\n",
        "\n",
        "    z = einsum(\"batch n_heads query_pos key_pos, batch key_pos n_heads d_head -> batch query_pos n_heads d_head\",pattern,v)\n",
        "\n",
        "    attn_out = einsum(\"batch query_pos n_heads d_head, n_heads d_head d_model -> batch query_pos d_model\",z,self.W_O)+self.b_O    \n",
        "\n",
        "    return attn_out\n",
        "\n",
        "  def apply_causal_mask(self,attn_scores):\n",
        "    mask = torch.triu(torch.ones(attn_scores.size(-2),attn_scores.size(-1),device=attn_scores.device),diagonal=1).bool()\n",
        "    attn_scores.masked_fill_(mask,self.IGNORE)\n",
        "    return attn_scores\n",
        "\n",
        "rand_float_test(Attention,[2,4,768])\n",
        "load_gpt2_test(Attention, reference_gpt2.blocks[0].attn, \"blocks.0.ln1.hook_normalized\")"
      ],
      "metadata": {
        "id": "vTNMr8XZNKr0",
        "colab": {
          "base_uri": "https://localhost:8080/"
        },
        "outputId": "0343e44e-6346-43ab-9462-e9d5ff04bed0"
      },
      "execution_count": null,
      "outputs": [
        {
          "output_type": "stream",
          "name": "stdout",
          "text": [
            "Input shape: torch.Size([2, 4, 768])\n",
            "normalized_resid_pre.shape: torch.Size([2, 4, 768])\n",
            "Output shape: torch.Size([2, 4, 768])\n",
            "Input shape: torch.Size([1, 35, 768])\n",
            "normalized_resid_pre.shape: torch.Size([1, 35, 768])\n",
            "Output shape: torch.Size([1, 35, 768])\n",
            "Reference output shape: torch.Size([1, 35, 768])\n",
            "100.00% of the values are correct.\n",
            "tensor([[[ 0.7966,  0.0170,  0.0348],\n",
            "         [ 0.0013,  0.1575, -0.1406],\n",
            "         [ 0.0897, -0.7241, -0.6987]]], device='cuda:0',\n",
            "       grad_fn=<SliceBackward0>)\n"
          ]
        },
        {
          "output_type": "execute_result",
          "data": {
            "text/plain": [
              "tensor([[[ 7.9663e-01,  1.6985e-02,  3.4781e-02,  ...,  3.3120e-02,\n",
              "          -2.3129e-02,  1.8103e-01],\n",
              "         [ 1.3165e-03,  1.5750e-01, -1.4059e-01,  ..., -8.1997e-03,\n",
              "           5.3075e-03,  1.3511e-01],\n",
              "         [ 8.9738e-02, -7.2411e-01, -6.9866e-01,  ...,  5.5321e-02,\n",
              "           2.7959e-03,  9.0785e-02],\n",
              "         ...,\n",
              "         [-3.0286e-01,  4.9638e-02, -6.0990e-01,  ..., -3.7084e-02,\n",
              "          -4.9522e-04, -8.6007e-03],\n",
              "         [-1.0844e+00, -6.1457e-02,  2.2966e-01,  ..., -2.6688e-02,\n",
              "          -1.4368e-02,  3.3245e-02],\n",
              "         [ 3.7947e-01, -4.9886e-01,  2.6434e-01,  ..., -2.7894e-02,\n",
              "          -8.9028e-03,  4.8796e-02]]], device='cuda:0', grad_fn=<AddBackward0>)"
            ]
          },
          "metadata": {},
          "execution_count": 31
        }
      ]
    },
    {
      "cell_type": "markdown",
      "metadata": {
        "id": "aS7b8_7K5p_2"
      },
      "source": [
        "## MLP"
      ]
    },
    {
      "cell_type": "code",
      "source": [
        "class MLP(nn.Module):\n",
        "  def __init__(self,cfg):\n",
        "    super().__init__()\n",
        "    self.cfg=cfg\n",
        "\n",
        "    self.W_in=nn.Parameter(torch.empty(cfg.d_model,cfg.d_mlp))\n",
        "    nn.init.normal_(self.W_in,std=cfg.init_range)\n",
        "    self.b_in=nn.Parameter(torch.zeros(cfg.d_mlp))\n",
        "\n",
        "    self.W_out=nn.Parameter(torch.empty(cfg.d_mlp,cfg.d_model))\n",
        "    nn.init.normal_(self.W_out,std=cfg.init_range)\n",
        "    self.b_out=nn.Parameter(torch.zeros(cfg.d_model))\n",
        "\n",
        "  def forward(self,normalized_resid_mid):\n",
        "    # normalized_resid_mid: [batch position d_model]\n",
        "    if self.cfg.debug: print(f\"normalized_resid_mid: {normalized_resid_mid.shape}\")\n",
        "    # Naming conventions match reference_gpt2\n",
        "    pre = einsum(\"batch position d_model, d_model d_mlp -> batch position d_mlp\",normalized_resid_mid,self.W_in)+self.b_in\n",
        "    post = gelu_new(pre)\n",
        "    mlp_out = einsum(\"batch position d_mlp, d_mlp d_model -> batch position d_model\",post,self.W_out)+self.b_out\n",
        "    return mlp_out\n",
        "\n",
        "rand_float_test(MLP,[2,4,768])\n",
        "load_gpt2_test(MLP,reference_gpt2.blocks[0].mlp,\"blocks.0.hook_resid_mid\")"
      ],
      "metadata": {
        "colab": {
          "base_uri": "https://localhost:8080/"
        },
        "id": "8BgCHpYWqYTP",
        "outputId": "a99fbb94-d56a-47c2-c4db-6eb2349b9986"
      },
      "execution_count": null,
      "outputs": [
        {
          "output_type": "stream",
          "name": "stdout",
          "text": [
            "Input shape: torch.Size([2, 4, 768])\n",
            "normalized_resid_mid: torch.Size([2, 4, 768])\n",
            "Output shape: torch.Size([2, 4, 768])\n",
            "Input shape: torch.Size([1, 35, 768])\n",
            "normalized_resid_mid: torch.Size([1, 35, 768])\n",
            "Output shape: torch.Size([1, 35, 768])\n",
            "Reference output shape: torch.Size([1, 35, 768])\n",
            "100.00% of the values are correct.\n",
            "tensor([[[ -3.1700,  -0.2954, -18.7346],\n",
            "         [ -1.5579,  -8.9909, -30.5565],\n",
            "         [ -0.6560, -13.2992, -34.7111]]], device='cuda:0',\n",
            "       grad_fn=<SliceBackward0>)\n"
          ]
        },
        {
          "output_type": "execute_result",
          "data": {
            "text/plain": [
              "tensor([[[ -3.1700,  -0.2954, -18.7346,  ...,  23.1416,  20.7133,   3.6140],\n",
              "         [ -1.5579,  -8.9909, -30.5565,  ...,  15.3530,  18.0658,  17.6831],\n",
              "         [ -0.6560, -13.2992, -34.7111,  ...,  17.2204,  22.1016,  20.2679],\n",
              "         ...,\n",
              "         [  3.5984,  -1.9301, -25.9078,  ...,  33.5553,  12.5885,  22.7276],\n",
              "         [ -6.9189, -10.9456, -21.9694,  ...,  16.9387,  17.1127,  21.9650],\n",
              "         [ -8.3591,  -3.7939, -19.6934,  ...,  26.9931,  22.3238,  17.7158]]],\n",
              "       device='cuda:0', grad_fn=<AddBackward0>)"
            ]
          },
          "metadata": {},
          "execution_count": 32
        }
      ]
    },
    {
      "cell_type": "markdown",
      "metadata": {
        "id": "VkNZIUuk5p_3"
      },
      "source": [
        "## Transformer Block"
      ]
    },
    {
      "cell_type": "code",
      "source": [
        "class TransformerBlock(nn.Module):\n",
        "  def __init__(self,cfg):\n",
        "    super().__init__()\n",
        "    self.cfg=cfg\n",
        "    self.ln1=LayerNorm(cfg)\n",
        "    self.attn = Attention(cfg)\n",
        "    self.ln2=LayerNorm(cfg)\n",
        "    self.mlp = MLP(cfg)\n",
        "\n",
        "  def forward(self,resid_pre):\n",
        "    # normalized_resid_pre: [batch position d_model]\n",
        "    if self.cfg.debug: print(f\"resid_pre: {resid_pre.shape}\")\n",
        "    \n",
        "    normalized_resid_pre=self.ln1(resid_pre)\n",
        "    attn_out = self.attn(normalized_resid_pre)\n",
        "    resid_mid=resid_pre+attn_out\n",
        "\n",
        "    normalized_resid_mid = self.ln2(resid_mid)\n",
        "    mlp_out = self.mlp(normalized_resid_mid)\n",
        "    resid_post = resid_mid + mlp_out\n",
        "    return resid_post\n",
        "\n",
        "rand_float_test(TransformerBlock,[2,4,768])\n",
        "load_gpt2_test(TransformerBlock,reference_gpt2.blocks[0],\"blocks.0.hook_resid_pre\")"
      ],
      "metadata": {
        "colab": {
          "base_uri": "https://localhost:8080/"
        },
        "id": "6H497csqxh7h",
        "outputId": "550ab40b-dd90-4e3a-d179-4ba4684eaee8"
      },
      "execution_count": null,
      "outputs": [
        {
          "output_type": "stream",
          "name": "stdout",
          "text": [
            "Input shape: torch.Size([2, 4, 768])\n",
            "resid_pre: torch.Size([2, 4, 768])\n",
            "Residual shape = torch.Size([2, 4, 768])\n",
            "Normalized residual shape: torch.Size([2, 4, 768])\n",
            "normalized_resid_pre.shape: torch.Size([2, 4, 768])\n",
            "Residual shape = torch.Size([2, 4, 768])\n",
            "Normalized residual shape: torch.Size([2, 4, 768])\n",
            "normalized_resid_mid: torch.Size([2, 4, 768])\n",
            "Output shape: torch.Size([2, 4, 768])\n",
            "Input shape: torch.Size([1, 35, 768])\n",
            "resid_pre: torch.Size([1, 35, 768])\n",
            "Residual shape = torch.Size([1, 35, 768])\n",
            "Normalized residual shape: torch.Size([1, 35, 768])\n",
            "normalized_resid_pre.shape: torch.Size([1, 35, 768])\n",
            "Residual shape = torch.Size([1, 35, 768])\n",
            "Normalized residual shape: torch.Size([1, 35, 768])\n",
            "normalized_resid_mid: torch.Size([1, 35, 768])\n",
            "Output shape: torch.Size([1, 35, 768])\n",
            "Reference output shape: torch.Size([1, 35, 768])\n",
            "100.00% of the values are correct.\n",
            "tensor([[[ 0.3911,  0.1543,  0.6005],\n",
            "         [-0.9039, -0.0360,  0.2351],\n",
            "         [-0.9647, -2.4819, -1.4995]]], device='cuda:0',\n",
            "       grad_fn=<SliceBackward0>)\n"
          ]
        },
        {
          "output_type": "execute_result",
          "data": {
            "text/plain": [
              "tensor([[[ 0.3911,  0.1543,  0.6005,  ...,  1.7198,  1.7365,  0.3930],\n",
              "         [-0.9039, -0.0360,  0.2351,  ..., -0.4148,  0.3562,  0.3936],\n",
              "         [-0.9647, -2.4819, -1.4995,  ...,  1.4046,  0.7616,  0.5918],\n",
              "         ...,\n",
              "         [-0.7421,  0.9251, -0.3218,  ...,  0.2921,  0.1097, -0.5344],\n",
              "         [-1.3221,  0.8960,  1.1795,  ..., -0.5544, -0.4071,  0.9255],\n",
              "         [ 1.1209, -0.8919,  1.3737,  ..., -0.1356,  0.3434,  0.4517]]],\n",
              "       device='cuda:0', grad_fn=<AddBackward0>)"
            ]
          },
          "metadata": {},
          "execution_count": 33
        }
      ]
    },
    {
      "cell_type": "markdown",
      "metadata": {
        "id": "jMJWsPGN5p_3"
      },
      "source": [
        "## Unembedding"
      ]
    },
    {
      "cell_type": "code",
      "source": [
        "class Unembed(nn.Module):\n",
        "  def __init__(self,cfg):\n",
        "    super().__init__()\n",
        "    self.cfg=cfg\n",
        "    self.W_U = nn.Parameter(torch.empty(cfg.d_model,cfg.d_vocab))\n",
        "    nn.init.normal_(self.W_U, std=cfg.init_range)\n",
        "    self.b_U = nn.Parameter(torch.zeros(cfg.d_vocab), requires_grad=False) # No bias on the unembed in GPT-2\n",
        "\n",
        "  def forward(self,normalized_resid_final):\n",
        "    # normalized_resid_final: [batch position d_model]\n",
        "    if self.cfg.debug: print(f\"normalized_resid_final: {normalized_resid_final.shape}\")\n",
        "    logits = einsum(\"batch position d_model, d_model d_vocab -> batch position d_vocab\",normalized_resid_final,self.W_U)+self.b_U\n",
        "    return logits\n",
        "\n",
        "rand_float_test(Unembed,[2,4,768])\n",
        "load_gpt2_test(Unembed,reference_gpt2.unembed,\"ln_final.hook_normalized\")"
      ],
      "metadata": {
        "colab": {
          "base_uri": "https://localhost:8080/"
        },
        "id": "qJHsX08qJNoN",
        "outputId": "fcf9c635-b2cb-46ce-ac3e-36fad4df8a12"
      },
      "execution_count": null,
      "outputs": [
        {
          "output_type": "stream",
          "name": "stdout",
          "text": [
            "Input shape: torch.Size([2, 4, 768])\n",
            "normalized_resid_final: torch.Size([2, 4, 768])\n",
            "Output shape: torch.Size([2, 4, 50257])\n",
            "Input shape: torch.Size([1, 35, 768])\n",
            "normalized_resid_final: torch.Size([1, 35, 768])\n",
            "Output shape: torch.Size([1, 35, 50257])\n",
            "Reference output shape: torch.Size([1, 35, 50257])\n",
            "100.00% of the values are correct.\n",
            "tensor([[[ -43.4317,  -39.8364,  -43.0660],\n",
            "         [-128.0392, -127.9936, -130.7011],\n",
            "         [-119.8521, -121.0064, -123.8820]]], device='cuda:0',\n",
            "       grad_fn=<SliceBackward0>)\n"
          ]
        },
        {
          "output_type": "execute_result",
          "data": {
            "text/plain": [
              "tensor([[[ -43.4317,  -39.8364,  -43.0660,  ...,  -54.0878,  -54.3452,\n",
              "           -42.3645],\n",
              "         [-128.0392, -127.9936, -130.7011,  ..., -136.7121, -129.9261,\n",
              "          -129.3965],\n",
              "         [-119.8521, -121.0064, -123.8820,  ..., -128.5181, -126.6027,\n",
              "          -121.9060],\n",
              "         ...,\n",
              "         [-112.9815, -112.7750, -117.0633,  ..., -121.2914, -117.6574,\n",
              "          -114.5005],\n",
              "         [ -98.6724, -104.4888, -108.7361,  ..., -118.3552, -113.8766,\n",
              "          -106.3604],\n",
              "         [-126.8285, -128.9596, -128.3941,  ..., -140.1970, -138.5883,\n",
              "          -122.3697]]], device='cuda:0', grad_fn=<AddBackward0>)"
            ]
          },
          "metadata": {},
          "execution_count": 34
        }
      ]
    },
    {
      "cell_type": "markdown",
      "metadata": {
        "id": "B9x1Kg7R5p_4"
      },
      "source": [
        "## Full Transformer"
      ]
    },
    {
      "cell_type": "code",
      "source": [
        "class DemoTransformer(nn.Module):\n",
        "  def __init__(self,cfg):\n",
        "    super().__init__()\n",
        "    self.cfg=cfg\n",
        "    self.embed = Embed(cfg)\n",
        "    self.pos_embed = PosEmbed(cfg)\n",
        "    self.blocks = nn.ModuleList([TransformerBlock(cfg) for _ in range(cfg.n_layers)]) # Can't do [TB]*n_layers, that means same layer n_layers times\n",
        "    self.ln_final = LayerNorm(cfg)\n",
        "    self.unembed = Unembed(cfg)\n",
        "  \n",
        "  def forward(self,tokens):\n",
        "    # tokens: [batch position]\n",
        "    embed = self.embed(tokens)\n",
        "    pos_embed = self.pos_embed(embed)\n",
        "    residual = embed + pos_embed\n",
        "    i = 1\n",
        "    for block in self.blocks:\n",
        "      residual = block(residual)\n",
        "    normalized_resid_final = self.ln_final(residual)\n",
        "    logits = self.unembed(normalized_resid_final)\n",
        "    return logits\n",
        "\n",
        "rand_int_test(DemoTransformer,[2,4])\n",
        "load_gpt2_test(DemoTransformer,reference_gpt2,tokens)"
      ],
      "metadata": {
        "id": "2iQ4XxMhRHms",
        "colab": {
          "base_uri": "https://localhost:8080/"
        },
        "outputId": "9a10c635-215d-4b1f-9be0-6c1b8f7645a7"
      },
      "execution_count": null,
      "outputs": [
        {
          "output_type": "stream",
          "name": "stdout",
          "text": [
            "Input shape: torch.Size([2, 4])\n",
            "Tokens: torch.Size([2, 4])\n",
            "Embedding: torch.Size([2, 4, 768])\n",
            "Tokens: torch.Size([2, 4, 768])\n",
            "Pre-repeat pos_embed: torch.Size([4, 768])\n",
            "Post-repeat pos_embed: torch.Size([2, 4, 768])\n",
            "resid_pre: torch.Size([2, 4, 768])\n",
            "Residual shape = torch.Size([2, 4, 768])\n",
            "Normalized residual shape: torch.Size([2, 4, 768])\n",
            "normalized_resid_pre.shape: torch.Size([2, 4, 768])\n",
            "Residual shape = torch.Size([2, 4, 768])\n",
            "Normalized residual shape: torch.Size([2, 4, 768])\n",
            "normalized_resid_mid: torch.Size([2, 4, 768])\n",
            "resid_pre: torch.Size([2, 4, 768])\n",
            "Residual shape = torch.Size([2, 4, 768])\n",
            "Normalized residual shape: torch.Size([2, 4, 768])\n",
            "normalized_resid_pre.shape: torch.Size([2, 4, 768])\n",
            "Residual shape = torch.Size([2, 4, 768])\n",
            "Normalized residual shape: torch.Size([2, 4, 768])\n",
            "normalized_resid_mid: torch.Size([2, 4, 768])\n",
            "resid_pre: torch.Size([2, 4, 768])\n",
            "Residual shape = torch.Size([2, 4, 768])\n",
            "Normalized residual shape: torch.Size([2, 4, 768])\n",
            "normalized_resid_pre.shape: torch.Size([2, 4, 768])\n",
            "Residual shape = torch.Size([2, 4, 768])\n",
            "Normalized residual shape: torch.Size([2, 4, 768])\n",
            "normalized_resid_mid: torch.Size([2, 4, 768])\n",
            "resid_pre: torch.Size([2, 4, 768])\n",
            "Residual shape = torch.Size([2, 4, 768])\n",
            "Normalized residual shape: torch.Size([2, 4, 768])\n",
            "normalized_resid_pre.shape: torch.Size([2, 4, 768])\n",
            "Residual shape = torch.Size([2, 4, 768])\n",
            "Normalized residual shape: torch.Size([2, 4, 768])\n",
            "normalized_resid_mid: torch.Size([2, 4, 768])\n",
            "resid_pre: torch.Size([2, 4, 768])\n",
            "Residual shape = torch.Size([2, 4, 768])\n",
            "Normalized residual shape: torch.Size([2, 4, 768])\n",
            "normalized_resid_pre.shape: torch.Size([2, 4, 768])\n",
            "Residual shape = torch.Size([2, 4, 768])\n",
            "Normalized residual shape: torch.Size([2, 4, 768])\n",
            "normalized_resid_mid: torch.Size([2, 4, 768])\n",
            "resid_pre: torch.Size([2, 4, 768])\n",
            "Residual shape = torch.Size([2, 4, 768])\n",
            "Normalized residual shape: torch.Size([2, 4, 768])\n",
            "normalized_resid_pre.shape: torch.Size([2, 4, 768])\n",
            "Residual shape = torch.Size([2, 4, 768])\n",
            "Normalized residual shape: torch.Size([2, 4, 768])\n",
            "normalized_resid_mid: torch.Size([2, 4, 768])\n",
            "resid_pre: torch.Size([2, 4, 768])\n",
            "Residual shape = torch.Size([2, 4, 768])\n",
            "Normalized residual shape: torch.Size([2, 4, 768])\n",
            "normalized_resid_pre.shape: torch.Size([2, 4, 768])\n",
            "Residual shape = torch.Size([2, 4, 768])\n",
            "Normalized residual shape: torch.Size([2, 4, 768])\n",
            "normalized_resid_mid: torch.Size([2, 4, 768])\n",
            "resid_pre: torch.Size([2, 4, 768])\n",
            "Residual shape = torch.Size([2, 4, 768])\n",
            "Normalized residual shape: torch.Size([2, 4, 768])\n",
            "normalized_resid_pre.shape: torch.Size([2, 4, 768])\n",
            "Residual shape = torch.Size([2, 4, 768])\n",
            "Normalized residual shape: torch.Size([2, 4, 768])\n",
            "normalized_resid_mid: torch.Size([2, 4, 768])\n",
            "resid_pre: torch.Size([2, 4, 768])\n",
            "Residual shape = torch.Size([2, 4, 768])\n",
            "Normalized residual shape: torch.Size([2, 4, 768])\n",
            "normalized_resid_pre.shape: torch.Size([2, 4, 768])\n",
            "Residual shape = torch.Size([2, 4, 768])\n",
            "Normalized residual shape: torch.Size([2, 4, 768])\n",
            "normalized_resid_mid: torch.Size([2, 4, 768])\n",
            "resid_pre: torch.Size([2, 4, 768])\n",
            "Residual shape = torch.Size([2, 4, 768])\n",
            "Normalized residual shape: torch.Size([2, 4, 768])\n",
            "normalized_resid_pre.shape: torch.Size([2, 4, 768])\n",
            "Residual shape = torch.Size([2, 4, 768])\n",
            "Normalized residual shape: torch.Size([2, 4, 768])\n",
            "normalized_resid_mid: torch.Size([2, 4, 768])\n",
            "resid_pre: torch.Size([2, 4, 768])\n",
            "Residual shape = torch.Size([2, 4, 768])\n",
            "Normalized residual shape: torch.Size([2, 4, 768])\n",
            "normalized_resid_pre.shape: torch.Size([2, 4, 768])\n",
            "Residual shape = torch.Size([2, 4, 768])\n",
            "Normalized residual shape: torch.Size([2, 4, 768])\n",
            "normalized_resid_mid: torch.Size([2, 4, 768])\n",
            "resid_pre: torch.Size([2, 4, 768])\n",
            "Residual shape = torch.Size([2, 4, 768])\n",
            "Normalized residual shape: torch.Size([2, 4, 768])\n",
            "normalized_resid_pre.shape: torch.Size([2, 4, 768])\n",
            "Residual shape = torch.Size([2, 4, 768])\n",
            "Normalized residual shape: torch.Size([2, 4, 768])\n",
            "normalized_resid_mid: torch.Size([2, 4, 768])\n",
            "Residual shape = torch.Size([2, 4, 768])\n",
            "Normalized residual shape: torch.Size([2, 4, 768])\n",
            "normalized_resid_final: torch.Size([2, 4, 768])\n",
            "Output shape: torch.Size([2, 4, 50257])\n",
            "Input shape: torch.Size([1, 35])\n",
            "Tokens: torch.Size([1, 35])\n",
            "Embedding: torch.Size([1, 35, 768])\n",
            "Tokens: torch.Size([1, 35, 768])\n",
            "Pre-repeat pos_embed: torch.Size([35, 768])\n",
            "Post-repeat pos_embed: torch.Size([1, 35, 768])\n",
            "resid_pre: torch.Size([1, 35, 768])\n",
            "Residual shape = torch.Size([1, 35, 768])\n",
            "Normalized residual shape: torch.Size([1, 35, 768])\n",
            "normalized_resid_pre.shape: torch.Size([1, 35, 768])\n",
            "Residual shape = torch.Size([1, 35, 768])\n",
            "Normalized residual shape: torch.Size([1, 35, 768])\n",
            "normalized_resid_mid: torch.Size([1, 35, 768])\n",
            "resid_pre: torch.Size([1, 35, 768])\n",
            "Residual shape = torch.Size([1, 35, 768])\n",
            "Normalized residual shape: torch.Size([1, 35, 768])\n",
            "normalized_resid_pre.shape: torch.Size([1, 35, 768])\n",
            "Residual shape = torch.Size([1, 35, 768])\n",
            "Normalized residual shape: torch.Size([1, 35, 768])\n",
            "normalized_resid_mid: torch.Size([1, 35, 768])\n",
            "resid_pre: torch.Size([1, 35, 768])\n",
            "Residual shape = torch.Size([1, 35, 768])\n",
            "Normalized residual shape: torch.Size([1, 35, 768])\n",
            "normalized_resid_pre.shape: torch.Size([1, 35, 768])\n",
            "Residual shape = torch.Size([1, 35, 768])\n",
            "Normalized residual shape: torch.Size([1, 35, 768])\n",
            "normalized_resid_mid: torch.Size([1, 35, 768])\n",
            "resid_pre: torch.Size([1, 35, 768])\n",
            "Residual shape = torch.Size([1, 35, 768])\n",
            "Normalized residual shape: torch.Size([1, 35, 768])\n",
            "normalized_resid_pre.shape: torch.Size([1, 35, 768])\n",
            "Residual shape = torch.Size([1, 35, 768])\n",
            "Normalized residual shape: torch.Size([1, 35, 768])\n",
            "normalized_resid_mid: torch.Size([1, 35, 768])\n",
            "resid_pre: torch.Size([1, 35, 768])\n",
            "Residual shape = torch.Size([1, 35, 768])\n",
            "Normalized residual shape: torch.Size([1, 35, 768])\n",
            "normalized_resid_pre.shape: torch.Size([1, 35, 768])\n",
            "Residual shape = torch.Size([1, 35, 768])\n",
            "Normalized residual shape: torch.Size([1, 35, 768])\n",
            "normalized_resid_mid: torch.Size([1, 35, 768])\n",
            "resid_pre: torch.Size([1, 35, 768])\n",
            "Residual shape = torch.Size([1, 35, 768])\n",
            "Normalized residual shape: torch.Size([1, 35, 768])\n",
            "normalized_resid_pre.shape: torch.Size([1, 35, 768])\n",
            "Residual shape = torch.Size([1, 35, 768])\n",
            "Normalized residual shape: torch.Size([1, 35, 768])\n",
            "normalized_resid_mid: torch.Size([1, 35, 768])\n",
            "resid_pre: torch.Size([1, 35, 768])\n",
            "Residual shape = torch.Size([1, 35, 768])\n",
            "Normalized residual shape: torch.Size([1, 35, 768])\n",
            "normalized_resid_pre.shape: torch.Size([1, 35, 768])\n",
            "Residual shape = torch.Size([1, 35, 768])\n",
            "Normalized residual shape: torch.Size([1, 35, 768])\n",
            "normalized_resid_mid: torch.Size([1, 35, 768])\n",
            "resid_pre: torch.Size([1, 35, 768])\n",
            "Residual shape = torch.Size([1, 35, 768])\n",
            "Normalized residual shape: torch.Size([1, 35, 768])\n",
            "normalized_resid_pre.shape: torch.Size([1, 35, 768])\n",
            "Residual shape = torch.Size([1, 35, 768])\n",
            "Normalized residual shape: torch.Size([1, 35, 768])\n",
            "normalized_resid_mid: torch.Size([1, 35, 768])\n",
            "resid_pre: torch.Size([1, 35, 768])\n",
            "Residual shape = torch.Size([1, 35, 768])\n",
            "Normalized residual shape: torch.Size([1, 35, 768])\n",
            "normalized_resid_pre.shape: torch.Size([1, 35, 768])\n",
            "Residual shape = torch.Size([1, 35, 768])\n",
            "Normalized residual shape: torch.Size([1, 35, 768])\n",
            "normalized_resid_mid: torch.Size([1, 35, 768])\n",
            "resid_pre: torch.Size([1, 35, 768])\n",
            "Residual shape = torch.Size([1, 35, 768])\n",
            "Normalized residual shape: torch.Size([1, 35, 768])\n",
            "normalized_resid_pre.shape: torch.Size([1, 35, 768])\n",
            "Residual shape = torch.Size([1, 35, 768])\n",
            "Normalized residual shape: torch.Size([1, 35, 768])\n",
            "normalized_resid_mid: torch.Size([1, 35, 768])\n",
            "resid_pre: torch.Size([1, 35, 768])\n",
            "Residual shape = torch.Size([1, 35, 768])\n",
            "Normalized residual shape: torch.Size([1, 35, 768])\n",
            "normalized_resid_pre.shape: torch.Size([1, 35, 768])\n",
            "Residual shape = torch.Size([1, 35, 768])\n",
            "Normalized residual shape: torch.Size([1, 35, 768])\n",
            "normalized_resid_mid: torch.Size([1, 35, 768])\n",
            "resid_pre: torch.Size([1, 35, 768])\n",
            "Residual shape = torch.Size([1, 35, 768])\n",
            "Normalized residual shape: torch.Size([1, 35, 768])\n",
            "normalized_resid_pre.shape: torch.Size([1, 35, 768])\n",
            "Residual shape = torch.Size([1, 35, 768])\n",
            "Normalized residual shape: torch.Size([1, 35, 768])\n",
            "normalized_resid_mid: torch.Size([1, 35, 768])\n",
            "Residual shape = torch.Size([1, 35, 768])\n",
            "Normalized residual shape: torch.Size([1, 35, 768])\n",
            "normalized_resid_final: torch.Size([1, 35, 768])\n",
            "Output shape: torch.Size([1, 35, 50257])\n",
            "Reference output shape: torch.Size([1, 35, 50257])\n",
            "100.00% of the values are correct.\n",
            "tensor([[[ -43.4317,  -39.8364,  -43.0660],\n",
            "         [-128.0392, -127.9936, -130.7011],\n",
            "         [-119.8521, -121.0064, -123.8820]]], device='cuda:0',\n",
            "       grad_fn=<SliceBackward0>)\n"
          ]
        },
        {
          "output_type": "execute_result",
          "data": {
            "text/plain": [
              "tensor([[[ -43.4317,  -39.8364,  -43.0660,  ...,  -54.0878,  -54.3452,\n",
              "           -42.3645],\n",
              "         [-128.0392, -127.9936, -130.7011,  ..., -136.7121, -129.9261,\n",
              "          -129.3965],\n",
              "         [-119.8521, -121.0064, -123.8820,  ..., -128.5181, -126.6027,\n",
              "          -121.9060],\n",
              "         ...,\n",
              "         [-112.9815, -112.7750, -117.0633,  ..., -121.2914, -117.6574,\n",
              "          -114.5005],\n",
              "         [ -98.6724, -104.4888, -108.7361,  ..., -118.3552, -113.8766,\n",
              "          -106.3604],\n",
              "         [-126.8285, -128.9596, -128.3941,  ..., -140.1970, -138.5883,\n",
              "          -122.3697]]], device='cuda:0', grad_fn=<AddBackward0>)"
            ]
          },
          "metadata": {},
          "execution_count": 35
        }
      ]
    },
    {
      "cell_type": "markdown",
      "metadata": {
        "id": "WwWTpZl-5p_5"
      },
      "source": [
        "# Try it out!"
      ]
    },
    {
      "cell_type": "markdown",
      "metadata": {
        "id": "EGZmdwPF5p_5"
      },
      "source": [
        "Take a test string - the intro paragraph of today's featured Wikipedia article. Let's calculate the loss!"
      ]
    },
    {
      "cell_type": "code",
      "source": [
        "demo_gpt2 = DemoTransformer(Config(debug=False))\n",
        "print(demo_gpt2.cfg.debug)\n",
        "demo_gpt2.load_state_dict(reference_gpt2.state_dict(), strict=False)\n",
        "demo_gpt2.cuda()"
      ],
      "metadata": {
        "colab": {
          "base_uri": "https://localhost:8080/"
        },
        "id": "Z4fwjaHccXCw",
        "outputId": "bd2f678a-96b3-4fe6-b08b-1d0be7911a39"
      },
      "execution_count": null,
      "outputs": [
        {
          "output_type": "stream",
          "name": "stdout",
          "text": [
            "False\n"
          ]
        },
        {
          "output_type": "execute_result",
          "data": {
            "text/plain": [
              "DemoTransformer(\n",
              "  (embed): Embed()\n",
              "  (pos_embed): PosEmbed()\n",
              "  (blocks): ModuleList(\n",
              "    (0): TransformerBlock(\n",
              "      (ln1): LayerNorm()\n",
              "      (attn): Attention()\n",
              "      (ln2): LayerNorm()\n",
              "      (mlp): MLP()\n",
              "    )\n",
              "    (1): TransformerBlock(\n",
              "      (ln1): LayerNorm()\n",
              "      (attn): Attention()\n",
              "      (ln2): LayerNorm()\n",
              "      (mlp): MLP()\n",
              "    )\n",
              "    (2): TransformerBlock(\n",
              "      (ln1): LayerNorm()\n",
              "      (attn): Attention()\n",
              "      (ln2): LayerNorm()\n",
              "      (mlp): MLP()\n",
              "    )\n",
              "    (3): TransformerBlock(\n",
              "      (ln1): LayerNorm()\n",
              "      (attn): Attention()\n",
              "      (ln2): LayerNorm()\n",
              "      (mlp): MLP()\n",
              "    )\n",
              "    (4): TransformerBlock(\n",
              "      (ln1): LayerNorm()\n",
              "      (attn): Attention()\n",
              "      (ln2): LayerNorm()\n",
              "      (mlp): MLP()\n",
              "    )\n",
              "    (5): TransformerBlock(\n",
              "      (ln1): LayerNorm()\n",
              "      (attn): Attention()\n",
              "      (ln2): LayerNorm()\n",
              "      (mlp): MLP()\n",
              "    )\n",
              "    (6): TransformerBlock(\n",
              "      (ln1): LayerNorm()\n",
              "      (attn): Attention()\n",
              "      (ln2): LayerNorm()\n",
              "      (mlp): MLP()\n",
              "    )\n",
              "    (7): TransformerBlock(\n",
              "      (ln1): LayerNorm()\n",
              "      (attn): Attention()\n",
              "      (ln2): LayerNorm()\n",
              "      (mlp): MLP()\n",
              "    )\n",
              "    (8): TransformerBlock(\n",
              "      (ln1): LayerNorm()\n",
              "      (attn): Attention()\n",
              "      (ln2): LayerNorm()\n",
              "      (mlp): MLP()\n",
              "    )\n",
              "    (9): TransformerBlock(\n",
              "      (ln1): LayerNorm()\n",
              "      (attn): Attention()\n",
              "      (ln2): LayerNorm()\n",
              "      (mlp): MLP()\n",
              "    )\n",
              "    (10): TransformerBlock(\n",
              "      (ln1): LayerNorm()\n",
              "      (attn): Attention()\n",
              "      (ln2): LayerNorm()\n",
              "      (mlp): MLP()\n",
              "    )\n",
              "    (11): TransformerBlock(\n",
              "      (ln1): LayerNorm()\n",
              "      (attn): Attention()\n",
              "      (ln2): LayerNorm()\n",
              "      (mlp): MLP()\n",
              "    )\n",
              "  )\n",
              "  (ln_final): LayerNorm()\n",
              "  (unembed): Unembed()\n",
              ")"
            ]
          },
          "metadata": {},
          "execution_count": 37
        }
      ]
    },
    {
      "cell_type": "code",
      "source": [
        "test_string=\"\"\"Colin Robert Chase (February 5, 1935 – October 13, 1984) was an American academic. An associate professor of English at the \n",
        "University of Toronto, he was known for his contributions to the studies of Old English and Anglo-Latin literature. His best-known work, The Dating of \n",
        "Beowulf, challenged the accepted orthodoxy of the dating of the Anglo-Saxon poem Beowulf, which was then thought to be a date in the latter half of the\n",
        "eighth century but now thought to be near the end of the first millennium, and he left behind what was described in A Beowulf Handbook as \"a cautious \n",
        "and necessary incertitude\".\"\"\"\n",
        "print(test_string)"
      ],
      "metadata": {
        "colab": {
          "base_uri": "https://localhost:8080/"
        },
        "id": "PC0fQHmAimDs",
        "outputId": "24a3ac67-411b-4bbd-c9a8-b38c9b280e2d"
      },
      "execution_count": null,
      "outputs": [
        {
          "output_type": "stream",
          "name": "stdout",
          "text": [
            "Colin Robert Chase (February 5, 1935 – October 13, 1984) was an American academic. An associate professor of English at the \n",
            "University of Toronto, he was known for his contributions to the studies of Old English and Anglo-Latin literature. His best-known work, The Dating of \n",
            "Beowulf, challenged the accepted orthodoxy of the dating of the Anglo-Saxon poem Beowulf, which was then thought to be a date in the latter half of the\n",
            "eighth century but now thought to be near the end of the first millennium, and he left behind what was described in A Beowulf Handbook as \"a cautious \n",
            "and necessary incertitude\".\n"
          ]
        }
      ]
    },
    {
      "cell_type": "code",
      "source": [
        "test_tokens = reference_gpt2.to_tokens(test_string).cuda()\n",
        "logits = demo_gpt2(test_tokens)\n",
        "\n",
        "log_probs = logits.log_softmax(dim=-1)\n",
        "probs = logits.softmax(dim=-1)\n",
        "# print(f\"log_probs: {log_probs.shape}\")\n",
        "# print(f\"probs: {probs.shape}\")\n",
        "# print(f\"Probs to correct tokens: {probs[:,:-1].gather(dim=-1,index=test_tokens[:,1:].unsqueeze(-1)).squeeze(-1)}\")\n",
        "\n",
        "def lm_cross_entropy_loss(logits,tokens):\n",
        "  # Logits: [batch, position, d_vocab]\n",
        "  # Tokens: [batch, position]\n",
        "  log_probs = logits.log_softmax(dim=-1)\n",
        "  log_probs_assigned_to_correct_tokens = log_probs[:,:-1].gather(dim=-1,index=tokens[:,1:].unsqueeze(-1)).squeeze(-1)\n",
        "  # Gathers elements from log_probs tensor along the d_vocab dimension using elements of test_tokens as indices to find the correct next tokens.\n",
        "  loss = (-log_probs_assigned_to_correct_tokens).mean()\n",
        "  return loss\n",
        "\n",
        "loss = lm_cross_entropy_loss(logits,test_tokens)\n",
        "print(f\"Loss: {loss}\")\n",
        "avg_prob = (-loss).exp()\n",
        "print(f\"Average prob assigned to correct token: {avg_prob}\")\n",
        "print(f\"Equivalent to uniform prediction over {1/avg_prob} tokens.\")\n",
        "print(f\"Actual number of tokens in vocab: {demo_gpt2.cfg.d_vocab}\")\n",
        "print(f\"Loss if uniform over entire vocab: {-math.log(1/demo_gpt2.cfg.d_vocab)}\")"
      ],
      "metadata": {
        "colab": {
          "base_uri": "https://localhost:8080/"
        },
        "id": "dosYDc6NUGbJ",
        "outputId": "e19804fe-ec90-4521-c5e2-e6b789bb6fe2"
      },
      "execution_count": null,
      "outputs": [
        {
          "output_type": "stream",
          "name": "stdout",
          "text": [
            "Loss: 3.4915871620178223\n",
            "Average prob assigned to correct token: 0.03045250102877617\n",
            "Equivalent to uniform prediction over 32.8380241394043 tokens.\n",
            "Actual number of tokens in vocab: 50257\n",
            "Loss if uniform over entire vocab: 10.82490511970208\n"
          ]
        }
      ]
    },
    {
      "cell_type": "code",
      "source": [
        "# Check if changing test_string length affects position dimension length\n",
        "\n",
        "test_string2=\"\"\"Colin Robert Chase (February 5, 1935 – October 13, 1984) was an American academic. An associate professor of English at the \n",
        "University of Toronto, he was known for his contributions to the studies of Old English and Anglo-Latin literature. His best-known work, The Dating of \n",
        "Beowulf, challenged the accepted orthodoxy of the dating of the Anglo-Saxon poem Beowulf, which was then thought to be a date in the latter half of the\n",
        "eighth century but now thought to be near the end of the first millennium, and he left behind what was described in A Beowulf Handbook as \"a cautious \n",
        "and necessary incertitude\". test test test test test\"\"\" # Added \"test\" 5 times: should add ~5 tokens to the string\n",
        "print(test_string2)\n",
        "test_tokens2 = reference_gpt2.to_tokens(test_string2).cuda()\n",
        "print(test_tokens2.shape)\n",
        "print(test_tokens.shape)\n",
        "\n",
        "# Figure out what happens when you have multiple sentences of different lengths in a batch - what is the length of the position dimension?\n",
        "# Answer (I'm pretty sure): It's the length of the context window, n_ctx, specified in the cfg"
      ],
      "metadata": {
        "colab": {
          "base_uri": "https://localhost:8080/"
        },
        "id": "h4X-oFLgQEwT",
        "outputId": "782ddcf1-781c-426c-8529-581dab897f05"
      },
      "execution_count": null,
      "outputs": [
        {
          "output_type": "stream",
          "name": "stdout",
          "text": [
            "Colin Robert Chase (February 5, 1935 – October 13, 1984) was an American academic. An associate professor of English at the \n",
            "University of Toronto, he was known for his contributions to the studies of Old English and Anglo-Latin literature. His best-known work, The Dating of \n",
            "Beowulf, challenged the accepted orthodoxy of the dating of the Anglo-Saxon poem Beowulf, which was then thought to be a date in the latter half of the\n",
            "eighth century but now thought to be near the end of the first millennium, and he left behind what was described in A Beowulf Handbook as \"a cautious \n",
            "and necessary incertitude\". test test test test test\n",
            "torch.Size([1, 146])\n",
            "torch.Size([1, 141])\n"
          ]
        }
      ]
    },
    {
      "cell_type": "markdown",
      "metadata": {
        "id": "YRlF1Nze5p_7"
      },
      "source": [
        "We can also greedily generate text:"
      ]
    },
    {
      "cell_type": "code",
      "source": [
        "test_string = \"\\nThis statement is false.\"\n",
        "from tqdm import tqdm\n",
        "for i in tqdm(range(50)):\n",
        "  tokens = reference_gpt2.to_tokens(test_string).cuda()\n",
        "  logits = demo_gpt2(tokens).cuda()\n",
        "  new_token = reference_gpt2.tokenizer.decode(logits[-1,-1].argmax()) # The token that demo_gpt2 thought was most likely\n",
        "  test_string += new_token\n",
        "print(test_string) # Generated text starts 3 lines below the prompt."
      ],
      "metadata": {
        "colab": {
          "base_uri": "https://localhost:8080/"
        },
        "id": "O0BrvPFth8Fn",
        "outputId": "d9dd5f92-5255-48ad-a465-1ae329682217"
      },
      "execution_count": null,
      "outputs": [
        {
          "output_type": "stream",
          "name": "stderr",
          "text": [
            "100%|██████████| 50/50 [00:01<00:00, 30.98it/s]"
          ]
        },
        {
          "output_type": "stream",
          "name": "stdout",
          "text": [
            "\n",
            "This statement is false.\n",
            "\n",
            "\n",
            "The following is a statement made by the President of the United States of America, Donald J. Trump, on the day of the inauguration of President-elect Donald J. Trump.\n",
            "\n",
            "\n",
            "\"I am proud to be the first American\n"
          ]
        },
        {
          "output_type": "stream",
          "name": "stderr",
          "text": [
            "\n"
          ]
        }
      ]
    },
    {
      "cell_type": "markdown",
      "metadata": {
        "id": "IjA7Ou4Z5p_8"
      },
      "source": [
        "# Training a Model!\n",
        "\n",
        "This is a **lightweight** demonstration of how you can actually train your own GPT-2 with this code! Here we train a tiny model on a tiny dataset, but it's fundamentally the same code for training a larger/more real model (though you'll need beefier GPUs and data parallelism to do it remotely efficiently, and fancier parallelism for much bigger ones).\n",
        "\n",
        "For our purposes, we'll train 2L 4 heads per layer model, with context length 256, for 1000 steps of batch size 8, just to show what it looks like (and so the notebook doesn't melt your colab lol)."
      ]
    },
    {
      "cell_type": "code",
      "source": [
        "if IN_COLAB:\n",
        "    %pip install datasets\n",
        "    %pip install transformers\n",
        "import datasets\n",
        "import transformers\n",
        "import plotly.express as px"
      ],
      "metadata": {
        "id": "2RGkCQKWC0nu"
      },
      "execution_count": null,
      "outputs": []
    },
    {
      "cell_type": "markdown",
      "metadata": {
        "id": "_F-rpdr95p_9"
      },
      "source": [
        "## Config"
      ]
    },
    {
      "cell_type": "code",
      "source": [
        "batch_size = 8\n",
        "num_epochs = 1\n",
        "max_steps = 1000\n",
        "log_every = 10\n",
        "lr = 1e-3\n",
        "wd = 1e-2\n",
        "cfg = Config(d_model=256,debug=False,n_ctx=256,d_mlp=1024,n_heads=4,n_layers=2)"
      ],
      "metadata": {
        "id": "tJO0VkkoBQOt"
      },
      "execution_count": null,
      "outputs": []
    },
    {
      "cell_type": "markdown",
      "metadata": {
        "id": "Jy8Sg7CI5p_9"
      },
      "source": [
        "\n",
        "## Create Data\n",
        "\n",
        "We load in a tiny dataset I made, with the first 10K entries in the Pile (inspired by Stas' version for OpenWebText!)\n"
      ]
    },
    {
      "cell_type": "code",
      "source": [
        "dataset = datasets.load_dataset(\"NeelNanda/pile-10k\", split = \"train\")\n",
        "print(\"\\n ----------------------------------------------- \\n\")\n",
        "print(dataset)\n",
        "print(dataset[0][\"text\"][:150])\n",
        "tokens_dataset = tokenize_and_concatenate(dataset,reference_gpt2.tokenizer,streaming=False,max_length=cfg.n_ctx,column_name='text',\n",
        "                                          add_bos_token=True,num_proc=4)\n",
        "dataloader = torch.utils.data.DataLoader(tokens_dataset, batch_size=batch_size, shuffle=True) #,num_workers=2,pin_memory=True)"
      ],
      "metadata": {
        "id": "HeBDuUpEDecM"
      },
      "execution_count": null,
      "outputs": []
    },
    {
      "cell_type": "markdown",
      "metadata": {
        "id": "G4KGTHy95p_-"
      },
      "source": [
        "## Create Model\n"
      ]
    },
    {
      "cell_type": "code",
      "source": [
        "model = DemoTransformer(cfg)\n",
        "model.cuda()"
      ],
      "metadata": {
        "colab": {
          "base_uri": "https://localhost:8080/"
        },
        "id": "zSm1w8iNHH8U",
        "outputId": "3fdfef15-d85f-4c4e-9581-ab737d664f07"
      },
      "execution_count": null,
      "outputs": [
        {
          "output_type": "execute_result",
          "data": {
            "text/plain": [
              "DemoTransformer(\n",
              "  (embed): Embed()\n",
              "  (pos_embed): PosEmbed()\n",
              "  (blocks): ModuleList(\n",
              "    (0): TransformerBlock(\n",
              "      (ln1): LayerNorm()\n",
              "      (attn): Attention()\n",
              "      (ln2): LayerNorm()\n",
              "      (mlp): MLP()\n",
              "    )\n",
              "    (1): TransformerBlock(\n",
              "      (ln1): LayerNorm()\n",
              "      (attn): Attention()\n",
              "      (ln2): LayerNorm()\n",
              "      (mlp): MLP()\n",
              "    )\n",
              "  )\n",
              "  (ln_final): LayerNorm()\n",
              "  (unembed): Unembed()\n",
              ")"
            ]
          },
          "metadata": {},
          "execution_count": 49
        }
      ]
    },
    {
      "cell_type": "markdown",
      "metadata": {
        "id": "3F_-auQ85p__"
      },
      "source": [
        "## Create Optimizer\n",
        "We use AdamW - it's a pretty standard optimizer."
      ]
    },
    {
      "cell_type": "code",
      "source": [
        "optimizer = torch.optim.AdamW(model.parameters(),lr=lr,weight_decay=wd)"
      ],
      "metadata": {
        "id": "A8WhMB2eHWdL"
      },
      "execution_count": null,
      "outputs": []
    },
    {
      "cell_type": "markdown",
      "metadata": {
        "id": "9WL-SIF-5qAA"
      },
      "source": [
        "## Run Training Loop\n"
      ]
    },
    {
      "cell_type": "code",
      "source": [
        "import time\n",
        "t0 = time.time()\n",
        "losses = []\n",
        "# print(f\"len(dataloader)={len(dataloader)}\") # prints 8506\n",
        "for epoch in range(num_epochs):\n",
        "  running_loss = 0.0\n",
        "  for i, batch in enumerate(dataloader):\n",
        "      tokens = batch['tokens'].cuda()\n",
        "\n",
        "      # zero the parameter gradients\n",
        "      optimizer.zero_grad()\n",
        "\n",
        "      # forward + backward + optimize\n",
        "      logits = model(tokens)\n",
        "      loss = lm_cross_entropy_loss(logits,tokens)\n",
        "      loss.backward()\n",
        "      optimizer.step()\n",
        "\n",
        "      # print statistics\n",
        "      running_loss += loss.item()\n",
        "      if i % log_every == 0:    # print every 10 batches\n",
        "          print(f'Epoch {epoch + 1}, batch {i+1} loss: {running_loss / min([log_every,i+1]):.3f}')\n",
        "          losses.append(running_loss / min([log_every,i+1]))\n",
        "          running_loss = 0.0\n",
        "      if i > max_steps:\n",
        "        break\n",
        "tf = time.time()\n",
        "print(f'\\nFinished Training in {tf-t0} seconds.')"
      ],
      "metadata": {
        "id": "Z-_-lQvoh9NE",
        "colab": {
          "base_uri": "https://localhost:8080/"
        },
        "outputId": "a47f2c64-6366-4dc0-a27e-1b5699f415d0"
      },
      "execution_count": null,
      "outputs": [
        {
          "output_type": "stream",
          "name": "stdout",
          "text": [
            "Epoch 1, batch 1 loss: 10.857\n",
            "Epoch 1, batch 11 loss: 9.473\n",
            "Epoch 1, batch 21 loss: 7.783\n",
            "Epoch 1, batch 31 loss: 7.376\n",
            "Epoch 1, batch 41 loss: 7.000\n",
            "Epoch 1, batch 51 loss: 7.313\n",
            "Epoch 1, batch 61 loss: 7.132\n",
            "Epoch 1, batch 71 loss: 7.404\n",
            "Epoch 1, batch 81 loss: 7.080\n",
            "Epoch 1, batch 91 loss: 7.184\n",
            "Epoch 1, batch 101 loss: 7.254\n",
            "Epoch 1, batch 111 loss: 6.907\n",
            "Epoch 1, batch 121 loss: 6.926\n",
            "Epoch 1, batch 131 loss: 6.716\n",
            "Epoch 1, batch 141 loss: 6.495\n",
            "Epoch 1, batch 151 loss: 6.809\n",
            "Epoch 1, batch 161 loss: 6.622\n",
            "Epoch 1, batch 171 loss: 6.930\n",
            "Epoch 1, batch 181 loss: 6.732\n",
            "Epoch 1, batch 191 loss: 6.318\n",
            "Epoch 1, batch 201 loss: 6.459\n",
            "Epoch 1, batch 211 loss: 6.524\n",
            "Epoch 1, batch 221 loss: 6.396\n",
            "Epoch 1, batch 231 loss: 6.284\n",
            "Epoch 1, batch 241 loss: 6.615\n",
            "Epoch 1, batch 251 loss: 6.615\n",
            "Epoch 1, batch 261 loss: 6.278\n",
            "Epoch 1, batch 271 loss: 6.423\n",
            "Epoch 1, batch 281 loss: 6.394\n",
            "Epoch 1, batch 291 loss: 6.274\n",
            "Epoch 1, batch 301 loss: 6.186\n",
            "Epoch 1, batch 311 loss: 6.156\n",
            "Epoch 1, batch 321 loss: 6.352\n",
            "Epoch 1, batch 331 loss: 6.338\n",
            "Epoch 1, batch 341 loss: 6.304\n",
            "Epoch 1, batch 351 loss: 6.262\n",
            "Epoch 1, batch 361 loss: 6.195\n",
            "Epoch 1, batch 371 loss: 6.002\n",
            "Epoch 1, batch 381 loss: 6.073\n",
            "Epoch 1, batch 391 loss: 6.069\n",
            "Epoch 1, batch 401 loss: 5.909\n",
            "Epoch 1, batch 411 loss: 6.109\n",
            "Epoch 1, batch 421 loss: 5.602\n",
            "Epoch 1, batch 431 loss: 5.773\n",
            "Epoch 1, batch 441 loss: 6.098\n",
            "Epoch 1, batch 451 loss: 6.223\n",
            "Epoch 1, batch 461 loss: 6.197\n",
            "Epoch 1, batch 471 loss: 6.248\n",
            "Epoch 1, batch 481 loss: 5.931\n",
            "Epoch 1, batch 491 loss: 6.075\n",
            "Epoch 1, batch 501 loss: 5.562\n",
            "Epoch 1, batch 511 loss: 6.316\n",
            "Epoch 1, batch 521 loss: 5.787\n",
            "Epoch 1, batch 531 loss: 6.121\n",
            "Epoch 1, batch 541 loss: 5.979\n",
            "Epoch 1, batch 551 loss: 6.126\n",
            "Epoch 1, batch 561 loss: 6.218\n",
            "Epoch 1, batch 571 loss: 6.020\n",
            "Epoch 1, batch 581 loss: 6.219\n",
            "Epoch 1, batch 591 loss: 6.100\n",
            "Epoch 1, batch 601 loss: 5.927\n",
            "Epoch 1, batch 611 loss: 6.258\n",
            "Epoch 1, batch 621 loss: 6.019\n",
            "Epoch 1, batch 631 loss: 5.619\n",
            "Epoch 1, batch 641 loss: 5.860\n",
            "Epoch 1, batch 651 loss: 5.793\n",
            "Epoch 1, batch 661 loss: 5.869\n",
            "Epoch 1, batch 671 loss: 5.887\n",
            "Epoch 1, batch 681 loss: 5.772\n",
            "Epoch 1, batch 691 loss: 5.741\n",
            "Epoch 1, batch 701 loss: 5.939\n",
            "Epoch 1, batch 711 loss: 6.034\n",
            "Epoch 1, batch 721 loss: 5.951\n",
            "Epoch 1, batch 731 loss: 5.576\n",
            "Epoch 1, batch 741 loss: 5.664\n",
            "Epoch 1, batch 751 loss: 6.029\n",
            "Epoch 1, batch 761 loss: 5.622\n",
            "Epoch 1, batch 771 loss: 5.887\n",
            "Epoch 1, batch 781 loss: 5.674\n",
            "Epoch 1, batch 791 loss: 5.785\n",
            "Epoch 1, batch 801 loss: 5.896\n",
            "Epoch 1, batch 811 loss: 5.710\n",
            "Epoch 1, batch 821 loss: 5.690\n",
            "Epoch 1, batch 831 loss: 5.333\n",
            "Epoch 1, batch 841 loss: 5.692\n",
            "Epoch 1, batch 851 loss: 5.457\n",
            "Epoch 1, batch 861 loss: 5.715\n",
            "Epoch 1, batch 871 loss: 5.443\n",
            "Epoch 1, batch 881 loss: 5.438\n",
            "Epoch 1, batch 891 loss: 5.705\n",
            "Epoch 1, batch 901 loss: 5.708\n",
            "Epoch 1, batch 911 loss: 5.501\n",
            "Epoch 1, batch 921 loss: 5.703\n",
            "Epoch 1, batch 931 loss: 5.686\n",
            "Epoch 1, batch 941 loss: 5.589\n",
            "Epoch 1, batch 951 loss: 5.684\n",
            "Epoch 1, batch 961 loss: 5.639\n",
            "Epoch 1, batch 971 loss: 5.443\n",
            "Epoch 1, batch 981 loss: 5.757\n",
            "Epoch 1, batch 991 loss: 5.447\n",
            "Epoch 1, batch 1001 loss: 5.632\n",
            "\n",
            "Finished Training in 99.09545636177063 seconds.\n"
          ]
        }
      ]
    },
    {
      "cell_type": "markdown",
      "metadata": {
        "id": "-_k8xyCl5qAB"
      },
      "source": [
        "We can now plot a loss curve!"
      ]
    },
    {
      "cell_type": "code",
      "source": [
        "import matplotlib.pyplot as plt\n",
        "\n",
        "plt.plot(np.arange(0,1000,10),losses[1:])\n",
        "plt.xlabel(\"Batch\")\n",
        "plt.ylabel(\"Loss\")\n",
        "plt.show()"
      ],
      "metadata": {
        "id": "Q3jFWjCPCB7B",
        "colab": {
          "base_uri": "https://localhost:8080/",
          "height": 279
        },
        "outputId": "9afc0a0d-c3ad-4e7d-9fe6-65aedc6a2974"
      },
      "execution_count": null,
      "outputs": [
        {
          "output_type": "display_data",
          "data": {
            "text/plain": [
              "<Figure size 432x288 with 1 Axes>"
            ],
            "image/png": "[encoded data removed]"
          },
          "metadata": {
            "needs_background": "light"
          }
        }
      ]
    }
  ],
  "metadata": {
    "kernelspec": {
      "display_name": "Python 3.7.13 ('base')",
      "language": "python",
      "name": "python3"
    },
    "language_info": {
      "codemirror_mode": {
        "name": "ipython",
        "version": 3
      },
      "file_extension": ".py",
      "mimetype": "text/x-python",
      "name": "python",
      "nbconvert_exporter": "python",
      "pygments_lexer": "ipython3",
      "version": "3.7.13"
    },
    "orig_nbformat": 4,
    "vscode": {
      "interpreter": {
        "hash": "d4d1e4263499bec80672ea0156c357c1ee493ec2b1c70f0acce89fc37c4a6abe"
      }
    },
    "colab": {
      "provenance": [],
      "include_colab_link": true
    },
    "accelerator": "GPU",
    "gpuClass": "standard"
  },
  "nbformat": 4,
  "nbformat_minor": 0
}
