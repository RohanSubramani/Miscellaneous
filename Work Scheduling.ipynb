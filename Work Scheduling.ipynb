{
 "cells": [
  {
   "cell_type": "markdown",
   "metadata": {},
   "source": [
    "Something is wrong with the allocation of time to days after hump day (not equal distribution after that)."
   ]
  },
  {
   "cell_type": "code",
   "execution_count": 22,
   "metadata": {},
   "outputs": [],
   "source": [
    "import operator\n",
    "from datetime import date\n",
    "import copy"
   ]
  },
  {
   "cell_type": "code",
   "execution_count": 2,
   "metadata": {},
   "outputs": [],
   "source": [
    "class Task:\n",
    "    def __init__(self,description,hoursNeeded,maxHoursPerDay,dueDate,daysLeft): \n",
    "        self.description = description\n",
    "        self.hoursNeeded = hoursNeeded\n",
    "        self.maxHoursPerDay = maxHoursPerDay\n",
    "        self.dueDate = dueDate\n",
    "        self.daysLeft = daysLeft"
   ]
  },
  {
   "cell_type": "code",
   "execution_count": 3,
   "metadata": {},
   "outputs": [],
   "source": [
    "def addTask(description,hoursNeeded,maxHoursPerDay,dueDate):\n",
    "    task = Task(description,hoursNeeded,maxHoursPerDay,dueDate,getTimeLeft(dueDate))\n",
    "    tasks.append(task)"
   ]
  },
  {
   "cell_type": "code",
   "execution_count": 4,
   "metadata": {},
   "outputs": [],
   "source": [
    "def getTimeLeft(date2):\n",
    "    timeLeft = getTime(date2) - getTime(str(date.today())) + 1 \n",
    "#    Get rid of the plus one to give a day of leeway for everything\n",
    "#     if timeLeft == 0:\n",
    "#         return 1\n",
    "#     else:\n",
    "    return timeLeft"
   ]
  },
  {
   "cell_type": "code",
   "execution_count": 5,
   "metadata": {},
   "outputs": [],
   "source": [
    "def getTime(date): # Example date: \"2021-11-17\"\n",
    "    \n",
    "    year = date[:4]\n",
    "    yearContribution = (int(year)-2021)*365 # NEEDS EDITING WHEN LEAP YEARS ARE COMING AROUND\n",
    "    \n",
    "    month = date[5:7]\n",
    "    if month == \"01\":\n",
    "        monthContribution = 0\n",
    "    if month == \"02\":\n",
    "        monthContribution = 31\n",
    "    if month == \"03\":\n",
    "        monthContribution = 60\n",
    "    if month == \"04\":\n",
    "        monthContribution = 91\n",
    "    if month == \"05\":\n",
    "        monthContribution = 121\n",
    "    if month == \"06\":\n",
    "        monthContribution = 152\n",
    "    if month == \"07\":\n",
    "        monthContribution = 182\n",
    "    if month == \"08\":\n",
    "        monthContribution = 213\n",
    "    if month == \"09\":\n",
    "        monthContribution = 244\n",
    "    if month == \"10\":\n",
    "        monthContribution = 274\n",
    "    if month == \"11\":\n",
    "        monthContribution = 305\n",
    "    if month == \"12\":\n",
    "        monthContribution = 335\n",
    "        \n",
    "    day = date[8:]\n",
    "    dayContribution = int(day)-1\n",
    "    \n",
    "    daysSince2021 = yearContribution + monthContribution + dayContribution\n",
    "    \n",
    "    return daysSince2021"
   ]
  },
  {
   "cell_type": "code",
   "execution_count": 6,
   "metadata": {},
   "outputs": [],
   "source": [
    "class Commitment:\n",
    "    def __init__(self,description,hours,date): \n",
    "        self.description = description\n",
    "        self.hours = hours\n",
    "        self.date = date"
   ]
  },
  {
   "cell_type": "code",
   "execution_count": 7,
   "metadata": {},
   "outputs": [],
   "source": [
    "def addComm(description,hours,date):\n",
    "    comm = Commitment(description,hours,date)\n",
    "    comms.append(comm)"
   ]
  },
  {
   "cell_type": "markdown",
   "metadata": {},
   "source": [
    "Ultimately want schedule = {day1:(comms and times, tasks and times), day2:...}\n",
    "\n",
    "1. Add all comms.\n",
    "2. Figure out maxAvgHoursPerDay.\n",
    "3. For the first task due, figure out the total hours (including commitments) due by its due date.\n",
    "4. Saturate every day until humpDay, unless already saturated by existing comms. Be prepared to deal with more hours in commitments than maxAvgHoursPerDay.\n"
   ]
  },
  {
   "cell_type": "code",
   "execution_count": 8,
   "metadata": {},
   "outputs": [],
   "source": [
    "def getSchedule(tasks):\n",
    "    tasks = sortTasks(tasks)\n",
    "    tasks = updateTasks(tasks)\n",
    "    for task in tasks:\n",
    "        print(task.description,\"Days left:\", task.daysLeft, \"hoursNeeded:\",task.hoursNeeded)\n",
    "    for comm in comms:\n",
    "        print(comm.description,f\"hours: {comm.hours}\",comm.date)\n",
    "    tasksDue = []\n",
    "    hoursDue = 0\n",
    "    schedule = {}\n",
    "    maxAvgHoursPerDay = 0\n",
    "    humpDay = 0\n",
    "    for day in range(1,tasks[-1].daysLeft+1):\n",
    "        schedule[day] = {}\n",
    "    for day in range(1,tasks[-1].daysLeft+1):\n",
    "        newTaskWeights = {}\n",
    "        newTasks = []\n",
    "        newHours = 0\n",
    "        for task in tasks:\n",
    "            if task.daysLeft == day:\n",
    "                tasksDue.append(task)\n",
    "                hoursDue += task.hoursNeeded\n",
    "                newTasks.append(task)\n",
    "                newHours += task.hoursNeeded\n",
    "                newDays = day - getFirstZero(schedule) + 1\n",
    "        for newTask in newTasks:\n",
    "            newTaskWeights[newTask] = newTask.hoursNeeded/newHours\n",
    "#   print(\"\\nDay = \",day)\n",
    "#   print([(task.description,task.hoursNeeded,\"Weight =\",newTaskWeights[task]) for task in newTasks],\"newH=\",newHours)\n",
    "        avgHoursPerDay = hoursDue/day\n",
    "#         print(\"\\nhoursDue,day,avgHoursPerDay : \",hoursDue,day,avgHoursPerDay,\"\\n\")\n",
    "        if avgHoursPerDay > maxAvgHoursPerDay:\n",
    "            maxAvgHoursPerDay = avgHoursPerDay\n",
    "            humpDay = day\n",
    "#             print(\"humpDay = \",humpDay)\n",
    "        for day2 in range(1,day+1):\n",
    "            if avgHoursPerDay == maxAvgHoursPerDay:\n",
    "                toAdd = (maxAvgHoursPerDay - getCurrentHours(schedule,day2))\n",
    "                if toAdd > 0:\n",
    "                    for newTask in newTasks:\n",
    "                        schedule[day2][newTask.description] = toAdd*newTaskWeights[newTask]\n",
    "            elif getCurrentHours(schedule,day2) == 0:\n",
    "                for newTask in newTasks:\n",
    "                    schedule[day2][newTask.description] = newHours/newDays * newTaskWeights[newTask]\n",
    "    print(\"\\nhumpDay =\", humpDay)\n",
    "    print(\"maxAvgHoursPerDay = \", maxAvgHoursPerDay)\n",
    "    for day in schedule:\n",
    "        print(\"\\nDay\", day,\":\\n\")\n",
    "        for taskDescription in schedule[day]:\n",
    "            print(taskDescription+\":\",schedule[day][taskDescription])\n",
    "#     return schedule"
   ]
  },
  {
   "cell_type": "code",
   "execution_count": 9,
   "metadata": {},
   "outputs": [],
   "source": [
    "def sortTasks(tasks):\n",
    "    sortedTasks = sorted(tasks, key=operator.attrgetter('daysLeft'))\n",
    "    return sortedTasks"
   ]
  },
  {
   "cell_type": "code",
   "execution_count": 10,
   "metadata": {},
   "outputs": [],
   "source": [
    "def updateTasks(tasks):\n",
    "    Is = [] \n",
    "    for i in range(len(tasks)):\n",
    "        try:\n",
    "            tasks[i].daysLeft = getTimeLeft(tasks[i].dueDate)\n",
    "            if tasks[i].daysLeft <= 0:\n",
    "                remove = input(\"Remove \"+ tasks[i].description+ \"? (Y = yes, N = no)\\n\")\n",
    "                if remove in \"Yes\":\n",
    "                    Is.append(i)\n",
    "                else:\n",
    "                    tasks[i].dueDate = input(\"Enter new due date, in format yyyy-mm-dd: \")\n",
    "                    tasks[i].daysLeft = getTimeLeft(tasks[i].dueDate)\n",
    "        except IndexError:\n",
    "            pass\n",
    "\n",
    "    tasks2 = []\n",
    "    for i in range(len(tasks)):\n",
    "        if i not in Is:\n",
    "            tasks2.append(tasks[i])\n",
    "    return tasks2"
   ]
  },
  {
   "cell_type": "code",
   "execution_count": 11,
   "metadata": {},
   "outputs": [],
   "source": [
    "def getFirstZero(schedule):\n",
    "    for i in range(1,len(schedule)+1):\n",
    "        if schedule[i] == {}:\n",
    "            return i"
   ]
  },
  {
   "cell_type": "code",
   "execution_count": 12,
   "metadata": {},
   "outputs": [],
   "source": [
    "def getCurrentHours(schedule,day2):\n",
    "    if schedule[day2] == {}:\n",
    "        return 0\n",
    "    else:\n",
    "        totalHours = 0\n",
    "        workHours = schedule[day2].values()\n",
    "        for hours in workHours:\n",
    "            totalHours+=hours\n",
    "        return totalHours"
   ]
  },
  {
   "cell_type": "code",
   "execution_count": 13,
   "metadata": {},
   "outputs": [],
   "source": [
    "tasks = []\n",
    "comms = []"
   ]
  },
  {
   "cell_type": "code",
   "execution_count": 14,
   "metadata": {},
   "outputs": [
    {
     "name": "stdout",
     "output_type": "stream",
     "text": [
      "Algebra HW 6\n",
      "ML Lecture 2\n",
      "Hex & Co Planning 1\n",
      "Research 5\n",
      "AI Research Cold Emails 1\n",
      "Redwood Interest Form 1\n",
      "Astrofest Poster Reimbursement 1\n",
      "QM HW 1\n",
      "Hex & Co Day 2\n",
      "ML HW 10\n",
      "CC Essay 1\n",
      "ML Studying 14\n",
      "QM Studying 19\n",
      "Algebra Studying 20\n",
      "AI Safety Fundamentals Application 13\n"
     ]
    }
   ],
   "source": [
    "addTask(\"Algebra HW\",8,8,\"2021-12-08\")\n",
    "addTask(\"ML Lecture\",1,2,\"2021-12-04\")\n",
    "addTask(\"Hex & Co Planning\",7,6,\"2021-12-03\")\n",
    "addTask(\"Research\",5,5,\"2021-12-07\")\n",
    "addTask(\"AI Research Cold Emails\",5,3,\"2021-12-03\")\n",
    "addTask(\"Redwood Interest Form\",2,3,\"2021-12-03\")\n",
    "addTask(\"Astrofest Poster Reimbursement\",2,3,\"2021-12-03\")\n",
    "# addTask(\"CC Reading 1\",3,3,\"2021-11-29\")\n",
    "addTask(\"QM HW\",10,3,\"2021-12-03\")\n",
    "addTask(\"Hex & Co Day\",9,9,\"2021-12-04\")\n",
    "addTask(\"ML HW\",25,3,\"2021-12-12\")\n",
    "addTask(\"CC Essay\",7,3,\"2021-12-03\")\n",
    "addTask(\"ML Studying\",20,3,\"2021-12-16\")\n",
    "addTask(\"QM Studying\",20,3,\"2021-12-21\")\n",
    "addTask(\"Algebra Studying\",10,3,\"2021-12-22\")\n",
    "addTask(\"AI Safety Fundamentals Application\",1,1,\"2021-12-15\")\n",
    "\n",
    "# tasks = sortTasks(tasks)\n",
    "# tasks = updateTasks(tasks)\n",
    "\n",
    "# addComm(\"CC Class\",2,\"2021-12-01\")\n",
    "# addComm(\"Algebra Class\",2,\"2021-12-01\")\n",
    "\n",
    "for task in tasks:\n",
    "    print(task.description,task.daysLeft)\n",
    "for comm in comms:\n",
    "    print(comm.description,comm.date)"
   ]
  },
  {
   "cell_type": "code",
   "execution_count": null,
   "metadata": {
    "scrolled": true
   },
   "outputs": [],
   "source": [
    "getSchedule(tasks)"
   ]
  },
  {
   "cell_type": "code",
   "execution_count": 36,
   "metadata": {},
   "outputs": [
    {
     "ename": "TypeError",
     "evalue": "object of type 'int' has no len()",
     "output_type": "error",
     "traceback": [
      "\u001b[1;31m---------------------------------------------------------------------------\u001b[0m",
      "\u001b[1;31mTypeError\u001b[0m                                 Traceback (most recent call last)",
      "\u001b[1;32m<ipython-input-36-bdbbd68e0500>\u001b[0m in \u001b[0;36m<module>\u001b[1;34m\u001b[0m\n\u001b[0;32m      1\u001b[0m \u001b[0mnDays\u001b[0m \u001b[1;33m=\u001b[0m \u001b[0mgetNDays\u001b[0m\u001b[1;33m(\u001b[0m\u001b[0mtasks\u001b[0m\u001b[1;33m,\u001b[0m\u001b[0mcomms\u001b[0m\u001b[1;33m)\u001b[0m\u001b[1;33m\u001b[0m\u001b[1;33m\u001b[0m\u001b[0m\n\u001b[1;32m----> 2\u001b[1;33m \u001b[0mschedule\u001b[0m \u001b[1;33m=\u001b[0m \u001b[0mcreateSchedule\u001b[0m\u001b[1;33m(\u001b[0m\u001b[0mnDays\u001b[0m\u001b[1;33m)\u001b[0m\u001b[1;33m\u001b[0m\u001b[1;33m\u001b[0m\u001b[0m\n\u001b[0m\u001b[0;32m      3\u001b[0m \u001b[0mhded\u001b[0m \u001b[1;33m=\u001b[0m \u001b[0mgetHDED\u001b[0m\u001b[1;33m(\u001b[0m\u001b[0mtasks\u001b[0m\u001b[1;33m,\u001b[0m\u001b[0mcomms\u001b[0m\u001b[1;33m,\u001b[0m\u001b[0mnDays\u001b[0m\u001b[1;33m)\u001b[0m \u001b[1;31m# Hours due each day\u001b[0m\u001b[1;33m\u001b[0m\u001b[1;33m\u001b[0m\u001b[0m\n\u001b[0;32m      4\u001b[0m \u001b[0mprint\u001b[0m\u001b[1;33m(\u001b[0m\u001b[0mhded\u001b[0m\u001b[1;33m)\u001b[0m\u001b[1;33m\u001b[0m\u001b[1;33m\u001b[0m\u001b[0m\n\u001b[0;32m      5\u001b[0m \u001b[0mpreviousHumpDay\u001b[0m\u001b[1;33m=\u001b[0m\u001b[1;36m0\u001b[0m\u001b[1;33m\u001b[0m\u001b[1;33m\u001b[0m\u001b[0m\n",
      "\u001b[1;32m<ipython-input-23-d0c52d2a9a2f>\u001b[0m in \u001b[0;36mcreateSchedule\u001b[1;34m(nDays)\u001b[0m\n\u001b[0;32m      1\u001b[0m \u001b[1;32mdef\u001b[0m \u001b[0mcreateSchedule\u001b[0m\u001b[1;33m(\u001b[0m\u001b[0mnDays\u001b[0m\u001b[1;33m)\u001b[0m\u001b[1;33m:\u001b[0m\u001b[1;33m\u001b[0m\u001b[1;33m\u001b[0m\u001b[0m\n\u001b[0;32m      2\u001b[0m     \u001b[0mschedule\u001b[0m \u001b[1;33m=\u001b[0m \u001b[1;33m{\u001b[0m\u001b[1;33m}\u001b[0m\u001b[1;33m\u001b[0m\u001b[1;33m\u001b[0m\u001b[0m\n\u001b[1;32m----> 3\u001b[1;33m     \u001b[1;32mfor\u001b[0m \u001b[0mn\u001b[0m \u001b[1;32min\u001b[0m \u001b[0mrange\u001b[0m\u001b[1;33m(\u001b[0m\u001b[1;36m1\u001b[0m\u001b[1;33m,\u001b[0m\u001b[0mlen\u001b[0m\u001b[1;33m(\u001b[0m\u001b[0mnDays\u001b[0m\u001b[1;33m)\u001b[0m\u001b[1;33m+\u001b[0m\u001b[1;36m1\u001b[0m\u001b[1;33m)\u001b[0m\u001b[1;33m:\u001b[0m\u001b[1;33m\u001b[0m\u001b[1;33m\u001b[0m\u001b[0m\n\u001b[0m\u001b[0;32m      4\u001b[0m         \u001b[0mschedule\u001b[0m\u001b[1;33m[\u001b[0m\u001b[0mn\u001b[0m\u001b[1;33m]\u001b[0m\u001b[1;33m=\u001b[0m\u001b[1;33m{\u001b[0m\u001b[1;33m}\u001b[0m\u001b[1;33m\u001b[0m\u001b[1;33m\u001b[0m\u001b[0m\n\u001b[0;32m      5\u001b[0m     \u001b[1;32mreturn\u001b[0m \u001b[0mschedule\u001b[0m\u001b[1;33m\u001b[0m\u001b[1;33m\u001b[0m\u001b[0m\n",
      "\u001b[1;31mTypeError\u001b[0m: object of type 'int' has no len()"
     ]
    }
   ],
   "source": [
    "tasks = sortTasks(upDateTasks(tasks))\n",
    "nDays = getNDays(tasks,comms)\n",
    "schedule = createSchedule(nDays)\n",
    "hded = getHDED(tasks,comms,nDays) # Hours due each day\n",
    "print(hded)\n",
    "previousHumpDay=0\n",
    "while previousHumpDay < nDays:\n",
    "    avgHPD,humpDay = getHumpDay(hded,previousHumpDay) # Average hours per day\n",
    "    schedule = saturateSchedule(schedule,avgHPD,previousHumpDay,humpDay,tasks,comms)\n",
    "    tasks,comms = getRemainingTasksAndComms(humpDay,tasks,comms)\n",
    "    previousHumpDay = humpDay\n",
    "print(\"\\nhumpDay =\", humpDay)\n",
    "print(\"maxAvgHoursPerDay = \", maxAvgHoursPerDay)\n",
    "for day in schedule:\n",
    "    print(\"\\nDay\", day,\":\\n\")\n",
    "    for taskDescription in schedule[day]:\n",
    "        print(taskDescription+\":\",schedule[day][taskDescription]) # task: hours of work for this task on this day"
   ]
  },
  {
   "cell_type": "code",
   "execution_count": 22,
   "metadata": {},
   "outputs": [],
   "source": [
    "def getNDays(tasks,comms):\n",
    "    furthestDueDate = 0\n",
    "    for task in tasks:\n",
    "        if task.daysLeft > furthestDueDate:\n",
    "            furthestDueDate = task.daysLeft\n",
    "    for comm in comms:\n",
    "        commTimeLeft = getTimeLeft(comm.date)\n",
    "        if commTimeLeft > furthestDueDate:\n",
    "            furthestDueDate = commTimeLeft\n",
    "    return furthestDueDate"
   ]
  },
  {
   "cell_type": "code",
   "execution_count": 37,
   "metadata": {},
   "outputs": [],
   "source": [
    "def createSchedule(nDays):\n",
    "    schedule = {}\n",
    "    for n in range(1,nDays+1):\n",
    "        schedule[n]={}\n",
    "    return schedule"
   ]
  },
  {
   "cell_type": "code",
   "execution_count": 27,
   "metadata": {},
   "outputs": [],
   "source": [
    "def getHDED(tasks,comms,nDays):\n",
    "    hded = [0]*nDays\n",
    "    for task in tasks:\n",
    "        daysLeft = task.daysLeft\n",
    "        hded[daysLeft-1] += task.hoursNeeded\n",
    "        \n",
    "    for comm in comms:\n",
    "        daysLeft = getTimeLeft(comm.date)\n",
    "        hded[daysLeft-1] += comm.hours\n",
    "    \n",
    "    return hded"
   ]
  },
  {
   "cell_type": "code",
   "execution_count": 34,
   "metadata": {},
   "outputs": [],
   "source": [
    "def getHumpDay(hded,previousHumpDay):\n",
    "    remainingHDED = hded[previousHumpDay:]\n",
    "    maxHPD = 0\n",
    "    for i in range(len(remainingHDED)):\n",
    "        totHDue = sum(remainingHDED[:i+1])\n",
    "        avgHPD = totHDue/(i+1)\n",
    "        if avgHPD>maxHPD:\n",
    "            maxHPD = avgHPD\n",
    "            humpDay = i+1\n",
    "    return maxHPD, humpDay"
   ]
  },
  {
   "cell_type": "code",
   "execution_count": null,
   "metadata": {},
   "outputs": [],
   "source": [
    "def saturateSchedule(schedule,avgHPD,previousHumpDay,humpDay,tasks,comms):\n",
    "    tasks2 = []\n",
    "    comms2= []\n",
    "    for task in tasks:\n",
    "        if task.daysLeft <= humpDay:\n",
    "            task2 = Task(description,hoursNeeded,maxHoursPerDay,dueDate,getTimeLeft(dueDate)-previousHumpDay)\n",
    "            tasks2.append(task2)\n",
    "    for comm in comms:\n",
    "        if getTimeLeft(comm.date) <= humpDay:\n",
    "            comm2 = Commitment(comm.description,comm.hours,date)\n",
    "            comms2.append(comm2)\n",
    "    \n",
    "    for comm in comms2:\n",
    "        day = getTimeLeft(comm.date)\n",
    "        schedule[day][comm] = comm.hours\n",
    "        "
   ]
  },
  {
   "cell_type": "code",
   "execution_count": null,
   "metadata": {},
   "outputs": [],
   "source": [
    "def getSchedule2(tasks):\n",
    "    tasks = sortTasks(tasks)\n",
    "    tasks = updateTasks(tasks)\n",
    "    for task in tasks:\n",
    "        print(task.description,\"Days left:\", task.daysLeft, \"hoursNeeded:\",task.hoursNeeded)\n",
    "    for comm in comms:\n",
    "        print(comm.description,f\"hours: {comm.hours}\",comm.date)\n",
    "    tasksDue = []\n",
    "    hoursDue = 0\n",
    "    schedule = {}\n",
    "    maxAvgHoursPerDay = 0\n",
    "    humpDay = 0\n",
    "    for day in range(1,tasks[-1].daysLeft+1):\n",
    "        schedule[day] = {}\n",
    "    for day in range(1,tasks[-1].daysLeft+1):\n",
    "        newTaskWeights = {}\n",
    "        newTasks = []\n",
    "        newHours = 0\n",
    "        for task in tasks:\n",
    "            if task.daysLeft == day:\n",
    "                tasksDue.append(task)\n",
    "                hoursDue += task.hoursNeeded\n",
    "                newTasks.append(task)\n",
    "                newHours += task.hoursNeeded\n",
    "                newDays = day - getFirstZero(schedule) + 1\n",
    "        for newTask in newTasks:\n",
    "            newTaskWeights[newTask] = newTask.hoursNeeded/newHours\n",
    "#   print(\"\\nDay = \",day)\n",
    "#   print([(task.description,task.hoursNeeded,\"Weight =\",newTaskWeights[task]) for task in newTasks],\"newH=\",newHours)\n",
    "        avgHoursPerDay = hoursDue/day\n",
    "#         print(\"\\nhoursDue,day,avgHoursPerDay : \",hoursDue,day,avgHoursPerDay,\"\\n\")\n",
    "        if avgHoursPerDay > maxAvgHoursPerDay:\n",
    "            maxAvgHoursPerDay = avgHoursPerDay\n",
    "            humpDay = day\n",
    "#             print(\"humpDay = \",humpDay)\n",
    "        for day2 in range(1,day+1):\n",
    "            if avgHoursPerDay == maxAvgHoursPerDay:\n",
    "                toAdd = (maxAvgHoursPerDay - getCurrentHours(schedule,day2))\n",
    "                if toAdd > 0:\n",
    "                    for newTask in newTasks:\n",
    "                        schedule[day2][newTask.description] = toAdd*newTaskWeights[newTask]\n",
    "            elif getCurrentHours(schedule,day2) == 0:\n",
    "                for newTask in newTasks:\n",
    "                    schedule[day2][newTask.description] = newHours/newDays * newTaskWeights[newTask]"
   ]
  }
 ],
 "metadata": {
  "kernelspec": {
   "display_name": "Python 3",
   "language": "python",
   "name": "python3"
  },
  "language_info": {
   "codemirror_mode": {
    "name": "ipython",
    "version": 3
   },
   "file_extension": ".py",
   "mimetype": "text/x-python",
   "name": "python",
   "nbconvert_exporter": "python",
   "pygments_lexer": "ipython3",
   "version": "3.7.3"
  }
 },
 "nbformat": 4,
 "nbformat_minor": 2
}
