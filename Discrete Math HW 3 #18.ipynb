{
 "cells": [
  {
   "cell_type": "code",
   "execution_count": 2,
   "metadata": {},
   "outputs": [
    {
     "name": "stdout",
     "output_type": "stream",
     "text": [
      "\n",
      "Enter a positive integer: 57\n",
      "Enter another positive integer: 21\n",
      "gcd(57, 21) = 3\n",
      "\n",
      "Do you want to compute another gcd?(1 = yes, 2 = no) \n",
      "1\n",
      "\n",
      "Enter a positive integer: 57\n",
      "Enter another positive integer: 19\n",
      "gcd(57, 19) = 19\n",
      "\n",
      "Do you want to compute another gcd?(1 = yes, 2 = no) \n",
      "1\n",
      "\n",
      "Enter a positive integer: 57\n",
      "Enter another positive integer: 35\n",
      "gcd(57, 35) = 1\n",
      "\n",
      "Do you want to compute another gcd?(1 = yes, 2 = no) \n",
      "2\n"
     ]
    }
   ],
   "source": [
    "repeat = True\n",
    "while repeat:\n",
    "    int1 = int(input(\"\\nEnter a positive integer: \"))\n",
    "    int2 = int(input(\"Enter another positive integer: \"))\n",
    "    dividend = int1\n",
    "    divisor = int2\n",
    "    remainder = dividend%divisor\n",
    "    while remainder != 0:\n",
    "        dividend = divisor\n",
    "        divisor = remainder\n",
    "        remainder = dividend%divisor\n",
    "    gcd = divisor\n",
    "    print(\"gcd(\" + str(int1) + \", \" + str(int2) + \") = \" + str(gcd))\n",
    "    ask = int(input(\"\\nDo you want to compute another gcd?\" \n",
    "                    + \"(1 = yes, 2 = no) \\n\"))\n",
    "    if ask == 2:\n",
    "        repeat = False"
   ]
  },
  {
   "cell_type": "code",
   "execution_count": 10,
   "metadata": {},
   "outputs": [
    {
     "name": "stdout",
     "output_type": "stream",
     "text": [
      "\n",
      "Enter a positive integer: 36\n",
      "Enter another positive integer: 350\n",
      "gcd(36, 350) = 2\n",
      "\n",
      "Do you want to compute another gcd?(1 = yes, 2 = no) \n",
      "1\n",
      "\n",
      "Enter a positive integer: 87654321\n",
      "Enter another positive integer: 12345678\n",
      "gcd(87654321, 12345678) = 9\n",
      "\n",
      "Do you want to compute another gcd?(1 = yes, 2 = no) \n",
      "1\n",
      "\n",
      "Enter a positive integer: 06846240\n",
      "Enter another positive integer: 246486\n",
      "gcd(6846240, 246486) = 6\n",
      "\n",
      "Do you want to compute another gcd?(1 = yes, 2 = no) \n",
      "1\n",
      "\n",
      "Enter a positive integer: 542943\n",
      "Enter another positive integer: 2399485\n",
      "gcd(542943, 2399485) = 1\n",
      "\n",
      "Do you want to compute another gcd?(1 = yes, 2 = no) \n",
      "2\n"
     ]
    }
   ],
   "source": [
    "def gcd(m,n):\n",
    "    if m%n == 0:\n",
    "        return n\n",
    "    else:\n",
    "        return gcd(n,m%n)\n",
    "repeat = True\n",
    "while repeat:\n",
    "    int1 = int(input(\"\\nEnter a positive integer: \"))\n",
    "    int2 = int(input(\"Enter another positive integer: \"))\n",
    "    gcd1 = gcd(int1,int2)\n",
    "    print(\"gcd(\" + str(int1) + \", \" + str(int2) + \") = \" + str(gcd1))\n",
    "    ask = int(input(\"\\nDo you want to compute another gcd?\" \n",
    "                    + \"(1 = yes, 2 = no) \\n\"))\n",
    "    if ask == 2:\n",
    "        repeat = False"
   ]
  },
  {
   "cell_type": "code",
   "execution_count": null,
   "metadata": {},
   "outputs": [],
   "source": []
  }
 ],
 "metadata": {
  "kernelspec": {
   "display_name": "Python 3",
   "language": "python",
   "name": "python3"
  },
  "language_info": {
   "codemirror_mode": {
    "name": "ipython",
    "version": 3
   },
   "file_extension": ".py",
   "mimetype": "text/x-python",
   "name": "python",
   "nbconvert_exporter": "python",
   "pygments_lexer": "ipython3",
   "version": "3.7.3"
  }
 },
 "nbformat": 4,
 "nbformat_minor": 2
}
