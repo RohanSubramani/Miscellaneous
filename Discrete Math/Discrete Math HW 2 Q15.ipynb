{
 "cells": [
  {
   "cell_type": "code",
   "execution_count": null,
   "metadata": {},
   "outputs": [],
   "source": [
    "from math import *\n",
    "repeat = True\n",
    "while repeat:\n",
    "    base = input(\"\\nEnter the base here (positive integer): \")\n",
    "    exponent = input(\"Enter the exponent here (positive integer): \")\n",
    "    total = int(exponent)\n",
    "    result = 1\n",
    "    current = int(base)\n",
    "    while total > 0:\n",
    "        remainder = total%2\n",
    "        if remainder == 1:\n",
    "            result *= current\n",
    "        total = floor(total/2)\n",
    "        current = current * current\n",
    "    print(base + \" to the power of \" + exponent + \" is \" + str(result) + \".\")\n",
    "    ask = int(input(\"\\nDo you want to compute another exponent?\" \n",
    "                    + \"(1 = yes, 2 = no) \\n\"))\n",
    "    if ask == 2:\n",
    "        repeat = False"
   ]
  }
 ],
 "metadata": {
  "kernelspec": {
   "display_name": "Python 3",
   "language": "python",
   "name": "python3"
  },
  "language_info": {
   "codemirror_mode": {
    "name": "ipython",
    "version": 3
   },
   "file_extension": ".py",
   "mimetype": "text/x-python",
   "name": "python",
   "nbconvert_exporter": "python",
   "pygments_lexer": "ipython3",
   "version": "3.7.3"
  }
 },
 "nbformat": 4,
 "nbformat_minor": 2
}
