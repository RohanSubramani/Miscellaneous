{
 "cells": [
  {
   "cell_type": "code",
   "execution_count": 1,
   "metadata": {},
   "outputs": [],
   "source": [
    "import sys\n",
    "import numpy as np\n",
    "import matplotlib.pyplot as plt\n",
    "import random\n",
    "from sklearn.datasets.samples_generator import make_blobs"
   ]
  },
  {
   "cell_type": "code",
   "execution_count": null,
   "metadata": {},
   "outputs": [],
   "source": [
    "# 2.ii/iii"
   ]
  },
  {
   "cell_type": "code",
   "execution_count": 2,
   "metadata": {},
   "outputs": [],
   "source": [
    "def getCities(D):\n",
    "    n = len(D)  # Number of cities\n",
    "    locs = initializeLocs(n,D)    # List which will contain 9 2D arrays, each representing a city's lat and long\n",
    "    cities = [\"BOS\",\"NYC\",\"DC\",\"MIA\",\"CHI\",\"SEA\",\"SF\",\"LA\",\"DEN\"]\n",
    "    plotCities(locs,cities,save=False)\n",
    "    locs = optimizeLocs(locs,D)\n",
    "    plotCities(locs,cities,save=True)\n",
    "    getDisc2(locs,D)\n",
    "    return locs"
   ]
  },
  {
   "cell_type": "code",
   "execution_count": 3,
   "metadata": {},
   "outputs": [],
   "source": [
    "def initializeLocs(n,D):\n",
    "    locs = []\n",
    "    a = -1*max(D[0])\n",
    "    b = max(D[0])\n",
    "    for i in range(n):\n",
    "        locs.append(np.array([random.uniform(a, b),random.uniform(a, b)]))\n",
    "    return locs"
   ]
  },
  {
   "cell_type": "code",
   "execution_count": 5,
   "metadata": {},
   "outputs": [],
   "source": [
    "def optimizeLocs(locs,D):\n",
    "    n = len(locs)\n",
    "    grad = np.array([1]*n)\n",
    "    cities = [\"BOS\",\"NYC\",\"DC\",\"MIA\",\"CHI\",\"SEA\",\"SF\",\"LA\",\"DEN\"]\n",
    "\n",
    "#     x=1.1\n",
    "    plotCities(locs,cities,save=False)\n",
    "    while getDisc(locs,D) > 100000:\n",
    "        grad = getGrad(locs,D)\n",
    "#         print(locs,\"\\n\",grad)\n",
    "        before = getDisc(locs,D)\n",
    "        for i in range(n):\n",
    "#             print(locs[i],grad[i])\n",
    "            locs[i] -= grad[i]/100      # (300*x)\n",
    "#             print(locs[i],grad[i])\n",
    "        after = getDisc(locs,D)\n",
    "#         print(f\"before-after: {before-after}\")\n",
    "        if before-after < 0:\n",
    "            print(\"SOMETHING IS WRONG!\")\n",
    "            locs[i] += grad[i]/100 # Revert step that was too large?\n",
    "            print(\"getDisc(locs,D) = \",getDisc(locs,D))\n",
    "            print(\"np.linalg.norm(grad) = \",np.linalg.norm(grad))\n",
    "            break\n",
    "            \n",
    "    plotCities(locs,cities,save=False)\n",
    "    while getDisc(locs,D) > 10000:\n",
    "        grad = getGrad(locs,D)\n",
    "#         print(locs,\"\\n\",grad)\n",
    "        before = getDisc(locs,D)\n",
    "        for i in range(n):\n",
    "#             print(locs[i],grad[i])\n",
    "            locs[i] -= grad[i]/1000      # (300*x)\n",
    "#             print(locs[i],grad[i])\n",
    "        after = getDisc(locs,D)\n",
    "#         print(f\"before-after: {before-after}\")\n",
    "        if before-after < 0:\n",
    "            print(\"SOMETHING IS WRONG!\")\n",
    "            locs[i] += grad[i]/1000 # Revert step that was too large?\n",
    "            print(\"getDisc(locs,D) = \",getDisc(locs,D))\n",
    "            print(\"np.linalg.norm(grad) = \",np.linalg.norm(grad))\n",
    "            break\n",
    "    \n",
    "    plotCities(locs,cities,save=False)\n",
    "    while getDisc(locs,D) > 1000:\n",
    "        grad = getGrad(locs,D)\n",
    "#         print(locs,\"\\n\",grad)\n",
    "        before = getDisc(locs,D)\n",
    "        for i in range(n):\n",
    "#             print(locs[i],grad[i])\n",
    "            locs[i] -= grad[i]/100000      # (300*x)\n",
    "#             print(locs[i],grad[i])\n",
    "        after = getDisc(locs,D)\n",
    "#         print(f\"before-after: {before-after}\")\n",
    "        if before-after < 0:\n",
    "            print(\"SOMETHING IS WRONG!\")\n",
    "            locs[i] += grad[i]/100000 # Revert step that was too large?\n",
    "            print(\"getDisc(locs,D) = \",getDisc(locs,D))\n",
    "            print(\"np.linalg.norm(grad) = \",np.linalg.norm(grad))\n",
    "            break\n",
    "            \n",
    "    plotCities(locs,cities,save=False)\n",
    "    return locs"
   ]
  },
  {
   "cell_type": "code",
   "execution_count": 6,
   "metadata": {},
   "outputs": [],
   "source": [
    "def getGrad(locs,D):\n",
    "    n = len(locs)\n",
    "    grad = []\n",
    "    for k in range(n):\n",
    "        deriv = np.array([np.float64(0.0),np.float64(0.0)])\n",
    "        for j in range(n):\n",
    "            if k == j:\n",
    "                deriv+= np.array([np.float64(0.0),np.float64(0.0)])\n",
    "#                 print(deriv)\n",
    "            elif k != j:\n",
    "#                 print(deriv,getDeriv(locs,D,k,j))\n",
    "                deriv += getDeriv(locs,D,k,j)\n",
    "        deriv *= 4\n",
    "        grad.append(deriv)\n",
    "    return grad"
   ]
  },
  {
   "cell_type": "code",
   "execution_count": 7,
   "metadata": {},
   "outputs": [],
   "source": [
    "def getDeriv(locs,D,k,j):\n",
    "    scalar = 4*(np.linalg.norm(locs[k]-locs[j])-D[k][j]) # np.float64()\n",
    "    diff = (locs[k]-locs[j])/np.linalg.norm(locs[k]-locs[j])\n",
    "    Xs = []\n",
    "    for x in diff:\n",
    "        x *= scalar\n",
    "        Xs.append(x)\n",
    "    return Xs"
   ]
  },
  {
   "cell_type": "code",
   "execution_count": 8,
   "metadata": {},
   "outputs": [],
   "source": [
    "def plotCities(locs,cities,save):\n",
    "    n = len(locs)\n",
    "    for i in range(n):\n",
    "        plt.plot(locs[i][0],locs[i][1],\"bo\",markersize=3)\n",
    "        plt.text(locs[i][0], locs[i][1],cities[i], color=\"black\")\n",
    "    if save:\n",
    "        num = input(\"What number city plot is this? (1, 2, or 3)\")\n",
    "        title = \"Cities Plot \"+str(num)\n",
    "        plt.title(title)\n",
    "        plt.savefig('Downloads/MLHW4_plots/Q2iii/'+title+\".png\")\n",
    "    plt.show()"
   ]
  },
  {
   "cell_type": "code",
   "execution_count": 9,
   "metadata": {},
   "outputs": [],
   "source": [
    "def getDisc(locs,D):\n",
    "    disc = 0\n",
    "    n = len(locs)\n",
    "    for i in range(n):\n",
    "        for j in range(n):\n",
    "            disc += (np.linalg.norm(locs[i]-locs[j]) - D[i][j])**2\n",
    "    return disc"
   ]
  },
  {
   "cell_type": "code",
   "execution_count": 10,
   "metadata": {},
   "outputs": [],
   "source": [
    "def getDisc2(locs,D):\n",
    "    disc = 0\n",
    "    n = len(locs)\n",
    "    for i in range(n):\n",
    "        for j in range(n):\n",
    "            disc += (np.linalg.norm(locs[i]-locs[j]) - D[i][j])**2\n",
    "    print(f\"Final discrepancy: {disc}\")\n",
    "    \n",
    "    D2 = []\n",
    "    for i in range(n):\n",
    "        D2.append([])\n",
    "        for j in range(n):\n",
    "            D2[i].append(np.linalg.norm(locs[i]-locs[j]) - D[i][j])\n",
    "    print(f\"D2: {D2}\")\n",
    "    return disc"
   ]
  },
  {
   "cell_type": "code",
   "execution_count": 46,
   "metadata": {
    "scrolled": true
   },
   "outputs": [
    {
     "data": {
      "image/png": "[encoded data removed]",
      "text/plain": [
       "<Figure size 432x288 with 1 Axes>"
      ]
     },
     "metadata": {
      "needs_background": "light"
     },
     "output_type": "display_data"
    },
    {
     "data": {
      "image/png": "[encoded data removed]",
      "text/plain": [
       "<Figure size 432x288 with 1 Axes>"
      ]
     },
     "metadata": {
      "needs_background": "light"
     },
     "output_type": "display_data"
    },
    {
     "data": {
      "image/png": "[encoded data removed]",
      "text/plain": [
       "<Figure size 432x288 with 1 Axes>"
      ]
     },
     "metadata": {
      "needs_background": "light"
     },
     "output_type": "display_data"
    },
    {
     "name": "stdout",
     "output_type": "stream",
     "text": [
      "SOMETHING IS WRONG!\n",
      "getDisc(locs,D) =  56374.08800261751\n",
      "np.linalg.norm(grad) =  0.001060618366256796\n"
     ]
    },
    {
     "data": {
      "image/png": "[encoded data removed]",
      "text/plain": [
       "<Figure size 432x288 with 1 Axes>"
      ]
     },
     "metadata": {
      "needs_background": "light"
     },
     "output_type": "display_data"
    },
    {
     "name": "stdout",
     "output_type": "stream",
     "text": [
      "SOMETHING IS WRONG!\n",
      "getDisc(locs,D) =  56374.08800261746\n",
      "np.linalg.norm(grad) =  0.00105832256721094\n"
     ]
    },
    {
     "data": {
      "image/png": "[encoded data removed]",
      "text/plain": [
       "<Figure size 432x288 with 1 Axes>"
      ]
     },
     "metadata": {
      "needs_background": "light"
     },
     "output_type": "display_data"
    },
    {
     "name": "stdout",
     "output_type": "stream",
     "text": [
      "What number city plot is this? (1, 2, or 3)4\n"
     ]
    },
    {
     "data": {
      "image/png": "[encoded data removed]",
      "text/plain": [
       "<Figure size 432x288 with 1 Axes>"
      ]
     },
     "metadata": {
      "needs_background": "light"
     },
     "output_type": "display_data"
    },
    {
     "name": "stdout",
     "output_type": "stream",
     "text": [
      "Final discrepancy: 56374.08800261746\n",
      "D2: [[0.0, 7.832414118623575, 22.013116578269546, -32.67229854152856, 12.130741589928789, -39.18526881223579, 20.955505682471085, 2.2974776007786204, -10.431548636398247], [7.832414118623575, 0.0, 6.483040476239637, -2.1855291662309355, -9.096588611032985, -5.51160588679295, 13.140300447580557, 11.34326642992528, -7.721370457529474], [22.013116578269546, 6.483040476239637, 0.0, 31.39946932459111, -17.67294425150817, 39.89782343271327, 2.573418740249963, -2.735050544630667, -1.56621110418223], [-32.67229854152856, -2.1855291662309355, 31.39946932459111, 0.0, 44.83321816983789, -26.853818675739603, -15.756809519816215, 52.7809442856601, -52.20132527081569], [12.130741589928789, -9.096588611032985, -17.67294425150817, 44.83321816983789, 0.0, 67.8879636657066, 14.542156732625699, -47.337476136274745, -25.13240903663916], [-39.18526881223579, -5.51160588679295, 39.89782343271327, -26.853818675739603, 67.8879636657066, 0.0, 7.926437694750575, 7.799322879878218, -43.70446265125406], [20.955505682471085, 13.140300447580557, 2.573418740249963, -15.756809519816215, 14.542156732625699, 7.926437694750575, 0.0, 19.327135319931642, -47.792164129905586], [2.2974776007786204, 11.34326642992528, -2.735050544630667, 52.7809442856601, -47.337476136274745, 7.799322879878218, 19.327135319931642, 0.0, -5.992579611433257], [-10.431548636398247, -7.721370457529474, -1.56621110418223, -52.20132527081569, -25.13240903663916, -43.70446265125406, -47.792164129905586, -5.992579611433257, 0.0]]\n"
     ]
    },
    {
     "data": {
      "text/plain": [
       "[array([-1184.78002302,  -883.31966552]),\n",
       " array([-1073.10212604,  -700.96740023]),\n",
       " array([-991.54049955, -475.80117772]),\n",
       " array([-1315.11984254,   582.22348858]),\n",
       " array([-343.93983385, -389.48999906]),\n",
       " array([1731.64952899, -537.89321391]),\n",
       " array([1706.81403019,  277.65515972]),\n",
       " array([1424.56028461,  558.71979612]),\n",
       " array([565.98261382, -50.92683154])]"
      ]
     },
     "execution_count": 46,
     "metadata": {},
     "output_type": "execute_result"
    }
   ],
   "source": [
    "D=[[0,206, 429, 1504, 963, 2976, 3095, 2979, 1949],[206, 0, 233, 1308, 802, 2815, 2934, 2786, 1771],[429, 233, 0,\\\n",
    "    1075, 671, 2684, 2799, 2631, 1616],[1504, 1308, 1075, 0, 1329, 3273, 3053, 2687, 2037],[963,802, 671, 1329, 0,\\\n",
    "    2013, 2142, 2054, 996],[2976, 2815, 2684, 3273, 2013, 0, 808, 1131, 1307],[3095, 2934, 2799, 3053, 2142, 808, 0,\\\n",
    "    379, 1235],[2979, 2786, 2631, 2687, 2054, 1131, 379, 0, 1059],[1949, 1771, 1616, 2037, 996, 1307, 1235, 1059, 0]]\n",
    "getCities(D)"
   ]
  },
  {
   "cell_type": "code",
   "execution_count": 72,
   "metadata": {},
   "outputs": [
    {
     "data": {
      "image/png": "[encoded data removed]",
      "text/plain": [
       "<Figure size 432x288 with 1 Axes>"
      ]
     },
     "metadata": {
      "needs_background": "light"
     },
     "output_type": "display_data"
    },
    {
     "data": {
      "image/png": "[encoded data removed]",
      "text/plain": [
       "<Figure size 432x288 with 1 Axes>"
      ]
     },
     "metadata": {
      "needs_background": "light"
     },
     "output_type": "display_data"
    }
   ],
   "source": [
    "#4bii\n",
    "\n",
    "n = 10000\n",
    "x = [0]*n\n",
    "y = [0]*n\n",
    "plt.scatter(x,y,c=[\"r\"])\n",
    "plt.text(-2,0.001,\"10000 points\",color=\"black\")\n",
    "plt.plot(15/n,-.003,\"go\")\n",
    "plt.text(15/n,-.003,\"c1\",color=\"black\")\n",
    "plt.plot(15,0,\"ro\")\n",
    "plt.plot(35,0,\"bo\")\n",
    "plt.plot(35,-.003,\"mo\")\n",
    "plt.text(35,-.003,\"c2\",color=\"black\")\n",
    "cost = n*(15/n)**2 + (15-15/n)**2 + 0\n",
    "title = f\"Cost: {cost}\"\n",
    "plt.title(title)\n",
    "plt.savefig('Downloads/MLHW4_plots/Q4bii/Worse.png')\n",
    "plt.show()\n",
    "\n",
    "plt.scatter(x,y,c=[\"r\"])\n",
    "plt.text(-2,0.001,\"10000 points\",color=\"black\")\n",
    "plt.plot(0,-.003,\"go\")\n",
    "plt.text(0,-.003,\"c1\",color=\"black\")\n",
    "plt.plot(15,0,\"bo\")\n",
    "plt.plot(35,0,\"bo\")\n",
    "plt.plot(25,-.003,\"mo\")\n",
    "plt.text(25,-.003,\"c2\",color=\"black\")\n",
    "cost = 0 + 10**2 + 10**2\n",
    "title = f\"Cost: {cost}\"\n",
    "plt.title(title)\n",
    "plt.savefig('Downloads/MLHW4_plots/Q4bii/Better.png')\n",
    "plt.show()"
   ]
  },
  {
   "cell_type": "code",
   "execution_count": 11,
   "metadata": {},
   "outputs": [],
   "source": [
    "colors = \"bgrcmykbgrcmykbgrcmykbgrcmykbgrcmykbgrcmykbgrcmykbgrcmyk\"\n",
    "colors2 = \"rkbgrcmykbgrcmykbgrcmykbgrcmykbgrcmykbgrcmykbgrcmyk\""
   ]
  },
  {
   "cell_type": "code",
   "execution_count": 12,
   "metadata": {},
   "outputs": [],
   "source": [
    "def LloydMethod(k,X):    # k is a natural number, X is an array of vectors (arrays) in R2\n",
    "    C = initializeCenters(k,X)   # An array of vectors (arrays) in R2\n",
    "    Cold = 0    # Just something to be unequal to C in the first iteration. C old, not cold like winter\n",
    "    while not (np.array_equal(C,Cold)):\n",
    "        part = getPart(C,X,k)\n",
    "        Cold=C\n",
    "        C = getC(part)\n",
    "    plot(C,part,colors)\n",
    "    return part,C"
   ]
  },
  {
   "cell_type": "code",
   "execution_count": 13,
   "metadata": {},
   "outputs": [],
   "source": [
    "def initializeCenters(k,X): # Choose k random elements in X and make them the centers\n",
    "    C = np.array(random.sample(list(X),k))\n",
    "    return C"
   ]
  },
  {
   "cell_type": "code",
   "execution_count": 14,
   "metadata": {},
   "outputs": [],
   "source": [
    "def getPart(C,X,k):   # Assign every data point to its nearest center\n",
    "    part = {}    # Stores partition\n",
    "    for i in range(k):\n",
    "        part[i]=[]     # key:value --> center number : data points assigned to center\n",
    "    \n",
    "    for x in X:\n",
    "        c = getNearestCenter(x,C)\n",
    "        for i in range(len(C)):\n",
    "            if np.array_equal(c,C[i]):\n",
    "                part[i].append(x)\n",
    "                break\n",
    "    \n",
    "    return part"
   ]
  },
  {
   "cell_type": "code",
   "execution_count": 15,
   "metadata": {},
   "outputs": [],
   "source": [
    "def getNearestCenter(x,C):\n",
    "    minDist = 10**100\n",
    "    for c in C:\n",
    "        dist = getL2Dist(x,c)\n",
    "        if dist < minDist:\n",
    "            minDist = dist\n",
    "            closestC = c\n",
    "    return closestC"
   ]
  },
  {
   "cell_type": "code",
   "execution_count": 16,
   "metadata": {},
   "outputs": [],
   "source": [
    "def getL2Dist(x,c):\n",
    "    x = np.array(x)\n",
    "    c = np.array(c)\n",
    "    dist = np.linalg.norm(x-c)\n",
    "    return dist"
   ]
  },
  {
   "cell_type": "code",
   "execution_count": 17,
   "metadata": {},
   "outputs": [],
   "source": [
    "def getC(part):    # For each grouping of points, reevaluate the location of the center by taking the mean of the points\n",
    "    C = []    \n",
    "    for key in part:\n",
    "        c = getMean(part[key])\n",
    "# I don't think I ever have to worry about a center with no points assigned, because each is initialized as a data point\n",
    "        C.append(c)\n",
    "    return C"
   ]
  },
  {
   "cell_type": "code",
   "execution_count": 18,
   "metadata": {},
   "outputs": [],
   "source": [
    "def getMean(V):   # V is a list of vectors, such as those assigned to a certain center\n",
    "    V = np.array(V)\n",
    "    mean = V.mean(axis=0)\n",
    "    return mean"
   ]
  },
  {
   "cell_type": "code",
   "execution_count": 19,
   "metadata": {},
   "outputs": [],
   "source": [
    "def plot(C,part,colors):   # Plot centers and data, with groupings color coded\n",
    "    for i in part:   # The keys in part are also the numbers 0,...,k-1\n",
    "        for x in part[i]:\n",
    "            plt.plot(x[0],x[1],colors[i]+\"x\",markersize=5)\n",
    "        \n",
    "        plt.plot(C[i][0],C[i][1],colors2[i]+\"o\",label=f\"c{i}\",markersize=10)\n",
    "        print(f\"c{i}: ({C[i][0]},{C[i][1]})\")\n",
    "    plt.gca().set_aspect('equal', adjustable='box')\n",
    "#     plt.legend(loc='upper left')\n",
    "    plt.xlabel(\"x\")\n",
    "    plt.ylabel(\"y\")\n",
    "    savefig = input(\"Do you want to save the plot for this run?\\n\")\n",
    "    if savefig in \"Yesyes\":\n",
    "        k = input(\"How many clusters? (What is k?)\\n\")\n",
    "        clusterType = input(\"What type of object is each cluster? (Circle, quadratic, blob, etc.)\\n\")\n",
    "        title = k +\" \"+ clusterType + \"s\"\n",
    "        plt.title(title)\n",
    "        plt.savefig('Downloads/MLHW4_plots/Q4bii/'+title+\".png\")\n",
    "    plt.show()"
   ]
  },
  {
   "cell_type": "code",
   "execution_count": 20,
   "metadata": {},
   "outputs": [],
   "source": [
    "def getCircle(n,r):   # n = points in circle, r = radius of circle\n",
    "    X = []\n",
    "    for theta in np.arange(0,2*np.pi,2*np.pi/n):\n",
    "        # using trig to get the x and y coordinates on the ring\n",
    "        xCoord = r * np.cos(theta)\n",
    "        yCoord = r * np.sin(theta)\n",
    "        \n",
    "        # query the interpolated data\n",
    "        X.append(np.array([xCoord, yCoord]))\n",
    "    return X  # Has to be a list so that you can just concatenate datasets by addition"
   ]
  },
  {
   "cell_type": "code",
   "execution_count": 21,
   "metadata": {},
   "outputs": [],
   "source": [
    "def getQuadratic(n,a,b,c):   # n = points in circle, r = radius of circle\n",
    "    X = []\n",
    "    for x in np.arange(-10*a,10*a,20*a/n):\n",
    "        # using trig to get the x and y coordinates on the ring\n",
    "        xCoord = x\n",
    "        yCoord = a*x**2 + b*x + c\n",
    "        \n",
    "        # query the interpolated data\n",
    "        X.append(np.array([xCoord, yCoord]))\n",
    "    return X  # Has to be a list so that you can just concatenate datasets by addition"
   ]
  },
  {
   "cell_type": "code",
   "execution_count": 22,
   "metadata": {},
   "outputs": [],
   "source": [
    "def getExp(n,a,b,c):   # n = points in circle, r = radius of circle\n",
    "    X = []\n",
    "    for x in np.arange(-a,5*a,6*a/n):\n",
    "        # using trig to get the x and y coordinates on the ring\n",
    "        xCoord = x\n",
    "        yCoord = a*np.exp(b*x) + c\n",
    "        \n",
    "        # query the interpolated data\n",
    "        X.append(np.array([xCoord, yCoord]))\n",
    "    return X  # Has to be a list so that you can just concatenate datasets by addition"
   ]
  },
  {
   "cell_type": "code",
   "execution_count": 23,
   "metadata": {},
   "outputs": [],
   "source": [
    "def getGaussian(n,mu,sigma):\n",
    "    a = 1/(sigma*(2*np.pi)**(1/2))\n",
    "    X = []\n",
    "    for x in np.arange(mu-3*sigma,mu+3*sigma,6*sigma/n):\n",
    "        # using trig to get the x and y coordinates on the ring\n",
    "        xCoord = x\n",
    "        yCoord = a*np.exp(-1/2 * ((x-mu)/sigma)**2)\n",
    "        \n",
    "        # query the interpolated data\n",
    "        X.append(np.array([xCoord, yCoord]))\n",
    "    return X"
   ]
  },
  {
   "cell_type": "code",
   "execution_count": 134,
   "metadata": {
    "scrolled": true
   },
   "outputs": [
    {
     "name": "stdout",
     "output_type": "stream",
     "text": [
      "c0: (-0.6474367717331154,4.087754898186273)\n",
      "c1: (0.6474367717331156,-4.087754898186273)\n",
      "Do you want to save the plot for this run?y\n",
      "How many clusters? (What is k?)2\n",
      "What type of object is each cluster? (Circle, quadratic, blob, etc.)Circle\n"
     ]
    },
    {
     "data": {
      "image/png": "[encoded data removed]",
      "text/plain": [
       "<Figure size 432x288 with 1 Axes>"
      ]
     },
     "metadata": {
      "needs_background": "light"
     },
     "output_type": "display_data"
    }
   ],
   "source": [
    "X = getCircle(100,5) + getCircle(100,8)\n",
    "part,C=LloydMethod(2,X)"
   ]
  },
  {
   "cell_type": "code",
   "execution_count": 143,
   "metadata": {
    "scrolled": true
   },
   "outputs": [
    {
     "name": "stdout",
     "output_type": "stream",
     "text": [
      "c0: (-3.469817026295156e-14,-1.4466666666667196)\n",
      "c1: (-3.432424947943476e-14,29.59653543307068)\n",
      "c2: (-0.3614457831325644,76.78843373493929)\n",
      "Do you want to save the plot for this run?\n",
      "n\n"
     ]
    },
    {
     "data": {
      "image/png": "[encoded data removed]",
      "text/plain": [
       "<Figure size 432x288 with 1 Axes>"
      ]
     },
     "metadata": {
      "needs_background": "light"
     },
     "output_type": "display_data"
    }
   ],
   "source": [
    "X = getQuadratic(100,1,0,0) + getQuadratic(100,1,0,15) + getQuadratic(100,1,0,-15)\n",
    "part,C=LloydMethod(3,X)"
   ]
  },
  {
   "cell_type": "code",
   "execution_count": 144,
   "metadata": {
    "scrolled": true
   },
   "outputs": [
    {
     "name": "stdout",
     "output_type": "stream",
     "text": [
      "c0: (1.258255033557049,-7.656587587863872)\n",
      "c1: (4.496923076923082,148.50526835601443)\n",
      "c2: (2.2928000000000024,38.96368480051157)\n",
      "Do you want to save the plot for this run?\n",
      "y\n",
      "How many clusters? (What is k?)\n",
      "3\n",
      "What type of object is each cluster? (Circle, quadratic, blob, etc.)\n",
      "Exponential\n"
     ]
    },
    {
     "data": {
      "image/png": "[encoded data removed]",
      "text/plain": [
       "<Figure size 432x288 with 1 Axes>"
      ]
     },
     "metadata": {
      "needs_background": "light"
     },
     "output_type": "display_data"
    }
   ],
   "source": [
    "X = getExp(100,1,1,0) + getExp(100,1,1.1,25) + getExp(100,1,0.9,-25)\n",
    "part,C=LloydMethod(3,X)"
   ]
  },
  {
   "cell_type": "code",
   "execution_count": 93,
   "metadata": {
    "scrolled": true
   },
   "outputs": [
    {
     "data": {
      "image/png": "[encoded data removed]",
      "text/plain": [
       "<Figure size 432x288 with 1 Axes>"
      ]
     },
     "metadata": {
      "needs_background": "light"
     },
     "output_type": "display_data"
    },
    {
     "name": "stdout",
     "output_type": "stream",
     "text": [
      "c0: (-4.889839604898791,-5.0132278317800925)\n",
      "c1: (5.315610395668676,4.98997915957172)\n"
     ]
    },
    {
     "data": {
      "image/png": "[encoded data removed]",
      "text/plain": [
       "<Figure size 432x288 with 1 Axes>"
      ]
     },
     "metadata": {
      "needs_background": "light"
     },
     "output_type": "display_data"
    }
   ],
   "source": [
    "centers = [(-5, -5), (5, 5)]\n",
    "cluster_std = [0.8, 1]\n",
    "\n",
    "X, y = make_blobs(n_samples=100, cluster_std=cluster_std, centers=centers, n_features=2, random_state=1)\n",
    "\n",
    "plt.scatter(X[y == 0, 0], X[y == 0, 1], color=\"red\", s=10, label=\"Cluster1\")\n",
    "plt.scatter(X[y == 1, 0], X[y == 1, 1], color=\"blue\", s=10, label=\"Cluster2\")\n",
    "plt.legend()\n",
    "plt.show()\n",
    "\n",
    "part,C=LloydMethod(2,X)"
   ]
  },
  {
   "cell_type": "code",
   "execution_count": 103,
   "metadata": {
    "scrolled": true
   },
   "outputs": [
    {
     "name": "stdout",
     "output_type": "stream",
     "text": [
      "c0: (-1.890880890661279,1.0306859782007853)\n",
      "c1: (3.0159686742743035,-6.010968434229039)\n",
      "c2: (-4.939747982836315,-4.979117195046834)\n",
      "c3: (4.960911286284784,5.043013017822231)\n",
      "c4: (10.98147393691682,6.02991229334148)\n"
     ]
    },
    {
     "data": {
      "image/png": "[encoded data removed]",
      "text/plain": [
       "<Figure size 432x288 with 1 Axes>"
      ]
     },
     "metadata": {
      "needs_background": "light"
     },
     "output_type": "display_data"
    }
   ],
   "source": [
    "centers = [(-5, -5), (5, 5),(11,6),(-2,1),(3,-6)]\n",
    "cluster_std = [0.8, 1,1,0.8,1.2]\n",
    "\n",
    "X, y = make_blobs(n_samples=1000, cluster_std=cluster_std, centers=centers, n_features=2, random_state=1)\n",
    "\n",
    "# plt.scatter(X[y == 0, 0], X[y == 0, 1], color=\"red\", s=10, label=\"Cluster1\")\n",
    "# plt.scatter(X[y == 1, 0], X[y == 1, 1], color=\"blue\", s=10, label=\"Cluster2\")\n",
    "# plt.legend()\n",
    "# plt.show()\n",
    "\n",
    "part,C=LloydMethod(5,X)"
   ]
  },
  {
   "cell_type": "code",
   "execution_count": 42,
   "metadata": {},
   "outputs": [],
   "source": [
    "def KernelizedLloydMethod(k,X):    # k is a natural number, X is an array of vectors (arrays) in R2\n",
    "    parts = []\n",
    "    repeat = True\n",
    "    while repeat:\n",
    "        Z = initializeZ(k,X)   # A list of lists, contains all z_ij values\n",
    "        fxns = [linKer,quadKer,rbfKer,radKer]\n",
    "        i = int(input(\"Which kernel function do you want to use? 0 = linear, 1 = quadratic, 2 = rbf, 3 = rad\\n\"))\n",
    "        K = fxns[i]\n",
    "\n",
    "        Zold = 0     # Just something to be unequal to Z in the first iteration.\n",
    "        while Z!=Zold:\n",
    "            Zold=Z\n",
    "            Z = getZ(Z,X,k,K)  # Z and X fully specify the centers, and X never changes\n",
    "            print(f\"\\nIteration complete.\")\n",
    "    #         try:\n",
    "    #             print(f\"\\nDiffs in Z and Zold: {diffsInZs(Z,Zold)}\")\n",
    "    #         except TypeError:\n",
    "    #             pass\n",
    "    #         print(Z,Zold)\n",
    "        part = getPartFromZ(X,Z,k)\n",
    "        parts.append(part)\n",
    "#         if input(\"Repeat for another kernel function?\") not in \"Yesyes\":\n",
    "        repeat = False\n",
    "    plot3(parts,colors)\n",
    "    return parts"
   ]
  },
  {
   "cell_type": "code",
   "execution_count": 25,
   "metadata": {},
   "outputs": [],
   "source": [
    "def diffsInZs(Z,Zold):\n",
    "    diffs = 0\n",
    "    for i in range(len(Z)):\n",
    "        for j in range(len(Z[i])):\n",
    "            if Z[i][j] != Zold[i][j]:\n",
    "                diffs+= 1/2  # The zij which is a 1 for this element is noticed twice, in different loc.s for Z and Zold\n",
    "    return int(diffs)"
   ]
  },
  {
   "cell_type": "code",
   "execution_count": 26,
   "metadata": {},
   "outputs": [],
   "source": [
    "def initializeZ(k,X):\n",
    "    C = initializeCenters(k,X)   # An array of vectors (arrays) in R2\n",
    "    part = getPart(C,X,k)\n",
    "#     plot2(part,colors)\n",
    "    Z = getZFromPart(X,part,k)\n",
    "    return Z"
   ]
  },
  {
   "cell_type": "code",
   "execution_count": 27,
   "metadata": {},
   "outputs": [],
   "source": [
    "def getZFromPart(X,part,k):\n",
    "    Z = []\n",
    "    for i in range(k):\n",
    "        Z.append([])\n",
    "    for i in range(len(X)):\n",
    "        for j in part:    # keys are numbers,  0 <= key <= k-1\n",
    "            for x in part[j]:\n",
    "                if list(X[i]) == list(x):\n",
    "                    Z = addXiToCluster(Z,j)\n",
    "                    break\n",
    "            if len(Z[0])>i:\n",
    "                break\n",
    "    return Z"
   ]
  },
  {
   "cell_type": "code",
   "execution_count": 28,
   "metadata": {},
   "outputs": [],
   "source": [
    "def addXiToCluster(Z,j):\n",
    "    for i in range(len(Z)):\n",
    "        if i == j:\n",
    "            Z[i].append(1)\n",
    "        else:\n",
    "            Z[i].append(0)\n",
    "    return Z"
   ]
  },
  {
   "cell_type": "code",
   "execution_count": 29,
   "metadata": {},
   "outputs": [],
   "source": [
    "def linKer(x1,x2):\n",
    "    return np.dot(x1,x2)"
   ]
  },
  {
   "cell_type": "code",
   "execution_count": 30,
   "metadata": {},
   "outputs": [],
   "source": [
    "def quadKer(x1,x2):\n",
    "    return (1+np.dot(x1,x2))**2"
   ]
  },
  {
   "cell_type": "code",
   "execution_count": 31,
   "metadata": {},
   "outputs": [],
   "source": [
    "def rbfKer(x1,x2):\n",
    "    return np.exp(-(np.linalg.norm(x1-x2)**2))"
   ]
  },
  {
   "cell_type": "code",
   "execution_count": 32,
   "metadata": {},
   "outputs": [],
   "source": [
    "def radKer(x1,x2):\n",
    "    try:\n",
    "        return 10000/abs(np.linalg.norm(x1)-np.linalg.norm(x2)+0.00000001)\n",
    "    except ZeroDivisionError:\n",
    "        return 10**10"
   ]
  },
  {
   "cell_type": "code",
   "execution_count": 33,
   "metadata": {},
   "outputs": [],
   "source": [
    "def getZ(Z,X,k,K):\n",
    "    Znew = []\n",
    "    for i in range(k):\n",
    "        Znew.append([])\n",
    "    for x in X:\n",
    "        j = getCluster(x,Z,k,K,X)\n",
    "        sys.stdout.write(f\"\\r{j}\")\n",
    "        addXiToCluster(Znew,j)\n",
    "    return Znew"
   ]
  },
  {
   "cell_type": "code",
   "execution_count": 34,
   "metadata": {},
   "outputs": [],
   "source": [
    "def getCluster(x,Z,k,K,X):\n",
    "    minDist = 10**100\n",
    "    for j in range(k):\n",
    "        try:\n",
    "            dist = getKernelDist(K,x,Z,j,X)\n",
    "        except ZeroDivisionError:\n",
    "            dist = 0    # If a cluster has no points assigned to it, make sure it has at least 1\n",
    "        if dist < minDist:\n",
    "            minDist = dist\n",
    "            cluster=j\n",
    "    return cluster"
   ]
  },
  {
   "cell_type": "code",
   "execution_count": 35,
   "metadata": {},
   "outputs": [],
   "source": [
    "def getKernelDist(K,x,Z,j,X):\n",
    "    term1 = K(x,x)\n",
    "    \n",
    "    n = len(X)    # number of data points\n",
    "    nj = sum(Z[j])   # Equiv to: for zij in Z[j], nj += zij\n",
    "    \n",
    "    term2 = 0\n",
    "    for r in range(n):\n",
    "        for s in range(n):\n",
    "            term2 += Z[j][r]*Z[j][s]*K(X[r],X[s])\n",
    "    term2 *= (1/nj)**2\n",
    "    \n",
    "    term3 = 0\n",
    "    for r in range(n):\n",
    "        term3 += Z[j][r]*K(x,X[r])\n",
    "    term3 *= (-2)/nj\n",
    "    \n",
    "    kernelDist = term1 + term2 + term3\n",
    "    \n",
    "    return kernelDist"
   ]
  },
  {
   "cell_type": "code",
   "execution_count": 36,
   "metadata": {},
   "outputs": [],
   "source": [
    "def getPartFromZ(X,Z,k):\n",
    "    part = {}    # Stores partition\n",
    "    for i in range(k):\n",
    "        part[i]=[]     # key:value --> center number : data points assigned to center\n",
    "        for j in range(len(Z[i])):\n",
    "            if Z[i][j] == 1:\n",
    "#                 print(len(Z[i]),len(X))\n",
    "#                 print(Z[i])\n",
    "                part[i].append(X[j])    \n",
    "    return part"
   ]
  },
  {
   "cell_type": "code",
   "execution_count": 51,
   "metadata": {},
   "outputs": [],
   "source": [
    "def plot2(part,colors):\n",
    "    for i in part:   # The keys in part are also the numbers 0,...,k-1\n",
    "        for x in part[i]:\n",
    "            plt.plot(x[0],x[1],colors[i]+\"x\",markersize=5)\n",
    "#     plt.gca().set_aspect('equal', adjustable='box')\n",
    "#     plt.legend(loc='upper left')\n",
    "    plt.xlabel(\"x\")\n",
    "    plt.ylabel(\"y\")\n",
    "    savefig = input(\"Do you want to save the plot for this run?\\n\")\n",
    "    if savefig in \"Yesyes\":\n",
    "        k = input(\"How many clusters? (What is k?)\\n\")\n",
    "        clusterType = input(\"What type of object is each cluster? (Circle, quadratic, blob, etc.)\\n\")\n",
    "        kernelType = input(f\"What kernel function are you using? (Linear, quadratic, rbf, etc.)\\n\")\n",
    "        title = k +\" \"+ clusterType + \"s with \" + kernelType + \" Kernel\"\n",
    "        plt.title(title)\n",
    "        plt.savefig('Downloads/MLHW4_plots/Q4cvi/Good/'+title+\".png\")\n",
    "    plt.show()"
   ]
  },
  {
   "cell_type": "code",
   "execution_count": 41,
   "metadata": {},
   "outputs": [],
   "source": [
    "def plot3(parts,colors):\n",
    "#     if len(parts) == 1:\n",
    "    plot2(parts[0],colors)\n",
    "#     else:\n",
    "#         a1,a2 = getSquarestFactors(len(parts))\n",
    "#         figure, axis = plt.subplots(a1,a2)\n",
    "\n",
    "#         titles = []\n",
    "#         k = input(\"How many clusters? (What is k?)\\n\")\n",
    "#         clusterType = input(\"What type of object is each cluster? (Circle, quadratic, blob, etc.)\\n\")\n",
    "#         for i in range(1,len(parts)+1):\n",
    "#             kernelType = input(f\"What kernel function are you using in plot {i}? (Linear, quadratic, rbf, etc.)\\n\")\n",
    "#             titles.append(k +\" \"+ clusterType + \"s with \" + kernelType + \" Kernel\")\n",
    "\n",
    "#         for i in range(a1):\n",
    "#             for j in range(a2):\n",
    "#                 index = i*a2 + j\n",
    "#                 part = parts[index]\n",
    "#                 title = titles[index]\n",
    "#                 axis[a1,a2].xlabel(\"x\")\n",
    "#                 axis[a1,a2].ylabel(\"y\")\n",
    "#                 axis[a1,a2].set_title(title)\n",
    "#                 for k in part:   # The keys in part are also the numbers 0,...,k-1\n",
    "#                     for x in part[k]:\n",
    "#                         axis[a1,a2].plot(x[0],x[1],colors[k]+\"x\",markersize=5)\n",
    "\n",
    "#     #     plt.gca().set_aspect('equal', adjustable='box')\n",
    "#     #     plt.legend(loc='upper left')\n",
    "\n",
    "#         plt.show()\n",
    "#         savefig = input(\"Do you want to save the plot for this run?\\n\")\n",
    "#         if savefig in \"Yesyes\":\n",
    "#             plt.savefig('Downloads/MLHW4_plots/Q4cvi/'+title+\".png\")"
   ]
  },
  {
   "cell_type": "code",
   "execution_count": 39,
   "metadata": {},
   "outputs": [],
   "source": [
    "def getSquarestFactors(n):\n",
    "    for i in range(1,int(n**(1/2))+1):\n",
    "        if n%i ==0:\n",
    "            a1 = i\n",
    "            a2 = n/i\n",
    "    return int(a2),int(a1)"
   ]
  },
  {
   "cell_type": "code",
   "execution_count": 42,
   "metadata": {},
   "outputs": [
    {
     "name": "stdout",
     "output_type": "stream",
     "text": [
      "Do you want to save the plot for this run?\n",
      "n\n"
     ]
    },
    {
     "data": {
      "image/png": "[encoded data removed]",
      "text/plain": [
       "<Figure size 432x288 with 1 Axes>"
      ]
     },
     "metadata": {
      "needs_background": "light"
     },
     "output_type": "display_data"
    },
    {
     "name": "stdout",
     "output_type": "stream",
     "text": [
      "Which kernel function do you want to use? 0 = linear, 1 = quadratic, 2 = rbf, 3 = rad\n",
      "0\n",
      "4\n",
      "Iteration complete.\n",
      "4\n",
      "Iteration complete.\n",
      "4\n",
      "Iteration complete.\n",
      "4\n",
      "Iteration complete.\n",
      "4\n",
      "Iteration complete.\n",
      "Do you want to save the plot for this run?\n",
      "n\n"
     ]
    },
    {
     "data": {
      "image/png": "[encoded data removed]",
      "text/plain": [
       "<Figure size 432x288 with 1 Axes>"
      ]
     },
     "metadata": {
      "needs_background": "light"
     },
     "output_type": "display_data"
    },
    {
     "data": {
      "text/plain": [
       "{0: [array([ 3.12746727, -7.83081638]),\n",
       "  array([ 3.59080387, -6.81681377]),\n",
       "  array([ 3.95403131, -6.44932598]),\n",
       "  array([ 3.74224696, -6.53180632]),\n",
       "  array([ 3.33179917, -6.87992592]),\n",
       "  array([ 3.43959842, -7.25350726]),\n",
       "  array([ 1.94726218, -7.04134467]),\n",
       "  array([ 2.89859037, -6.35683426]),\n",
       "  array([ 5.46140813, -5.2972056 ]),\n",
       "  array([ 3.51543137, -6.72839808]),\n",
       "  array([ 2.99773022, -7.67594451]),\n",
       "  array([ 5.1726419 , -7.56687231])],\n",
       " 1: [array([10.86355526,  5.88094581]),\n",
       "  array([6.12141771, 5.40890054]),\n",
       "  array([11.04366899,  5.77368576]),\n",
       "  array([5.31563495, 2.97779878]),\n",
       "  array([5.84616065, 4.14048406]),\n",
       "  array([11.24879916,  5.70335885]),\n",
       "  array([9.76994186, 6.5505375 ]),\n",
       "  array([11.80186103,  6.0465673 ]),\n",
       "  array([10.97538304,  5.22483838]),\n",
       "  array([11.07782113,  6.61838026]),\n",
       "  array([3.55588619, 4.49553414]),\n",
       "  array([5.74055645, 4.0462994 ]),\n",
       "  array([4.62471505, 4.36126959]),\n",
       "  array([5.35054598, 3.68771659]),\n",
       "  array([4.69379599, 5.82797464]),\n",
       "  array([5.18656139, 5.41005165]),\n",
       "  array([5.42349435, 5.07734007]),\n",
       "  array([3.62688268, 5.31515939]),\n",
       "  array([11.44136444,  5.89984477]),\n",
       "  array([11.23249456,  6.68255141]),\n",
       "  array([10.35308331,  6.90148689]),\n",
       "  array([10.68988323,  3.56516224]),\n",
       "  array([4.55287144, 6.2245077 ]),\n",
       "  array([5.23009474, 5.76201118]),\n",
       "  array([4.73378149, 5.03261455]),\n",
       "  array([12.27375593,  7.96710175]),\n",
       "  array([4.96130449, 3.38422765]),\n",
       "  array([6.13162939, 6.51981682]),\n",
       "  array([11.52946532,  6.13770121]),\n",
       "  array([9.80073197, 6.86334532]),\n",
       "  array([13.19069973,  4.10363908]),\n",
       "  array([12.0388246 ,  8.18697965]),\n",
       "  array([10.48290554,  5.00297317]),\n",
       "  array([11.68006984,  5.6801984 ]),\n",
       "  array([11.79280687,  5.37646927]),\n",
       "  array([11.52057634,  4.85565861]),\n",
       "  array([7.18557541, 3.60350366]),\n",
       "  array([5.48851815, 4.92442829]),\n",
       "  array([5.16003707, 5.87616892]),\n",
       "  array([5.12182127, 6.12948391]),\n",
       "  array([4.77767186, 4.79924193]),\n",
       "  array([11.49521132,  5.82529684]),\n",
       "  array([5.19829972, 5.11900865]),\n",
       "  array([12.62765075,  6.3380117 ]),\n",
       "  array([6.19891788, 5.18515642]),\n",
       "  array([10.8190797 ,  5.39607937]),\n",
       "  array([12.33145711,  5.71269214]),\n",
       "  array([10.81343023,  5.89825413]),\n",
       "  array([11.01740941,  4.87798127]),\n",
       "  array([4.32933771, 5.37756379]),\n",
       "  array([11.98633519,  6.2135339 ]),\n",
       "  array([4.65614632, 5.04359686]),\n",
       "  array([11.86888616,  6.75041164]),\n",
       "  array([13.52832571,  5.75136522]),\n",
       "  array([4.37999916, 5.69803203]),\n",
       "  array([5.51292982, 4.70190716]),\n",
       "  array([3.90508815, 5.16938243]),\n",
       "  array([4.24560206, 6.25286816]),\n",
       "  array([9.14201814, 7.23616403]),\n",
       "  array([5.40349164, 5.59357852])],\n",
       " 2: [array([-5.25793376, -5.30724348]),\n",
       "  array([-4.84726761, -3.31979589]),\n",
       "  array([-4.90387284, -4.50623751]),\n",
       "  array([-4.966229  , -4.53374783]),\n",
       "  array([-5.13794257, -5.70228673]),\n",
       "  array([-5.88049534, -4.08422103]),\n",
       "  array([-3.60415059, -5.60896552]),\n",
       "  array([-4.3076739 , -6.84123096]),\n",
       "  array([-5.15346844, -5.71010317]),\n",
       "  array([-5.09831218, -5.74861555]),\n",
       "  array([-4.75986374, -5.28179988]),\n",
       "  array([-4.27931524, -5.54698229]),\n",
       "  array([-4.74476872, -5.1994963 ]),\n",
       "  array([-4.09298445, -5.87991301]),\n",
       "  array([-5.59772664, -3.64603632]),\n",
       "  array([-5.4225374, -5.8583749]),\n",
       "  array([-5.91401456, -5.27947418]),\n",
       "  array([-5.21431046, -4.57571563]),\n",
       "  array([-3.70052371, -5.48940513]),\n",
       "  array([-5.5369969 , -5.01013168]),\n",
       "  array([-5.54973816, -5.67616451]),\n",
       "  array([-4.27872742, -4.59800453]),\n",
       "  array([-3.67215826, -4.40636467]),\n",
       "  array([-5.16711539, -4.53070145]),\n",
       "  array([-4.32881327, -4.25511833]),\n",
       "  array([-5.5533286 , -5.31740282]),\n",
       "  array([-5.89384828, -4.81246744]),\n",
       "  array([-4.77153014, -4.29188707]),\n",
       "  array([-4.9593538 , -5.50959652]),\n",
       "  array([-3.83031365, -6.64811257])],\n",
       " 3: [array([-2.9894827 ,  1.70067114]),\n",
       "  array([-0.75295557,  1.08752216]),\n",
       "  array([-2.97579552,  2.95949492]),\n",
       "  array([-1.35123866,  1.83555368]),\n",
       "  array([-1.10849362,  0.53078085]),\n",
       "  array([-2.08835762,  0.50611035]),\n",
       "  array([-2.32070255,  1.65920449]),\n",
       "  array([-2.43661933,  0.84092971]),\n",
       "  array([-1.77546794,  0.94150984]),\n",
       "  array([-1.80586445,  1.16146414]),\n",
       "  array([-2.5603188 ,  0.83728444]),\n",
       "  array([-1.47276016, -0.30195067]),\n",
       "  array([-3.018047  ,  1.25083818]),\n",
       "  array([-3.33935665,  1.66002386]),\n",
       "  array([-1.59745215,  2.03458071]),\n",
       "  array([-1.50131026,  0.65203465]),\n",
       "  array([-0.70644032,  1.40219271]),\n",
       "  array([-2.89529232,  2.56486312]),\n",
       "  array([-2.9458545 ,  0.46739639]),\n",
       "  array([-3.32057701,  0.28755553]),\n",
       "  array([-2.09637166,  0.01350341]),\n",
       "  array([-1.51814458,  1.33622576]),\n",
       "  array([-1.54979112,  1.19258967]),\n",
       "  array([-2.44984434,  2.56390246]),\n",
       "  array([-0.873968  ,  1.10328126]),\n",
       "  array([-1.47118377,  2.43372657]),\n",
       "  array([-2.2611996 , -0.07414063]),\n",
       "  array([-1.07172914,  1.29559417]),\n",
       "  array([-0.47627303,  1.88884536]),\n",
       "  array([-3.06556133, -0.40855085])],\n",
       " 4: [array([ 3.01983308, -5.78737474]),\n",
       "  array([ 3.91056679, -4.93810942]),\n",
       "  array([ 3.50076241, -5.05827522]),\n",
       "  array([ 2.40214372, -6.37318197]),\n",
       "  array([ 3.34169773, -5.68503907]),\n",
       "  array([ 3.16085784, -4.55753417]),\n",
       "  array([ 1.66023598, -5.90288748]),\n",
       "  array([ 2.58601535, -6.27700769]),\n",
       "  array([ 3.07290023, -5.74665029]),\n",
       "  array([ 1.27094877, -4.52129632]),\n",
       "  array([ 3.1145101 , -4.89425992]),\n",
       "  array([ 2.77610521, -6.06818938]),\n",
       "  array([ 2.69498416, -4.32018727]),\n",
       "  array([ 1.85348969, -5.29690748]),\n",
       "  array([ 2.06170598, -6.52501078]),\n",
       "  array([-0.351702  , -3.67496542]),\n",
       "  array([ 1.96642037, -5.19034617]),\n",
       "  array([ 4.00320566, -4.14796907])]}"
      ]
     },
     "execution_count": 42,
     "metadata": {},
     "output_type": "execute_result"
    }
   ],
   "source": [
    "centers = [(-5, -5), (5, 5),(11,6),(-2,1),(3,-6)]\n",
    "cluster_std = [0.8, 1,1,0.8,1.2]\n",
    "\n",
    "X, y = make_blobs(n_samples=150, cluster_std=cluster_std, centers=centers, n_features=2, random_state=1)\n",
    "\n",
    "# plt.scatter(X[y == 0, 0], X[y == 0, 1], color=\"red\", s=10, label=\"Cluster1\")\n",
    "# plt.scatter(X[y == 1, 0], X[y == 1, 1], color=\"blue\", s=10, label=\"Cluster2\")\n",
    "# plt.legend()\n",
    "# plt.show()\n",
    "\n",
    "k = 5\n",
    "KernelizedLloydMethod(k,X)"
   ]
  },
  {
   "cell_type": "code",
   "execution_count": 62,
   "metadata": {
    "scrolled": true
   },
   "outputs": [
    {
     "name": "stdout",
     "output_type": "stream",
     "text": [
      "Which kernel function do you want to use? 0 = linear, 1 = quadratic, 2 = rbf, 3 = rad\n",
      "2\n",
      "0\n",
      "Iteration complete.\n",
      "Do you want to save the plot for this run?\n",
      "n\n"
     ]
    },
    {
     "data": {
      "image/png": "[encoded data removed]",
      "text/plain": [
       "<Figure size 432x288 with 1 Axes>"
      ]
     },
     "metadata": {
      "needs_background": "light"
     },
     "output_type": "display_data"
    },
    {
     "data": {
      "text/plain": [
       "[{0: [array([5., 0.]),\n",
       "   array([4.75528258, 1.54508497]),\n",
       "   array([4.04508497, 2.93892626]),\n",
       "   array([-1.54508497, -4.75528258]),\n",
       "   array([-9.18485099e-16, -5.00000000e+00]),\n",
       "   array([ 1.54508497, -4.75528258]),\n",
       "   array([ 2.93892626, -4.04508497]),\n",
       "   array([ 4.04508497, -2.93892626]),\n",
       "   array([ 4.75528258, -1.54508497]),\n",
       "   array([20.,  0.]),\n",
       "   array([19.02113033,  6.18033989]),\n",
       "   array([16.18033989, 11.75570505]),\n",
       "   array([-11.75570505, -16.18033989]),\n",
       "   array([ -6.18033989, -19.02113033]),\n",
       "   array([-3.6739404e-15, -2.0000000e+01]),\n",
       "   array([  6.18033989, -19.02113033]),\n",
       "   array([ 11.75570505, -16.18033989]),\n",
       "   array([ 16.18033989, -11.75570505]),\n",
       "   array([19.02113033, -6.18033989])],\n",
       "  1: [array([2.93892626, 4.04508497]),\n",
       "   array([1.54508497, 4.75528258]),\n",
       "   array([3.061617e-16, 5.000000e+00]),\n",
       "   array([-1.54508497,  4.75528258]),\n",
       "   array([-2.93892626,  4.04508497]),\n",
       "   array([-4.04508497,  2.93892626]),\n",
       "   array([-4.75528258,  1.54508497]),\n",
       "   array([-5.000000e+00,  6.123234e-16]),\n",
       "   array([-4.75528258, -1.54508497]),\n",
       "   array([-4.04508497, -2.93892626]),\n",
       "   array([-2.93892626, -4.04508497]),\n",
       "   array([11.75570505, 16.18033989]),\n",
       "   array([ 6.18033989, 19.02113033]),\n",
       "   array([1.2246468e-15, 2.0000000e+01]),\n",
       "   array([-6.18033989, 19.02113033]),\n",
       "   array([-11.75570505,  16.18033989]),\n",
       "   array([-16.18033989,  11.75570505]),\n",
       "   array([-19.02113033,   6.18033989]),\n",
       "   array([-2.0000000e+01,  2.4492936e-15]),\n",
       "   array([-19.02113033,  -6.18033989]),\n",
       "   array([-16.18033989, -11.75570505])]}]"
      ]
     },
     "execution_count": 62,
     "metadata": {},
     "output_type": "execute_result"
    }
   ],
   "source": [
    "X = getCircle(20,5) + getCircle(20,20) #+ getCircle(20,35) + getCircle(20,2)\n",
    "k = 2\n",
    "KernelizedLloydMethod(k,X)"
   ]
  },
  {
   "cell_type": "code",
   "execution_count": 70,
   "metadata": {
    "scrolled": true
   },
   "outputs": [
    {
     "name": "stdout",
     "output_type": "stream",
     "text": [
      "Which kernel function do you want to use? 0 = linear, 1 = quadratic, 2 = rbf, 3 = rad\n",
      "3\n",
      "2\n",
      "Iteration complete.\n",
      "2\n",
      "Iteration complete.\n",
      "Do you want to save the plot for this run?\n",
      "y\n",
      "How many clusters? (What is k?)\n",
      "3\n",
      "What type of object is each cluster? (Circle, quadratic, blob, etc.)\n",
      "Parabola\n",
      "What kernel function are you using? (Linear, quadratic, rbf, etc.)\n",
      "Radius\n"
     ]
    },
    {
     "data": {
      "image/png": "[encoded data removed]",
      "text/plain": [
       "<Figure size 432x288 with 1 Axes>"
      ]
     },
     "metadata": {
      "needs_background": "light"
     },
     "output_type": "display_data"
    },
    {
     "data": {
      "text/plain": [
       "[{0: [array([-6., 36.]),\n",
       "   array([-5.33333333, 28.44444444]),\n",
       "   array([-4.66666667, 21.77777778]),\n",
       "   array([ 4.66666667, 21.77777778]),\n",
       "   array([ 5.33333333, 28.44444444]),\n",
       "   array([ 6., 36.]),\n",
       "   array([-4.66666667, 36.77777778]),\n",
       "   array([-4., 31.]),\n",
       "   array([-3.33333333, 26.11111111]),\n",
       "   array([-2.66666667, 22.11111111]),\n",
       "   array([ 2.66666667, 22.11111111]),\n",
       "   array([ 3.33333333, 26.11111111]),\n",
       "   array([ 4., 31.]),\n",
       "   array([ 4.66666667, 36.77777778]),\n",
       "   array([-7.33333333, 38.77777778]),\n",
       "   array([-6.66666667, 29.44444444]),\n",
       "   array([-6., 21.]),\n",
       "   array([ 6., 21.]),\n",
       "   array([ 6.66666667, 29.44444444]),\n",
       "   array([ 7.33333333, 38.77777778])],\n",
       "  1: [array([-4., 16.]),\n",
       "   array([-3.33333333, 11.11111111]),\n",
       "   array([-2.66666667,  7.11111111]),\n",
       "   array([-2.,  4.]),\n",
       "   array([-1.33333333,  1.77777778]),\n",
       "   array([-0.66666667,  0.44444444]),\n",
       "   array([-8.88178420e-15,  7.88860905e-29]),\n",
       "   array([0.66666667, 0.44444444]),\n",
       "   array([1.33333333, 1.77777778]),\n",
       "   array([2., 4.]),\n",
       "   array([2.66666667, 7.11111111]),\n",
       "   array([ 3.33333333, 11.11111111]),\n",
       "   array([ 4., 16.]),\n",
       "   array([-2., 19.]),\n",
       "   array([-1.33333333, 16.77777778]),\n",
       "   array([-0.66666667, 15.44444444]),\n",
       "   array([-8.8817842e-15,  1.5000000e+01]),\n",
       "   array([ 0.66666667, 15.44444444]),\n",
       "   array([ 1.33333333, 16.77777778]),\n",
       "   array([ 2., 19.]),\n",
       "   array([-5.33333333, 13.44444444]),\n",
       "   array([-4.66666667,  6.77777778]),\n",
       "   array([-4.,  1.]),\n",
       "   array([-3.33333333, -3.88888889]),\n",
       "   array([-2.66666667, -7.88888889]),\n",
       "   array([ -2., -11.]),\n",
       "   array([ -1.33333333, -13.22222222]),\n",
       "   array([ -0.66666667, -14.55555556]),\n",
       "   array([-8.8817842e-15, -1.5000000e+01]),\n",
       "   array([  0.66666667, -14.55555556]),\n",
       "   array([  1.33333333, -13.22222222]),\n",
       "   array([  2., -11.]),\n",
       "   array([ 2.66666667, -7.88888889]),\n",
       "   array([ 3.33333333, -3.88888889]),\n",
       "   array([4., 1.]),\n",
       "   array([4.66666667, 6.77777778]),\n",
       "   array([ 5.33333333, 13.44444444])],\n",
       "  2: [array([-10., 100.]),\n",
       "   array([-9.33333333, 87.11111111]),\n",
       "   array([-8.66666667, 75.11111111]),\n",
       "   array([-8., 64.]),\n",
       "   array([-7.33333333, 53.77777778]),\n",
       "   array([-6.66666667, 44.44444444]),\n",
       "   array([ 6.66666667, 44.44444444]),\n",
       "   array([ 7.33333333, 53.77777778]),\n",
       "   array([ 8., 64.]),\n",
       "   array([ 8.66666667, 75.11111111]),\n",
       "   array([ 9.33333333, 87.11111111]),\n",
       "   array([-10., 115.]),\n",
       "   array([ -9.33333333, 102.11111111]),\n",
       "   array([-8.66666667, 90.11111111]),\n",
       "   array([-8., 79.]),\n",
       "   array([-7.33333333, 68.77777778]),\n",
       "   array([-6.66666667, 59.44444444]),\n",
       "   array([-6., 51.]),\n",
       "   array([-5.33333333, 43.44444444]),\n",
       "   array([ 5.33333333, 43.44444444]),\n",
       "   array([ 6., 51.]),\n",
       "   array([ 6.66666667, 59.44444444]),\n",
       "   array([ 7.33333333, 68.77777778]),\n",
       "   array([ 8., 79.]),\n",
       "   array([ 8.66666667, 90.11111111]),\n",
       "   array([  9.33333333, 102.11111111]),\n",
       "   array([-10.,  85.]),\n",
       "   array([-9.33333333, 72.11111111]),\n",
       "   array([-8.66666667, 60.11111111]),\n",
       "   array([-8., 49.]),\n",
       "   array([ 8., 49.]),\n",
       "   array([ 8.66666667, 60.11111111]),\n",
       "   array([ 9.33333333, 72.11111111])]}]"
      ]
     },
     "execution_count": 70,
     "metadata": {},
     "output_type": "execute_result"
    }
   ],
   "source": [
    "X = X = getQuadratic(30,1,0,0) + getQuadratic(30,1,0,15) + getQuadratic(30,1,0,-15)\n",
    "#[y*20 for y in getGaussian(30,0,1)] + [y*10 for y in getGaussian(30,0,1)] + [y*2 for y in getGaussian(30,0,1)]\n",
    "k = 3\n",
    "KernelizedLloydMethod(k,X)"
   ]
  },
  {
   "cell_type": "code",
   "execution_count": 60,
   "metadata": {
    "scrolled": true
   },
   "outputs": [
    {
     "name": "stdout",
     "output_type": "stream",
     "text": [
      "Which kernel function do you want to use? 0 = linear, 1 = quadratic, 2 = rbf, 3 = rad\n",
      "3\n",
      "0\n",
      "Iteration complete.\n",
      "Do you want to save the plot for this run?\n",
      "n\n"
     ]
    },
    {
     "data": {
      "image/png": "[encoded data removed]",
      "text/plain": [
       "<Figure size 432x288 with 1 Axes>"
      ]
     },
     "metadata": {
      "needs_background": "light"
     },
     "output_type": "display_data"
    },
    {
     "data": {
      "text/plain": [
       "[{0: [array([-1.        ,  0.36787944]),\n",
       "   array([-0.76      ,  0.46766643]),\n",
       "   array([-0.52      ,  0.59452055]),\n",
       "   array([-0.28      ,  0.75578374]),\n",
       "   array([-0.04      ,  0.96078944]),\n",
       "   array([0.2       , 1.22140276]),\n",
       "   array([0.44      , 1.55270722]),\n",
       "   array([0.68      , 1.97387773]),\n",
       "   array([0.92      , 2.50929039]),\n",
       "   array([1.16      , 3.18993328]),\n",
       "   array([1.4       , 4.05519997]),\n",
       "   array([1.64      , 5.15516951]),\n",
       "   array([1.88      , 6.55350486]),\n",
       "   array([2.12      , 8.33113749]),\n",
       "   array([ 2.36      , 10.59095145]),\n",
       "   array([ 2.6       , 13.46373804]),\n",
       "   array([ 2.84      , 17.11576554]),\n",
       "   array([ 3.08     , 21.7584024]),\n",
       "   array([ 3.32      , 27.66035056]),\n",
       "   array([ 3.56      , 35.16319715]),\n",
       "   array([ 3.8       , 44.70118449]),\n",
       "   array([ 4.04      , 56.82634281]),\n",
       "   array([ 4.28      , 72.24044001]),\n",
       "   array([ 4.52      , 91.83559798]),\n",
       "   array([  4.76     , 116.7459259]),\n",
       "   array([-1.        , 25.33287108]),\n",
       "   array([-0.76      , 25.43344082]),\n",
       "   array([-0.52      , 25.56439552]),\n",
       "   array([-0.28      , 25.73491532]),\n",
       "   array([-0.04      , 25.95695396]),\n",
       "   array([ 0.2       , 26.24607673]),\n",
       "   array([ 0.44      , 26.62255165]),\n",
       "   array([ 0.68      , 27.11277025]),\n",
       "   array([ 0.92      , 27.75109771]),\n",
       "   array([ 1.16     , 28.5822819]),\n",
       "   array([ 1.4       , 29.66459027]),\n",
       "   array([ 1.64      , 31.07389452]),\n",
       "   array([ 1.88      , 32.90898931]),\n",
       "   array([ 2.12      , 35.29851799]),\n",
       "   array([ 2.36      , 38.40999065]),\n",
       "   array([ 2.6       , 42.46152694]),\n",
       "   array([ 2.84      , 47.73714657]),\n",
       "   array([ 3.08      , 54.60667966]),\n",
       "   array([ 3.32      , 63.55169238]),\n",
       "   array([ 3.56      , 75.19924567]),\n",
       "   array([ 3.8       , 90.36585321]),\n",
       "   array([  4.04      , 110.11472055]),\n",
       "   array([  4.28      , 135.83027754]),\n",
       "   array([  4.52      , 169.31522939]),\n",
       "   array([  4.76      , 212.91692935]),\n",
       "   array([3.8       , 5.56941502]),\n",
       "   array([ 4.04      , 12.93977371]),\n",
       "   array([ 4.28      , 22.08714341]),\n",
       "   array([ 4.52     , 33.4399657]),\n",
       "   array([ 4.76      , 47.52998046])],\n",
       "  1: [array([ 3.32      , -5.15404913]), array([ 3.56      , -0.36914316])],\n",
       "  2: [array([ -1.        , -24.59343034]),\n",
       "   array([ -0.76      , -24.49540543]),\n",
       "   array([ -0.52      , -24.37374648]),\n",
       "   array([ -0.28      , -24.22275526]),\n",
       "   array([ -0.04      , -24.03535971]),\n",
       "   array([  0.2       , -23.80278264]),\n",
       "   array([  0.44      , -23.51413068]),\n",
       "   array([  0.68      , -23.15588406]),\n",
       "   array([  0.92      , -22.71126331]),\n",
       "   array([  1.16      , -22.15944345]),\n",
       "   array([  1.4       , -21.47457851]),\n",
       "   array([  1.64      , -20.62459101]),\n",
       "   array([  1.88      , -19.56966949]),\n",
       "   array([  2.12      , -18.26040388]),\n",
       "   array([  2.36      , -16.63547122]),\n",
       "   array([  2.6       , -14.61876344]),\n",
       "   array([  2.84      , -12.11582261]),\n",
       "   array([ 3.08      , -9.00941678])]}]"
      ]
     },
     "execution_count": 60,
     "metadata": {},
     "output_type": "execute_result"
    }
   ],
   "source": [
    "X = getExp(25,1,1,0) + getExp(25,1,1.1,25) + getExp(25,1,0.9,-25) #+ getExp(20,1,1.3,-25)\n",
    "k = 3\n",
    "KernelizedLloydMethod(k,X)"
   ]
  },
  {
   "cell_type": "code",
   "execution_count": 74,
   "metadata": {
    "scrolled": true
   },
   "outputs": [
    {
     "name": "stdout",
     "output_type": "stream",
     "text": [
      "[[5.0, 0.0], [4.755282581475767, 1.545084971874737], [4.045084971874737, 2.938926261462366], [2.938926261462366, 4.045084971874737], [1.5450849718747373, 4.755282581475767], [3.061616997868383e-16, 5.0], [-1.5450849718747368, 4.755282581475768], [-2.938926261462365, 4.045084971874737], [-4.045084971874736, 2.9389262614623664], [-4.755282581475767, 1.5450849718747375], [-5.0, 6.123233995736766e-16], [-4.755282581475768, -1.5450849718747364], [-4.045084971874737, -2.938926261462365], [-2.9389262614623664, -4.045084971874736], [-1.5450849718747377, -4.755282581475767], [-9.184850993605148e-16, -5.0], [1.5450849718747361, -4.755282581475768], [2.9389262614623646, -4.045084971874738], [4.045084971874736, -2.938926261462367], [4.755282581475767, -1.5450849718747384], [20.0, 0.0], [19.02113032590307, 6.180339887498948], [16.18033988749895, 11.755705045849464], [11.755705045849464, 16.18033988749895], [6.180339887498949, 19.02113032590307], [1.2246467991473533e-15, 20.0], [-6.180339887498947, 19.021130325903073], [-11.75570504584946, 16.18033988749895], [-16.180339887498945, 11.755705045849465], [-19.02113032590307, 6.18033988749895], [-20.0, 2.4492935982947065e-15], [-19.021130325903073, -6.1803398874989455], [-16.18033988749895, -11.75570504584946], [-11.755705045849465, -16.180339887498945], [-6.180339887498951, -19.02113032590307], [-3.673940397442059e-15, -20.0], [6.180339887498945, -19.021130325903073], [11.755705045849458, -16.180339887498953], [16.180339887498945, -11.755705045849467], [19.02113032590307, -6.1803398874989535]]\n",
      "\n",
      "[[-1.0, 0.36787944117144233], [-0.76, 0.46766642700990924], [-0.52, 0.5945205479701944], [-0.28, 0.7557837414557255], [-0.040000000000000036, 0.9607894391523232], [0.19999999999999996, 1.2214027581601699], [0.43999999999999995, 1.552707218511336], [0.6799999999999999, 1.9738777322304475], [0.9199999999999999, 2.5092903899362975], [1.1600000000000001, 3.189933276116185], [1.4, 4.0551999668446745], [1.6399999999999997, 5.1551695122346795], [1.88, 6.553504862191148], [2.12, 8.331137487687693], [2.36, 10.59095145243378], [2.5999999999999996, 13.463738035001686], [2.84, 17.115765537145876], [3.08, 21.75840239619708], [3.3200000000000003, 27.660350558516758], [3.5599999999999996, 35.1631971451066], [3.8, 44.701184493300815], [4.04, 56.826342805469025], [4.279999999999999, 72.24044000732532], [4.52, 91.83559797815674], [4.76, 116.7459258989899], [-1.0, 25.33287108369808], [-0.76, 25.433440823816504], [-0.52, 25.56439551811936], [-0.28, 25.73491531800907], [-0.040000000000000036, 25.956953957473047], [0.19999999999999996, 26.24607673058738], [0.43999999999999995, 26.622551645652262], [0.6799999999999999, 27.112770247758228], [0.9199999999999999, 27.751097711911612], [1.1600000000000001, 28.582281901458988], [1.4, 29.664590270988125], [1.6399999999999997, 31.073894516044465], [1.88, 32.90898931069887], [2.12, 35.298517985703384], [2.36, 38.40999064929626], [2.5999999999999996, 42.461526936579986], [2.84, 47.73714657458838], [3.08, 54.606679658197834], [3.3200000000000003, 63.551692381787525], [3.5599999999999996, 75.19924566544387], [3.8, 90.3658532140099], [4.04, 110.11472054522781], [4.279999999999999, 135.83027754221197], [4.52, 169.315229391568], [4.76, 212.91692934639227], [-1.0, -24.593430340259403], [-0.76, -24.495405428066448], [-0.52, -24.373746476342443], [-0.28, -24.222755261931052], [-0.040000000000000036, -24.03535970651688], [0.19999999999999996, -23.80278263687819], [0.43999999999999995, -23.51413068244861], [0.6799999999999999, -23.155884055102867], [0.9199999999999999, -22.711263313635094], [1.1600000000000001, -22.1594434536464], [1.4, -21.47457851263462], [1.6399999999999997, -20.62459100505074], [1.88, -19.569669487267532], [2.12, -18.260403881887797], [2.36, -16.635471224307253], [2.5999999999999996, -14.618763437268157], [2.84, -12.11582260502475], [3.08, -9.009416783629538], [3.3200000000000003, -5.1540491285544014], [3.5599999999999996, -0.3691431599184334], [3.8, 5.569415021050208], [4.04, 12.939773707284289], [4.279999999999999, 22.087143406857635], [4.52, 33.439965702596815], [4.76, 47.52998046221059]]\n",
      "\n",
      "[[-10.0, 100.0], [-9.333333333333334, 87.11111111111113], [-8.666666666666668, 75.11111111111113], [-8.000000000000002, 64.00000000000003], [-7.333333333333336, 53.777777777777814], [-6.66666666666667, 44.444444444444485], [-6.0000000000000036, 36.00000000000004], [-5.3333333333333375, 28.44444444444449], [-4.666666666666671, 21.77777777777782], [-4.000000000000005, 16.000000000000043], [-3.3333333333333393, 11.11111111111115], [-2.666666666666673, 7.111111111111146], [-2.000000000000007, 4.000000000000028], [-1.333333333333341, 1.7777777777777983], [-0.666666666666675, 0.4444444444444555], [-8.881784197001252e-15, 7.888609052210118e-29], [0.6666666666666572, 0.4444444444444318], [1.3333333333333233, 1.777777777777751], [1.9999999999999893, 3.9999999999999574], [2.6666666666666554, 7.111111111111051], [3.3333333333333215, 11.111111111111033], [3.9999999999999876, 15.9999999999999], [4.666666666666654, 21.777777777777658], [5.33333333333332, 28.4444444444443], [5.999999999999986, 35.99999999999983], [6.66666666666665, 44.44444444444422], [7.333333333333318, 53.77777777777755], [7.999999999999986, 63.99999999999977], [8.66666666666665, 75.11111111111083], [9.333333333333314, 87.11111111111076], [-10.0, 115.0], [-9.333333333333334, 102.11111111111113], [-8.666666666666668, 90.11111111111113], [-8.000000000000002, 79.00000000000003], [-7.333333333333336, 68.77777777777781], [-6.66666666666667, 59.444444444444485], [-6.0000000000000036, 51.00000000000004], [-5.3333333333333375, 43.444444444444485], [-4.666666666666671, 36.77777777777782], [-4.000000000000005, 31.000000000000043], [-3.3333333333333393, 26.11111111111115], [-2.666666666666673, 22.111111111111146], [-2.000000000000007, 19.00000000000003], [-1.333333333333341, 16.7777777777778], [-0.666666666666675, 15.444444444444455], [-8.881784197001252e-15, 15.0], [0.6666666666666572, 15.444444444444432], [1.3333333333333233, 16.77777777777775], [1.9999999999999893, 18.999999999999957], [2.6666666666666554, 22.11111111111105], [3.3333333333333215, 26.111111111111033], [3.9999999999999876, 30.9999999999999], [4.666666666666654, 36.77777777777766], [5.33333333333332, 43.4444444444443], [5.999999999999986, 50.99999999999983], [6.66666666666665, 59.44444444444422], [7.333333333333318, 68.77777777777754], [7.999999999999986, 78.99999999999977], [8.66666666666665, 90.11111111111083], [9.333333333333314, 102.11111111111076], [-10.0, 85.0], [-9.333333333333334, 72.11111111111113], [-8.666666666666668, 60.11111111111113], [-8.000000000000002, 49.00000000000003], [-7.333333333333336, 38.777777777777814], [-6.66666666666667, 29.444444444444485], [-6.0000000000000036, 21.000000000000043], [-5.3333333333333375, 13.444444444444489], [-4.666666666666671, 6.777777777777821], [-4.000000000000005, 1.0000000000000426], [-3.3333333333333393, -3.88888888888885], [-2.666666666666673, -7.888888888888854], [-2.000000000000007, -10.999999999999972], [-1.333333333333341, -13.222222222222202], [-0.666666666666675, -14.555555555555545], [-8.881784197001252e-15, -15.0], [0.6666666666666572, -14.555555555555568], [1.3333333333333233, -13.22222222222225], [1.9999999999999893, -11.000000000000043], [2.6666666666666554, -7.888888888888949], [3.3333333333333215, -3.8888888888889674], [3.9999999999999876, 0.9999999999999005], [4.666666666666654, 6.777777777777658], [5.33333333333332, 13.4444444444443], [5.999999999999986, 20.99999999999983], [6.66666666666665, 29.444444444444223], [7.333333333333318, 38.77777777777755], [7.999999999999986, 48.99999999999977], [8.66666666666665, 60.11111111111083], [9.333333333333314, 72.11111111111076]]\n",
      "\n"
     ]
    }
   ],
   "source": [
    "X = getCircle(20,5) + getCircle(20,20)\n",
    "for i in range(len(X)):\n",
    "    X[i] = list(X[i])\n",
    "print(X)\n",
    "print(\"\")\n",
    "X = getExp(25,1,1,0) + getExp(25,1,1.1,25) + getExp(25,1,0.9,-25) #+ getExp(20,1,1.3,-25)\n",
    "for i in range(len(X)):\n",
    "    X[i] = list(X[i])\n",
    "print(X)\n",
    "print(\"\")\n",
    "X = X = getQuadratic(30,1,0,0) + getQuadratic(30,1,0,15) + getQuadratic(30,1,0,-15)\n",
    "for i in range(len(X)):\n",
    "    X[i] = list(X[i])\n",
    "print(X)\n",
    "print(\"\")"
   ]
  }
 ],
 "metadata": {
  "kernelspec": {
   "display_name": "Python 3",
   "language": "python",
   "name": "python3"
  },
  "language_info": {
   "codemirror_mode": {
    "name": "ipython",
    "version": 3
   },
   "file_extension": ".py",
   "mimetype": "text/x-python",
   "name": "python",
   "nbconvert_exporter": "python",
   "pygments_lexer": "ipython3",
   "version": "3.7.3"
  }
 },
 "nbformat": 4,
 "nbformat_minor": 2
}
