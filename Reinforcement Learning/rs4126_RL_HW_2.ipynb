{
  "nbformat": 4,
  "nbformat_minor": 0,
  "metadata": {
    "colab": {
      "provenance": [],
      "authorship_tag": "ABX9TyOMa+1vG34oi1aLSuns1p3w",
      "include_colab_link": true
    },
    "kernelspec": {
      "name": "python3",
      "display_name": "Python 3"
    },
    "language_info": {
      "name": "python"
    }
  },
  "cells": [
    {
      "cell_type": "markdown",
      "metadata": {
        "id": "view-in-github",
        "colab_type": "text"
      },
      "source": [
        "<a href=\"https://colab.research.google.com/github/RohanSubramani/Miscellaneous/blob/main/rs4126_RL_HW_2.ipynb\" target=\"_parent\"><img src=\"https://colab.research.google.com/assets/colab-badge.svg\" alt=\"Open In Colab\"/></a>"
      ]
    },
    {
      "cell_type": "code",
      "source": [
        "import numpy as np\n",
        "import scipy.stats as stats\n",
        "import matplotlib.pyplot as plt\n",
        "from tqdm import tqdm"
      ],
      "metadata": {
        "id": "8ENjss0yiQ7A"
      },
      "execution_count": 3,
      "outputs": []
    },
    {
      "cell_type": "markdown",
      "source": [
        "# Problem 1\n",
        "Chess as an MDP."
      ],
      "metadata": {
        "id": "wDNni8Iyx8cW"
      }
    },
    {
      "cell_type": "markdown",
      "source": [
        "Chess can be modeled as an MDP. The set of states S can be the set of all possible arrangements of all possible subsets of pieces on the board (even though not all of these arrangements are actually attainable in a game of chess).The set of actions A can be the set of all legal moves that the agent player (we are treating the opponent as the environment) can make from any of the states in S - that is, the union of \"the set of legal moves in state s\" over all states s in S. One option for the rewards is to give 0 reward anytime there is no checkmate, +1 when the agent checkmates their opponent, and -1 when the opponent checkmates the agent. There are other more sophisticated options that include offering rewards for intermediate stages related to losing or capturing pieces and board position, but this is simpler and still works. The transition probabilities P(s',r|s,a) are determined by the opponent's probability distribution over moves given each board position they encounter, since the agent moves (takes action a in state s), then the opponent moves (producing a new state s' and a reward r), and then it is the agent's turn again."
      ],
      "metadata": {
        "id": "fZbOf2Bh3xmi"
      }
    },
    {
      "cell_type": "markdown",
      "source": [
        "# Problem 2\n",
        "Expressing state values and state-action values in terms of each other.\n",
        "\n",
        "2a: \n",
        "$v_\\pi (s) = \\sum\\limits_a \\pi(a|s) q_\\pi (s,a) $\n",
        "\n",
        "2b: \n",
        "$q_\\pi (s,a) = \\sum\\limits_{r,s'} P(s',r|s,a)[r + \\gamma v_\\pi (s')] $\n",
        "\n",
        "2c:\n",
        "$v_* (s) = \\max\\limits_a q_* (s,a) $\n",
        "\n",
        "2d:\n",
        "$q_* (s,a) = \\sum\\limits_{r,s'} P(s',r|s,a)[r + \\gamma v_* (s')] $\n",
        "\n",
        "2a and 2c are fairly intuitive ways of converting state-action values into state values. 2b follows from 2a and the following:\n",
        "\n",
        "$v_\\pi (s) = \\sum\\limits_a \\pi(a|s) \\sum\\limits_{r,s'} P(s',r|s,a) [r + \\gamma v_\\pi (s')]$\n",
        "\n",
        "2d is that same as 2b except $v_\\pi$ is substituted out for $v_*$."
      ],
      "metadata": {
        "id": "ReRiSgR6yJbA"
      }
    },
    {
      "cell_type": "markdown",
      "source": [
        "# Problem 3\n",
        "Special quantities in gambler MDP problem.\n",
        "\n",
        "Importantly, the probability of winning a bet is given as 0.4, which is smaller than 0.5, so the game is biased against the gambler. Given that they want to win money, their best strategy is to hope to get lucky on a few risky bets, because the expected outcome is always for them to lose money but the variance of outcomes is higher if it depends on fewer bets. Then, the key idea is that there are unusually direct paths from 25, 50, and 75 to the goal of 100. From 25, the gambler could get to 100 if they win two all-or-nothing bets in a row. From 50, they can get to 100 if one all-in bet pays off. From 75, they can win by either winning a bet of 25, or losing a bet of 25 and then winning a bet of 50. For values close to these, it makes sense to bet less, because slowly accumulating more money could get the gambler to a better special quantity (notice that the probability of winning from 25 is lower than from 50, which in turn is lower than at 75, which itself is obviously lower than getting directly to 100), while slowly losing money from above a special quantity could bring them back down to that special quantity. Powers of 2 are special because the gambler is capable of doubling their money when they bet it all - this is why 25 is special but e.g. 20 is not."
      ],
      "metadata": {
        "id": "dLpCQlB4zuK1"
      }
    },
    {
      "cell_type": "markdown",
      "source": [
        "# Problem 4\n",
        "Dynamic Programming with graphs.\n",
        "\n",
        "In cases where the meaning is not ambiguous, I will refer to nodes by their indices, e.g. instead of saying $v_i$ I will just say i."
      ],
      "metadata": {
        "id": "MRsj6a2Azt7p"
      }
    },
    {
      "cell_type": "markdown",
      "source": [
        "## 4a\n",
        "The given relationship can be described in words as saying \"The length of the shortest path from i to j is equal to the length of the shortest path that first gets from i to some node within one edge of j as efficiently as possible and then goes to j.\" Ignoring edge cases where there are relevant paths with no intermediate nodes for a moment, this is clearly correct: any path to j has to first be within one edge of j, and obviously the shortest path through any node must involve getting to that node as efficiently as possible.\n",
        "\n",
        "If i is adjacent to j, or if i = j, this relationship still holds. All that is needed is to let $d_{il}$ and/or $d_{lj}$ be 0 by making l equal to i and/or j.\n",
        "\n",
        "The requirements for Dynamic Programming lead us to the expression in the following ways:\n",
        "\n",
        "1. One prereq for DP is that it needs to be possible to decompose problems into subproblems of a similar form. This appears in the given relationship since the shortest distance between two nodes (i and j) is computed using another shortest distance between two nodes (i and l).\n",
        "2. Another prereq for DP is that the subproblems overlap, which appears here since the paths that have these shortest distances are the same except for adding or removing one edge at a time.\n",
        "3. The third prereq for DP is the Markov property, which appears here in that only the shortest distance from i to l needs to be known without further details about how that distance was computed."
      ],
      "metadata": {
        "id": "2vjVa5_wt8FD"
      }
    },
    {
      "cell_type": "markdown",
      "source": [
        "## 4b\n",
        "$D^{(0)}$ is the n x n matrix with 0s along the diagonal and infinity everywhere else. $D^{(1)}$ is the same as the matrix D given in the problem description."
      ],
      "metadata": {
        "id": "v1ZrOE8Ct7gp"
      }
    },
    {
      "cell_type": "markdown",
      "source": [
        "## 4c\n",
        "\n",
        "Matrix form of Bellman equation: $D^* = D^* \\star D$\n",
        "\n",
        "This is expressing the Bellman relationship because the expression for each entry $D^*_{ij} = (D^* \\star D)_{ij} = (D^*_{i1} + D_{1j}) ∨ (D^*_{i2} + D_{2j}) ∨ ... ∨ (D^*_{in} + D_{nj})$ reduces to $d^*_{ij} = \\min\\limits_l (d^*_{il}+d_{lj})$."
      ],
      "metadata": {
        "id": "z7AAZlcO1yw6"
      }
    },
    {
      "cell_type": "markdown",
      "source": [
        "## 4d\n"
      ],
      "metadata": {
        "id": "Iz7SMxLJyAnI"
      }
    },
    {
      "cell_type": "markdown",
      "source": [
        "(I felt that the most natural order to answer the questions for this part was different than the order in which they were posed, so there'll be a bit of jumping back and forth.)\n",
        "\n",
        "The simplest way to use the matrices $D^{(k)}$ to get $D^*$ is to simply keep increasing k until we get $D^{(k)} = D^*$. Specifically, we know $D^{(n-1)} = D^*$ because the shortest path from i to j in a graph with n nodes always has at most n-1 edges - any path with more edges than that must visit at least one node multiple times, which would mean there was a cycle in the path, and that cycle could be removed to make a shorter path.\n",
        "\n",
        "Next, let's show that $D^{(k+1)} = D^{(k)} \\star D$.\n",
        "\n",
        "The expression for each entry is $D^{(k+1)}_{ij} = (D^{(k)} \\star D)_{ij} = (D^{(k)}_{i1} + D_{1j}) ∨ (D^{(k)}_{i2} + D_{2j}) ∨ ... ∨ (D^{(k)}_{in} + D_{nj})$, which reduces to $d^{(k+1)}_{ij} = \\min\\limits_l (d^{(k)}_{il}+d_{lj})$.\n",
        "\n",
        "In words, this states \"The length of the shortest (distance) path from i to j in at most k+1 edges is equal to the length of the shortest (distance) path that first gets from i to some node within one edge of j as efficiently as possible within at most k steps and then goes to j.\" This is clearly correct, for basically the same reasons given in part a.\n",
        "\n",
        "We know that $D^{(1)} = D^{\\star 1} = D$, $D^{(k+1)} = D^{(k)} \\star D$, and $D^{\\star (k+1)} = D^{\\star k} \\star D$.\n",
        "\n",
        "Therefore, $D^{(k)} = D^{\\star k}$ for all k, and $D^{(n-1)} = D^{\\star (n-1)}$.\n",
        "\n",
        "This suggests a basic DP algorithm for computing $D^*$: simply take the min-sum product of D with itself n-1 times."
      ],
      "metadata": {
        "id": "D1pmbWNZ5r9M"
      }
    },
    {
      "cell_type": "code",
      "source": [
        "# I'll do part e separately below, by copying and pasting this code and then editing it\n",
        "\n",
        "def get_all_shortest_paths(D):\n",
        "  # D should be an n x n numpy array with a 0 diagonal\n",
        "  n = len(D)\n",
        "  assert type(D) == np.ndarray, f\"type(D) should be np.ndarray, but type(D)={type(D)}.\"\n",
        "  for i in range(n): \n",
        "    assert D[i][i] == 0, f\"Diagonal must be 0s, D[{i}][{i}]={D[i][i]}\"\n",
        "    assert len(D[i]) == n, f\"len(D[i]) should be {n}, but len(D[i])={len(D[i])}.\"\n",
        "  prev_D_k = D # Start with D^(1)\n",
        "  D_k = np.zeros((n,n))\n",
        "  for k in range(2,n): # result of each iteration will be D^(k), so after k = n-1 we will have D^(n-1)\n",
        "    for i in range(n):\n",
        "      for j in range(n):\n",
        "        D_k[i][j] = np.min(prev_D_k[i]+np.transpose(D[:,j]))\n",
        "    prev_D_k = D_k\n",
        "  return D_k"
      ],
      "metadata": {
        "id": "sBgGThJqiEc_"
      },
      "execution_count": 4,
      "outputs": []
    },
    {
      "cell_type": "code",
      "source": [
        "# Tests - I drew out the graph below and verified the output, the code seems to be correct.\n",
        "\n",
        "D = [[0,3,9,999],[999,0,5,1],[4,999,0,999],[50,999,999,0]] # 999 is a large distance to represent \"no edge\"\n",
        "D = np.array(D)\n",
        "print(f\"Input:\\n{D}\\n\")\n",
        "print(f\"Result:\\n{get_all_shortest_paths(D)}\\n\")\n",
        "\n",
        "n=100\n",
        "D = np.random.rand(n,n)\n",
        "for i in range(n): D[i][i] = 0 # Distance from a node to itself should be 0\n",
        "print(f\"Input:\\n{D}\\n\")\n",
        "print(f\"Result:\\n{get_all_shortest_paths(D)}\")"
      ],
      "metadata": {
        "colab": {
          "base_uri": "https://localhost:8080/"
        },
        "id": "di8RS47mlEu3",
        "outputId": "5ec645d0-4181-4e3f-893b-2e91714efef9"
      },
      "execution_count": 6,
      "outputs": [
        {
          "output_type": "stream",
          "name": "stdout",
          "text": [
            "Input:\n",
            "[[  0   3   9 999]\n",
            " [999   0   5   1]\n",
            " [  4 999   0 999]\n",
            " [ 50 999 999   0]]\n",
            "\n",
            "Result:\n",
            "[[ 0.  3.  8.  4.]\n",
            " [ 9.  0.  5.  1.]\n",
            " [ 4.  7.  0.  8.]\n",
            " [50. 53. 58.  0.]]\n",
            "\n",
            "Input:\n",
            "[[0.         0.43144061 0.12647903 ... 0.36282421 0.3478035  0.65860323]\n",
            " [0.11807249 0.         0.1731023  ... 0.42136358 0.49683569 0.60913258]\n",
            " [0.89193664 0.76996847 0.         ... 0.23183131 0.31858813 0.22973511]\n",
            " ...\n",
            " [0.01483791 0.76294941 0.69387785 ... 0.         0.85717016 0.0215575 ]\n",
            " [0.02811043 0.29952071 0.68453229 ... 0.60476698 0.         0.26337875]\n",
            " [0.5264719  0.09112022 0.74086415 ... 0.57564888 0.31668157 0.        ]]\n",
            "\n",
            "Result:\n",
            "[[0.         0.01929154 0.07274434 ... 0.05247937 0.05655931 0.06981769]\n",
            " [0.05154013 0.         0.07880085 ... 0.04713651 0.07294612 0.06869401]\n",
            " [0.05257857 0.05064693 0.         ... 0.04058279 0.044774   0.06214029]\n",
            " ...\n",
            " [0.01483791 0.03412945 0.05497487 ... 0.         0.04840563 0.0215575 ]\n",
            " [0.02811043 0.04740196 0.08222746 ... 0.0642162  0.         0.0857737 ]\n",
            " [0.05518308 0.06866321 0.0902067  ... 0.06646511 0.05263656 0.        ]]\n"
          ]
        }
      ]
    },
    {
      "cell_type": "markdown",
      "source": [
        "## 4e"
      ],
      "metadata": {
        "id": "Cdw79p3F2EZT"
      }
    },
    {
      "cell_type": "markdown",
      "source": [
        "Essenially, while computing $D^{(k)}$, there is a step when it is necessary to determine the smallest of several total distances required to go from i to l and l to j, for various intermediate nodes l. To compute $P^{(k)}$ alongside, we just need to compute the argmin of these distances in addition to the min: that is, in addition to computing the shortest distance itself, we keep track of which node l produces that shortest distance. Further details are in the code below. Also, there are some weird edge cases that need to be dealt with which are also in the code and comments below."
      ],
      "metadata": {
        "id": "qDT-ARSrAlpO"
      }
    },
    {
      "cell_type": "code",
      "source": [
        "def get_D_k_and_P_k(D):\n",
        "  # D should be an n x n numpy array with a 0 diagonal and 999's for missing edges\n",
        "  n = len(D)\n",
        "  assert type(D) == np.ndarray, f\"type(D) should be np.ndarray, but type(D)={type(D)}.\"\n",
        "  for i in range(n): \n",
        "    assert D[i][i] == 0, f\"Diagonal must be 0s, D[{i}][{i}]={D[i][i]}\"\n",
        "    assert len(D[i]) == n, f\"len(D[i]) should be {n}, but len(D[i])={len(D[i])}.\"\n",
        "  prev_D_k = D # Start with D^(1)\n",
        "  D_k = np.zeros((n,n))\n",
        "  P_k = np.zeros((n,n)) # 0 indicates no predecessor\n",
        "  for i in range(n): P_k[i][i] = i+1 # Shortest path from i to itself 'starts' at i (but indexing starts at 0, so use i+1)\n",
        "  for k in range(2,n): # result of each iteration will be D^(k), so after k = n-1 we will have D^(n-1)\n",
        "    for i in range(n):\n",
        "      for j in range(n):\n",
        "        if i == j: continue # Already set the diagonal values above\n",
        "        sum = prev_D_k[i]+np.transpose(D[:,j])\n",
        "        D_k[i][j] = np.min(sum)\n",
        "        if P_k[i][j] == 0 and np.argmin(sum) == j: # This only happens if there is an edge from i to j that is the shortest single edge path\n",
        "          P_k[i][j] = i + 1\n",
        "        if np.argmin(sum) != j: \n",
        "          # np.argmin(sum) == j would mean this path was found in an earlier iteration, we don't want to make the target node the predecessor \n",
        "          P_k[i][j] = np.argmin(sum) + 1        \n",
        "    prev_D_k = D_k\n",
        "  for i in range(n):\n",
        "    for j in range(n):\n",
        "      if D_k[i][j] == 999: P_k[i][j] = 0\n",
        "  return D_k, P_k"
      ],
      "metadata": {
        "id": "ZyMtMXOC2FyD"
      },
      "execution_count": 31,
      "outputs": []
    },
    {
      "cell_type": "code",
      "source": [
        "# Tests - I drew out the graphs below and verified the outputs, the code seems to be correct.\n",
        "\n",
        "D = [[0,3,9,999],[999,0,5,1],[4,999,0,999],[50,999,999,0]]\n",
        "D = np.array(D)\n",
        "print(f\"Input:\\n{D}\\n\")\n",
        "D_k, P_k = get_D_k_and_P_k(D)\n",
        "print(f\"D_k:\\n{D_k}\\n\")\n",
        "print(f\"P_k:\\n{P_k}\\n\")\n",
        "\n",
        "D = [[0,3,3,999,999],[999,0,4,999,999],[999,999,0,2,999],[1,999,999,0,999],[999,999,999,999,0]]\n",
        "D = np.array(D)\n",
        "print(f\"Input:\\n{D}\\n\")\n",
        "D_k, P_k = get_D_k_and_P_k(D)\n",
        "print(f\"D_k:\\n{D_k}\\n\")\n",
        "print(f\"P_k:\\n{P_k}\\n\")\n",
        "\n",
        "# n=100\n",
        "# D = np.random.rand(n,n)\n",
        "# for i in range(n): D[i][i] = 0 # Distance from a node to itself should be 0\n",
        "# print(f\"Input:\\n{D}\\n\")\n",
        "# D_k, P_k = get_D_k_and_P_k(D)\n",
        "# print(f\"D_k:\\n{D_k}\\n\")\n",
        "# print(f\"P_k:\\n{P_k}\\n\")"
      ],
      "metadata": {
        "colab": {
          "base_uri": "https://localhost:8080/"
        },
        "id": "8kzYqXvA3Eco",
        "outputId": "79015d50-1d85-4300-9729-4883faa57ee5"
      },
      "execution_count": 35,
      "outputs": [
        {
          "output_type": "stream",
          "name": "stdout",
          "text": [
            "Input:\n",
            "[[  0   3   9 999]\n",
            " [999   0   5   1]\n",
            " [  4 999   0 999]\n",
            " [ 50 999 999   0]]\n",
            "\n",
            "D_k:\n",
            "[[ 0.  3.  8.  4.]\n",
            " [ 9.  0.  5.  1.]\n",
            " [ 4.  7.  0.  8.]\n",
            " [50. 53. 58.  0.]]\n",
            "\n",
            "P_k:\n",
            "[[1. 1. 2. 2.]\n",
            " [3. 2. 2. 2.]\n",
            " [3. 1. 3. 2.]\n",
            " [4. 1. 2. 4.]]\n",
            "\n",
            "Input:\n",
            "[[  0   3   3 999 999]\n",
            " [999   0   4 999 999]\n",
            " [999 999   0   2 999]\n",
            " [  1 999 999   0 999]\n",
            " [999 999 999 999   0]]\n",
            "\n",
            "D_k:\n",
            "[[  0.   3.   3.   5. 999.]\n",
            " [  7.   0.   4.   6. 999.]\n",
            " [  3.   6.   0.   2. 999.]\n",
            " [  1.   4.   4.   0. 999.]\n",
            " [999. 999. 999. 999.   0.]]\n",
            "\n",
            "P_k:\n",
            "[[1. 1. 1. 3. 0.]\n",
            " [4. 2. 2. 3. 0.]\n",
            " [4. 1. 3. 3. 0.]\n",
            " [4. 1. 1. 4. 0.]\n",
            " [0. 0. 0. 0. 5.]]\n",
            "\n"
          ]
        }
      ]
    },
    {
      "cell_type": "markdown",
      "source": [
        "To find the shortest path from i to j given $P^*$, look at $P^*_{ij}$ to find the last vertex to visit before j. Call that k. Then look at $P^*_{ik}$ to find the last vertex to visit before k. Repeat this process until the last vertex to visit before some other vertex is i, and then reverse the order of the backwards traversal to get the shortest path from i to j. This is implemented below."
      ],
      "metadata": {
        "id": "3SZSIZ2kADdo"
      }
    },
    {
      "cell_type": "code",
      "source": [
        "def get_shortest_path(D_star,P_star,i,j):\n",
        "  i -= 1\n",
        "  j -= 1 # To allow node numbering args to index from 1 \n",
        "  if not (D_star[i][j] < 999): \n",
        "    print(f\"No path from {i+1} to {j+1}\")\n",
        "    return []\n",
        "  back_trav = [int(j)] # backwards traversal\n",
        "  while abs(back_trav[-1] - i) > 1e-4:\n",
        "    back_trav.append(int(P_star[i][back_trav[-1]]-1)) # Again dealing with mismatch between 0 and 1 indexing\n",
        "  result = back_trav[::-1] + np.ones(len(back_trav))\n",
        "  return [int(r) for r in result]\n",
        "\n",
        "print(get_shortest_path(D_k,P_k,2,1))\n",
        "print(get_shortest_path(D_k,P_k,3,2))\n",
        "print(get_shortest_path(D_k,P_k,1,4))\n",
        "print(get_shortest_path(D_k,P_k,1,5))"
      ],
      "metadata": {
        "colab": {
          "base_uri": "https://localhost:8080/"
        },
        "id": "fvcUg2zA5_mE",
        "outputId": "55b4d9f5-a9a0-49c8-c1d9-6edd74473bc5"
      },
      "execution_count": 57,
      "outputs": [
        {
          "output_type": "stream",
          "name": "stdout",
          "text": [
            "[2, 3, 4, 1]\n",
            "[3, 4, 1, 2]\n",
            "[1, 3, 4]\n",
            "No path from 1 to 5\n",
            "[]\n"
          ]
        }
      ]
    },
    {
      "cell_type": "markdown",
      "source": [
        "# Problem 5\n",
        "Ski-shop inventory problem"
      ],
      "metadata": {
        "id": "ZmzL0yaL0KRX"
      }
    },
    {
      "cell_type": "code",
      "execution_count": 94,
      "metadata": {
        "id": "T5xSBD7mx3v5"
      },
      "outputs": [],
      "source": [
        "class SkiShopInventory():\n",
        "  def __init__(self, gamma=0.9):\n",
        "    self.months = ['Sep','Oct','Nov','Dec','Jan','Feb','Mar']\n",
        "    self.demand_avgs = [0,20,40,50,35,25,5]\n",
        "    self.demand_avgs_dict = dict(zip(self.months,self.demand_avgs))\n",
        "    self.gamma=gamma\n",
        "\n",
        "    # self.states = [(month,stock) for month in self.months for stock in range(100)]\n",
        "\n",
        "  def part_a(self):\n",
        "    q_values = {}\n",
        "    MIN_ACTION = 5 # because the given policy for part 1 involves always buying at least 5 skis\n",
        "    for month in tqdm(self.months[::-1]):\n",
        "      max_stock = self.get_max_stock(month) # Never exceeds the 100 limit with this policy, max is 86\n",
        "      if month == 'Mar':\n",
        "        for stock in range(max_stock+1):\n",
        "          action = 0 # Can't buy skis at end of Mar\n",
        "          key = ((month,stock),action) \n",
        "          q_values[key] = 300*stock # Just the fire sale\n",
        "      elif month == \"Feb\":\n",
        "        for stock in range(max_stock+1): \n",
        "          action = 0 # Buys nothing at end of Feb / start of March, the interval [5,2.5] is nonsensical\n",
        "          key = ((month,stock),action) \n",
        "          demand_probs = []\n",
        "          for demand in range(stock+action): # Goes up to stock - 1\n",
        "            demand_probs.append(stats.poisson.pmf(demand,self.demand_avgs_dict[month]))\n",
        "          demand_probs.append(1-sum(demand_probs)) # Probability that the entire stock sells \n",
        "          q_value = 0\n",
        "          for demand in range(len(demand_probs)):\n",
        "            q_value += demand_probs[demand]*(700*demand + self.gamma*300*(stock+action-demand)) # Treats demand > stock the same as demand = stock\n",
        "          q_values[key] = q_value\n",
        "      else:\n",
        "        month_idx = self.months.index(month)\n",
        "        next_month = self.months[month_idx+1]\n",
        "        next_next_month = self.months[month_idx+2]\n",
        "        for stock in range(max_stock+1):\n",
        "          for action in range(MIN_ACTION,self.demand_avgs_dict[next_month]//2+1):\n",
        "            key = ((month,stock),action)\n",
        "            demand_probs = []\n",
        "            for demand in range(stock+action):\n",
        "              demand_probs.append(stats.poisson.pmf(demand,self.demand_avgs_dict[next_month]))\n",
        "            demand_probs.append(1-sum(demand_probs)) # Probability that the entire stock sells\n",
        "            q_value = 0\n",
        "            for demand in range(len(demand_probs)):\n",
        "              new_stock = stock + action - demand\n",
        "              reward = (700*demand)-(500*action)\n",
        "              if next_month == 'Feb':\n",
        "                q_value = demand_probs[demand]*(reward + self.gamma*q_values[((next_month,new_stock),0)])\n",
        "              else:\n",
        "                next_max_action = self.demand_avgs_dict[next_next_month]//2\n",
        "                prob_next_action = 1/(next_max_action-5+1)\n",
        "                for next_action in range(MIN_ACTION,next_max_action+1):\n",
        "                  q_value += demand_probs[demand]*prob_next_action*(reward + self.gamma*q_values[((next_month,new_stock),next_action)]) \n",
        "                  # Treats demand > stock the same as demand = stock\n",
        "            q_values[key] = q_value\n",
        "    # All reachable q_values have been added, now compute V0 = V('Sep',0)\n",
        "    V0 = 0\n",
        "    max_action = self.demand_avgs_dict['Oct']//2\n",
        "    prob_action = 1/(max_action-5+1)\n",
        "    for action in range(MIN_ACTION,max_action+1):\n",
        "      V0 += prob_action*q_values[(('Sep',0),action)]\n",
        "    return V0, q_values\n",
        "\n",
        "  def get_max_stock(self,month):\n",
        "    demand_avgs_so_far = self.demand_avgs[:self.months.index(month)+1]\n",
        "    max_order = lambda i: demand_avgs_so_far[i] // 2\n",
        "    return sum([(max_order(i) if max_order(i) >= 5 else 0) for i in range(len(demand_avgs_so_far))])\n",
        "    # I interpreted the fact that lambda/2 < 5 in March to mean the store owner buys nothing at the end of Feb / start of March.\n",
        "\n",
        "  def part_b(self):\n",
        "    q_values, values, pi = {}, {}, {}\n",
        "    for month in tqdm(self.months[::-1]):\n",
        "      if month == 'Mar':\n",
        "        for stock in range(101):\n",
        "          action = 0 # Can't buy skis at end of Mar\n",
        "          q_key = ((month,stock),action) \n",
        "          q_values[q_key] = 300*stock # Just the fire sale\n",
        "          state = (month,stock)\n",
        "          values[state] = 300*stock\n",
        "          # No need to assign a value to pi here, this part is deterministic\n",
        "      else:\n",
        "        month_idx = self.months.index(month)\n",
        "        next_month = self.months[month_idx+1]\n",
        "        max_stock = 0 if month == 'Sep' else 100\n",
        "        # next_next_month = self.months[month_idx+2]\n",
        "        for stock in range(max_stock+1):\n",
        "          state = (month,stock)\n",
        "          qs_for_state = []\n",
        "          for action in range(100-stock+1):\n",
        "            q_key = ((month,stock),action)\n",
        "            q_value = 0\n",
        "            demand_probs = []\n",
        "            for demand in range(stock+action):\n",
        "              demand_probs.append(stats.poisson.pmf(demand,self.demand_avgs_dict[next_month]))\n",
        "            demand_probs.append(1-sum(demand_probs)) # Probability that the entire stock sells\n",
        "            for demand in range(len(demand_probs)):\n",
        "              new_stock = stock + action - demand\n",
        "              reward = (700*demand)-(500*action)\n",
        "              if next_month == 'Mar':\n",
        "                q_value += demand_probs[demand]*(reward + self.gamma*q_values[((next_month,new_stock),0)])\n",
        "              else:\n",
        "                poss_q_values = [demand_probs[demand]*(reward + self.gamma*q_values[((next_month,new_stock),next_action)]) \\\n",
        "                                 for next_action in range(100-new_stock+1)] # Treats demand > stock the same as demand = stock\n",
        "                q_value += max(poss_q_values)   # This is computing q*\n",
        "            q_values[q_key] = q_value\n",
        "            qs_for_state.append(q_value)\n",
        "          values[state] = max(qs_for_state)\n",
        "          pi[state] = np.argmax(qs_for_state)\n",
        "    for month in self.months[:-1]: # Skip March\n",
        "      try:\n",
        "        self.make_plot(month,pi)\n",
        "      except Exception as e:\n",
        "        print(e)\n",
        "    return q_values, values, pi\n",
        "\n",
        "  def make_plot(self,month,pi):\n",
        "    max_stock = 0 if month == 'Sep' else 100 \n",
        "    optimal_actions = [pi[(month,stock)] for stock in range(max_stock+1)]\n",
        "    if month == 'Sep': plt.scatter(range(max_stock+1),optimal_actions)\n",
        "    else: plt.plot(range(max_stock+1),optimal_actions)\n",
        "    plt.title(f\"Optimal actions vs stock at end of {month}\")\n",
        "    plt.xlabel(\"Incoming stock\")\n",
        "    plt.ylabel(\"Optimal number of skis to buy\")\n",
        "    plt.show()\n",
        "  \n",
        "  def simulate(self, pi, runs):\n",
        "    profit_per_run = []\n",
        "    for run in range(runs):\n",
        "      month_idx, stock, profit = 0,0,0\n",
        "      while month_idx <= len(self.months)-2: # Until the end of Feb:\n",
        "        month = self.months[month_idx] # Starts at 'Sep', is 'Feb' in last iteration. Each iterations simulates the month after this.\n",
        "        next_month = self.months[month_idx+1]\n",
        "        state = (month,stock) # Starts at ('Sep',0)\n",
        "        action = pi[state]\n",
        "        demand_avg_next_month = self.demand_avgs_dict[next_month]\n",
        "        demand = stats.poisson.rvs(demand_avg_next_month)\n",
        "        sales = min(demand,stock+action)\n",
        "        profit += 700*sales - 500*action\n",
        "        stock = stock+action-sales\n",
        "        month_idx += 1\n",
        "      # Fire sale\n",
        "      profit += 300*stock\n",
        "      profit_per_run.append(profit)\n",
        "    return profit_per_run\n",
        "\n",
        "  def simulate_discounted(self, pi, runs):\n",
        "    profit_per_run = []\n",
        "    for run in range(runs):\n",
        "      month_idx, stock, profit = 0,0,0\n",
        "      while month_idx <= len(self.months)-2: # Until the end of Feb:\n",
        "        month = self.months[month_idx] # Starts at 'Sep', is 'Feb' in last iteration. Each iterations simulates the month after this.\n",
        "        next_month = self.months[month_idx+1]\n",
        "        state = (month,stock) # Starts at ('Sep',0)\n",
        "        action = pi[state]\n",
        "        demand_avg_next_month = self.demand_avgs_dict[next_month]\n",
        "        demand = stats.poisson.rvs(demand_avg_next_month)\n",
        "        sales = min(demand,stock+action)\n",
        "        profit += (self.gamma**(month_idx))*(700*sales - 500*action)\n",
        "        stock = stock+action-sales\n",
        "        month_idx += 1\n",
        "      # Fire sale\n",
        "      profit += (self.gamma**(month_idx))*300*stock\n",
        "      profit_per_run.append(profit)\n",
        "    return profit_per_run"
      ]
    },
    {
      "cell_type": "markdown",
      "source": [
        "## 5a"
      ],
      "metadata": {
        "id": "_nxLnuKzYxbD"
      }
    },
    {
      "cell_type": "code",
      "source": [
        "ssi = SkiShopInventory()\n",
        "\n",
        "V0, q_values = ssi.part_a()\n",
        "print(f\"\\nV_pi(Sep,0) = {V0}\\n\") #q_values = {q_values}\")"
      ],
      "metadata": {
        "colab": {
          "base_uri": "https://localhost:8080/"
        },
        "id": "tolzti4e1mSz",
        "outputId": "44eb0d93-0a34-4ec5-e1a6-770ad410a008"
      },
      "execution_count": 107,
      "outputs": [
        {
          "output_type": "stream",
          "name": "stderr",
          "text": [
            "100%|██████████| 7/7 [00:05<00:00,  1.39it/s]"
          ]
        },
        {
          "output_type": "stream",
          "name": "stdout",
          "text": [
            "\n",
            "V_pi(Sep,0) = 8898.576693535459\n",
            "\n"
          ]
        },
        {
          "output_type": "stream",
          "name": "stderr",
          "text": [
            "\n"
          ]
        }
      ]
    },
    {
      "cell_type": "markdown",
      "source": [
        "## 5b"
      ],
      "metadata": {
        "id": "4VxLezoUY2fF"
      }
    },
    {
      "cell_type": "code",
      "source": [
        "q_star, v_star, pi_star = ssi.part_b()"
      ],
      "metadata": {
        "colab": {
          "base_uri": "https://localhost:8080/",
          "height": 1000
        },
        "id": "NT9vUzjU-KFG",
        "outputId": "85d2aac3-7aef-4e78-dd27-2fe1e5b23b7a"
      },
      "execution_count": 89,
      "outputs": [
        {
          "output_type": "stream",
          "name": "stderr",
          "text": [
            "100%|██████████| 7/7 [02:25<00:00, 20.79s/it]\n"
          ]
        },
        {
          "output_type": "display_data",
          "data": {
            "text/plain": [
              "<Figure size 432x288 with 1 Axes>"
            ],
            "image/png": "[encoded data removed]"
          },
          "metadata": {
            "needs_background": "light"
          }
        },
        {
          "output_type": "display_data",
          "data": {
            "text/plain": [
              "<Figure size 432x288 with 1 Axes>"
            ],
            "image/png": "[encoded data removed]"
          },
          "metadata": {
            "needs_background": "light"
          }
        },
        {
          "output_type": "display_data",
          "data": {
            "text/plain": [
              "<Figure size 432x288 with 1 Axes>"
            ],
            "image/png": "[encoded data removed]"
          },
          "metadata": {
            "needs_background": "light"
          }
        },
        {
          "output_type": "display_data",
          "data": {
            "text/plain": [
              "<Figure size 432x288 with 1 Axes>"
            ],
            "image/png": "[encoded data removed]"
          },
          "metadata": {
            "needs_background": "light"
          }
        },
        {
          "output_type": "display_data",
          "data": {
            "text/plain": [
              "<Figure size 432x288 with 1 Axes>"
            ],
            "image/png": "[encoded data removed]"
          },
          "metadata": {
            "needs_background": "light"
          }
        },
        {
          "output_type": "display_data",
          "data": {
            "text/plain": [
              "<Figure size 432x288 with 1 Axes>"
            ],
            "image/png": "[encoded data removed]"
          },
          "metadata": {
            "needs_background": "light"
          }
        }
      ]
    },
    {
      "cell_type": "code",
      "source": [
        "# A bonus useful comparison\n",
        "print(\"Optimal number of skis to have at the end of each month, and average demand in the next month:\\n\")\n",
        "for month in ssi.months[:-1]:\n",
        "  next_month = ssi.months[ssi.months.index(month)+1]\n",
        "  print(f\"{month}: Optimal={pi[(month,0)]}, Average={ssi.demand_avgs_dict[next_month]}\") "
      ],
      "metadata": {
        "colab": {
          "base_uri": "https://localhost:8080/"
        },
        "id": "nIaZPHjHC-GQ",
        "outputId": "082de093-da93-466e-88b5-a712e1dd91a9"
      },
      "execution_count": 103,
      "outputs": [
        {
          "output_type": "stream",
          "name": "stdout",
          "text": [
            "Optimal number of skis to have at the end of each month, and average demand in the next month:\n",
            "\n",
            "Sep: Optimal=24, Average=20\n",
            "Oct: Optimal=45, Average=40\n",
            "Nov: Optimal=56, Average=50\n",
            "Dec: Optimal=40, Average=35\n",
            "Jan: Optimal=27, Average=25\n",
            "Feb: Optimal=5, Average=5\n"
          ]
        }
      ]
    },
    {
      "cell_type": "markdown",
      "source": [
        "## 5c"
      ],
      "metadata": {
        "id": "8DwYRO9zZHEY"
      }
    },
    {
      "cell_type": "code",
      "source": [
        "# This simulation does not discount profits\n",
        "\n",
        "profits = ssi.simulate(pi_star,1000)\n",
        "print(f\"Average: {np.mean(profits)}\\nStandard deviation: {np.std(profits)}\")"
      ],
      "metadata": {
        "colab": {
          "base_uri": "https://localhost:8080/"
        },
        "id": "Gh1ldSLxJTog",
        "outputId": "0ee7f65a-16f1-42dd-b89f-89ba6fb3cb30"
      },
      "execution_count": 104,
      "outputs": [
        {
          "output_type": "stream",
          "name": "stdout",
          "text": [
            "Average: 33748.6\n",
            "Standard deviation: 2241.847015297877\n"
          ]
        }
      ]
    },
    {
      "cell_type": "code",
      "source": [
        "# This simulation discounts profits by gamma^month_idx\n",
        "\n",
        "profits_discounted = ssi.simulate_discounted(pi_star,1000)\n",
        "print(f\"Average: {np.mean(profits_discounted)}\\nStandard deviation: {np.std(profits_discounted)}\")"
      ],
      "metadata": {
        "colab": {
          "base_uri": "https://localhost:8080/"
        },
        "id": "xY-5_ystWZpb",
        "outputId": "45fc9fd9-75c9-4826-cd43-beb6dc79d5bc"
      },
      "execution_count": 105,
      "outputs": [
        {
          "output_type": "stream",
          "name": "stdout",
          "text": [
            "Average: 26372.063094700003\n",
            "Standard deviation: 2185.846064882694\n"
          ]
        }
      ]
    },
    {
      "cell_type": "code",
      "source": [
        "print(v_star[('Sep',0)])"
      ],
      "metadata": {
        "colab": {
          "base_uri": "https://localhost:8080/"
        },
        "id": "yVeP-3piS7Qc",
        "outputId": "1ea2b724-7e7e-4ce0-d502-f716e30684f5"
      },
      "execution_count": 96,
      "outputs": [
        {
          "output_type": "stream",
          "name": "stdout",
          "text": [
            "26281.990738559616\n"
          ]
        }
      ]
    },
    {
      "cell_type": "markdown",
      "source": [
        "The average profit without any discounting in the simulation was 33748.60, with a standard deviation of 2241.85. If I include discounting in the simulation, the average drops to 26372.06 and the standard deviation remains similar (2185.85). The discounted average is very close to the state value computed for the start state: v\\*('Sep',0) = 26281.99."
      ],
      "metadata": {
        "id": "9SlKdQmdXDlE"
      }
    }
  ]
}
