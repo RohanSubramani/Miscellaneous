{
 "cells": [
  {
   "cell_type": "code",
   "execution_count": 1,
   "metadata": {},
   "outputs": [
    {
     "name": "stdout",
     "output_type": "stream",
     "text": [
      "\n",
      "Enter a whole number: 10\n",
      "Enter another whole number (not larger than previous): 7\n",
      "10 choose 7 = 120\n",
      "\n",
      "Do you want to compute another binomial coefficient? (1 = yes, 2 = no) \n",
      "1\n",
      "\n",
      "Enter a whole number: 15\n",
      "Enter another whole number (not larger than previous): 10\n",
      "15 choose 10 = 3003\n",
      "\n",
      "Do you want to compute another binomial coefficient? (1 = yes, 2 = no) \n",
      "1\n",
      "\n",
      "Enter a whole number: 20\n",
      "Enter another whole number (not larger than previous): 13\n",
      "20 choose 13 = 77520\n",
      "\n",
      "Do you want to compute another binomial coefficient? (1 = yes, 2 = no) \n",
      "2\n"
     ]
    }
   ],
   "source": [
    "def binomial(n,k):\n",
    "    if n==k or k==0:\n",
    "        return 1\n",
    "    elif k==1 or k==n-1:\n",
    "        return n\n",
    "    else:\n",
    "        return binomial(n-1,k) + binomial(n-1,k-1)\n",
    "\n",
    "repeat = True\n",
    "while repeat:\n",
    "    x = int(input(\"\\nEnter a whole number: \"))\n",
    "    y = int(input(\"Enter another whole number \"\n",
    "                  + \"(not larger than previous): \"))\n",
    "    binomial1 = binomial(x,y)\n",
    "    print(str(x) + \" choose \" + str(y) + \" = \" + str(binomial1))\n",
    "    ask = int(input(\"\\nDo you want to compute another binomial \" \n",
    "                    + \"coefficient? (1 = yes, 2 = no) \\n\"))\n",
    "    if ask == 2:\n",
    "        repeat = False"
   ]
  }
 ],
 "metadata": {
  "kernelspec": {
   "display_name": "Python 3",
   "language": "python",
   "name": "python3"
  },
  "language_info": {
   "codemirror_mode": {
    "name": "ipython",
    "version": 3
   },
   "file_extension": ".py",
   "mimetype": "text/x-python",
   "name": "python",
   "nbconvert_exporter": "python",
   "pygments_lexer": "ipython3",
   "version": "3.7.3"
  }
 },
 "nbformat": 4,
 "nbformat_minor": 2
}
